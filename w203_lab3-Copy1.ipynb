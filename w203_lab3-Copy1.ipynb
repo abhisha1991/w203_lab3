{
 "cells": [
  {
   "cell_type": "markdown",
   "metadata": {},
   "source": [
    "# Lab 2 - W203 - Statistics for Data Science"
   ]
  },
  {
   "cell_type": "markdown",
   "metadata": {},
   "source": [
    "#### Submission by Jude Kavalam, Harshit Patel, Abhi Sharma"
   ]
  },
  {
   "cell_type": "markdown",
   "metadata": {},
   "source": [
    "## 1. Introduction"
   ]
  },
  {
   "cell_type": "markdown",
   "metadata": {},
   "source": [
    "### Dataset\n",
    "\n",
    "The database contains only a subset of information drawn from a larger multi-year database from a study\n",
    "performed by Cornwell and Trumball researchers from the University of Georgia and the West Virginia University\n",
    "(CT1994). From the database the subset of twenty five variables encompass roughly three types of variables,\n",
    "penal system, economic and population related variables. Each observation is from a different county in North\n",
    "Carolina. Currently there are 100 counties in North Carolina, the study appears to encompass 97 of those\n",
    "counties."
   ]
  },
  {
   "cell_type": "markdown",
   "metadata": {},
   "source": [
    "### Background\n",
    "\n",
    "There are 3 classes of variables provided to us:\n",
    "1. Labor market variables\n",
    "2. Criminal justice variables\n",
    "3. Demographic variables\n",
    "\n",
    "Both labor market and criminal justice strategies should be relevant in influencing (causing causal behavior on) crime rate. \n",
    "\n",
    "In our study, we are given variables that reflect both these factors:<br/>\n",
    "**Variables reflecting labor markets**\n",
    "\n",
    "10 taxpc\ttax revenue per capita <br/>\n",
    "15 wcon\tweekly wage, construction <br/>\n",
    "16 wtuc\t- wkly wge, trns, util, commun <br/>\n",
    "17 wtrd\t- wkly wge, whlesle, retail trade <br/>\n",
    "18 wfir\t- wkly wge, fin, ins, real est <br/>\n",
    "19 wser\t- wkly wge, service industry <br/>\n",
    "20 wmfg\t- wkly wge, manufacturing <br/>\n",
    "21 wfed\t- wkly wge, fed employees <br/>\n",
    "22 wsta\t- wkly wge, state employees <br/>\n",
    "23 wloc\t- wkly wge, local gov emps <br/>\n",
    "\n",
    "**Variables reflecting criminal justice system**\n",
    "\n",
    "4 prbarr - 'probability' of arrest <br/>\n",
    "5 prbconv - 'probability' of conviction <br/>\n",
    "6 prbpris - 'probability' of prison sentence <br/>\n",
    "7 avgsen - avg. sentence, days <br/>\n",
    "8 polpc - police per capita <br/>\n",
    "24 mix - offense mix: face-to-face/other <br/>\n",
    "\n",
    "There is a third class of variables that represents the demographic characteristics of the data. We expect some of these variables to have a causal effect on crime rate (say pctymle or pctmin80), but others to not intrinsically have causal effects on crime rate (say west, central, county).\n",
    "\n",
    "These variables can also possibly influence the \"labor market\" and \"criminal justice system\" variables:<br/>\n",
    "\n",
    "**Variables reflecting demographic characteristics**\n",
    "\n",
    "1 county - county identifier <br/>\n",
    "9 density - people per sq. mile <br/>\n",
    "11 west - =1 if in western N.C. <br/>\n",
    "12 central - =1 if in central N.C. <br/>\n",
    "13 urban - =1 if in SMSA <br/>\n",
    "14 pctmin80 - perc. minority, 1980 <br/>\n",
    "25 pctymle - percent young male <br/>\n",
    "\n",
    "### Research Question\n",
    "\n",
    "We are interested in understanding the relationship of crime that may be caused by these 3 classes of variables (or their interactions). We are looking to see if any one class of variables is dominant in deciding crime rate in the area. Based on the variables we do identify, there may be different sets of implications for the local government from a policy perspective. For example, if we determine \"criminal justice\" variables are primarily responsible for crime rate, then our recommendations may be to change certain pre and post conviction policies to curb crime. If, on the other hand the \"labor market\" variables are primarily causing crime, that may prompt government response to create more jobs in a certain industry, for example. Its also possible that more than 1 class of variables may be at play here.  \n",
    "\n",
    "### Operationalization \n",
    "\n",
    "Our chosen target variable is \"crmrate\", and we're trying to understand what affects this variable (or a transform of this variable).\n",
    "\n",
    "Note that we are choosing crime rate as our target variable with the intention to predict crime rate from the data. This is consistent with previous research that has been done\n",
    "\n",
    "https://www.amherst.edu/media/view/121570/original/CornwellTrumbullCrime%2BElasticities.pdf\n",
    "\n",
    "We could have argued to choose prbarr, prbconv, or prbpris as our target variables and chosen crmrate as our predictor. This is because we **CANNOT assume the direction of causality between crime rate and (say) probability of getting arrested (prbarr)**. We can argue that an increased crime rate causes an increase in probability of arrests, just as well as arguing that prbarr causes crime rate. For now, we will choose some transformation of crime rate as our target variable.\n",
    "\n",
    "For independent variables, we will do a thorough EDA on all classes of variables to understand which variables to include in the model. We will also consider certain interaction variables to create intuitive metrics that may inform crime."
   ]
  },
  {
   "cell_type": "markdown",
   "metadata": {},
   "source": [
    "## Install packages"
   ]
  },
  {
   "cell_type": "code",
   "execution_count": 1,
   "metadata": {},
   "outputs": [
    {
     "name": "stdout",
     "output_type": "stream",
     "text": [
      "package 'dplyr' successfully unpacked and MD5 sums checked\n",
      "\n",
      "The downloaded binary packages are in\n",
      "\tC:\\Users\\abhisha.REDMOND\\AppData\\Local\\Temp\\Rtmp2rXAvo\\downloaded_packages\n"
     ]
    },
    {
     "name": "stderr",
     "output_type": "stream",
     "text": [
      "Warning message:\n",
      "\"package 'dplyr' was built under R version 3.6.3\"\n",
      "Attaching package: 'dplyr'\n",
      "\n",
      "The following objects are masked from 'package:stats':\n",
      "\n",
      "    filter, lag\n",
      "\n",
      "The following objects are masked from 'package:base':\n",
      "\n",
      "    intersect, setdiff, setequal, union\n",
      "\n"
     ]
    },
    {
     "name": "stdout",
     "output_type": "stream",
     "text": [
      "package 'car' successfully unpacked and MD5 sums checked\n",
      "\n",
      "The downloaded binary packages are in\n",
      "\tC:\\Users\\abhisha.REDMOND\\AppData\\Local\\Temp\\Rtmp2rXAvo\\downloaded_packages\n"
     ]
    },
    {
     "name": "stderr",
     "output_type": "stream",
     "text": [
      "Warning message:\n",
      "\"package 'car' was built under R version 3.6.3\"Loading required package: carData\n",
      "\n",
      "Attaching package: 'car'\n",
      "\n",
      "The following object is masked from 'package:dplyr':\n",
      "\n",
      "    recode\n",
      "\n"
     ]
    },
    {
     "name": "stdout",
     "output_type": "stream",
     "text": [
      "package 'lmtest' successfully unpacked and MD5 sums checked\n",
      "\n",
      "The downloaded binary packages are in\n",
      "\tC:\\Users\\abhisha.REDMOND\\AppData\\Local\\Temp\\Rtmp2rXAvo\\downloaded_packages\n"
     ]
    },
    {
     "name": "stderr",
     "output_type": "stream",
     "text": [
      "Warning message:\n",
      "\"package 'lmtest' was built under R version 3.6.3\"Loading required package: zoo\n",
      "\n",
      "Attaching package: 'zoo'\n",
      "\n",
      "The following objects are masked from 'package:base':\n",
      "\n",
      "    as.Date, as.Date.numeric\n",
      "\n"
     ]
    },
    {
     "name": "stdout",
     "output_type": "stream",
     "text": [
      "package 'sandwich' successfully unpacked and MD5 sums checked\n",
      "\n",
      "The downloaded binary packages are in\n",
      "\tC:\\Users\\abhisha.REDMOND\\AppData\\Local\\Temp\\Rtmp2rXAvo\\downloaded_packages\n"
     ]
    },
    {
     "name": "stderr",
     "output_type": "stream",
     "text": [
      "Warning message:\n",
      "\"package 'sandwich' was built under R version 3.6.3\""
     ]
    },
    {
     "name": "stdout",
     "output_type": "stream",
     "text": [
      "package 'corrplot' successfully unpacked and MD5 sums checked\n",
      "\n",
      "The downloaded binary packages are in\n",
      "\tC:\\Users\\abhisha.REDMOND\\AppData\\Local\\Temp\\Rtmp2rXAvo\\downloaded_packages\n"
     ]
    },
    {
     "name": "stderr",
     "output_type": "stream",
     "text": [
      "Warning message:\n",
      "\"package 'corrplot' was built under R version 3.6.3\"corrplot 0.84 loaded\n"
     ]
    },
    {
     "name": "stdout",
     "output_type": "stream",
     "text": [
      "package 'stargazer' successfully unpacked and MD5 sums checked\n",
      "\n",
      "The downloaded binary packages are in\n",
      "\tC:\\Users\\abhisha.REDMOND\\AppData\\Local\\Temp\\Rtmp2rXAvo\\downloaded_packages\n"
     ]
    },
    {
     "name": "stderr",
     "output_type": "stream",
     "text": [
      "\n",
      "Please cite as: \n",
      "\n",
      " Hlavac, Marek (2018). stargazer: Well-Formatted Regression and Summary Statistics Tables.\n",
      " R package version 5.2.2. https://CRAN.R-project.org/package=stargazer \n",
      "\n"
     ]
    },
    {
     "name": "stdout",
     "output_type": "stream",
     "text": [
      "package 'curl' successfully unpacked and MD5 sums checked\n"
     ]
    },
    {
     "name": "stderr",
     "output_type": "stream",
     "text": [
      "Warning message:\n",
      "\"cannot remove prior installation of package 'curl'\"Warning message in file.copy(savedcopy, lib, recursive = TRUE):\n",
      "\"problem copying C:\\Users\\abhisha.REDMOND\\AppData\\Local\\Continuum\\anaconda3\\envs\\r-env\\Lib\\R\\library\\00LOCK\\curl\\libs\\x64\\curl.dll to C:\\Users\\abhisha.REDMOND\\AppData\\Local\\Continuum\\anaconda3\\envs\\r-env\\Lib\\R\\library\\curl\\libs\\x64\\curl.dll: Permission denied\"Warning message:\n",
      "\"restored 'curl'\""
     ]
    },
    {
     "name": "stdout",
     "output_type": "stream",
     "text": [
      "\n",
      "The downloaded binary packages are in\n",
      "\tC:\\Users\\abhisha.REDMOND\\AppData\\Local\\Temp\\Rtmp2rXAvo\\downloaded_packages\n",
      "package 'data.table' successfully unpacked and MD5 sums checked\n"
     ]
    },
    {
     "name": "stderr",
     "output_type": "stream",
     "text": [
      "Warning message:\n",
      "\"cannot remove prior installation of package 'data.table'\"Warning message in file.copy(savedcopy, lib, recursive = TRUE):\n",
      "\"problem copying C:\\Users\\abhisha.REDMOND\\AppData\\Local\\Continuum\\anaconda3\\envs\\r-env\\Lib\\R\\library\\00LOCK\\data.table\\libs\\x64\\datatable.dll to C:\\Users\\abhisha.REDMOND\\AppData\\Local\\Continuum\\anaconda3\\envs\\r-env\\Lib\\R\\library\\data.table\\libs\\x64\\datatable.dll: Permission denied\"Warning message:\n",
      "\"restored 'data.table'\""
     ]
    },
    {
     "name": "stdout",
     "output_type": "stream",
     "text": [
      "\n",
      "The downloaded binary packages are in\n",
      "\tC:\\Users\\abhisha.REDMOND\\AppData\\Local\\Temp\\Rtmp2rXAvo\\downloaded_packages\n"
     ]
    },
    {
     "name": "stderr",
     "output_type": "stream",
     "text": [
      "\n",
      "Attaching package: 'data.table'\n",
      "\n",
      "The following objects are masked from 'package:dplyr':\n",
      "\n",
      "    between, first, last\n",
      "\n"
     ]
    },
    {
     "name": "stdout",
     "output_type": "stream",
     "text": [
      "package 'haven' successfully unpacked and MD5 sums checked\n"
     ]
    },
    {
     "name": "stderr",
     "output_type": "stream",
     "text": [
      "Warning message:\n",
      "\"cannot remove prior installation of package 'haven'\"Warning message in file.copy(savedcopy, lib, recursive = TRUE):\n",
      "\"problem copying C:\\Users\\abhisha.REDMOND\\AppData\\Local\\Continuum\\anaconda3\\envs\\r-env\\Lib\\R\\library\\00LOCK\\haven\\libs\\x64\\haven.dll to C:\\Users\\abhisha.REDMOND\\AppData\\Local\\Continuum\\anaconda3\\envs\\r-env\\Lib\\R\\library\\haven\\libs\\x64\\haven.dll: Permission denied\"Warning message:\n",
      "\"restored 'haven'\""
     ]
    },
    {
     "name": "stdout",
     "output_type": "stream",
     "text": [
      "\n",
      "The downloaded binary packages are in\n",
      "\tC:\\Users\\abhisha.REDMOND\\AppData\\Local\\Temp\\Rtmp2rXAvo\\downloaded_packages\n"
     ]
    },
    {
     "name": "stderr",
     "output_type": "stream",
     "text": [
      "Warning message:\n",
      "\"package 'haven' was built under R version 3.6.3\""
     ]
    },
    {
     "name": "stdout",
     "output_type": "stream",
     "text": [
      "package 'readxl' successfully unpacked and MD5 sums checked\n"
     ]
    },
    {
     "name": "stderr",
     "output_type": "stream",
     "text": [
      "Warning message:\n",
      "\"cannot remove prior installation of package 'readxl'\"Warning message in file.copy(savedcopy, lib, recursive = TRUE):\n",
      "\"problem copying C:\\Users\\abhisha.REDMOND\\AppData\\Local\\Continuum\\anaconda3\\envs\\r-env\\Lib\\R\\library\\00LOCK\\readxl\\libs\\x64\\readxl.dll to C:\\Users\\abhisha.REDMOND\\AppData\\Local\\Continuum\\anaconda3\\envs\\r-env\\Lib\\R\\library\\readxl\\libs\\x64\\readxl.dll: Permission denied\"Warning message:\n",
      "\"restored 'readxl'\""
     ]
    },
    {
     "name": "stdout",
     "output_type": "stream",
     "text": [
      "\n",
      "The downloaded binary packages are in\n",
      "\tC:\\Users\\abhisha.REDMOND\\AppData\\Local\\Temp\\Rtmp2rXAvo\\downloaded_packages\n",
      "package 'ggplot2' successfully unpacked and MD5 sums checked\n",
      "\n",
      "The downloaded binary packages are in\n",
      "\tC:\\Users\\abhisha.REDMOND\\AppData\\Local\\Temp\\Rtmp2rXAvo\\downloaded_packages\n"
     ]
    },
    {
     "name": "stderr",
     "output_type": "stream",
     "text": [
      "Warning message:\n",
      "\"package 'ggplot2' was built under R version 3.6.3\"Warning message:\n",
      "\"package 'corrplot' is in use and will not be installed\""
     ]
    },
    {
     "name": "stdout",
     "output_type": "stream",
     "text": [
      "package 'GGally' successfully unpacked and MD5 sums checked\n",
      "\n",
      "The downloaded binary packages are in\n",
      "\tC:\\Users\\abhisha.REDMOND\\AppData\\Local\\Temp\\Rtmp2rXAvo\\downloaded_packages\n"
     ]
    },
    {
     "name": "stderr",
     "output_type": "stream",
     "text": [
      "Warning message:\n",
      "\"package 'GGally' was built under R version 3.6.3\"Registered S3 method overwritten by 'GGally':\n",
      "  method from   \n",
      "  +.gg   ggplot2\n",
      "\n",
      "Attaching package: 'GGally'\n",
      "\n",
      "The following object is masked from 'package:dplyr':\n",
      "\n",
      "    nasa\n",
      "\n"
     ]
    }
   ],
   "source": [
    "install.packages(\"dplyr\")\n",
    "library(dplyr)\n",
    "install.packages(\"car\")\n",
    "library(car)\n",
    "install.packages(\"lmtest\")\n",
    "library(lmtest)\n",
    "install.packages(\"sandwich\")\n",
    "library(sandwich)\n",
    "install.packages(\"corrplot\")\n",
    "library(corrplot)\n",
    "install.packages(\"stargazer\")\n",
    "library(stargazer)\n",
    "install.packages(\"curl\")\n",
    "library(curl)\n",
    "install.packages(\"data.table\")\n",
    "library(data.table)\n",
    "install.packages(\"haven\")\n",
    "library(haven)\n",
    "install.packages(\"readxl\")\n",
    "library(readxl)\n",
    "install.packages(\"ggplot2\")\n",
    "library(ggplot2)\n",
    "install.packages(\"corrplot\")\n",
    "library(corrplot)\n",
    "install.packages(\"GGally\")\n",
    "library(GGally)\n",
    "# set standard height and width for images displayed\n",
    "options(repr.plot.width=5, repr.plot.height=5)\n"
   ]
  },
  {
   "cell_type": "markdown",
   "metadata": {},
   "source": [
    "## Data Cleaning"
   ]
  },
  {
   "cell_type": "code",
   "execution_count": 2,
   "metadata": {},
   "outputs": [],
   "source": [
    "get_data = function() {\n",
    "    wd = getwd()\n",
    "    return (read.csv(paste(wd, \"/\", \"crime_v2.csv\", sep=\"\")))    \n",
    "}"
   ]
  },
  {
   "cell_type": "code",
   "execution_count": 3,
   "metadata": {},
   "outputs": [
    {
     "data": {
      "text/html": [
       "<table>\n",
       "<caption>A data.frame: 6 × 25</caption>\n",
       "<thead>\n",
       "\t<tr><th></th><th scope=col>county</th><th scope=col>year</th><th scope=col>crmrte</th><th scope=col>prbarr</th><th scope=col>prbconv</th><th scope=col>prbpris</th><th scope=col>avgsen</th><th scope=col>polpc</th><th scope=col>density</th><th scope=col>taxpc</th><th scope=col>...</th><th scope=col>wtuc</th><th scope=col>wtrd</th><th scope=col>wfir</th><th scope=col>wser</th><th scope=col>wmfg</th><th scope=col>wfed</th><th scope=col>wsta</th><th scope=col>wloc</th><th scope=col>mix</th><th scope=col>pctymle</th></tr>\n",
       "\t<tr><th></th><th scope=col>&lt;int&gt;</th><th scope=col>&lt;int&gt;</th><th scope=col>&lt;dbl&gt;</th><th scope=col>&lt;dbl&gt;</th><th scope=col>&lt;fct&gt;</th><th scope=col>&lt;dbl&gt;</th><th scope=col>&lt;dbl&gt;</th><th scope=col>&lt;dbl&gt;</th><th scope=col>&lt;dbl&gt;</th><th scope=col>&lt;dbl&gt;</th><th scope=col>...</th><th scope=col>&lt;dbl&gt;</th><th scope=col>&lt;dbl&gt;</th><th scope=col>&lt;dbl&gt;</th><th scope=col>&lt;dbl&gt;</th><th scope=col>&lt;dbl&gt;</th><th scope=col>&lt;dbl&gt;</th><th scope=col>&lt;dbl&gt;</th><th scope=col>&lt;dbl&gt;</th><th scope=col>&lt;dbl&gt;</th><th scope=col>&lt;dbl&gt;</th></tr>\n",
       "</thead>\n",
       "<tbody>\n",
       "\t<tr><th scope=row>1</th><td> 1</td><td>87</td><td>0.0356036</td><td>0.298270</td><td>0.527595997</td><td>0.436170</td><td> 6.71</td><td>0.00182786</td><td>2.4226327</td><td>30.99368</td><td>...</td><td>408.7245</td><td>221.2701</td><td>453.1722</td><td>274.1775</td><td>334.54</td><td>477.58</td><td>292.09</td><td>311.91</td><td>0.08016878</td><td>0.07787097</td></tr>\n",
       "\t<tr><th scope=row>2</th><td> 3</td><td>87</td><td>0.0152532</td><td>0.132029</td><td>1.481480002</td><td>0.450000</td><td> 6.35</td><td>0.00074588</td><td>1.0463320</td><td>26.89208</td><td>...</td><td>376.2542</td><td>196.0101</td><td>258.5650</td><td>192.3077</td><td>300.38</td><td>409.83</td><td>362.96</td><td>301.47</td><td>0.03022670</td><td>0.08260694</td></tr>\n",
       "\t<tr><th scope=row>3</th><td> 5</td><td>87</td><td>0.0129603</td><td>0.444444</td><td>0.267856985</td><td>0.600000</td><td> 6.76</td><td>0.00123431</td><td>0.4127659</td><td>34.81605</td><td>...</td><td>372.2084</td><td>229.3209</td><td>305.9441</td><td>209.6972</td><td>237.65</td><td>358.98</td><td>331.53</td><td>281.37</td><td>0.46511629</td><td>0.07211538</td></tr>\n",
       "\t<tr><th scope=row>4</th><td> 7</td><td>87</td><td>0.0267532</td><td>0.364760</td><td>0.525424004</td><td>0.435484</td><td> 7.14</td><td>0.00152994</td><td>0.4915572</td><td>42.94759</td><td>...</td><td>397.6901</td><td>191.1720</td><td>281.0651</td><td>256.7214</td><td>281.80</td><td>412.15</td><td>328.27</td><td>299.03</td><td>0.27362204</td><td>0.07353726</td></tr>\n",
       "\t<tr><th scope=row>5</th><td> 9</td><td>87</td><td>0.0106232</td><td>0.518219</td><td>0.476563007</td><td>0.442623</td><td> 8.22</td><td>0.00086018</td><td>0.5469484</td><td>28.05474</td><td>...</td><td>377.3126</td><td>206.8215</td><td>289.3125</td><td>215.1933</td><td>290.89</td><td>377.35</td><td>367.23</td><td>342.82</td><td>0.06008584</td><td>0.07069755</td></tr>\n",
       "\t<tr><th scope=row>6</th><td>11</td><td>87</td><td>0.0146067</td><td>0.524664</td><td>0.068376102</td><td>0.500000</td><td>13.00</td><td>0.00288203</td><td>0.6113361</td><td>35.22974</td><td>...</td><td>401.3378</td><td>187.8255</td><td>258.5650</td><td>237.1507</td><td>258.60</td><td>391.48</td><td>325.71</td><td>275.22</td><td>0.31952664</td><td>0.09891920</td></tr>\n",
       "</tbody>\n",
       "</table>\n"
      ],
      "text/latex": [
       "A data.frame: 6 × 25\n",
       "\\begin{tabular}{r|lllllllllllllllllllll}\n",
       "  & county & year & crmrte & prbarr & prbconv & prbpris & avgsen & polpc & density & taxpc & ... & wtuc & wtrd & wfir & wser & wmfg & wfed & wsta & wloc & mix & pctymle\\\\\n",
       "  & <int> & <int> & <dbl> & <dbl> & <fct> & <dbl> & <dbl> & <dbl> & <dbl> & <dbl> & ... & <dbl> & <dbl> & <dbl> & <dbl> & <dbl> & <dbl> & <dbl> & <dbl> & <dbl> & <dbl>\\\\\n",
       "\\hline\n",
       "\t1 &  1 & 87 & 0.0356036 & 0.298270 & 0.527595997 & 0.436170 &  6.71 & 0.00182786 & 2.4226327 & 30.99368 & ... & 408.7245 & 221.2701 & 453.1722 & 274.1775 & 334.54 & 477.58 & 292.09 & 311.91 & 0.08016878 & 0.07787097\\\\\n",
       "\t2 &  3 & 87 & 0.0152532 & 0.132029 & 1.481480002 & 0.450000 &  6.35 & 0.00074588 & 1.0463320 & 26.89208 & ... & 376.2542 & 196.0101 & 258.5650 & 192.3077 & 300.38 & 409.83 & 362.96 & 301.47 & 0.03022670 & 0.08260694\\\\\n",
       "\t3 &  5 & 87 & 0.0129603 & 0.444444 & 0.267856985 & 0.600000 &  6.76 & 0.00123431 & 0.4127659 & 34.81605 & ... & 372.2084 & 229.3209 & 305.9441 & 209.6972 & 237.65 & 358.98 & 331.53 & 281.37 & 0.46511629 & 0.07211538\\\\\n",
       "\t4 &  7 & 87 & 0.0267532 & 0.364760 & 0.525424004 & 0.435484 &  7.14 & 0.00152994 & 0.4915572 & 42.94759 & ... & 397.6901 & 191.1720 & 281.0651 & 256.7214 & 281.80 & 412.15 & 328.27 & 299.03 & 0.27362204 & 0.07353726\\\\\n",
       "\t5 &  9 & 87 & 0.0106232 & 0.518219 & 0.476563007 & 0.442623 &  8.22 & 0.00086018 & 0.5469484 & 28.05474 & ... & 377.3126 & 206.8215 & 289.3125 & 215.1933 & 290.89 & 377.35 & 367.23 & 342.82 & 0.06008584 & 0.07069755\\\\\n",
       "\t6 & 11 & 87 & 0.0146067 & 0.524664 & 0.068376102 & 0.500000 & 13.00 & 0.00288203 & 0.6113361 & 35.22974 & ... & 401.3378 & 187.8255 & 258.5650 & 237.1507 & 258.60 & 391.48 & 325.71 & 275.22 & 0.31952664 & 0.09891920\\\\\n",
       "\\end{tabular}\n"
      ],
      "text/markdown": [
       "\n",
       "A data.frame: 6 × 25\n",
       "\n",
       "| <!--/--> | county &lt;int&gt; | year &lt;int&gt; | crmrte &lt;dbl&gt; | prbarr &lt;dbl&gt; | prbconv &lt;fct&gt; | prbpris &lt;dbl&gt; | avgsen &lt;dbl&gt; | polpc &lt;dbl&gt; | density &lt;dbl&gt; | taxpc &lt;dbl&gt; | ... ... | wtuc &lt;dbl&gt; | wtrd &lt;dbl&gt; | wfir &lt;dbl&gt; | wser &lt;dbl&gt; | wmfg &lt;dbl&gt; | wfed &lt;dbl&gt; | wsta &lt;dbl&gt; | wloc &lt;dbl&gt; | mix &lt;dbl&gt; | pctymle &lt;dbl&gt; |\n",
       "|---|---|---|---|---|---|---|---|---|---|---|---|---|---|---|---|---|---|---|---|---|---|\n",
       "| 1 |  1 | 87 | 0.0356036 | 0.298270 | 0.527595997 | 0.436170 |  6.71 | 0.00182786 | 2.4226327 | 30.99368 | ... | 408.7245 | 221.2701 | 453.1722 | 274.1775 | 334.54 | 477.58 | 292.09 | 311.91 | 0.08016878 | 0.07787097 |\n",
       "| 2 |  3 | 87 | 0.0152532 | 0.132029 | 1.481480002 | 0.450000 |  6.35 | 0.00074588 | 1.0463320 | 26.89208 | ... | 376.2542 | 196.0101 | 258.5650 | 192.3077 | 300.38 | 409.83 | 362.96 | 301.47 | 0.03022670 | 0.08260694 |\n",
       "| 3 |  5 | 87 | 0.0129603 | 0.444444 | 0.267856985 | 0.600000 |  6.76 | 0.00123431 | 0.4127659 | 34.81605 | ... | 372.2084 | 229.3209 | 305.9441 | 209.6972 | 237.65 | 358.98 | 331.53 | 281.37 | 0.46511629 | 0.07211538 |\n",
       "| 4 |  7 | 87 | 0.0267532 | 0.364760 | 0.525424004 | 0.435484 |  7.14 | 0.00152994 | 0.4915572 | 42.94759 | ... | 397.6901 | 191.1720 | 281.0651 | 256.7214 | 281.80 | 412.15 | 328.27 | 299.03 | 0.27362204 | 0.07353726 |\n",
       "| 5 |  9 | 87 | 0.0106232 | 0.518219 | 0.476563007 | 0.442623 |  8.22 | 0.00086018 | 0.5469484 | 28.05474 | ... | 377.3126 | 206.8215 | 289.3125 | 215.1933 | 290.89 | 377.35 | 367.23 | 342.82 | 0.06008584 | 0.07069755 |\n",
       "| 6 | 11 | 87 | 0.0146067 | 0.524664 | 0.068376102 | 0.500000 | 13.00 | 0.00288203 | 0.6113361 | 35.22974 | ... | 401.3378 | 187.8255 | 258.5650 | 237.1507 | 258.60 | 391.48 | 325.71 | 275.22 | 0.31952664 | 0.09891920 |\n",
       "\n"
      ],
      "text/plain": [
       "  county year crmrte    prbarr   prbconv     prbpris  avgsen polpc     \n",
       "1  1     87   0.0356036 0.298270 0.527595997 0.436170  6.71  0.00182786\n",
       "2  3     87   0.0152532 0.132029 1.481480002 0.450000  6.35  0.00074588\n",
       "3  5     87   0.0129603 0.444444 0.267856985 0.600000  6.76  0.00123431\n",
       "4  7     87   0.0267532 0.364760 0.525424004 0.435484  7.14  0.00152994\n",
       "5  9     87   0.0106232 0.518219 0.476563007 0.442623  8.22  0.00086018\n",
       "6 11     87   0.0146067 0.524664 0.068376102 0.500000 13.00  0.00288203\n",
       "  density   taxpc    ... wtuc     wtrd     wfir     wser     wmfg   wfed  \n",
       "1 2.4226327 30.99368 ... 408.7245 221.2701 453.1722 274.1775 334.54 477.58\n",
       "2 1.0463320 26.89208 ... 376.2542 196.0101 258.5650 192.3077 300.38 409.83\n",
       "3 0.4127659 34.81605 ... 372.2084 229.3209 305.9441 209.6972 237.65 358.98\n",
       "4 0.4915572 42.94759 ... 397.6901 191.1720 281.0651 256.7214 281.80 412.15\n",
       "5 0.5469484 28.05474 ... 377.3126 206.8215 289.3125 215.1933 290.89 377.35\n",
       "6 0.6113361 35.22974 ... 401.3378 187.8255 258.5650 237.1507 258.60 391.48\n",
       "  wsta   wloc   mix        pctymle   \n",
       "1 292.09 311.91 0.08016878 0.07787097\n",
       "2 362.96 301.47 0.03022670 0.08260694\n",
       "3 331.53 281.37 0.46511629 0.07211538\n",
       "4 328.27 299.03 0.27362204 0.07353726\n",
       "5 367.23 342.82 0.06008584 0.07069755\n",
       "6 325.71 275.22 0.31952664 0.09891920"
      ]
     },
     "metadata": {},
     "output_type": "display_data"
    }
   ],
   "source": [
    "data = get_data()\n",
    "head(data)"
   ]
  },
  {
   "cell_type": "code",
   "execution_count": 4,
   "metadata": {},
   "outputs": [
    {
     "data": {
      "text/html": [
       "<style>\n",
       ".list-inline {list-style: none; margin:0; padding: 0}\n",
       ".list-inline>li {display: inline-block}\n",
       ".list-inline>li:not(:last-child)::after {content: \"\\00b7\"; padding: 0 .5ex}\n",
       "</style>\n",
       "<ol class=list-inline><li>97</li><li>25</li></ol>\n"
      ],
      "text/latex": [
       "\\begin{enumerate*}\n",
       "\\item 97\n",
       "\\item 25\n",
       "\\end{enumerate*}\n"
      ],
      "text/markdown": [
       "1. 97\n",
       "2. 25\n",
       "\n",
       "\n"
      ],
      "text/plain": [
       "[1] 97 25"
      ]
     },
     "metadata": {},
     "output_type": "display_data"
    }
   ],
   "source": [
    "dim(data)"
   ]
  },
  {
   "cell_type": "code",
   "execution_count": 5,
   "metadata": {},
   "outputs": [
    {
     "data": {
      "text/html": [
       "<style>\n",
       ".dl-inline {width: auto; margin:0; padding: 0}\n",
       ".dl-inline>dt, .dl-inline>dd {float: none; width: auto; display: inline-block}\n",
       ".dl-inline>dt::after {content: \":\\0020\"; padding-right: .5ex}\n",
       ".dl-inline>dt:not(:first-of-type) {padding-left: .5ex}\n",
       "</style><dl class=dl-inline><dt>county</dt><dd>'integer'</dd><dt>year</dt><dd>'integer'</dd><dt>crmrte</dt><dd>'numeric'</dd><dt>prbarr</dt><dd>'numeric'</dd><dt>prbconv</dt><dd>'factor'</dd><dt>prbpris</dt><dd>'numeric'</dd><dt>avgsen</dt><dd>'numeric'</dd><dt>polpc</dt><dd>'numeric'</dd><dt>density</dt><dd>'numeric'</dd><dt>taxpc</dt><dd>'numeric'</dd><dt>west</dt><dd>'integer'</dd><dt>central</dt><dd>'integer'</dd><dt>urban</dt><dd>'integer'</dd><dt>pctmin80</dt><dd>'numeric'</dd><dt>wcon</dt><dd>'numeric'</dd><dt>wtuc</dt><dd>'numeric'</dd><dt>wtrd</dt><dd>'numeric'</dd><dt>wfir</dt><dd>'numeric'</dd><dt>wser</dt><dd>'numeric'</dd><dt>wmfg</dt><dd>'numeric'</dd><dt>wfed</dt><dd>'numeric'</dd><dt>wsta</dt><dd>'numeric'</dd><dt>wloc</dt><dd>'numeric'</dd><dt>mix</dt><dd>'numeric'</dd><dt>pctymle</dt><dd>'numeric'</dd></dl>\n"
      ],
      "text/latex": [
       "\\begin{description*}\n",
       "\\item[county] 'integer'\n",
       "\\item[year] 'integer'\n",
       "\\item[crmrte] 'numeric'\n",
       "\\item[prbarr] 'numeric'\n",
       "\\item[prbconv] 'factor'\n",
       "\\item[prbpris] 'numeric'\n",
       "\\item[avgsen] 'numeric'\n",
       "\\item[polpc] 'numeric'\n",
       "\\item[density] 'numeric'\n",
       "\\item[taxpc] 'numeric'\n",
       "\\item[west] 'integer'\n",
       "\\item[central] 'integer'\n",
       "\\item[urban] 'integer'\n",
       "\\item[pctmin80] 'numeric'\n",
       "\\item[wcon] 'numeric'\n",
       "\\item[wtuc] 'numeric'\n",
       "\\item[wtrd] 'numeric'\n",
       "\\item[wfir] 'numeric'\n",
       "\\item[wser] 'numeric'\n",
       "\\item[wmfg] 'numeric'\n",
       "\\item[wfed] 'numeric'\n",
       "\\item[wsta] 'numeric'\n",
       "\\item[wloc] 'numeric'\n",
       "\\item[mix] 'numeric'\n",
       "\\item[pctymle] 'numeric'\n",
       "\\end{description*}\n"
      ],
      "text/markdown": [
       "county\n",
       ":   'integer'year\n",
       ":   'integer'crmrte\n",
       ":   'numeric'prbarr\n",
       ":   'numeric'prbconv\n",
       ":   'factor'prbpris\n",
       ":   'numeric'avgsen\n",
       ":   'numeric'polpc\n",
       ":   'numeric'density\n",
       ":   'numeric'taxpc\n",
       ":   'numeric'west\n",
       ":   'integer'central\n",
       ":   'integer'urban\n",
       ":   'integer'pctmin80\n",
       ":   'numeric'wcon\n",
       ":   'numeric'wtuc\n",
       ":   'numeric'wtrd\n",
       ":   'numeric'wfir\n",
       ":   'numeric'wser\n",
       ":   'numeric'wmfg\n",
       ":   'numeric'wfed\n",
       ":   'numeric'wsta\n",
       ":   'numeric'wloc\n",
       ":   'numeric'mix\n",
       ":   'numeric'pctymle\n",
       ":   'numeric'\n",
       "\n"
      ],
      "text/plain": [
       "   county      year    crmrte    prbarr   prbconv   prbpris    avgsen     polpc \n",
       "\"integer\" \"integer\" \"numeric\" \"numeric\"  \"factor\" \"numeric\" \"numeric\" \"numeric\" \n",
       "  density     taxpc      west   central     urban  pctmin80      wcon      wtuc \n",
       "\"numeric\" \"numeric\" \"integer\" \"integer\" \"integer\" \"numeric\" \"numeric\" \"numeric\" \n",
       "     wtrd      wfir      wser      wmfg      wfed      wsta      wloc       mix \n",
       "\"numeric\" \"numeric\" \"numeric\" \"numeric\" \"numeric\" \"numeric\" \"numeric\" \"numeric\" \n",
       "  pctymle \n",
       "\"numeric\" "
      ]
     },
     "metadata": {},
     "output_type": "display_data"
    }
   ],
   "source": [
    "sapply(data, class)"
   ]
  },
  {
   "cell_type": "markdown",
   "metadata": {},
   "source": [
    "#### We notice there is a factor column for prbconv, we convert this to numeric, as has been done with prbarr and prbpris"
   ]
  },
  {
   "cell_type": "code",
   "execution_count": 6,
   "metadata": {},
   "outputs": [
    {
     "data": {
      "text/html": [
       "<style>\n",
       ".list-inline {list-style: none; margin:0; padding: 0}\n",
       ".list-inline>li {display: inline-block}\n",
       ".list-inline>li:not(:last-child)::after {content: \"\\00b7\"; padding: 0 .5ex}\n",
       "</style>\n",
       "<ol class=list-inline><li></li><li></li><li></li><li></li><li></li><li>`</li></ol>\n",
       "\n",
       "<details>\n",
       "\t<summary style=display:list-item;cursor:pointer>\n",
       "\t\t<strong>Levels</strong>:\n",
       "\t</summary>\n",
       "\t<style>\n",
       "\t.list-inline {list-style: none; margin:0; padding: 0}\n",
       "\t.list-inline>li {display: inline-block}\n",
       "\t.list-inline>li:not(:last-child)::after {content: \"\\00b7\"; padding: 0 .5ex}\n",
       "\t</style>\n",
       "\t<ol class=list-inline><li>''</li><li>'`'</li><li>'0.068376102'</li><li>'0.140350997'</li><li>'0.154451996'</li><li>'0.203724995'</li><li>'0.207830995'</li><li>'0.220339'</li><li>'0.226361006'</li><li>'0.229589999'</li><li>'0.248275995'</li><li>'0.259833008'</li><li>'0.267856985'</li><li>'0.271946996'</li><li>'0.28947401'</li><li>'0.300577998'</li><li>'0.308411002'</li><li>'0.314606994'</li><li>'0.322580993'</li><li>'0.325300992'</li><li>'0.327868998'</li><li>'0.328664005'</li><li>'0.334701002'</li><li>'0.340490997'</li><li>'0.343023002'</li><li>'0.347799987'</li><li>'0.352941006'</li><li>'0.36015299'</li><li>'0.364353001'</li><li>'0.371879011'</li><li>'0.381908'</li><li>'0.384236008'</li><li>'0.385495991'</li><li>'0.386925995'</li><li>'0.393413007'</li><li>'0.401198'</li><li>'0.403780013'</li><li>'0.406780005'</li><li>'0.410596013'</li><li>'0.412698001'</li><li>'0.426777989'</li><li>'0.436441004'</li><li>'0.438960999'</li><li>'0.443114012'</li><li>'0.443681002'</li><li>'0.449999988'</li><li>'0.450567007'</li><li>'0.452829987'</li><li>'0.457210004'</li><li>'0.459215999'</li><li>'0.468531013'</li><li>'0.476563007'</li><li>'0.477732986'</li><li>'0.492940009'</li><li>'0.493438005'</li><li>'0.495575011'</li><li>'0.50819701'</li><li>'0.515464008'</li><li>'0.520606995'</li><li>'0.520709991'</li><li>'0.522387981'</li><li>'0.525424004'</li><li>'0.527595997'</li><li>'0.528302014'</li><li>'0.548494995'</li><li>'0.549019992'</li><li>'0.559822977'</li><li>'0.571429014'</li><li>'0.573943973'</li><li>'0.588859022'</li><li>'0.589905024'</li><li>'0.595077991'</li><li>'0.62251699'</li><li>'0.722972989'</li><li>'0.736908972'</li><li>'0.739394009'</li><li>'0.763333023'</li><li>'0.769231021'</li><li>'0.781608999'</li><li>'0.793232977'</li><li>'0.909090996'</li><li>'0.972972989'</li><li>'1.015380025'</li><li>'1.068969965'</li><li>'1.182929993'</li><li>'1.225610018'</li><li>'1.234380007'</li><li>'1.358139992'</li><li>'1.481480002'</li><li>'1.5'</li><li>'1.670519948'</li><li>'2.121210098'</li></ol>\n",
       "</details>"
      ],
      "text/latex": [
       "\\begin{enumerate*}\n",
       "\\item \n",
       "\\item \n",
       "\\item \n",
       "\\item \n",
       "\\item \n",
       "\\item `\n",
       "\\end{enumerate*}\n",
       "\n",
       "\\emph{Levels}: \\begin{enumerate*}\n",
       "\\item ''\n",
       "\\item '`'\n",
       "\\item '0.068376102'\n",
       "\\item '0.140350997'\n",
       "\\item '0.154451996'\n",
       "\\item '0.203724995'\n",
       "\\item '0.207830995'\n",
       "\\item '0.220339'\n",
       "\\item '0.226361006'\n",
       "\\item '0.229589999'\n",
       "\\item '0.248275995'\n",
       "\\item '0.259833008'\n",
       "\\item '0.267856985'\n",
       "\\item '0.271946996'\n",
       "\\item '0.28947401'\n",
       "\\item '0.300577998'\n",
       "\\item '0.308411002'\n",
       "\\item '0.314606994'\n",
       "\\item '0.322580993'\n",
       "\\item '0.325300992'\n",
       "\\item '0.327868998'\n",
       "\\item '0.328664005'\n",
       "\\item '0.334701002'\n",
       "\\item '0.340490997'\n",
       "\\item '0.343023002'\n",
       "\\item '0.347799987'\n",
       "\\item '0.352941006'\n",
       "\\item '0.36015299'\n",
       "\\item '0.364353001'\n",
       "\\item '0.371879011'\n",
       "\\item '0.381908'\n",
       "\\item '0.384236008'\n",
       "\\item '0.385495991'\n",
       "\\item '0.386925995'\n",
       "\\item '0.393413007'\n",
       "\\item '0.401198'\n",
       "\\item '0.403780013'\n",
       "\\item '0.406780005'\n",
       "\\item '0.410596013'\n",
       "\\item '0.412698001'\n",
       "\\item '0.426777989'\n",
       "\\item '0.436441004'\n",
       "\\item '0.438960999'\n",
       "\\item '0.443114012'\n",
       "\\item '0.443681002'\n",
       "\\item '0.449999988'\n",
       "\\item '0.450567007'\n",
       "\\item '0.452829987'\n",
       "\\item '0.457210004'\n",
       "\\item '0.459215999'\n",
       "\\item '0.468531013'\n",
       "\\item '0.476563007'\n",
       "\\item '0.477732986'\n",
       "\\item '0.492940009'\n",
       "\\item '0.493438005'\n",
       "\\item '0.495575011'\n",
       "\\item '0.50819701'\n",
       "\\item '0.515464008'\n",
       "\\item '0.520606995'\n",
       "\\item '0.520709991'\n",
       "\\item '0.522387981'\n",
       "\\item '0.525424004'\n",
       "\\item '0.527595997'\n",
       "\\item '0.528302014'\n",
       "\\item '0.548494995'\n",
       "\\item '0.549019992'\n",
       "\\item '0.559822977'\n",
       "\\item '0.571429014'\n",
       "\\item '0.573943973'\n",
       "\\item '0.588859022'\n",
       "\\item '0.589905024'\n",
       "\\item '0.595077991'\n",
       "\\item '0.62251699'\n",
       "\\item '0.722972989'\n",
       "\\item '0.736908972'\n",
       "\\item '0.739394009'\n",
       "\\item '0.763333023'\n",
       "\\item '0.769231021'\n",
       "\\item '0.781608999'\n",
       "\\item '0.793232977'\n",
       "\\item '0.909090996'\n",
       "\\item '0.972972989'\n",
       "\\item '1.015380025'\n",
       "\\item '1.068969965'\n",
       "\\item '1.182929993'\n",
       "\\item '1.225610018'\n",
       "\\item '1.234380007'\n",
       "\\item '1.358139992'\n",
       "\\item '1.481480002'\n",
       "\\item '1.5'\n",
       "\\item '1.670519948'\n",
       "\\item '2.121210098'\n",
       "\\end{enumerate*}\n"
      ],
      "text/markdown": [
       "1. \n",
       "2. \n",
       "3. \n",
       "4. \n",
       "5. \n",
       "6. `\n",
       "\n",
       "\n",
       "\n",
       "**Levels**: 1. ''\n",
       "2. '`'\n",
       "3. '0.068376102'\n",
       "4. '0.140350997'\n",
       "5. '0.154451996'\n",
       "6. '0.203724995'\n",
       "7. '0.207830995'\n",
       "8. '0.220339'\n",
       "9. '0.226361006'\n",
       "10. '0.229589999'\n",
       "11. '0.248275995'\n",
       "12. '0.259833008'\n",
       "13. '0.267856985'\n",
       "14. '0.271946996'\n",
       "15. '0.28947401'\n",
       "16. '0.300577998'\n",
       "17. '0.308411002'\n",
       "18. '0.314606994'\n",
       "19. '0.322580993'\n",
       "20. '0.325300992'\n",
       "21. '0.327868998'\n",
       "22. '0.328664005'\n",
       "23. '0.334701002'\n",
       "24. '0.340490997'\n",
       "25. '0.343023002'\n",
       "26. '0.347799987'\n",
       "27. '0.352941006'\n",
       "28. '0.36015299'\n",
       "29. '0.364353001'\n",
       "30. '0.371879011'\n",
       "31. '0.381908'\n",
       "32. '0.384236008'\n",
       "33. '0.385495991'\n",
       "34. '0.386925995'\n",
       "35. '0.393413007'\n",
       "36. '0.401198'\n",
       "37. '0.403780013'\n",
       "38. '0.406780005'\n",
       "39. '0.410596013'\n",
       "40. '0.412698001'\n",
       "41. '0.426777989'\n",
       "42. '0.436441004'\n",
       "43. '0.438960999'\n",
       "44. '0.443114012'\n",
       "45. '0.443681002'\n",
       "46. '0.449999988'\n",
       "47. '0.450567007'\n",
       "48. '0.452829987'\n",
       "49. '0.457210004'\n",
       "50. '0.459215999'\n",
       "51. '0.468531013'\n",
       "52. '0.476563007'\n",
       "53. '0.477732986'\n",
       "54. '0.492940009'\n",
       "55. '0.493438005'\n",
       "56. '0.495575011'\n",
       "57. '0.50819701'\n",
       "58. '0.515464008'\n",
       "59. '0.520606995'\n",
       "60. '0.520709991'\n",
       "61. '0.522387981'\n",
       "62. '0.525424004'\n",
       "63. '0.527595997'\n",
       "64. '0.528302014'\n",
       "65. '0.548494995'\n",
       "66. '0.549019992'\n",
       "67. '0.559822977'\n",
       "68. '0.571429014'\n",
       "69. '0.573943973'\n",
       "70. '0.588859022'\n",
       "71. '0.589905024'\n",
       "72. '0.595077991'\n",
       "73. '0.62251699'\n",
       "74. '0.722972989'\n",
       "75. '0.736908972'\n",
       "76. '0.739394009'\n",
       "77. '0.763333023'\n",
       "78. '0.769231021'\n",
       "79. '0.781608999'\n",
       "80. '0.793232977'\n",
       "81. '0.909090996'\n",
       "82. '0.972972989'\n",
       "83. '1.015380025'\n",
       "84. '1.068969965'\n",
       "85. '1.182929993'\n",
       "86. '1.225610018'\n",
       "87. '1.234380007'\n",
       "88. '1.358139992'\n",
       "89. '1.481480002'\n",
       "90. '1.5'\n",
       "91. '1.670519948'\n",
       "92. '2.121210098'\n",
       "\n",
       "\n"
      ],
      "text/plain": [
       "[1]           `\n",
       "92 Levels:  ` 0.068376102 0.140350997 0.154451996 0.203724995 ... 2.121210098"
      ]
     },
     "metadata": {},
     "output_type": "display_data"
    }
   ],
   "source": [
    "tail(data$prbconv)"
   ]
  },
  {
   "cell_type": "markdown",
   "metadata": {},
   "source": [
    "We also observe that there are few missing values for prbconv. These will be removed later"
   ]
  },
  {
   "cell_type": "code",
   "execution_count": 7,
   "metadata": {},
   "outputs": [
    {
     "name": "stderr",
     "output_type": "stream",
     "text": [
      "Warning message in eval(expr, envir, enclos):\n",
      "\"NAs introduced by coercion\""
     ]
    }
   ],
   "source": [
    "data$prbconv = as.numeric(as.character(data$prbconv))"
   ]
  },
  {
   "cell_type": "code",
   "execution_count": 8,
   "metadata": {},
   "outputs": [
    {
     "data": {
      "text/html": [
       "<style>\n",
       ".dl-inline {width: auto; margin:0; padding: 0}\n",
       ".dl-inline>dt, .dl-inline>dd {float: none; width: auto; display: inline-block}\n",
       ".dl-inline>dt::after {content: \":\\0020\"; padding-right: .5ex}\n",
       ".dl-inline>dt:not(:first-of-type) {padding-left: .5ex}\n",
       "</style><dl class=dl-inline><dt>county</dt><dd>'integer'</dd><dt>year</dt><dd>'integer'</dd><dt>crmrte</dt><dd>'numeric'</dd><dt>prbarr</dt><dd>'numeric'</dd><dt>prbconv</dt><dd>'numeric'</dd><dt>prbpris</dt><dd>'numeric'</dd><dt>avgsen</dt><dd>'numeric'</dd><dt>polpc</dt><dd>'numeric'</dd><dt>density</dt><dd>'numeric'</dd><dt>taxpc</dt><dd>'numeric'</dd><dt>west</dt><dd>'integer'</dd><dt>central</dt><dd>'integer'</dd><dt>urban</dt><dd>'integer'</dd><dt>pctmin80</dt><dd>'numeric'</dd><dt>wcon</dt><dd>'numeric'</dd><dt>wtuc</dt><dd>'numeric'</dd><dt>wtrd</dt><dd>'numeric'</dd><dt>wfir</dt><dd>'numeric'</dd><dt>wser</dt><dd>'numeric'</dd><dt>wmfg</dt><dd>'numeric'</dd><dt>wfed</dt><dd>'numeric'</dd><dt>wsta</dt><dd>'numeric'</dd><dt>wloc</dt><dd>'numeric'</dd><dt>mix</dt><dd>'numeric'</dd><dt>pctymle</dt><dd>'numeric'</dd></dl>\n"
      ],
      "text/latex": [
       "\\begin{description*}\n",
       "\\item[county] 'integer'\n",
       "\\item[year] 'integer'\n",
       "\\item[crmrte] 'numeric'\n",
       "\\item[prbarr] 'numeric'\n",
       "\\item[prbconv] 'numeric'\n",
       "\\item[prbpris] 'numeric'\n",
       "\\item[avgsen] 'numeric'\n",
       "\\item[polpc] 'numeric'\n",
       "\\item[density] 'numeric'\n",
       "\\item[taxpc] 'numeric'\n",
       "\\item[west] 'integer'\n",
       "\\item[central] 'integer'\n",
       "\\item[urban] 'integer'\n",
       "\\item[pctmin80] 'numeric'\n",
       "\\item[wcon] 'numeric'\n",
       "\\item[wtuc] 'numeric'\n",
       "\\item[wtrd] 'numeric'\n",
       "\\item[wfir] 'numeric'\n",
       "\\item[wser] 'numeric'\n",
       "\\item[wmfg] 'numeric'\n",
       "\\item[wfed] 'numeric'\n",
       "\\item[wsta] 'numeric'\n",
       "\\item[wloc] 'numeric'\n",
       "\\item[mix] 'numeric'\n",
       "\\item[pctymle] 'numeric'\n",
       "\\end{description*}\n"
      ],
      "text/markdown": [
       "county\n",
       ":   'integer'year\n",
       ":   'integer'crmrte\n",
       ":   'numeric'prbarr\n",
       ":   'numeric'prbconv\n",
       ":   'numeric'prbpris\n",
       ":   'numeric'avgsen\n",
       ":   'numeric'polpc\n",
       ":   'numeric'density\n",
       ":   'numeric'taxpc\n",
       ":   'numeric'west\n",
       ":   'integer'central\n",
       ":   'integer'urban\n",
       ":   'integer'pctmin80\n",
       ":   'numeric'wcon\n",
       ":   'numeric'wtuc\n",
       ":   'numeric'wtrd\n",
       ":   'numeric'wfir\n",
       ":   'numeric'wser\n",
       ":   'numeric'wmfg\n",
       ":   'numeric'wfed\n",
       ":   'numeric'wsta\n",
       ":   'numeric'wloc\n",
       ":   'numeric'mix\n",
       ":   'numeric'pctymle\n",
       ":   'numeric'\n",
       "\n"
      ],
      "text/plain": [
       "   county      year    crmrte    prbarr   prbconv   prbpris    avgsen     polpc \n",
       "\"integer\" \"integer\" \"numeric\" \"numeric\" \"numeric\" \"numeric\" \"numeric\" \"numeric\" \n",
       "  density     taxpc      west   central     urban  pctmin80      wcon      wtuc \n",
       "\"numeric\" \"numeric\" \"integer\" \"integer\" \"integer\" \"numeric\" \"numeric\" \"numeric\" \n",
       "     wtrd      wfir      wser      wmfg      wfed      wsta      wloc       mix \n",
       "\"numeric\" \"numeric\" \"numeric\" \"numeric\" \"numeric\" \"numeric\" \"numeric\" \"numeric\" \n",
       "  pctymle \n",
       "\"numeric\" "
      ]
     },
     "metadata": {},
     "output_type": "display_data"
    }
   ],
   "source": [
    "# now all columns are in their correct data types\n",
    "sapply(data, class)"
   ]
  },
  {
   "cell_type": "code",
   "execution_count": 9,
   "metadata": {},
   "outputs": [
    {
     "data": {
      "text/html": [],
      "text/latex": [],
      "text/markdown": [],
      "text/plain": [
       "integer(0)"
      ]
     },
     "metadata": {},
     "output_type": "display_data"
    }
   ],
   "source": [
    "# the row numbers that have atleast 1 negative value in the columns\n",
    "unique(unlist (lapply (data, function (x) which (x < 0))))"
   ]
  },
  {
   "cell_type": "code",
   "execution_count": 10,
   "metadata": {},
   "outputs": [
    {
     "data": {
      "text/html": [
       "<style>\n",
       ".list-inline {list-style: none; margin:0; padding: 0}\n",
       ".list-inline>li {display: inline-block}\n",
       ".list-inline>li:not(:last-child)::after {content: \"\\00b7\"; padding: 0 .5ex}\n",
       "</style>\n",
       "<ol class=list-inline><li>92</li><li>93</li><li>94</li><li>95</li><li>96</li><li>97</li></ol>\n"
      ],
      "text/latex": [
       "\\begin{enumerate*}\n",
       "\\item 92\n",
       "\\item 93\n",
       "\\item 94\n",
       "\\item 95\n",
       "\\item 96\n",
       "\\item 97\n",
       "\\end{enumerate*}\n"
      ],
      "text/markdown": [
       "1. 92\n",
       "2. 93\n",
       "3. 94\n",
       "4. 95\n",
       "5. 96\n",
       "6. 97\n",
       "\n",
       "\n"
      ],
      "text/plain": [
       "[1] 92 93 94 95 96 97"
      ]
     },
     "metadata": {},
     "output_type": "display_data"
    }
   ],
   "source": [
    "# the row numbers that have atleast 1 NA value in the columns\n",
    "unique(unlist (lapply (data, function (x) which (is.na (x)))))"
   ]
  },
  {
   "cell_type": "code",
   "execution_count": 11,
   "metadata": {},
   "outputs": [
    {
     "data": {
      "text/html": [
       "<table>\n",
       "<caption>A data.frame: 6 × 25</caption>\n",
       "<thead>\n",
       "\t<tr><th></th><th scope=col>county</th><th scope=col>year</th><th scope=col>crmrte</th><th scope=col>prbarr</th><th scope=col>prbconv</th><th scope=col>prbpris</th><th scope=col>avgsen</th><th scope=col>polpc</th><th scope=col>density</th><th scope=col>taxpc</th><th scope=col>...</th><th scope=col>wtuc</th><th scope=col>wtrd</th><th scope=col>wfir</th><th scope=col>wser</th><th scope=col>wmfg</th><th scope=col>wfed</th><th scope=col>wsta</th><th scope=col>wloc</th><th scope=col>mix</th><th scope=col>pctymle</th></tr>\n",
       "\t<tr><th></th><th scope=col>&lt;int&gt;</th><th scope=col>&lt;int&gt;</th><th scope=col>&lt;dbl&gt;</th><th scope=col>&lt;dbl&gt;</th><th scope=col>&lt;dbl&gt;</th><th scope=col>&lt;dbl&gt;</th><th scope=col>&lt;dbl&gt;</th><th scope=col>&lt;dbl&gt;</th><th scope=col>&lt;dbl&gt;</th><th scope=col>&lt;dbl&gt;</th><th scope=col>...</th><th scope=col>&lt;dbl&gt;</th><th scope=col>&lt;dbl&gt;</th><th scope=col>&lt;dbl&gt;</th><th scope=col>&lt;dbl&gt;</th><th scope=col>&lt;dbl&gt;</th><th scope=col>&lt;dbl&gt;</th><th scope=col>&lt;dbl&gt;</th><th scope=col>&lt;dbl&gt;</th><th scope=col>&lt;dbl&gt;</th><th scope=col>&lt;dbl&gt;</th></tr>\n",
       "</thead>\n",
       "<tbody>\n",
       "\t<tr><th scope=row>92</th><td>NA</td><td>NA</td><td>NA</td><td>NA</td><td>NA</td><td>NA</td><td>NA</td><td>NA</td><td>NA</td><td>NA</td><td>...</td><td>NA</td><td>NA</td><td>NA</td><td>NA</td><td>NA</td><td>NA</td><td>NA</td><td>NA</td><td>NA</td><td>NA</td></tr>\n",
       "\t<tr><th scope=row>93</th><td>NA</td><td>NA</td><td>NA</td><td>NA</td><td>NA</td><td>NA</td><td>NA</td><td>NA</td><td>NA</td><td>NA</td><td>...</td><td>NA</td><td>NA</td><td>NA</td><td>NA</td><td>NA</td><td>NA</td><td>NA</td><td>NA</td><td>NA</td><td>NA</td></tr>\n",
       "\t<tr><th scope=row>94</th><td>NA</td><td>NA</td><td>NA</td><td>NA</td><td>NA</td><td>NA</td><td>NA</td><td>NA</td><td>NA</td><td>NA</td><td>...</td><td>NA</td><td>NA</td><td>NA</td><td>NA</td><td>NA</td><td>NA</td><td>NA</td><td>NA</td><td>NA</td><td>NA</td></tr>\n",
       "\t<tr><th scope=row>95</th><td>NA</td><td>NA</td><td>NA</td><td>NA</td><td>NA</td><td>NA</td><td>NA</td><td>NA</td><td>NA</td><td>NA</td><td>...</td><td>NA</td><td>NA</td><td>NA</td><td>NA</td><td>NA</td><td>NA</td><td>NA</td><td>NA</td><td>NA</td><td>NA</td></tr>\n",
       "\t<tr><th scope=row>96</th><td>NA</td><td>NA</td><td>NA</td><td>NA</td><td>NA</td><td>NA</td><td>NA</td><td>NA</td><td>NA</td><td>NA</td><td>...</td><td>NA</td><td>NA</td><td>NA</td><td>NA</td><td>NA</td><td>NA</td><td>NA</td><td>NA</td><td>NA</td><td>NA</td></tr>\n",
       "\t<tr><th scope=row>97</th><td>NA</td><td>NA</td><td>NA</td><td>NA</td><td>NA</td><td>NA</td><td>NA</td><td>NA</td><td>NA</td><td>NA</td><td>...</td><td>NA</td><td>NA</td><td>NA</td><td>NA</td><td>NA</td><td>NA</td><td>NA</td><td>NA</td><td>NA</td><td>NA</td></tr>\n",
       "</tbody>\n",
       "</table>\n"
      ],
      "text/latex": [
       "A data.frame: 6 × 25\n",
       "\\begin{tabular}{r|lllllllllllllllllllll}\n",
       "  & county & year & crmrte & prbarr & prbconv & prbpris & avgsen & polpc & density & taxpc & ... & wtuc & wtrd & wfir & wser & wmfg & wfed & wsta & wloc & mix & pctymle\\\\\n",
       "  & <int> & <int> & <dbl> & <dbl> & <dbl> & <dbl> & <dbl> & <dbl> & <dbl> & <dbl> & ... & <dbl> & <dbl> & <dbl> & <dbl> & <dbl> & <dbl> & <dbl> & <dbl> & <dbl> & <dbl>\\\\\n",
       "\\hline\n",
       "\t92 & NA & NA & NA & NA & NA & NA & NA & NA & NA & NA & ... & NA & NA & NA & NA & NA & NA & NA & NA & NA & NA\\\\\n",
       "\t93 & NA & NA & NA & NA & NA & NA & NA & NA & NA & NA & ... & NA & NA & NA & NA & NA & NA & NA & NA & NA & NA\\\\\n",
       "\t94 & NA & NA & NA & NA & NA & NA & NA & NA & NA & NA & ... & NA & NA & NA & NA & NA & NA & NA & NA & NA & NA\\\\\n",
       "\t95 & NA & NA & NA & NA & NA & NA & NA & NA & NA & NA & ... & NA & NA & NA & NA & NA & NA & NA & NA & NA & NA\\\\\n",
       "\t96 & NA & NA & NA & NA & NA & NA & NA & NA & NA & NA & ... & NA & NA & NA & NA & NA & NA & NA & NA & NA & NA\\\\\n",
       "\t97 & NA & NA & NA & NA & NA & NA & NA & NA & NA & NA & ... & NA & NA & NA & NA & NA & NA & NA & NA & NA & NA\\\\\n",
       "\\end{tabular}\n"
      ],
      "text/markdown": [
       "\n",
       "A data.frame: 6 × 25\n",
       "\n",
       "| <!--/--> | county &lt;int&gt; | year &lt;int&gt; | crmrte &lt;dbl&gt; | prbarr &lt;dbl&gt; | prbconv &lt;dbl&gt; | prbpris &lt;dbl&gt; | avgsen &lt;dbl&gt; | polpc &lt;dbl&gt; | density &lt;dbl&gt; | taxpc &lt;dbl&gt; | ... ... | wtuc &lt;dbl&gt; | wtrd &lt;dbl&gt; | wfir &lt;dbl&gt; | wser &lt;dbl&gt; | wmfg &lt;dbl&gt; | wfed &lt;dbl&gt; | wsta &lt;dbl&gt; | wloc &lt;dbl&gt; | mix &lt;dbl&gt; | pctymle &lt;dbl&gt; |\n",
       "|---|---|---|---|---|---|---|---|---|---|---|---|---|---|---|---|---|---|---|---|---|---|\n",
       "| 92 | NA | NA | NA | NA | NA | NA | NA | NA | NA | NA | ... | NA | NA | NA | NA | NA | NA | NA | NA | NA | NA |\n",
       "| 93 | NA | NA | NA | NA | NA | NA | NA | NA | NA | NA | ... | NA | NA | NA | NA | NA | NA | NA | NA | NA | NA |\n",
       "| 94 | NA | NA | NA | NA | NA | NA | NA | NA | NA | NA | ... | NA | NA | NA | NA | NA | NA | NA | NA | NA | NA |\n",
       "| 95 | NA | NA | NA | NA | NA | NA | NA | NA | NA | NA | ... | NA | NA | NA | NA | NA | NA | NA | NA | NA | NA |\n",
       "| 96 | NA | NA | NA | NA | NA | NA | NA | NA | NA | NA | ... | NA | NA | NA | NA | NA | NA | NA | NA | NA | NA |\n",
       "| 97 | NA | NA | NA | NA | NA | NA | NA | NA | NA | NA | ... | NA | NA | NA | NA | NA | NA | NA | NA | NA | NA |\n",
       "\n"
      ],
      "text/plain": [
       "   county year crmrte prbarr prbconv prbpris avgsen polpc density taxpc ...\n",
       "92 NA     NA   NA     NA     NA      NA      NA     NA    NA      NA    ...\n",
       "93 NA     NA   NA     NA     NA      NA      NA     NA    NA      NA    ...\n",
       "94 NA     NA   NA     NA     NA      NA      NA     NA    NA      NA    ...\n",
       "95 NA     NA   NA     NA     NA      NA      NA     NA    NA      NA    ...\n",
       "96 NA     NA   NA     NA     NA      NA      NA     NA    NA      NA    ...\n",
       "97 NA     NA   NA     NA     NA      NA      NA     NA    NA      NA    ...\n",
       "   wtuc wtrd wfir wser wmfg wfed wsta wloc mix pctymle\n",
       "92 NA   NA   NA   NA   NA   NA   NA   NA   NA  NA     \n",
       "93 NA   NA   NA   NA   NA   NA   NA   NA   NA  NA     \n",
       "94 NA   NA   NA   NA   NA   NA   NA   NA   NA  NA     \n",
       "95 NA   NA   NA   NA   NA   NA   NA   NA   NA  NA     \n",
       "96 NA   NA   NA   NA   NA   NA   NA   NA   NA  NA     \n",
       "97 NA   NA   NA   NA   NA   NA   NA   NA   NA  NA     "
      ]
     },
     "metadata": {},
     "output_type": "display_data"
    }
   ],
   "source": [
    "data[92:97,]"
   ]
  },
  {
   "cell_type": "code",
   "execution_count": 12,
   "metadata": {},
   "outputs": [
    {
     "data": {
      "text/plain": [
       "   Min. 1st Qu.  Median    Mean 3rd Qu.    Max.    NA's \n",
       "0.06838 0.34541 0.45283 0.55128 0.58886 2.12121       6 "
      ]
     },
     "metadata": {},
     "output_type": "display_data"
    }
   ],
   "source": [
    "summary(data$prbconv)"
   ]
  },
  {
   "cell_type": "markdown",
   "metadata": {},
   "source": [
    "Notice that the 6 rows of NA values above are coming because prbconv is NA in those 6 rows"
   ]
  },
  {
   "cell_type": "code",
   "execution_count": 13,
   "metadata": {},
   "outputs": [],
   "source": [
    "# we observe all values have NA in them\n",
    "# remove data where there are NA in rows\n",
    "data = data[complete.cases(data), ]"
   ]
  },
  {
   "cell_type": "code",
   "execution_count": 14,
   "metadata": {},
   "outputs": [
    {
     "data": {
      "text/html": [
       "<style>\n",
       ".list-inline {list-style: none; margin:0; padding: 0}\n",
       ".list-inline>li {display: inline-block}\n",
       ".list-inline>li:not(:last-child)::after {content: \"\\00b7\"; padding: 0 .5ex}\n",
       "</style>\n",
       "<ol class=list-inline><li>91</li><li>25</li></ol>\n"
      ],
      "text/latex": [
       "\\begin{enumerate*}\n",
       "\\item 91\n",
       "\\item 25\n",
       "\\end{enumerate*}\n"
      ],
      "text/markdown": [
       "1. 91\n",
       "2. 25\n",
       "\n",
       "\n"
      ],
      "text/plain": [
       "[1] 91 25"
      ]
     },
     "metadata": {},
     "output_type": "display_data"
    }
   ],
   "source": [
    "dim(data)"
   ]
  },
  {
   "cell_type": "code",
   "execution_count": 15,
   "metadata": {},
   "outputs": [
    {
     "data": {
      "text/plain": [
       "   Min. 1st Qu.  Median    Mean 3rd Qu.    Max. \n",
       "0.06838 0.34541 0.45283 0.55128 0.58886 2.12121 "
      ]
     },
     "metadata": {},
     "output_type": "display_data"
    }
   ],
   "source": [
    "summary(data$prbconv)"
   ]
  },
  {
   "cell_type": "markdown",
   "metadata": {},
   "source": [
    "Now we notice there are no NA values in prbconv, however, there are values where the probability is greater than 1. We will deal with this later"
   ]
  },
  {
   "cell_type": "markdown",
   "metadata": {},
   "source": [
    "## Exploratory Data Analysis"
   ]
  },
  {
   "cell_type": "markdown",
   "metadata": {},
   "source": [
    "### EDA Target Variable"
   ]
  },
  {
   "cell_type": "code",
   "execution_count": 16,
   "metadata": {},
   "outputs": [
    {
     "data": {
      "text/plain": [
       "    Min.  1st Qu.   Median     Mean  3rd Qu.     Max. \n",
       "0.005533 0.020927 0.029986 0.033400 0.039642 0.098966 "
      ]
     },
     "metadata": {},
     "output_type": "display_data"
    },
    {
     "data": {
      "image/png": "[encoded data removed]",
      "text/plain": [
       "Plot with title \"Histogram of crime rate\""
      ]
     },
     "metadata": {},
     "output_type": "display_data"
    },
    {
     "data": {
      "image/png": "[encoded data removed]",
      "text/plain": [
       "Plot with title \"Histogram of crime rate (log)\""
      ]
     },
     "metadata": {},
     "output_type": "display_data"
    }
   ],
   "source": [
    "summary(data$crmrte)\n",
    "hist(data$crmrte, breaks=100, main = \"Histogram of crime rate\", xlab = \"Crime Rate\", col = \"lightblue\", border = \"black\")\n",
    "hist(log10(data$crmrte), breaks=100, main = \"Histogram of crime rate (log)\", xlab = \"Crime Rate (log)\", col = \"lightblue\", border = \"black\")"
   ]
  },
  {
   "cell_type": "markdown",
   "metadata": {},
   "source": [
    "#### Note that if we take a log version of the crime rate, we get a nice normally distributed curve. Hence, we will consider our target variable to be log10(crmrte) "
   ]
  },
  {
   "cell_type": "markdown",
   "metadata": {},
   "source": [
    "### EDA Geographical Variables (Demographic)"
   ]
  },
  {
   "cell_type": "markdown",
   "metadata": {},
   "source": [
    "**One thing to consider would be to consider the effects of geography on crime rate.**\n",
    "\n",
    "There are 3 variables which help us categorize geography - west, central and urban. These are all dummy variables that represent what region characteristics the data point has. Hence, one variable of interest could be an interaction variable: \n",
    "\n",
    "#### geo = west  x  central  x  urban\n",
    "\n",
    "Note that because we include this new interaction variable, we have to include all lower order interactions as well.\n"
   ]
  },
  {
   "cell_type": "code",
   "execution_count": 17,
   "metadata": {},
   "outputs": [
    {
     "data": {
      "image/png": "[encoded data removed]",
      "text/plain": [
       "Plot with title \"Histogram of Urban, Central, West Combo\""
      ]
     },
     "metadata": {},
     "output_type": "display_data"
    }
   ],
   "source": [
    "data$geo = data$west * data$central * data$urban\n",
    "data$west_central = data$west * data$central\n",
    "data$west_urban = data$west * data$urban\n",
    "data$central_urban = data$central * data$urban\n",
    "\n",
    "# also include a variable to capture non urban, non west, non central region (west=0, central=0, urban=0)\n",
    "geo_arr = data$west + data$central + data$urban\n",
    "hist(geo_arr, , breaks=100, main = \"Histogram of Urban, Central, West Combo\", xlab = \"Sum(Urban, West, Central)\", col = \"lightblue\", border = \"black\")\n",
    "# notice there are over 30 counties that are non urban, non west, non central\n",
    "data$non_urban_west_central = ifelse(geo_arr >= 1, 0, 1)"
   ]
  },
  {
   "cell_type": "code",
   "execution_count": 18,
   "metadata": {},
   "outputs": [
    {
     "data": {
      "image/png": "[encoded data removed]",
      "text/plain": [
       "Plot with title \"Urban vs Population Density\""
      ]
     },
     "metadata": {},
     "output_type": "display_data"
    }
   ],
   "source": [
    "plot(data$urban, data$density, main = \"Urban vs Population Density\", xlab = \"Urban\", ylab = \"Population Density\" )"
   ]
  },
  {
   "cell_type": "markdown",
   "metadata": {},
   "source": [
    "We don't have a hypothesis around geography, but one can make an argument that urban areas are more susceptible for crime, given that they may be more densely populated.\n",
    "\n",
    "Also, we notice that there are no regions that are urban, west and central (see graph above for sum(urban, west, central)). There are also many areas (over 30 counties) that are neither urban, nor west nor central. This gives a basic idea of geographical characteristics of the region"
   ]
  },
  {
   "cell_type": "code",
   "execution_count": 19,
   "metadata": {},
   "outputs": [
    {
     "data": {
      "text/plain": [
       "   Min. 1st Qu.  Median    Mean 3rd Qu.    Max. \n",
       "0.00000 0.00000 0.00000 0.08791 0.00000 1.00000 "
      ]
     },
     "metadata": {},
     "output_type": "display_data"
    },
    {
     "data": {
      "text/html": [
       "<style>\n",
       ".list-inline {list-style: none; margin:0; padding: 0}\n",
       ".list-inline>li {display: inline-block}\n",
       ".list-inline>li:not(:last-child)::after {content: \"\\00b7\"; padding: 0 .5ex}\n",
       "</style>\n",
       "<ol class=list-inline><li>0</li><li>1</li></ol>\n"
      ],
      "text/latex": [
       "\\begin{enumerate*}\n",
       "\\item 0\n",
       "\\item 1\n",
       "\\end{enumerate*}\n"
      ],
      "text/markdown": [
       "1. 0\n",
       "2. 1\n",
       "\n",
       "\n"
      ],
      "text/plain": [
       "[1] 0 1"
      ]
     },
     "metadata": {},
     "output_type": "display_data"
    }
   ],
   "source": [
    "# sample EDA for the dummy variables\n",
    "summary(data$urban)\n",
    "unique(data$urban)"
   ]
  },
  {
   "cell_type": "code",
   "execution_count": 20,
   "metadata": {},
   "outputs": [
    {
     "data": {
      "text/html": [
       "'Urban: 8'"
      ],
      "text/latex": [
       "'Urban: 8'"
      ],
      "text/markdown": [
       "'Urban: 8'"
      ],
      "text/plain": [
       "[1] \"Urban: 8\""
      ]
     },
     "metadata": {},
     "output_type": "display_data"
    },
    {
     "data": {
      "text/html": [
       "'West: 23'"
      ],
      "text/latex": [
       "'West: 23'"
      ],
      "text/markdown": [
       "'West: 23'"
      ],
      "text/plain": [
       "[1] \"West: 23\""
      ]
     },
     "metadata": {},
     "output_type": "display_data"
    },
    {
     "data": {
      "text/html": [
       "'Central: 34'"
      ],
      "text/latex": [
       "'Central: 34'"
      ],
      "text/markdown": [
       "'Central: 34'"
      ],
      "text/plain": [
       "[1] \"Central: 34\""
      ]
     },
     "metadata": {},
     "output_type": "display_data"
    },
    {
     "data": {
      "text/html": [
       "'Central + West: 1'"
      ],
      "text/latex": [
       "'Central + West: 1'"
      ],
      "text/markdown": [
       "'Central + West: 1'"
      ],
      "text/plain": [
       "[1] \"Central + West: 1\""
      ]
     },
     "metadata": {},
     "output_type": "display_data"
    },
    {
     "data": {
      "text/html": [
       "'Central + Urban: 5'"
      ],
      "text/latex": [
       "'Central + Urban: 5'"
      ],
      "text/markdown": [
       "'Central + Urban: 5'"
      ],
      "text/plain": [
       "[1] \"Central + Urban: 5\""
      ]
     },
     "metadata": {},
     "output_type": "display_data"
    },
    {
     "data": {
      "text/html": [
       "'Urban + West: 1'"
      ],
      "text/latex": [
       "'Urban + West: 1'"
      ],
      "text/markdown": [
       "'Urban + West: 1'"
      ],
      "text/plain": [
       "[1] \"Urban + West: 1\""
      ]
     },
     "metadata": {},
     "output_type": "display_data"
    },
    {
     "data": {
      "text/html": [
       "'Urban + West + Central: 0'"
      ],
      "text/latex": [
       "'Urban + West + Central: 0'"
      ],
      "text/markdown": [
       "'Urban + West + Central: 0'"
      ],
      "text/plain": [
       "[1] \"Urban + West + Central: 0\""
      ]
     },
     "metadata": {},
     "output_type": "display_data"
    },
    {
     "data": {
      "text/html": [
       "'NON Urban + NON West + NON Central: 33'"
      ],
      "text/latex": [
       "'NON Urban + NON West + NON Central: 33'"
      ],
      "text/markdown": [
       "'NON Urban + NON West + NON Central: 33'"
      ],
      "text/plain": [
       "[1] \"NON Urban + NON West + NON Central: 33\""
      ]
     },
     "metadata": {},
     "output_type": "display_data"
    }
   ],
   "source": [
    "# Analysis of interaction term \"geo\"\n",
    "paste(\"Urban:\", sum(data$urban))\n",
    "paste(\"West:\", sum(data$west))\n",
    "paste(\"Central:\", sum(data$central))\n",
    "\n",
    "paste(\"Central + West:\", sum(data$central * data$west))\n",
    "paste(\"Central + Urban:\", sum(data$central * data$urban))\n",
    "paste(\"Urban + West:\", sum(data$urban * data$west))\n",
    "\n",
    "paste(\"Urban + West + Central:\", sum(data$urban * data$west * data$central))\n",
    "paste(\"NON Urban + NON West + NON Central:\", sum(data$non_urban_west_central))"
   ]
  },
  {
   "cell_type": "markdown",
   "metadata": {},
   "source": [
    "**For now, we will include the above variables in our model to observe if there are any special effects on crime based on geo**"
   ]
  },
  {
   "cell_type": "markdown",
   "metadata": {},
   "source": [
    "### EDA Population Variables (Demographic)"
   ]
  },
  {
   "cell_type": "markdown",
   "metadata": {},
   "source": [
    "**We decide to add 2 interaction variables:**\n",
    "1. density x pctymle - this gives the density of young males in the county (density_ymle)\n",
    "2. density x pctmin80 - this gives the density of minority in the county (density_min80)\n",
    "\n",
    "These seem to be a good representation of the density of a population in the county, which is a more intuitive way to think about demography (people / unit area), rather than thinking in percentage terms only. Hence, we will add these variables into our discussion as well.\n",
    "\n",
    "**Note that this assumes that the percentage variables are uniformly distributed over the county and that density x pct will give the density of the population of interest in the county.**\n",
    "\n",
    "Also note that pctymle is already given in fractional terms (between 0 and 1), whereas pctmin80 is given in percentage (between 0 and 100). For sake of uniformity, we will convert pctmin80 to 0-1 scale"
   ]
  },
  {
   "cell_type": "code",
   "execution_count": 21,
   "metadata": {},
   "outputs": [
    {
     "data": {
      "text/plain": [
       "   Min. 1st Qu.  Median    Mean 3rd Qu.    Max. \n",
       "  1.284   9.845  24.312  25.495  38.142  64.348 "
      ]
     },
     "metadata": {},
     "output_type": "display_data"
    },
    {
     "data": {
      "text/plain": [
       "   Min. 1st Qu.  Median    Mean 3rd Qu.    Max. \n",
       "0.06216 0.07443 0.07771 0.08396 0.08350 0.24871 "
      ]
     },
     "metadata": {},
     "output_type": "display_data"
    }
   ],
   "source": [
    "summary(data$pctmin80)\n",
    "summary(data$pctymle)"
   ]
  },
  {
   "cell_type": "code",
   "execution_count": 22,
   "metadata": {},
   "outputs": [
    {
     "data": {
      "text/plain": [
       "   Min. 1st Qu.  Median    Mean 3rd Qu.    Max. \n",
       "0.01284 0.09845 0.24312 0.25495 0.38142 0.64348 "
      ]
     },
     "metadata": {},
     "output_type": "display_data"
    }
   ],
   "source": [
    "data$pctmin80 = data$pctmin80 * 1.0 / 100\n",
    "summary(data$pctmin80)"
   ]
  },
  {
   "cell_type": "code",
   "execution_count": 23,
   "metadata": {},
   "outputs": [],
   "source": [
    "data$density_min80 = data$density * data$pctmin80 \n",
    "data$density_ymle = data$density * data$pctymle"
   ]
  },
  {
   "cell_type": "code",
   "execution_count": 24,
   "metadata": {},
   "outputs": [
    {
     "data": {
      "text/plain": [
       "   Min. 1st Qu.  Median    Mean 3rd Qu.    Max. \n",
       "0.00002 0.54741 0.96226 1.42884 1.56824 8.82765 "
      ]
     },
     "metadata": {},
     "output_type": "display_data"
    },
    {
     "data": {
      "image/png": "[encoded data removed]",
      "text/plain": [
       "Plot with title \"Histogram of Density\""
      ]
     },
     "metadata": {},
     "output_type": "display_data"
    },
    {
     "data": {
      "image/png": "[encoded data removed]",
      "text/plain": [
       "Plot with title \"Histogram of Density (log)\""
      ]
     },
     "metadata": {},
     "output_type": "display_data"
    }
   ],
   "source": [
    "summary(data$density)\n",
    "hist(data$density, , breaks=100, main = \"Histogram of Density\", xlab = \"Density\", col = \"lightblue\", border = \"black\")\n",
    "hist(log10(data$density), , breaks=100, main = \"Histogram of Density (log)\", xlab = \"Density (log)\", col = \"lightblue\", border = \"black\")\n"
   ]
  },
  {
   "cell_type": "markdown",
   "metadata": {},
   "source": [
    "Taking the log(Density) makes the data much more normal and is a better choice for our density variable. \n",
    "\n",
    "Doing a histogram of pctmin80 and pctymle (or their log transformations) - didnt reveal any interesting normal distributions. We notice that the values for the percentages lie within expected range (0 to 1) - see below. So we will continue to explore further.\n",
    "\n",
    "Next lets do a correlation analysis on all the variables of population identified so far."
   ]
  },
  {
   "cell_type": "code",
   "execution_count": 25,
   "metadata": {},
   "outputs": [
    {
     "data": {
      "text/plain": [
       "   Min. 1st Qu.  Median    Mean 3rd Qu.    Max. \n",
       "0.06216 0.07443 0.07771 0.08396 0.08350 0.24871 "
      ]
     },
     "metadata": {},
     "output_type": "display_data"
    },
    {
     "data": {
      "text/plain": [
       "   Min. 1st Qu.  Median    Mean 3rd Qu.    Max. \n",
       "0.01284 0.09845 0.24312 0.25495 0.38142 0.64348 "
      ]
     },
     "metadata": {},
     "output_type": "display_data"
    }
   ],
   "source": [
    "summary(data$pctymle)\n",
    "summary(data$pctmin80)"
   ]
  },
  {
   "cell_type": "code",
   "execution_count": 26,
   "metadata": {},
   "outputs": [
    {
     "data": {
      "text/html": [
       "<table>\n",
       "<caption>A matrix: 6 × 5 of type dbl</caption>\n",
       "<tbody>\n",
       "\t<tr><td> 0.38428757</td><td>0.2021870</td><td>0.07787097</td><td>0.489824846</td><td>0.18865276</td></tr>\n",
       "\t<tr><td> 0.01966951</td><td>0.0791632</td><td>0.08260694</td><td>0.082830988</td><td>0.08643429</td></tr>\n",
       "\t<tr><td>-0.38429614</td><td>0.0316053</td><td>0.07211538</td><td>0.013045592</td><td>0.02976677</td></tr>\n",
       "\t<tr><td>-0.30842593</td><td>0.4791610</td><td>0.07353726</td><td>0.235535043</td><td>0.03614777</td></tr>\n",
       "\t<tr><td>-0.26205367</td><td>0.0179619</td><td>0.07069755</td><td>0.009824232</td><td>0.03866791</td></tr>\n",
       "\t<tr><td>-0.21371999</td><td>0.0154070</td><td>0.09891920</td><td>0.009418854</td><td>0.06047287</td></tr>\n",
       "</tbody>\n",
       "</table>\n"
      ],
      "text/latex": [
       "A matrix: 6 × 5 of type dbl\n",
       "\\begin{tabular}{lllll}\n",
       "\t  0.38428757 & 0.2021870 & 0.07787097 & 0.489824846 & 0.18865276\\\\\n",
       "\t  0.01966951 & 0.0791632 & 0.08260694 & 0.082830988 & 0.08643429\\\\\n",
       "\t -0.38429614 & 0.0316053 & 0.07211538 & 0.013045592 & 0.02976677\\\\\n",
       "\t -0.30842593 & 0.4791610 & 0.07353726 & 0.235535043 & 0.03614777\\\\\n",
       "\t -0.26205367 & 0.0179619 & 0.07069755 & 0.009824232 & 0.03866791\\\\\n",
       "\t -0.21371999 & 0.0154070 & 0.09891920 & 0.009418854 & 0.06047287\\\\\n",
       "\\end{tabular}\n"
      ],
      "text/markdown": [
       "\n",
       "A matrix: 6 × 5 of type dbl\n",
       "\n",
       "|  0.38428757 | 0.2021870 | 0.07787097 | 0.489824846 | 0.18865276 |\n",
       "|  0.01966951 | 0.0791632 | 0.08260694 | 0.082830988 | 0.08643429 |\n",
       "| -0.38429614 | 0.0316053 | 0.07211538 | 0.013045592 | 0.02976677 |\n",
       "| -0.30842593 | 0.4791610 | 0.07353726 | 0.235535043 | 0.03614777 |\n",
       "| -0.26205367 | 0.0179619 | 0.07069755 | 0.009824232 | 0.03866791 |\n",
       "| -0.21371999 | 0.0154070 | 0.09891920 | 0.009418854 | 0.06047287 |\n",
       "\n"
      ],
      "text/plain": [
       "     [,1]        [,2]      [,3]       [,4]        [,5]      \n",
       "[1,]  0.38428757 0.2021870 0.07787097 0.489824846 0.18865276\n",
       "[2,]  0.01966951 0.0791632 0.08260694 0.082830988 0.08643429\n",
       "[3,] -0.38429614 0.0316053 0.07211538 0.013045592 0.02976677\n",
       "[4,] -0.30842593 0.4791610 0.07353726 0.235535043 0.03614777\n",
       "[5,] -0.26205367 0.0179619 0.07069755 0.009824232 0.03866791\n",
       "[6,] -0.21371999 0.0154070 0.09891920 0.009418854 0.06047287"
      ]
     },
     "metadata": {},
     "output_type": "display_data"
    },
    {
     "data": {
      "text/plain": [
       "$r\n",
       "       [,1]   [,2]   [,3] [,4]   [,5]\n",
       "[1,]  1.000 -0.016 -0.095 0.29 -0.045\n",
       "[2,] -0.016  1.000  0.150 0.15  0.390\n",
       "[3,] -0.095  0.150  1.000 0.48  0.560\n",
       "[4,]  0.290  0.150  0.480 1.00  0.880\n",
       "[5,] -0.045  0.390  0.560 0.88  1.000\n",
       "\n",
       "$p\n",
       "       [,1]    [,2]    [,3]    [,4]    [,5]\n",
       "[1,] 0.0000 0.88000 3.7e-01 5.2e-03 6.7e-01\n",
       "[2,] 0.8800 0.00000 1.6e-01 1.7e-01 1.4e-04\n",
       "[3,] 0.3700 0.16000 0.0e+00 1.4e-06 5.5e-09\n",
       "[4,] 0.0052 0.17000 1.4e-06 0.0e+00 1.5e-30\n",
       "[5,] 0.6700 0.00014 5.5e-09 1.5e-30 0.0e+00\n",
       "\n",
       "$sym\n",
       "              \n",
       "[1,] 1        \n",
       "[2,]   1      \n",
       "[3,]     1    \n",
       "[4,]     . 1  \n",
       "[5,]   . . + 1\n",
       "attr(,\"legend\")\n",
       "[1] 0 ' ' 0.3 '.' 0.6 ',' 0.8 '+' 0.9 '*' 0.95 'B' 1\n"
      ]
     },
     "metadata": {},
     "output_type": "display_data"
    },
    {
     "data": {
      "image/png": "[encoded data removed]",
      "text/plain": [
       "Plot with title \"\""
      ]
     },
     "metadata": {},
     "output_type": "display_data"
    }
   ],
   "source": [
    "popdata = cbind(log10(data$density), data$pctmin80, data$pctymle, data$density_min80, data$density_ymle)\n",
    "head(popdata)\n",
    "source(\"http://www.sthda.com/upload/rquery_cormat.r\")\n",
    "rquery.cormat(popdata, type=\"full\")"
   ]
  },
  {
   "cell_type": "markdown",
   "metadata": {},
   "source": [
    "#### We observe strong positive correlation between several population variables\n",
    "\n",
    "Notably:\n",
    "1. 0.39 between pctmin80 and density_ymale\n",
    "2. 0.48 between pctymle and density_min80\n",
    "3. 0.56 between pctymle and density_ymle\n",
    "4. 0.88 between density_min80 and density_ymle\n",
    "\n",
    "We will include these variables in our specifications with the following expected causal effects:\n",
    "1. If density is high, then crime rate is expected to be high. This is simply because a larger set of people in one area is bound to create more conflict and crime in the community.\n",
    "2. If percentage of young males are high in a region, we expect more crime. This is because younger people are easier to influence and may engage more in petty crimes.\n",
    "\n",
    "There may be a concern including both density_min80 and density_ymle because they have high correlation (0.88) - leading to possible multicollinearity. This also shows that the density of younger male populations is highly correlated across counties with density of minority populations. Keep in mind, pctymle and pctmin80 are hardly correlated with each other. But their density equivalents (density_min80 and density_ymle) are highly correlated, which is an interesting observation. This could be because of the underlying common density variable in the interaction. For now, we will keep density_ymale in our model, as a measure of how many young males per unit area exist in each county. We will NOT include density_min80 because we are concerned about multicollinearity. To represent the minority percentage variable, we keep pctmin80 in the model.\n",
    "\n",
    "**For now, we will include \"log10(density)\", \"pctmin80\" and \"density_ymle\" variables in the model to observe their effects**"
   ]
  },
  {
   "cell_type": "code",
   "execution_count": 27,
   "metadata": {},
   "outputs": [],
   "source": [
    "data$log10_density = log10(data$density)"
   ]
  },
  {
   "cell_type": "markdown",
   "metadata": {},
   "source": [
    "### EDA Criminal Justice Variables"
   ]
  },
  {
   "cell_type": "markdown",
   "metadata": {},
   "source": [
    "It is worthwhile to capture any relationships between these variables: prbarr, prbconv, prbpris.\n",
    "\n",
    "This will help us determine if there is any multicollinearity between these variables. We would suspect these to be correlated"
   ]
  },
  {
   "cell_type": "code",
   "execution_count": 28,
   "metadata": {},
   "outputs": [
    {
     "data": {
      "text/plain": [
       "   Min. 1st Qu.  Median    Mean 3rd Qu.    Max. \n",
       " 0.1500  0.3648  0.4234  0.4108  0.4568  0.6000 "
      ]
     },
     "metadata": {},
     "output_type": "display_data"
    },
    {
     "data": {
      "image/png": "[encoded data removed]",
      "text/plain": [
       "Plot with title \"Histogram of prbpris\""
      ]
     },
     "metadata": {},
     "output_type": "display_data"
    }
   ],
   "source": [
    "summary(data$prbpris)\n",
    "hist((data$prbpris), breaks=100, main = \"Histogram of prbpris\", xlab = \"prbpris\", col = \"lightblue\", border = \"black\")"
   ]
  },
  {
   "cell_type": "code",
   "execution_count": 29,
   "metadata": {},
   "outputs": [
    {
     "data": {
      "text/plain": [
       "   Min. 1st Qu.  Median    Mean 3rd Qu.    Max. \n",
       "0.09277 0.20568 0.27095 0.29492 0.34438 1.09091 "
      ]
     },
     "metadata": {},
     "output_type": "display_data"
    },
    {
     "data": {
      "image/png": "[encoded data removed]",
      "text/plain": [
       "Plot with title \"Histogram of prbarr\""
      ]
     },
     "metadata": {},
     "output_type": "display_data"
    }
   ],
   "source": [
    "summary(data$prbarr)\n",
    "hist((data$prbarr), breaks=100, main = \"Histogram of prbarr\", xlab = \"prbarr\", col = \"lightblue\", border = \"black\")"
   ]
  },
  {
   "cell_type": "markdown",
   "metadata": {},
   "source": [
    "#### Notice that there is an outlier row with a probability higher than 1, which is not possible. We will exclude this from our analysis"
   ]
  },
  {
   "cell_type": "code",
   "execution_count": 30,
   "metadata": {},
   "outputs": [
    {
     "data": {
      "text/html": [
       "51"
      ],
      "text/latex": [
       "51"
      ],
      "text/markdown": [
       "51"
      ],
      "text/plain": [
       "[1] 51"
      ]
     },
     "metadata": {},
     "output_type": "display_data"
    }
   ],
   "source": [
    "n = unique(unlist (lapply (data, function (x) which (data$prbarr > 1))))\n",
    "n"
   ]
  },
  {
   "cell_type": "code",
   "execution_count": 31,
   "metadata": {},
   "outputs": [
    {
     "data": {
      "text/html": [
       "<table>\n",
       "<caption>A data.frame: 1 × 33</caption>\n",
       "<thead>\n",
       "\t<tr><th></th><th scope=col>county</th><th scope=col>year</th><th scope=col>crmrte</th><th scope=col>prbarr</th><th scope=col>prbconv</th><th scope=col>prbpris</th><th scope=col>avgsen</th><th scope=col>polpc</th><th scope=col>density</th><th scope=col>taxpc</th><th scope=col>...</th><th scope=col>mix</th><th scope=col>pctymle</th><th scope=col>geo</th><th scope=col>west_central</th><th scope=col>west_urban</th><th scope=col>central_urban</th><th scope=col>non_urban_west_central</th><th scope=col>density_min80</th><th scope=col>density_ymle</th><th scope=col>log10_density</th></tr>\n",
       "\t<tr><th></th><th scope=col>&lt;int&gt;</th><th scope=col>&lt;int&gt;</th><th scope=col>&lt;dbl&gt;</th><th scope=col>&lt;dbl&gt;</th><th scope=col>&lt;dbl&gt;</th><th scope=col>&lt;dbl&gt;</th><th scope=col>&lt;dbl&gt;</th><th scope=col>&lt;dbl&gt;</th><th scope=col>&lt;dbl&gt;</th><th scope=col>&lt;dbl&gt;</th><th scope=col>...</th><th scope=col>&lt;dbl&gt;</th><th scope=col>&lt;dbl&gt;</th><th scope=col>&lt;int&gt;</th><th scope=col>&lt;int&gt;</th><th scope=col>&lt;int&gt;</th><th scope=col>&lt;int&gt;</th><th scope=col>&lt;dbl&gt;</th><th scope=col>&lt;dbl&gt;</th><th scope=col>&lt;dbl&gt;</th><th scope=col>&lt;dbl&gt;</th></tr>\n",
       "</thead>\n",
       "<tbody>\n",
       "\t<tr><th scope=row>51</th><td>115</td><td>87</td><td>0.0055332</td><td>1.09091</td><td>1.5</td><td>0.5</td><td>20.7</td><td>0.00905433</td><td>0.3858093</td><td>28.1931</td><td>...</td><td>0.1</td><td>0.07253495</td><td>0</td><td>0</td><td>0</td><td>0</td><td>0</td><td>0.004952441</td><td>0.02798466</td><td>-0.4136273</td></tr>\n",
       "</tbody>\n",
       "</table>\n"
      ],
      "text/latex": [
       "A data.frame: 1 × 33\n",
       "\\begin{tabular}{r|lllllllllllllllllllll}\n",
       "  & county & year & crmrte & prbarr & prbconv & prbpris & avgsen & polpc & density & taxpc & ... & mix & pctymle & geo & west\\_central & west\\_urban & central\\_urban & non\\_urban\\_west\\_central & density\\_min80 & density\\_ymle & log10\\_density\\\\\n",
       "  & <int> & <int> & <dbl> & <dbl> & <dbl> & <dbl> & <dbl> & <dbl> & <dbl> & <dbl> & ... & <dbl> & <dbl> & <int> & <int> & <int> & <int> & <dbl> & <dbl> & <dbl> & <dbl>\\\\\n",
       "\\hline\n",
       "\t51 & 115 & 87 & 0.0055332 & 1.09091 & 1.5 & 0.5 & 20.7 & 0.00905433 & 0.3858093 & 28.1931 & ... & 0.1 & 0.07253495 & 0 & 0 & 0 & 0 & 0 & 0.004952441 & 0.02798466 & -0.4136273\\\\\n",
       "\\end{tabular}\n"
      ],
      "text/markdown": [
       "\n",
       "A data.frame: 1 × 33\n",
       "\n",
       "| <!--/--> | county &lt;int&gt; | year &lt;int&gt; | crmrte &lt;dbl&gt; | prbarr &lt;dbl&gt; | prbconv &lt;dbl&gt; | prbpris &lt;dbl&gt; | avgsen &lt;dbl&gt; | polpc &lt;dbl&gt; | density &lt;dbl&gt; | taxpc &lt;dbl&gt; | ... ... | mix &lt;dbl&gt; | pctymle &lt;dbl&gt; | geo &lt;int&gt; | west_central &lt;int&gt; | west_urban &lt;int&gt; | central_urban &lt;int&gt; | non_urban_west_central &lt;dbl&gt; | density_min80 &lt;dbl&gt; | density_ymle &lt;dbl&gt; | log10_density &lt;dbl&gt; |\n",
       "|---|---|---|---|---|---|---|---|---|---|---|---|---|---|---|---|---|---|---|---|---|---|\n",
       "| 51 | 115 | 87 | 0.0055332 | 1.09091 | 1.5 | 0.5 | 20.7 | 0.00905433 | 0.3858093 | 28.1931 | ... | 0.1 | 0.07253495 | 0 | 0 | 0 | 0 | 0 | 0.004952441 | 0.02798466 | -0.4136273 |\n",
       "\n"
      ],
      "text/plain": [
       "   county year crmrte    prbarr  prbconv prbpris avgsen polpc      density  \n",
       "51 115    87   0.0055332 1.09091 1.5     0.5     20.7   0.00905433 0.3858093\n",
       "   taxpc   ... mix pctymle    geo west_central west_urban central_urban\n",
       "51 28.1931 ... 0.1 0.07253495 0   0            0          0            \n",
       "   non_urban_west_central density_min80 density_ymle log10_density\n",
       "51 0                      0.004952441   0.02798466   -0.4136273   "
      ]
     },
     "metadata": {},
     "output_type": "display_data"
    }
   ],
   "source": [
    "data[n,]"
   ]
  },
  {
   "cell_type": "code",
   "execution_count": 32,
   "metadata": {},
   "outputs": [
    {
     "data": {
      "text/html": [
       "<style>\n",
       ".list-inline {list-style: none; margin:0; padding: 0}\n",
       ".list-inline>li {display: inline-block}\n",
       ".list-inline>li:not(:last-child)::after {content: \"\\00b7\"; padding: 0 .5ex}\n",
       "</style>\n",
       "<ol class=list-inline><li>90</li><li>33</li></ol>\n"
      ],
      "text/latex": [
       "\\begin{enumerate*}\n",
       "\\item 90\n",
       "\\item 33\n",
       "\\end{enumerate*}\n"
      ],
      "text/markdown": [
       "1. 90\n",
       "2. 33\n",
       "\n",
       "\n"
      ],
      "text/plain": [
       "[1] 90 33"
      ]
     },
     "metadata": {},
     "output_type": "display_data"
    }
   ],
   "source": [
    "data = data[-n,]\n",
    "dim(data)\n",
    "# summary(data$prbarr)\n",
    "# hist((data$prbarr), breaks=100, main = \"Histogram of prbarr\", xlab = \"prbarr\", col = \"lightblue\", border = \"black\")"
   ]
  },
  {
   "cell_type": "code",
   "execution_count": 33,
   "metadata": {},
   "outputs": [
    {
     "data": {
      "text/plain": [
       "   Min. 1st Qu.  Median    Mean 3rd Qu.    Max. \n",
       "0.06838 0.34422 0.45170 0.54074 0.58513 2.12121 "
      ]
     },
     "metadata": {},
     "output_type": "display_data"
    },
    {
     "data": {
      "image/png": "[encoded data removed]",
      "text/plain": [
       "Plot with title \"Histogram of prbconv\""
      ]
     },
     "metadata": {},
     "output_type": "display_data"
    }
   ],
   "source": [
    "summary(data$prbconv)\n",
    "hist((data$prbconv), breaks=100, main = \"Histogram of prbconv\", xlab = \"prbconv\", col = \"lightblue\", border = \"black\")"
   ]
  },
  {
   "cell_type": "markdown",
   "metadata": {},
   "source": [
    "#### Notice that there are a few rows where prbconv is > 1 even though it is supposed to be a probability. We will exclude this from our analysis."
   ]
  },
  {
   "cell_type": "code",
   "execution_count": 34,
   "metadata": {},
   "outputs": [
    {
     "data": {
      "text/html": [
       "<style>\n",
       ".list-inline {list-style: none; margin:0; padding: 0}\n",
       ".list-inline>li {display: inline-block}\n",
       ".list-inline>li:not(:last-child)::after {content: \"\\00b7\"; padding: 0 .5ex}\n",
       "</style>\n",
       "<ol class=list-inline><li>2</li><li>10</li><li>44</li><li>55</li><li>60</li><li>66</li><li>83</li><li>89</li><li>90</li></ol>\n"
      ],
      "text/latex": [
       "\\begin{enumerate*}\n",
       "\\item 2\n",
       "\\item 10\n",
       "\\item 44\n",
       "\\item 55\n",
       "\\item 60\n",
       "\\item 66\n",
       "\\item 83\n",
       "\\item 89\n",
       "\\item 90\n",
       "\\end{enumerate*}\n"
      ],
      "text/markdown": [
       "1. 2\n",
       "2. 10\n",
       "3. 44\n",
       "4. 55\n",
       "5. 60\n",
       "6. 66\n",
       "7. 83\n",
       "8. 89\n",
       "9. 90\n",
       "\n",
       "\n"
      ],
      "text/plain": [
       "[1]  2 10 44 55 60 66 83 89 90"
      ]
     },
     "metadata": {},
     "output_type": "display_data"
    }
   ],
   "source": [
    "n = unique(unlist (lapply (data, function (x) which (data$prbconv > 1))))\n",
    "n"
   ]
  },
  {
   "cell_type": "code",
   "execution_count": 35,
   "metadata": {},
   "outputs": [
    {
     "data": {
      "text/html": [
       "<table>\n",
       "<caption>A data.frame: 9 × 33</caption>\n",
       "<thead>\n",
       "\t<tr><th></th><th scope=col>county</th><th scope=col>year</th><th scope=col>crmrte</th><th scope=col>prbarr</th><th scope=col>prbconv</th><th scope=col>prbpris</th><th scope=col>avgsen</th><th scope=col>polpc</th><th scope=col>density</th><th scope=col>taxpc</th><th scope=col>...</th><th scope=col>mix</th><th scope=col>pctymle</th><th scope=col>geo</th><th scope=col>west_central</th><th scope=col>west_urban</th><th scope=col>central_urban</th><th scope=col>non_urban_west_central</th><th scope=col>density_min80</th><th scope=col>density_ymle</th><th scope=col>log10_density</th></tr>\n",
       "\t<tr><th></th><th scope=col>&lt;int&gt;</th><th scope=col>&lt;int&gt;</th><th scope=col>&lt;dbl&gt;</th><th scope=col>&lt;dbl&gt;</th><th scope=col>&lt;dbl&gt;</th><th scope=col>&lt;dbl&gt;</th><th scope=col>&lt;dbl&gt;</th><th scope=col>&lt;dbl&gt;</th><th scope=col>&lt;dbl&gt;</th><th scope=col>&lt;dbl&gt;</th><th scope=col>...</th><th scope=col>&lt;dbl&gt;</th><th scope=col>&lt;dbl&gt;</th><th scope=col>&lt;int&gt;</th><th scope=col>&lt;int&gt;</th><th scope=col>&lt;int&gt;</th><th scope=col>&lt;int&gt;</th><th scope=col>&lt;dbl&gt;</th><th scope=col>&lt;dbl&gt;</th><th scope=col>&lt;dbl&gt;</th><th scope=col>&lt;dbl&gt;</th></tr>\n",
       "</thead>\n",
       "<tbody>\n",
       "\t<tr><th scope=row>2</th><td>  3</td><td>87</td><td>0.0152532</td><td>0.132029</td><td>1.48148</td><td>0.450000</td><td> 6.35</td><td>0.00074588</td><td>1.0463320</td><td>26.89208</td><td>...</td><td>0.03022670</td><td>0.08260694</td><td>0</td><td>0</td><td>0</td><td>0</td><td>0</td><td>0.08283099</td><td>0.08643429</td><td> 0.01966951</td></tr>\n",
       "\t<tr><th scope=row>10</th><td> 19</td><td>87</td><td>0.0221567</td><td>0.162860</td><td>1.22561</td><td>0.333333</td><td>10.34</td><td>0.00202425</td><td>0.5767442</td><td>61.15251</td><td>...</td><td>0.05334728</td><td>0.07713232</td><td>0</td><td>0</td><td>0</td><td>0</td><td>1</td><td>0.14021632</td><td>0.04448562</td><td>-0.23901676</td></tr>\n",
       "\t<tr><th scope=row>44</th><td> 99</td><td>87</td><td>0.0171865</td><td>0.153846</td><td>1.23438</td><td>0.556962</td><td>14.75</td><td>0.00185912</td><td>0.5478615</td><td>39.57348</td><td>...</td><td>0.01960784</td><td>0.12894706</td><td>0</td><td>0</td><td>0</td><td>0</td><td>0</td><td>0.07825983</td><td>0.07064513</td><td>-0.26132921</td></tr>\n",
       "\t<tr><th scope=row>56</th><td>127</td><td>87</td><td>0.0291496</td><td>0.179616</td><td>1.35814</td><td>0.335616</td><td>15.99</td><td>0.00158289</td><td>1.3388889</td><td>32.02376</td><td>...</td><td>0.06305506</td><td>0.07400288</td><td>0</td><td>0</td><td>0</td><td>0</td><td>1</td><td>0.45896977</td><td>0.09908163</td><td> 0.12674454</td></tr>\n",
       "\t<tr><th scope=row>61</th><td>137</td><td>87</td><td>0.0126662</td><td>0.207143</td><td>1.06897</td><td>0.322581</td><td> 6.18</td><td>0.00081426</td><td>0.3167155</td><td>44.29367</td><td>...</td><td>0.06870229</td><td>0.07098370</td><td>0</td><td>0</td><td>0</td><td>0</td><td>1</td><td>0.10465802</td><td>0.02248164</td><td>-0.49933063</td></tr>\n",
       "\t<tr><th scope=row>67</th><td>149</td><td>87</td><td>0.0164987</td><td>0.271967</td><td>1.01538</td><td>0.227273</td><td>14.62</td><td>0.00151871</td><td>0.6092437</td><td>29.03402</td><td>...</td><td>0.11682243</td><td>0.06215772</td><td>0</td><td>0</td><td>0</td><td>0</td><td>0</td><td>0.06095239</td><td>0.03786920</td><td>-0.21520896</td></tr>\n",
       "\t<tr><th scope=row>84</th><td>185</td><td>87</td><td>0.0108703</td><td>0.195266</td><td>2.12121</td><td>0.442857</td><td> 5.38</td><td>0.00122210</td><td>0.3887588</td><td>40.82454</td><td>...</td><td>0.04968944</td><td>0.07008217</td><td>0</td><td>0</td><td>0</td><td>0</td><td>0</td><td>0.25015927</td><td>0.02724506</td><td>-0.41031979</td></tr>\n",
       "\t<tr><th scope=row>90</th><td>195</td><td>87</td><td>0.0313973</td><td>0.201397</td><td>1.67052</td><td>0.470588</td><td>13.02</td><td>0.00445923</td><td>1.7459893</td><td>53.66693</td><td>...</td><td>0.15612382</td><td>0.07945071</td><td>0</td><td>0</td><td>0</td><td>0</td><td>1</td><td>0.65354299</td><td>0.13872009</td><td> 0.24204158</td></tr>\n",
       "\t<tr><th scope=row>91</th><td>197</td><td>87</td><td>0.0141928</td><td>0.207595</td><td>1.18293</td><td>0.360825</td><td>12.23</td><td>0.00118573</td><td>0.8898810</td><td>25.95258</td><td>...</td><td>0.06756757</td><td>0.07419893</td><td>0</td><td>0</td><td>0</td><td>0</td><td>0</td><td>0.04859471</td><td>0.06602822</td><td>-0.05066809</td></tr>\n",
       "</tbody>\n",
       "</table>\n"
      ],
      "text/latex": [
       "A data.frame: 9 × 33\n",
       "\\begin{tabular}{r|lllllllllllllllllllll}\n",
       "  & county & year & crmrte & prbarr & prbconv & prbpris & avgsen & polpc & density & taxpc & ... & mix & pctymle & geo & west\\_central & west\\_urban & central\\_urban & non\\_urban\\_west\\_central & density\\_min80 & density\\_ymle & log10\\_density\\\\\n",
       "  & <int> & <int> & <dbl> & <dbl> & <dbl> & <dbl> & <dbl> & <dbl> & <dbl> & <dbl> & ... & <dbl> & <dbl> & <int> & <int> & <int> & <int> & <dbl> & <dbl> & <dbl> & <dbl>\\\\\n",
       "\\hline\n",
       "\t2 &   3 & 87 & 0.0152532 & 0.132029 & 1.48148 & 0.450000 &  6.35 & 0.00074588 & 1.0463320 & 26.89208 & ... & 0.03022670 & 0.08260694 & 0 & 0 & 0 & 0 & 0 & 0.08283099 & 0.08643429 &  0.01966951\\\\\n",
       "\t10 &  19 & 87 & 0.0221567 & 0.162860 & 1.22561 & 0.333333 & 10.34 & 0.00202425 & 0.5767442 & 61.15251 & ... & 0.05334728 & 0.07713232 & 0 & 0 & 0 & 0 & 1 & 0.14021632 & 0.04448562 & -0.23901676\\\\\n",
       "\t44 &  99 & 87 & 0.0171865 & 0.153846 & 1.23438 & 0.556962 & 14.75 & 0.00185912 & 0.5478615 & 39.57348 & ... & 0.01960784 & 0.12894706 & 0 & 0 & 0 & 0 & 0 & 0.07825983 & 0.07064513 & -0.26132921\\\\\n",
       "\t56 & 127 & 87 & 0.0291496 & 0.179616 & 1.35814 & 0.335616 & 15.99 & 0.00158289 & 1.3388889 & 32.02376 & ... & 0.06305506 & 0.07400288 & 0 & 0 & 0 & 0 & 1 & 0.45896977 & 0.09908163 &  0.12674454\\\\\n",
       "\t61 & 137 & 87 & 0.0126662 & 0.207143 & 1.06897 & 0.322581 &  6.18 & 0.00081426 & 0.3167155 & 44.29367 & ... & 0.06870229 & 0.07098370 & 0 & 0 & 0 & 0 & 1 & 0.10465802 & 0.02248164 & -0.49933063\\\\\n",
       "\t67 & 149 & 87 & 0.0164987 & 0.271967 & 1.01538 & 0.227273 & 14.62 & 0.00151871 & 0.6092437 & 29.03402 & ... & 0.11682243 & 0.06215772 & 0 & 0 & 0 & 0 & 0 & 0.06095239 & 0.03786920 & -0.21520896\\\\\n",
       "\t84 & 185 & 87 & 0.0108703 & 0.195266 & 2.12121 & 0.442857 &  5.38 & 0.00122210 & 0.3887588 & 40.82454 & ... & 0.04968944 & 0.07008217 & 0 & 0 & 0 & 0 & 0 & 0.25015927 & 0.02724506 & -0.41031979\\\\\n",
       "\t90 & 195 & 87 & 0.0313973 & 0.201397 & 1.67052 & 0.470588 & 13.02 & 0.00445923 & 1.7459893 & 53.66693 & ... & 0.15612382 & 0.07945071 & 0 & 0 & 0 & 0 & 1 & 0.65354299 & 0.13872009 &  0.24204158\\\\\n",
       "\t91 & 197 & 87 & 0.0141928 & 0.207595 & 1.18293 & 0.360825 & 12.23 & 0.00118573 & 0.8898810 & 25.95258 & ... & 0.06756757 & 0.07419893 & 0 & 0 & 0 & 0 & 0 & 0.04859471 & 0.06602822 & -0.05066809\\\\\n",
       "\\end{tabular}\n"
      ],
      "text/markdown": [
       "\n",
       "A data.frame: 9 × 33\n",
       "\n",
       "| <!--/--> | county &lt;int&gt; | year &lt;int&gt; | crmrte &lt;dbl&gt; | prbarr &lt;dbl&gt; | prbconv &lt;dbl&gt; | prbpris &lt;dbl&gt; | avgsen &lt;dbl&gt; | polpc &lt;dbl&gt; | density &lt;dbl&gt; | taxpc &lt;dbl&gt; | ... ... | mix &lt;dbl&gt; | pctymle &lt;dbl&gt; | geo &lt;int&gt; | west_central &lt;int&gt; | west_urban &lt;int&gt; | central_urban &lt;int&gt; | non_urban_west_central &lt;dbl&gt; | density_min80 &lt;dbl&gt; | density_ymle &lt;dbl&gt; | log10_density &lt;dbl&gt; |\n",
       "|---|---|---|---|---|---|---|---|---|---|---|---|---|---|---|---|---|---|---|---|---|---|\n",
       "| 2 |   3 | 87 | 0.0152532 | 0.132029 | 1.48148 | 0.450000 |  6.35 | 0.00074588 | 1.0463320 | 26.89208 | ... | 0.03022670 | 0.08260694 | 0 | 0 | 0 | 0 | 0 | 0.08283099 | 0.08643429 |  0.01966951 |\n",
       "| 10 |  19 | 87 | 0.0221567 | 0.162860 | 1.22561 | 0.333333 | 10.34 | 0.00202425 | 0.5767442 | 61.15251 | ... | 0.05334728 | 0.07713232 | 0 | 0 | 0 | 0 | 1 | 0.14021632 | 0.04448562 | -0.23901676 |\n",
       "| 44 |  99 | 87 | 0.0171865 | 0.153846 | 1.23438 | 0.556962 | 14.75 | 0.00185912 | 0.5478615 | 39.57348 | ... | 0.01960784 | 0.12894706 | 0 | 0 | 0 | 0 | 0 | 0.07825983 | 0.07064513 | -0.26132921 |\n",
       "| 56 | 127 | 87 | 0.0291496 | 0.179616 | 1.35814 | 0.335616 | 15.99 | 0.00158289 | 1.3388889 | 32.02376 | ... | 0.06305506 | 0.07400288 | 0 | 0 | 0 | 0 | 1 | 0.45896977 | 0.09908163 |  0.12674454 |\n",
       "| 61 | 137 | 87 | 0.0126662 | 0.207143 | 1.06897 | 0.322581 |  6.18 | 0.00081426 | 0.3167155 | 44.29367 | ... | 0.06870229 | 0.07098370 | 0 | 0 | 0 | 0 | 1 | 0.10465802 | 0.02248164 | -0.49933063 |\n",
       "| 67 | 149 | 87 | 0.0164987 | 0.271967 | 1.01538 | 0.227273 | 14.62 | 0.00151871 | 0.6092437 | 29.03402 | ... | 0.11682243 | 0.06215772 | 0 | 0 | 0 | 0 | 0 | 0.06095239 | 0.03786920 | -0.21520896 |\n",
       "| 84 | 185 | 87 | 0.0108703 | 0.195266 | 2.12121 | 0.442857 |  5.38 | 0.00122210 | 0.3887588 | 40.82454 | ... | 0.04968944 | 0.07008217 | 0 | 0 | 0 | 0 | 0 | 0.25015927 | 0.02724506 | -0.41031979 |\n",
       "| 90 | 195 | 87 | 0.0313973 | 0.201397 | 1.67052 | 0.470588 | 13.02 | 0.00445923 | 1.7459893 | 53.66693 | ... | 0.15612382 | 0.07945071 | 0 | 0 | 0 | 0 | 1 | 0.65354299 | 0.13872009 |  0.24204158 |\n",
       "| 91 | 197 | 87 | 0.0141928 | 0.207595 | 1.18293 | 0.360825 | 12.23 | 0.00118573 | 0.8898810 | 25.95258 | ... | 0.06756757 | 0.07419893 | 0 | 0 | 0 | 0 | 0 | 0.04859471 | 0.06602822 | -0.05066809 |\n",
       "\n"
      ],
      "text/plain": [
       "   county year crmrte    prbarr   prbconv prbpris  avgsen polpc      density  \n",
       "2    3    87   0.0152532 0.132029 1.48148 0.450000  6.35  0.00074588 1.0463320\n",
       "10  19    87   0.0221567 0.162860 1.22561 0.333333 10.34  0.00202425 0.5767442\n",
       "44  99    87   0.0171865 0.153846 1.23438 0.556962 14.75  0.00185912 0.5478615\n",
       "56 127    87   0.0291496 0.179616 1.35814 0.335616 15.99  0.00158289 1.3388889\n",
       "61 137    87   0.0126662 0.207143 1.06897 0.322581  6.18  0.00081426 0.3167155\n",
       "67 149    87   0.0164987 0.271967 1.01538 0.227273 14.62  0.00151871 0.6092437\n",
       "84 185    87   0.0108703 0.195266 2.12121 0.442857  5.38  0.00122210 0.3887588\n",
       "90 195    87   0.0313973 0.201397 1.67052 0.470588 13.02  0.00445923 1.7459893\n",
       "91 197    87   0.0141928 0.207595 1.18293 0.360825 12.23  0.00118573 0.8898810\n",
       "   taxpc    ... mix        pctymle    geo west_central west_urban central_urban\n",
       "2  26.89208 ... 0.03022670 0.08260694 0   0            0          0            \n",
       "10 61.15251 ... 0.05334728 0.07713232 0   0            0          0            \n",
       "44 39.57348 ... 0.01960784 0.12894706 0   0            0          0            \n",
       "56 32.02376 ... 0.06305506 0.07400288 0   0            0          0            \n",
       "61 44.29367 ... 0.06870229 0.07098370 0   0            0          0            \n",
       "67 29.03402 ... 0.11682243 0.06215772 0   0            0          0            \n",
       "84 40.82454 ... 0.04968944 0.07008217 0   0            0          0            \n",
       "90 53.66693 ... 0.15612382 0.07945071 0   0            0          0            \n",
       "91 25.95258 ... 0.06756757 0.07419893 0   0            0          0            \n",
       "   non_urban_west_central density_min80 density_ymle log10_density\n",
       "2  0                      0.08283099    0.08643429    0.01966951  \n",
       "10 1                      0.14021632    0.04448562   -0.23901676  \n",
       "44 0                      0.07825983    0.07064513   -0.26132921  \n",
       "56 1                      0.45896977    0.09908163    0.12674454  \n",
       "61 1                      0.10465802    0.02248164   -0.49933063  \n",
       "67 0                      0.06095239    0.03786920   -0.21520896  \n",
       "84 0                      0.25015927    0.02724506   -0.41031979  \n",
       "90 1                      0.65354299    0.13872009    0.24204158  \n",
       "91 0                      0.04859471    0.06602822   -0.05066809  "
      ]
     },
     "metadata": {},
     "output_type": "display_data"
    }
   ],
   "source": [
    "data[n,]"
   ]
  },
  {
   "cell_type": "code",
   "execution_count": 36,
   "metadata": {},
   "outputs": [
    {
     "data": {
      "text/html": [
       "<style>\n",
       ".list-inline {list-style: none; margin:0; padding: 0}\n",
       ".list-inline>li {display: inline-block}\n",
       ".list-inline>li:not(:last-child)::after {content: \"\\00b7\"; padding: 0 .5ex}\n",
       "</style>\n",
       "<ol class=list-inline><li>81</li><li>33</li></ol>\n"
      ],
      "text/latex": [
       "\\begin{enumerate*}\n",
       "\\item 81\n",
       "\\item 33\n",
       "\\end{enumerate*}\n"
      ],
      "text/markdown": [
       "1. 81\n",
       "2. 33\n",
       "\n",
       "\n"
      ],
      "text/plain": [
       "[1] 81 33"
      ]
     },
     "metadata": {},
     "output_type": "display_data"
    }
   ],
   "source": [
    "data = data[-n,]\n",
    "dim(data)"
   ]
  },
  {
   "cell_type": "code",
   "execution_count": 37,
   "metadata": {},
   "outputs": [
    {
     "data": {
      "image/png": "[encoded data removed]",
      "text/plain": [
       "Plot with title \"Histogram of log(prbconv)\""
      ]
     },
     "metadata": {},
     "output_type": "display_data"
    }
   ],
   "source": [
    "#summary(data$prbconv)\n",
    "hist(log(data$prbconv), breaks=100, main = \"Histogram of log(prbconv)\", xlab = \"log(prbconv)\", col = \"lightblue\", border = \"black\")"
   ]
  },
  {
   "cell_type": "markdown",
   "metadata": {},
   "source": [
    "Its important to note that log(data$prbconv) results in a slightly more normal representation of the prbconv variable, however, we lose interpretation of the variable.\n",
    "\n",
    "We are not sure what log(prbconv) would mean in terms of explanability, so we DO NOT include it in the model."
   ]
  },
  {
   "cell_type": "markdown",
   "metadata": {},
   "source": [
    "#### Now that we have the data in the right format, we find correlation between the 3 probabilities, along with average sentence and police per capita"
   ]
  },
  {
   "cell_type": "code",
   "execution_count": 38,
   "metadata": {},
   "outputs": [
    {
     "data": {
      "text/html": [
       "<table>\n",
       "<caption>A matrix: 6 × 5 of type dbl</caption>\n",
       "<tbody>\n",
       "\t<tr><td>0.298270</td><td>0.5275960</td><td>0.436170</td><td> 6.71</td><td>0.00182786</td></tr>\n",
       "\t<tr><td>0.444444</td><td>0.2678570</td><td>0.600000</td><td> 6.76</td><td>0.00123431</td></tr>\n",
       "\t<tr><td>0.364760</td><td>0.5254240</td><td>0.435484</td><td> 7.14</td><td>0.00152994</td></tr>\n",
       "\t<tr><td>0.518219</td><td>0.4765630</td><td>0.442623</td><td> 8.22</td><td>0.00086018</td></tr>\n",
       "\t<tr><td>0.524664</td><td>0.0683761</td><td>0.500000</td><td>13.00</td><td>0.00288203</td></tr>\n",
       "\t<tr><td>0.365004</td><td>0.5206070</td><td>0.420833</td><td>10.55</td><td>0.00133771</td></tr>\n",
       "</tbody>\n",
       "</table>\n"
      ],
      "text/latex": [
       "A matrix: 6 × 5 of type dbl\n",
       "\\begin{tabular}{lllll}\n",
       "\t 0.298270 & 0.5275960 & 0.436170 &  6.71 & 0.00182786\\\\\n",
       "\t 0.444444 & 0.2678570 & 0.600000 &  6.76 & 0.00123431\\\\\n",
       "\t 0.364760 & 0.5254240 & 0.435484 &  7.14 & 0.00152994\\\\\n",
       "\t 0.518219 & 0.4765630 & 0.442623 &  8.22 & 0.00086018\\\\\n",
       "\t 0.524664 & 0.0683761 & 0.500000 & 13.00 & 0.00288203\\\\\n",
       "\t 0.365004 & 0.5206070 & 0.420833 & 10.55 & 0.00133771\\\\\n",
       "\\end{tabular}\n"
      ],
      "text/markdown": [
       "\n",
       "A matrix: 6 × 5 of type dbl\n",
       "\n",
       "| 0.298270 | 0.5275960 | 0.436170 |  6.71 | 0.00182786 |\n",
       "| 0.444444 | 0.2678570 | 0.600000 |  6.76 | 0.00123431 |\n",
       "| 0.364760 | 0.5254240 | 0.435484 |  7.14 | 0.00152994 |\n",
       "| 0.518219 | 0.4765630 | 0.442623 |  8.22 | 0.00086018 |\n",
       "| 0.524664 | 0.0683761 | 0.500000 | 13.00 | 0.00288203 |\n",
       "| 0.365004 | 0.5206070 | 0.420833 | 10.55 | 0.00133771 |\n",
       "\n"
      ],
      "text/plain": [
       "     [,1]     [,2]      [,3]     [,4]  [,5]      \n",
       "[1,] 0.298270 0.5275960 0.436170  6.71 0.00182786\n",
       "[2,] 0.444444 0.2678570 0.600000  6.76 0.00123431\n",
       "[3,] 0.364760 0.5254240 0.435484  7.14 0.00152994\n",
       "[4,] 0.518219 0.4765630 0.442623  8.22 0.00086018\n",
       "[5,] 0.524664 0.0683761 0.500000 13.00 0.00288203\n",
       "[6,] 0.365004 0.5206070 0.420833 10.55 0.00133771"
      ]
     },
     "metadata": {},
     "output_type": "display_data"
    },
    {
     "data": {
      "text/plain": [
       "$r\n",
       "       [,1]  [,2]   [,3]   [,4]   [,5]\n",
       "[1,]  1.000  0.25 -0.073 -0.130 -0.160\n",
       "[2,]  0.250  1.00 -0.140 -0.430 -0.170\n",
       "[3,] -0.073 -0.14  1.000 -0.120 -0.038\n",
       "[4,] -0.130 -0.43 -0.120  1.000 -0.022\n",
       "[5,] -0.160 -0.17 -0.038 -0.022  1.000\n",
       "\n",
       "$p\n",
       "      [,1]    [,2] [,3]    [,4] [,5]\n",
       "[1,] 0.000 2.7e-02 0.52 2.4e-01 0.16\n",
       "[2,] 0.027 0.0e+00 0.20 5.4e-05 0.13\n",
       "[3,] 0.520 2.0e-01 0.00 2.8e-01 0.74\n",
       "[4,] 0.240 5.4e-05 0.28 0.0e+00 0.85\n",
       "[5,] 0.160 1.3e-01 0.74 8.5e-01 0.00\n",
       "\n",
       "$sym\n",
       "              \n",
       "[1,] 1        \n",
       "[2,]   1      \n",
       "[3,]     1    \n",
       "[4,]   .   1  \n",
       "[5,]         1\n",
       "attr(,\"legend\")\n",
       "[1] 0 ' ' 0.3 '.' 0.6 ',' 0.8 '+' 0.9 '*' 0.95 'B' 1\n"
      ]
     },
     "metadata": {},
     "output_type": "display_data"
    },
    {
     "data": {
      "image/png": "[encoded data removed]",
      "text/plain": [
       "Plot with title \"\""
      ]
     },
     "metadata": {},
     "output_type": "display_data"
    }
   ],
   "source": [
    "probdata = cbind(data$prbarr, data$prbconv, data$prbpris, data$avgsen, data$polpc)\n",
    "head(probdata)\n",
    "source(\"http://www.sthda.com/upload/rquery_cormat.r\")\n",
    "rquery.cormat(probdata, type=\"full\")"
   ]
  },
  {
   "cell_type": "markdown",
   "metadata": {},
   "source": [
    "**Correlation Analysis**\n",
    "\n",
    "1. Interestingly, there is little correlation between the probability variables\n",
    "2. There is also weak negative correlation between prbconv and avgsen (-0.43)\n",
    "3. Finally, there is weak positive correlation between prbarr and prbconv (0.25)\n",
    "\n",
    "**For now, we will consider all 3 probability variables in the model**\n",
    "\n",
    "We expect that as any of probabilities of arrest or conviction or prison sentence go up, crime rate should come down (people would be less risk taking to commit crime if they knew they would be likely arrested / convicted / imprisoned). "
   ]
  },
  {
   "cell_type": "code",
   "execution_count": 39,
   "metadata": {},
   "outputs": [
    {
     "data": {
      "text/plain": [
       "   Min. 1st Qu.  Median    Mean 3rd Qu.    Max. \n",
       "  5.450   7.360   8.960   9.362  11.110  17.410 "
      ]
     },
     "metadata": {},
     "output_type": "display_data"
    },
    {
     "data": {
      "text/plain": [
       "     Min.   1st Qu.    Median      Mean   3rd Qu.      Max. \n",
       "0.0007559 0.0012482 0.0014782 0.0016102 0.0018574 0.0040096 "
      ]
     },
     "metadata": {},
     "output_type": "display_data"
    },
    {
     "data": {
      "image/png": "[encoded data removed]",
      "text/plain": [
       "Plot with title \"Histogram of avgsen\""
      ]
     },
     "metadata": {},
     "output_type": "display_data"
    },
    {
     "data": {
      "image/png": "[encoded data removed]",
      "text/plain": [
       "Plot with title \"Histogram of polpc\""
      ]
     },
     "metadata": {},
     "output_type": "display_data"
    }
   ],
   "source": [
    "# Finally there's nothing special about the avgsen and polpc variables.\n",
    "\n",
    "# They have values within range and don't display special distributions\n",
    "summary(data$avgsen)\n",
    "hist(data$avgsen, breaks=100, main = \"Histogram of avgsen\", xlab = \"avgsen\", col = \"lightblue\", border = \"black\")\n",
    "\n",
    "# Taking log10(avgsen) makes the histogram look slightly more normal, but we will use avgsen as is in the model for now.\n",
    "# hist(log10(data$avgsen), breaks=100, main = \"Histogram of avgsen\", xlab = \"avgsen\", col = \"lightblue\", border = \"black\")\n",
    "\n",
    "summary(data$polpc)\n",
    "hist(data$polpc, breaks=100, main = \"Histogram of polpc\", xlab = \"polpc\", col = \"lightblue\", border = \"black\")"
   ]
  },
  {
   "cell_type": "markdown",
   "metadata": {},
   "source": [
    "**There seem to be a few suspicious far right outliers for police per capita and average sentence days**\n",
    "\n",
    "We will deal with them as appropriate when evaluating the cook's distance for potential points of influence.\n",
    "\n",
    "We cannot make a judgement for the causal effect of polpc (police per capita). If this increases, we can make an argument that crimes may go down as there is \"more policing\" per citizen. We can also say, if polpc goes up, then crime rate goes up (police can find trivial reasons to arrest citizens - overpolicing).\n",
    "\n",
    "We can however, likely say, if avgsen (average sentence in days) goes up, then convicts may become may learn their lessons and not commit crimes the next time around, so crime rate decreases. **In fact, we noticed a negative correlation between avgsen and prbconv, which may be capturing this hypothesis.**\n",
    "\n",
    "**For now, we will include both variables, as is in the model specification**"
   ]
  },
  {
   "cell_type": "markdown",
   "metadata": {},
   "source": [
    "### EDA Labor Market Variables"
   ]
  },
  {
   "cell_type": "code",
   "execution_count": 40,
   "metadata": {},
   "outputs": [
    {
     "data": {
      "text/html": [
       "<table>\n",
       "<caption>A matrix: 6 × 10 of type dbl</caption>\n",
       "<tbody>\n",
       "\t<tr><td>30.99368</td><td>281.4259</td><td>408.7245</td><td>221.2701</td><td>453.1722</td><td>274.1775</td><td>334.54</td><td>477.58</td><td>292.09</td><td>311.91</td></tr>\n",
       "\t<tr><td>34.81605</td><td>226.9470</td><td>372.2084</td><td>229.3209</td><td>305.9441</td><td>209.6972</td><td>237.65</td><td>358.98</td><td>331.53</td><td>281.37</td></tr>\n",
       "\t<tr><td>42.94759</td><td>375.2345</td><td>397.6901</td><td>191.1720</td><td>281.0651</td><td>256.7214</td><td>281.80</td><td>412.15</td><td>328.27</td><td>299.03</td></tr>\n",
       "\t<tr><td>28.05474</td><td>292.3077</td><td>377.3126</td><td>206.8215</td><td>289.3125</td><td>215.1933</td><td>290.89</td><td>377.35</td><td>367.23</td><td>342.82</td></tr>\n",
       "\t<tr><td>35.22974</td><td>250.4006</td><td>401.3378</td><td>187.8255</td><td>258.5650</td><td>237.1507</td><td>258.60</td><td>391.48</td><td>325.71</td><td>275.22</td></tr>\n",
       "\t<tr><td>30.69649</td><td>238.3064</td><td>366.3004</td><td>205.5358</td><td>310.1737</td><td>259.3391</td><td>303.42</td><td>449.84</td><td>350.72</td><td>283.76</td></tr>\n",
       "</tbody>\n",
       "</table>\n"
      ],
      "text/latex": [
       "A matrix: 6 × 10 of type dbl\n",
       "\\begin{tabular}{llllllllll}\n",
       "\t 30.99368 & 281.4259 & 408.7245 & 221.2701 & 453.1722 & 274.1775 & 334.54 & 477.58 & 292.09 & 311.91\\\\\n",
       "\t 34.81605 & 226.9470 & 372.2084 & 229.3209 & 305.9441 & 209.6972 & 237.65 & 358.98 & 331.53 & 281.37\\\\\n",
       "\t 42.94759 & 375.2345 & 397.6901 & 191.1720 & 281.0651 & 256.7214 & 281.80 & 412.15 & 328.27 & 299.03\\\\\n",
       "\t 28.05474 & 292.3077 & 377.3126 & 206.8215 & 289.3125 & 215.1933 & 290.89 & 377.35 & 367.23 & 342.82\\\\\n",
       "\t 35.22974 & 250.4006 & 401.3378 & 187.8255 & 258.5650 & 237.1507 & 258.60 & 391.48 & 325.71 & 275.22\\\\\n",
       "\t 30.69649 & 238.3064 & 366.3004 & 205.5358 & 310.1737 & 259.3391 & 303.42 & 449.84 & 350.72 & 283.76\\\\\n",
       "\\end{tabular}\n"
      ],
      "text/markdown": [
       "\n",
       "A matrix: 6 × 10 of type dbl\n",
       "\n",
       "| 30.99368 | 281.4259 | 408.7245 | 221.2701 | 453.1722 | 274.1775 | 334.54 | 477.58 | 292.09 | 311.91 |\n",
       "| 34.81605 | 226.9470 | 372.2084 | 229.3209 | 305.9441 | 209.6972 | 237.65 | 358.98 | 331.53 | 281.37 |\n",
       "| 42.94759 | 375.2345 | 397.6901 | 191.1720 | 281.0651 | 256.7214 | 281.80 | 412.15 | 328.27 | 299.03 |\n",
       "| 28.05474 | 292.3077 | 377.3126 | 206.8215 | 289.3125 | 215.1933 | 290.89 | 377.35 | 367.23 | 342.82 |\n",
       "| 35.22974 | 250.4006 | 401.3378 | 187.8255 | 258.5650 | 237.1507 | 258.60 | 391.48 | 325.71 | 275.22 |\n",
       "| 30.69649 | 238.3064 | 366.3004 | 205.5358 | 310.1737 | 259.3391 | 303.42 | 449.84 | 350.72 | 283.76 |\n",
       "\n"
      ],
      "text/plain": [
       "     [,1]     [,2]     [,3]     [,4]     [,5]     [,6]     [,7]   [,8]   [,9]  \n",
       "[1,] 30.99368 281.4259 408.7245 221.2701 453.1722 274.1775 334.54 477.58 292.09\n",
       "[2,] 34.81605 226.9470 372.2084 229.3209 305.9441 209.6972 237.65 358.98 331.53\n",
       "[3,] 42.94759 375.2345 397.6901 191.1720 281.0651 256.7214 281.80 412.15 328.27\n",
       "[4,] 28.05474 292.3077 377.3126 206.8215 289.3125 215.1933 290.89 377.35 367.23\n",
       "[5,] 35.22974 250.4006 401.3378 187.8255 258.5650 237.1507 258.60 391.48 325.71\n",
       "[6,] 30.69649 238.3064 366.3004 205.5358 310.1737 259.3391 303.42 449.84 350.72\n",
       "     [,10] \n",
       "[1,] 311.91\n",
       "[2,] 281.37\n",
       "[3,] 299.03\n",
       "[4,] 342.82\n",
       "[5,] 275.22\n",
       "[6,] 283.76"
      ]
     },
     "metadata": {},
     "output_type": "display_data"
    },
    {
     "data": {
      "text/plain": [
       "$r\n",
       "        [,1]  [,2]  [,3]   [,4] [,5]   [,6]  [,7] [,8]  [,9] [,10]\n",
       " [1,]  1.000 0.048 0.170 -0.019 0.22 -0.033 0.089 0.20 -0.11  0.13\n",
       " [2,]  0.048 1.000 0.067  0.180 0.17  0.270 0.220 0.24  0.14  0.24\n",
       " [3,]  0.170 0.067 1.000  0.620 0.61  0.520 0.600 0.55  0.43  0.55\n",
       " [4,] -0.019 0.180 0.620  1.000 0.67  0.570 0.540 0.61  0.39  0.36\n",
       " [5,]  0.220 0.170 0.610  0.670 1.00  0.550 0.630 0.61  0.37  0.52\n",
       " [6,] -0.033 0.270 0.520  0.570 0.55  1.000 0.550 0.59  0.50  0.41\n",
       " [7,]  0.089 0.220 0.600  0.540 0.63  0.550 1.000 0.61  0.45  0.56\n",
       " [8,]  0.200 0.240 0.550  0.610 0.61  0.590 0.610 1.00  0.36  0.46\n",
       " [9,] -0.110 0.140 0.430  0.390 0.37  0.500 0.450 0.36  1.00  0.40\n",
       "[10,]  0.130 0.240 0.550  0.360 0.52  0.410 0.560 0.46  0.40  1.00\n",
       "\n",
       "$p\n",
       "       [,1]  [,2]    [,3]    [,4]    [,5]    [,6]    [,7]    [,8]    [,9]\n",
       " [1,] 0.000 0.670 1.3e-01 8.6e-01 4.5e-02 7.7e-01 4.3e-01 7.0e-02 3.3e-01\n",
       " [2,] 0.670 0.000 5.5e-01 1.0e-01 1.3e-01 1.6e-02 4.6e-02 2.8e-02 2.2e-01\n",
       " [3,] 0.130 0.550 0.0e+00 9.5e-10 1.1e-09 5.3e-07 2.7e-09 1.4e-07 6.1e-05\n",
       " [4,] 0.860 0.100 9.5e-10 0.0e+00 1.2e-11 2.5e-08 2.5e-07 1.6e-09 3.0e-04\n",
       " [5,] 0.045 0.130 1.1e-09 1.2e-11 0.0e+00 1.0e-07 3.7e-10 1.2e-09 5.7e-04\n",
       " [6,] 0.770 0.016 5.3e-07 2.5e-08 1.0e-07 0.0e+00 8.2e-08 5.8e-09 2.1e-06\n",
       " [7,] 0.430 0.046 2.7e-09 2.5e-07 3.7e-10 8.2e-08 0.0e+00 1.2e-09 2.8e-05\n",
       " [8,] 0.070 0.028 1.4e-07 1.6e-09 1.2e-09 5.8e-09 1.2e-09 0.0e+00 9.7e-04\n",
       " [9,] 0.330 0.220 6.1e-05 3.0e-04 5.7e-04 2.1e-06 2.8e-05 9.7e-04 0.0e+00\n",
       "[10,] 0.230 0.028 9.9e-08 1.1e-03 6.0e-07 1.4e-04 4.1e-08 1.7e-05 2.0e-04\n",
       "        [,10]\n",
       " [1,] 2.3e-01\n",
       " [2,] 2.8e-02\n",
       " [3,] 9.9e-08\n",
       " [4,] 1.1e-03\n",
       " [5,] 6.0e-07\n",
       " [6,] 1.4e-04\n",
       " [7,] 4.1e-08\n",
       " [8,] 1.7e-05\n",
       " [9,] 2.0e-04\n",
       "[10,] 0.0e+00\n",
       "\n",
       "$sym\n",
       "                         \n",
       " [1,] 1                  \n",
       " [2,]   1                \n",
       " [3,]     1              \n",
       " [4,]     , 1            \n",
       " [5,]     , , 1          \n",
       " [6,]     . . . 1        \n",
       " [7,]     . . , . 1      \n",
       " [8,]     . , , . , 1    \n",
       " [9,]     . . . . . . 1  \n",
       "[10,]     . . . . . . . 1\n",
       "attr(,\"legend\")\n",
       "[1] 0 ' ' 0.3 '.' 0.6 ',' 0.8 '+' 0.9 '*' 0.95 'B' 1\n"
      ]
     },
     "metadata": {},
     "output_type": "display_data"
    },
    {
     "data": {
      "image/png": "[encoded data removed]",
      "text/plain": [
       "Plot with title \"\""
      ]
     },
     "metadata": {},
     "output_type": "display_data"
    }
   ],
   "source": [
    "labmktdata = cbind(data$taxpc, data$wcon, data$wtuc, data$wtrd, data$wfir, data$wser, data$wmfg, data$wfed, data$wsta, data$wloc)\n",
    "head(labmktdata)\n",
    "source(\"http://www.sthda.com/upload/rquery_cormat.r\")\n",
    "rquery.cormat(labmktdata, type=\"full\")\n"
   ]
  },
  {
   "cell_type": "markdown",
   "metadata": {},
   "source": [
    "As expected, due to labor and market interdependencies, a lot of the wages of workers in the city are correlated with others. Note that wages are positively correlated across all industries.\n",
    "\n",
    "Note that while there is strong positive correlation (> 0.6), there is no perfect multicollinearity amongst these variables\n",
    "\n",
    "Tax revenues are hardly correlated with any of the wages, this is a little surprising! Although we do see weak correlation between taxes and certain industries.\n",
    "\n",
    "From this article: https://www.amherst.edu/media/view/121570/original/CornwellTrumbullCrime%2BElasticities.pdf\n",
    "\n",
    "We find that these variables of wage represent **average** weekly wages of the industry\n",
    "\n",
    "One variable of interest could be the total weekly wages:\n",
    "\n",
    "**wtotal = wcon + wtuc + wtrd + wfir + wser + wmfg + wfed + wsta + wloc**\n",
    "\n",
    "The argument is that if the total average weekly wages are high for a county, then the crime rate will be low (as the county is prosperous, so robberies and money related crimes would be fewer)\n",
    "\n",
    "One may wonder if its valid to add wages and include this in the model. There are a few arguments for doing this:\n",
    "1. Adding all wages shouldnt affect the regression because its the same effect as a linear combination of the betas of the individual industrial wages. In other words, the coefficient of wtotal is an aggregated version of the effect of each of the coefficients of the wage variables.\n",
    "2. Adding all wages gives an idea of the overall economic condition of the county, which would affect crime rate of the county on aggregate\n",
    "3. **Even if wages in 1 county were not distributed evenly amongst sectors (on average), but the total county is overall wealthy, that may be an argument to influence the policy makers to tax the rich!** Higher wage workers can be taxed more to provide services and benefit to the poorer wage workers in the county. If poor wage earners are now taken care of with the wealth and services from the government, there may be lesser incentive for crime in the county. This scenario is admittedly a little imaginative, but it is a plausible policy suggestion that could be put forward if wtotal is a significant variable in the model! \n",
    "\n",
    "There are a few caveats with this variable though:\n",
    "1. Total average weekly wage in a county, while succinct, may be a controversial variable to include because individual wages are aggregated into a single number and may be hiding the effects of each individual industry. For example, consider wcon, wfir and wmfg variables. If in county1, the values are 100, 200, 300 and in county2, the values are 1, 2, 597. wtotal is the same for both counties, however, the breakdown shows that the workforce in county2 is on average poorer than county1, and thus susceptible to crime. \n"
   ]
  },
  {
   "cell_type": "code",
   "execution_count": 41,
   "metadata": {},
   "outputs": [],
   "source": [
    "data$wtotal = data$wcon + data$wtuc + data$wtrd + data$wfir + data$wser + data$wmfg + data$wfed + data$wsta + data$wloc"
   ]
  },
  {
   "cell_type": "code",
   "execution_count": 42,
   "metadata": {},
   "outputs": [
    {
     "data": {
      "image/png": "[encoded data removed]",
      "text/plain": [
       "Plot with title \"Histogram of Total Wages\""
      ]
     },
     "metadata": {},
     "output_type": "display_data"
    }
   ],
   "source": [
    "# hist(data$wloc, breaks=100, main = \"Histogram of wloc\", xlab = \"wloc\", col = \"lightblue\", border = \"black\")\n",
    "\n",
    "# we see that wtotal has a few outliers but nothing too concerning\n",
    "hist(data$wtotal, breaks=100, main = \"Histogram of Total Wages\", xlab = \"wtotal\", col = \"lightblue\", border = \"black\")"
   ]
  },
  {
   "cell_type": "markdown",
   "metadata": {},
   "source": [
    "Upon closer inspection of the weekly wages by industry, most wages seem to follow the expected normal distribution.\n",
    "The only exception is \"wser\", which has one extreme positive outlier."
   ]
  },
  {
   "cell_type": "code",
   "execution_count": 43,
   "metadata": {},
   "outputs": [
    {
     "data": {
      "text/html": [
       "0.24799425878516"
      ],
      "text/latex": [
       "0.24799425878516"
      ],
      "text/markdown": [
       "0.24799425878516"
      ],
      "text/plain": [
       "[1] 0.2479943"
      ]
     },
     "metadata": {},
     "output_type": "display_data"
    },
    {
     "data": {
      "image/png": "[encoded data removed]",
      "text/plain": [
       "Plot with title \"Total Weekly Wages vs Tax Per Capita\""
      ]
     },
     "metadata": {},
     "output_type": "display_data"
    }
   ],
   "source": [
    "plot(data$wtotal, data$taxpc, main = \"Total Weekly Wages vs Tax Per Capita\", xlab = \"Total County Wages\", ylab = \"Tax per Capita\")\n",
    "cor(data$wtotal, data$taxpc)"
   ]
  },
  {
   "cell_type": "markdown",
   "metadata": {},
   "source": [
    "The graphs above show that total county wages are weakly correlated with taxpc (0.247).\n",
    "\n",
    "Total weekly wages is not unreasonably skewed in distribution (except for 5 outliers). More or less, each wage variable follows a normal distribution (as expected for population wages). **Hence, it is reasonable to use wtotal in our model.**"
   ]
  },
  {
   "cell_type": "markdown",
   "metadata": {},
   "source": [
    "## Assumptions of Multiple Linear Regression\n",
    "\n",
    "1. Parameters are linear\n",
    "2. No perfect multicollinearity\n",
    "3. IID / Random sample of observations in dataset\n",
    "4. Zero conditional mean, ie, E[u|X] = 0 (or weaker assumption of exogeneity, E(u) = 0 and Cov(X, u) = 0)\n",
    "5. Homoskedastic errors, Var(u|X) = const\n",
    "6. Normality of errors ~ N(0, sigma^2)\n",
    "\n",
    "MLR 1-4 implies unbiased OLS estimators (beta coefficients) <br/>\n",
    "MLR 1-5 (Gauss markov) implies OLS estimators are BLUE <br/>\n",
    "MLR 1-6 (Classical LM assumptions) implies OLS estimators, ie, beta_j ~ N(beta_j, var(beta_j)) - var(beta_j) given by white standard errors"
   ]
  },
  {
   "cell_type": "markdown",
   "metadata": {},
   "source": [
    "## Model Building"
   ]
  },
  {
   "cell_type": "markdown",
   "metadata": {},
   "source": [
    "Our target variable is log10(crmrate) - which is a scaled version of the log of crime rate. This gives us percentage increase of crime rate"
   ]
  },
  {
   "cell_type": "code",
   "execution_count": 44,
   "metadata": {},
   "outputs": [],
   "source": [
    "data$y = log10(data$crmrte)"
   ]
  },
  {
   "cell_type": "markdown",
   "metadata": {},
   "source": [
    "We will build 8 model specifications that consist of one or more **classes** of variables:\n",
    "\n",
    "1. Model1: Demographic + Criminal Justice + Labor Market variables\n",
    "2. Model2: Demographic + Criminal Justice variables\n",
    "3. Model3: Demographic + Labor Market variables\n",
    "4. Model4: LaborMarket + Criminal Justice variables\n",
    "5. Model5: LaborMarket variables\n",
    "6. Model6: Criminal Justice variables\n",
    "7. Model7: Demographic variables\n",
    "8. Model8: Select variables our team thinks are important causes\n",
    "\n",
    "**We will use Adjusted R-Squared, AIC, BIC for criteria of model fit**"
   ]
  },
  {
   "cell_type": "code",
   "execution_count": 45,
   "metadata": {},
   "outputs": [
    {
     "data": {
      "text/html": [
       "<style>\n",
       ".list-inline {list-style: none; margin:0; padding: 0}\n",
       ".list-inline>li {display: inline-block}\n",
       ".list-inline>li:not(:last-child)::after {content: \"\\00b7\"; padding: 0 .5ex}\n",
       "</style>\n",
       "<ol class=list-inline><li>81</li><li>35</li></ol>\n"
      ],
      "text/latex": [
       "\\begin{enumerate*}\n",
       "\\item 81\n",
       "\\item 35\n",
       "\\end{enumerate*}\n"
      ],
      "text/markdown": [
       "1. 81\n",
       "2. 35\n",
       "\n",
       "\n"
      ],
      "text/plain": [
       "[1] 81 35"
      ]
     },
     "metadata": {},
     "output_type": "display_data"
    }
   ],
   "source": [
    "dim(data)"
   ]
  },
  {
   "cell_type": "markdown",
   "metadata": {},
   "source": [
    "### Demographic Variables Considered"
   ]
  },
  {
   "cell_type": "markdown",
   "metadata": {},
   "source": [
    "**Geo variables**\n",
    "\n",
    "1. geo\n",
    "2. west_central\n",
    "3. west_urban\n",
    "4. central_urban\n",
    "5. central\n",
    "6. west\n",
    "7. urban\n",
    "8. non_urban_west_central\n",
    "\n",
    "**Population variables**\n",
    "\n",
    "9. log10_density\n",
    "10. density_ymle (possibly, pctymle)\n",
    "11. pctmin80"
   ]
  },
  {
   "cell_type": "markdown",
   "metadata": {},
   "source": [
    "### Criminal Justice Variables Considered"
   ]
  },
  {
   "cell_type": "markdown",
   "metadata": {},
   "source": [
    "All variables listed in the criminal justice category are considered without transformation\n",
    "1. prbarr\n",
    "2. prbconv\n",
    "3. prbpris\n",
    "4. avgsen\n",
    "5. polpc"
   ]
  },
  {
   "cell_type": "markdown",
   "metadata": {},
   "source": [
    "### Labor Market Variables Considered"
   ]
  },
  {
   "cell_type": "markdown",
   "metadata": {},
   "source": [
    "1. wtotal\n",
    "2. taxpc\n",
    "3. Optionally, each industy's wage"
   ]
  },
  {
   "cell_type": "markdown",
   "metadata": {},
   "source": [
    "Note that we have already run our models before and determined that one row (with ID 79) introduces very strong outlier tendencies, and has very strong influence (large cook's distance). **We will eliminate this row from consideration** because this single row has caused coefficients that were originally significant to become insignificant in on our previous model runs."
   ]
  },
  {
   "cell_type": "code",
   "execution_count": 49,
   "metadata": {},
   "outputs": [
    {
     "data": {
      "text/html": [
       "<table>\n",
       "<caption>A data.frame: 1 × 35</caption>\n",
       "<thead>\n",
       "\t<tr><th></th><th scope=col>county</th><th scope=col>year</th><th scope=col>crmrte</th><th scope=col>prbarr</th><th scope=col>prbconv</th><th scope=col>prbpris</th><th scope=col>avgsen</th><th scope=col>polpc</th><th scope=col>density</th><th scope=col>taxpc</th><th scope=col>...</th><th scope=col>geo</th><th scope=col>west_central</th><th scope=col>west_urban</th><th scope=col>central_urban</th><th scope=col>non_urban_west_central</th><th scope=col>density_min80</th><th scope=col>density_ymle</th><th scope=col>log10_density</th><th scope=col>wtotal</th><th scope=col>y</th></tr>\n",
       "\t<tr><th></th><th scope=col>&lt;int&gt;</th><th scope=col>&lt;int&gt;</th><th scope=col>&lt;dbl&gt;</th><th scope=col>&lt;dbl&gt;</th><th scope=col>&lt;dbl&gt;</th><th scope=col>&lt;dbl&gt;</th><th scope=col>&lt;dbl&gt;</th><th scope=col>&lt;dbl&gt;</th><th scope=col>&lt;dbl&gt;</th><th scope=col>&lt;dbl&gt;</th><th scope=col>...</th><th scope=col>&lt;int&gt;</th><th scope=col>&lt;int&gt;</th><th scope=col>&lt;int&gt;</th><th scope=col>&lt;int&gt;</th><th scope=col>&lt;dbl&gt;</th><th scope=col>&lt;dbl&gt;</th><th scope=col>&lt;dbl&gt;</th><th scope=col>&lt;dbl&gt;</th><th scope=col>&lt;dbl&gt;</th><th scope=col>&lt;dbl&gt;</th></tr>\n",
       "</thead>\n",
       "<tbody>\n",
       "\t<tr><th scope=row>79</th><td>173</td><td>87</td><td>0.0139937</td><td>0.530435</td><td>0.327869</td><td>0.15</td><td>6.64</td><td>0.00316379</td><td>2.03422e-05</td><td>37.72702</td><td>...</td><td>0</td><td>0</td><td>0</td><td>0</td><td>0</td><td>5.165169e-06</td><td>1.518075e-06</td><td>-4.691602</td><td>2338.455</td><td>-1.854067</td></tr>\n",
       "</tbody>\n",
       "</table>\n"
      ],
      "text/latex": [
       "A data.frame: 1 × 35\n",
       "\\begin{tabular}{r|lllllllllllllllllllll}\n",
       "  & county & year & crmrte & prbarr & prbconv & prbpris & avgsen & polpc & density & taxpc & ... & geo & west\\_central & west\\_urban & central\\_urban & non\\_urban\\_west\\_central & density\\_min80 & density\\_ymle & log10\\_density & wtotal & y\\\\\n",
       "  & <int> & <int> & <dbl> & <dbl> & <dbl> & <dbl> & <dbl> & <dbl> & <dbl> & <dbl> & ... & <int> & <int> & <int> & <int> & <dbl> & <dbl> & <dbl> & <dbl> & <dbl> & <dbl>\\\\\n",
       "\\hline\n",
       "\t79 & 173 & 87 & 0.0139937 & 0.530435 & 0.327869 & 0.15 & 6.64 & 0.00316379 & 2.03422e-05 & 37.72702 & ... & 0 & 0 & 0 & 0 & 0 & 5.165169e-06 & 1.518075e-06 & -4.691602 & 2338.455 & -1.854067\\\\\n",
       "\\end{tabular}\n"
      ],
      "text/markdown": [
       "\n",
       "A data.frame: 1 × 35\n",
       "\n",
       "| <!--/--> | county &lt;int&gt; | year &lt;int&gt; | crmrte &lt;dbl&gt; | prbarr &lt;dbl&gt; | prbconv &lt;dbl&gt; | prbpris &lt;dbl&gt; | avgsen &lt;dbl&gt; | polpc &lt;dbl&gt; | density &lt;dbl&gt; | taxpc &lt;dbl&gt; | ... ... | geo &lt;int&gt; | west_central &lt;int&gt; | west_urban &lt;int&gt; | central_urban &lt;int&gt; | non_urban_west_central &lt;dbl&gt; | density_min80 &lt;dbl&gt; | density_ymle &lt;dbl&gt; | log10_density &lt;dbl&gt; | wtotal &lt;dbl&gt; | y &lt;dbl&gt; |\n",
       "|---|---|---|---|---|---|---|---|---|---|---|---|---|---|---|---|---|---|---|---|---|---|\n",
       "| 79 | 173 | 87 | 0.0139937 | 0.530435 | 0.327869 | 0.15 | 6.64 | 0.00316379 | 2.03422e-05 | 37.72702 | ... | 0 | 0 | 0 | 0 | 0 | 5.165169e-06 | 1.518075e-06 | -4.691602 | 2338.455 | -1.854067 |\n",
       "\n"
      ],
      "text/plain": [
       "   county year crmrte    prbarr   prbconv  prbpris avgsen polpc     \n",
       "79 173    87   0.0139937 0.530435 0.327869 0.15    6.64   0.00316379\n",
       "   density     taxpc    ... geo west_central west_urban central_urban\n",
       "79 2.03422e-05 37.72702 ... 0   0            0          0            \n",
       "   non_urban_west_central density_min80 density_ymle log10_density wtotal  \n",
       "79 0                      5.165169e-06  1.518075e-06 -4.691602     2338.455\n",
       "   y        \n",
       "79 -1.854067"
      ]
     },
     "metadata": {},
     "output_type": "display_data"
    },
    {
     "data": {
      "text/html": [
       "<style>\n",
       ".list-inline {list-style: none; margin:0; padding: 0}\n",
       ".list-inline>li {display: inline-block}\n",
       ".list-inline>li:not(:last-child)::after {content: \"\\00b7\"; padding: 0 .5ex}\n",
       "</style>\n",
       "<ol class=list-inline><li>81</li><li>35</li></ol>\n"
      ],
      "text/latex": [
       "\\begin{enumerate*}\n",
       "\\item 81\n",
       "\\item 35\n",
       "\\end{enumerate*}\n"
      ],
      "text/markdown": [
       "1. 81\n",
       "2. 35\n",
       "\n",
       "\n"
      ],
      "text/plain": [
       "[1] 81 35"
      ]
     },
     "metadata": {},
     "output_type": "display_data"
    }
   ],
   "source": [
    "outlier_row = 72\n",
    "data[outlier_row, ]\n",
    "dim(data)"
   ]
  },
  {
   "cell_type": "code",
   "execution_count": 50,
   "metadata": {},
   "outputs": [
    {
     "data": {
      "text/html": [
       "<style>\n",
       ".list-inline {list-style: none; margin:0; padding: 0}\n",
       ".list-inline>li {display: inline-block}\n",
       ".list-inline>li:not(:last-child)::after {content: \"\\00b7\"; padding: 0 .5ex}\n",
       "</style>\n",
       "<ol class=list-inline><li>80</li><li>35</li></ol>\n"
      ],
      "text/latex": [
       "\\begin{enumerate*}\n",
       "\\item 80\n",
       "\\item 35\n",
       "\\end{enumerate*}\n"
      ],
      "text/markdown": [
       "1. 80\n",
       "2. 35\n",
       "\n",
       "\n"
      ],
      "text/plain": [
       "[1] 80 35"
      ]
     },
     "metadata": {},
     "output_type": "display_data"
    }
   ],
   "source": [
    "data = data[-outlier_row, ]\n",
    "dim(data)"
   ]
  },
  {
   "cell_type": "code",
   "execution_count": 105,
   "metadata": {},
   "outputs": [],
   "source": [
    "model1_all = lm(y ~ geo + west_central + west_urban + central_urban + central + west + urban + non_urban_west_central + log10_density + density_ymle + pctmin80 + prbarr + prbconv + prbpris + avgsen + polpc + wtotal + taxpc, data=data)\n",
    "\n",
    "model2_dem_cj = lm(y ~ geo + west_central + west_urban + central_urban + central + west + urban + non_urban_west_central + log10_density + density_ymle + pctmin80 + prbarr + prbconv + prbpris + avgsen + polpc, data=data)\n",
    "\n",
    "model3_dem_lbmkt = lm(y ~ geo + west_central + west_urban + central_urban + central + west + urban + non_urban_west_central + wtotal + taxpc, data=data)\n",
    "\n",
    "model4_cj_lbmkt = lm(y ~ prbarr + prbconv + prbpris + avgsen + polpc + wtotal + taxpc, data=data)\n",
    "\n",
    "model5_lbmkt = lm(y ~ wtotal + taxpc, data=data)\n",
    "\n",
    "model6_cj = lm(y ~ prbarr + prbconv + prbpris + avgsen + polpc, data=data)\n",
    "\n",
    "model7_dem = lm(y ~ geo + west_central + west_urban + central_urban + central + west + urban + non_urban_west_central + log10_density + density_ymle + pctmin80, data=data)\n",
    "\n",
    "model8_select = lm(y ~ prbarr + prbconv + polpc + log10_density + pctmin80 + pctymle + wcon + wtuc + wtrd + wfir + wser + wmfg + wfed + wsta + wloc, data=data)"
   ]
  },
  {
   "cell_type": "code",
   "execution_count": 106,
   "metadata": {},
   "outputs": [],
   "source": [
    "# set model to be evaluated here\n",
    "\n",
    "model = model8_select"
   ]
  },
  {
   "cell_type": "code",
   "execution_count": 107,
   "metadata": {
    "scrolled": false
   },
   "outputs": [
    {
     "data": {
      "text/plain": [
       "     Min.   1st Qu.    Median      Mean   3rd Qu.      Max. \n",
       "-0.215496 -0.052289  0.005834  0.000000  0.057277  0.178921 "
      ]
     },
     "metadata": {},
     "output_type": "display_data"
    },
    {
     "data": {
      "text/plain": [
       "\n",
       "\tShapiro-Wilk normality test\n",
       "\n",
       "data:  m$residuals\n",
       "W = 0.98821, p-value = 0.6787\n"
      ]
     },
     "metadata": {},
     "output_type": "display_data"
    },
    {
     "data": {
      "text/plain": [
       "\n",
       "\tstudentized Breusch-Pagan test\n",
       "\n",
       "data:  m\n",
       "BP = 20.204, df = 15, p-value = 0.1642\n"
      ]
     },
     "metadata": {},
     "output_type": "display_data"
    },
    {
     "data": {
      "image/png": "[encoded data removed]",
      "text/plain": [
       "Plot with title \"Histogram of residuals\""
      ]
     },
     "metadata": {},
     "output_type": "display_data"
    },
    {
     "data": {
      "image/png": "[encoded data removed]",
      "text/plain": [
       "Plot with title \"\""
      ]
     },
     "metadata": {},
     "output_type": "display_data"
    },
    {
     "data": {
      "image/png": "[encoded data removed]",
      "text/plain": [
       "Plot with title \"\""
      ]
     },
     "metadata": {},
     "output_type": "display_data"
    },
    {
     "data": {
      "image/png": "[encoded data removed]",
      "text/plain": [
       "Plot with title \"\""
      ]
     },
     "metadata": {},
     "output_type": "display_data"
    },
    {
     "data": {
      "image/png": "[encoded data removed]",
      "text/plain": [
       "Plot with title \"\""
      ]
     },
     "metadata": {},
     "output_type": "display_data"
    },
    {
     "data": {
      "image/png": "[encoded data removed]",
      "text/plain": [
       "Plot with title \"\""
      ]
     },
     "metadata": {},
     "output_type": "display_data"
    },
    {
     "data": {
      "image/png": "[encoded data removed]",
      "text/plain": [
       "Plot with title \"\""
      ]
     },
     "metadata": {},
     "output_type": "display_data"
    }
   ],
   "source": [
    "# We have kept all models linear in beta coefficients (MLR 1 satisfied for all models)\n",
    "# Note that we assume data has been collected as IID (MLR 3 for all models)\n",
    "evaluate_model_shapiro = function(m) {\n",
    "    paste(\"Shapiro test on residuals - test for normality (MLR 6)\")\n",
    "    # null hypothesis is residuals are normally distributed\n",
    "    shapiro.test(m$residuals)\n",
    "}\n",
    "\n",
    "evaluate_model_bp = function(m) {\n",
    "    paste(\"Breusch Pagan test - test for heteroskedasticity (MLR 5)\")\n",
    "    # null hypothesis is homoskedasticity, alt is presence of heteroskedasticity\n",
    "    bptest(m)\n",
    "}\n",
    "\n",
    "\n",
    "evaluate_model_plots = function(m) {\n",
    "\n",
    "    paste(\"Plotting residuals - test for normality of errors (MLR 6)\")\n",
    "    hist(m$residuals, breaks=50, main = \"Histogram of residuals\")\n",
    "\n",
    "    paste(\"Diagnostic plots (MLR 4,5 - Residual vs fitted), (MLR6 - QQ Plot), (MLR5 - Std. Residuals), (Cooks Dist - Outliers test)\")\n",
    "    #par(mfrow=c(3,3))\n",
    "    plot(m, which=1:6, col = 'blue')\n",
    "    \n",
    "}\n",
    "\n",
    "summary(model$residuals)\n",
    "evaluate_model_shapiro(model)\n",
    "evaluate_model_bp(model)\n",
    "evaluate_model_plots(model)"
   ]
  },
  {
   "cell_type": "code",
   "execution_count": 114,
   "metadata": {},
   "outputs": [
    {
     "data": {
      "text/plain": [
       "\n",
       "t test of coefficients:\n",
       "\n",
       "                 Estimate  Std. Error t value  Pr(>|t|)    \n",
       "(Intercept)   -1.5906e+00  2.3930e-01 -6.6468 7.721e-09 ***\n",
       "prbarr        -7.7328e-01  1.5041e-01 -5.1411 2.787e-06 ***\n",
       "prbconv       -8.8230e-02  8.8703e-02 -0.9947 0.3236489    \n",
       "polpc          1.5508e+02  7.2874e+01  2.1281 0.0371882 *  \n",
       "log10_density  2.8156e-01  7.3750e-02  3.8178 0.0003064 ***\n",
       "pctmin80       5.8191e-01  7.2228e-02  8.0566 2.562e-11 ***\n",
       "pctymle        8.4406e-01  4.1879e-01  2.0155 0.0480550 *  \n",
       "wcon           2.4129e-04  3.3739e-04  0.7152 0.4771090    \n",
       "wtuc           6.4187e-06  1.9622e-04  0.0327 0.9740071    \n",
       "wtrd           5.5792e-04  4.9402e-04  1.1293 0.2629656    \n",
       "wfir          -9.5981e-04  3.2354e-04 -2.9666 0.0042298 ** \n",
       "wser          -5.1680e-04  4.6201e-04 -1.1186 0.2675023    \n",
       "wmfg          -2.0037e-05  1.2733e-04 -0.1574 0.8754532    \n",
       "wfed           3.2019e-04  3.9242e-04  0.8159 0.4175610    \n",
       "wsta          -6.9212e-04  2.7567e-04 -2.5107 0.0145849 *  \n",
       "wloc           7.6799e-04  6.9411e-04  1.1064 0.2726764    \n",
       "---\n",
       "Signif. codes:  0 '***' 0.001 '**' 0.01 '*' 0.05 '.' 0.1 ' ' 1\n"
      ]
     },
     "metadata": {},
     "output_type": "display_data"
    },
    {
     "data": {
      "text/plain": [
       "\n",
       "Call:\n",
       "lm(formula = y ~ prbarr + prbconv + polpc + log10_density + pctmin80 + \n",
       "    pctymle + wcon + wtuc + wtrd + wfir + wser + wmfg + wfed + \n",
       "    wsta + wloc, data = data)\n",
       "\n",
       "Residuals:\n",
       "      Min        1Q    Median        3Q       Max \n",
       "-0.215496 -0.052289  0.005834  0.057277  0.178921 \n",
       "\n",
       "Coefficients:\n",
       "                Estimate Std. Error t value Pr(>|t|)    \n",
       "(Intercept)   -1.591e+00  1.927e-01  -8.256 1.14e-11 ***\n",
       "prbarr        -7.733e-01  1.145e-01  -6.753 5.03e-09 ***\n",
       "prbconv       -8.823e-02  7.442e-02  -1.186  0.24020    \n",
       "polpc          1.551e+02  2.566e+01   6.043 8.54e-08 ***\n",
       "log10_density  2.816e-01  5.199e-02   5.416 9.80e-07 ***\n",
       "pctmin80       5.819e-01  6.685e-02   8.704 1.86e-12 ***\n",
       "pctymle        8.441e-01  4.773e-01   1.768  0.08176 .  \n",
       "wcon           2.413e-04  2.981e-04   0.810  0.42120    \n",
       "wtuc           6.419e-06  1.640e-04   0.039  0.96890    \n",
       "wtrd           5.579e-04  4.874e-04   1.145  0.25657    \n",
       "wfir          -9.598e-04  3.260e-04  -2.944  0.00451 ** \n",
       "wser          -5.168e-04  3.602e-04  -1.435  0.15621    \n",
       "wmfg          -2.004e-05  1.550e-04  -0.129  0.89753    \n",
       "wfed           3.202e-04  2.849e-04   1.124  0.26528    \n",
       "wsta          -6.921e-04  2.755e-04  -2.512  0.01454 *  \n",
       "wloc           7.680e-04  5.310e-04   1.446  0.15300    \n",
       "---\n",
       "Signif. codes:  0 '***' 0.001 '**' 0.01 '*' 0.05 '.' 0.1 ' ' 1\n",
       "\n",
       "Residual standard error: 0.08789 on 64 degrees of freedom\n",
       "Multiple R-squared:  0.8676,\tAdjusted R-squared:  0.8366 \n",
       "F-statistic: 27.96 on 15 and 64 DF,  p-value: < 2.2e-16\n"
      ]
     },
     "metadata": {},
     "output_type": "display_data"
    },
    {
     "data": {
      "text/html": [
       "-145.8801078982"
      ],
      "text/latex": [
       "-145.8801078982"
      ],
      "text/markdown": [
       "-145.8801078982"
      ],
      "text/plain": [
       "[1] -145.8801"
      ]
     },
     "metadata": {},
     "output_type": "display_data"
    },
    {
     "data": {
      "text/html": [
       "-105.385655108744"
      ],
      "text/latex": [
       "-105.385655108744"
      ],
      "text/markdown": [
       "-105.385655108744"
      ],
      "text/plain": [
       "[1] -105.3857"
      ]
     },
     "metadata": {},
     "output_type": "display_data"
    },
    {
     "data": {
      "text/html": [
       "<style>\n",
       ".dl-inline {width: auto; margin:0; padding: 0}\n",
       ".dl-inline>dt, .dl-inline>dd {float: none; width: auto; display: inline-block}\n",
       ".dl-inline>dt::after {content: \":\\0020\"; padding-right: .5ex}\n",
       ".dl-inline>dt:not(:first-of-type) {padding-left: .5ex}\n",
       "</style><dl class=dl-inline><dt>prbarr</dt><dd>1.50505288546951</dd><dt>prbconv</dt><dd>1.68825979039546</dd><dt>polpc</dt><dd>1.74806434307698</dd><dt>log10_density</dt><dd>3.09309955384069</dd><dt>pctmin80</dt><dd>1.30781126085412</dd><dt>pctymle</dt><dd>1.34441186999065</dd><dt>wcon</dt><dd>2.08438309469574</dd><dt>wtuc</dt><dd>1.50119372555679</dd><dt>wtrd</dt><dd>2.8555018119423</dd><dt>wfir</dt><dd>2.78421842541077</dd><dt>wser</dt><dd>2.64939439552161</dd><dt>wmfg</dt><dd>1.76190806121813</dd><dt>wfed</dt><dd>3.00117679590698</dd><dt>wsta</dt><dd>1.40304555160198</dd><dt>wloc</dt><dd>2.3440417604181</dd></dl>\n"
      ],
      "text/latex": [
       "\\begin{description*}\n",
       "\\item[prbarr] 1.50505288546951\n",
       "\\item[prbconv] 1.68825979039546\n",
       "\\item[polpc] 1.74806434307698\n",
       "\\item[log10\\textbackslash{}\\_density] 3.09309955384069\n",
       "\\item[pctmin80] 1.30781126085412\n",
       "\\item[pctymle] 1.34441186999065\n",
       "\\item[wcon] 2.08438309469574\n",
       "\\item[wtuc] 1.50119372555679\n",
       "\\item[wtrd] 2.8555018119423\n",
       "\\item[wfir] 2.78421842541077\n",
       "\\item[wser] 2.64939439552161\n",
       "\\item[wmfg] 1.76190806121813\n",
       "\\item[wfed] 3.00117679590698\n",
       "\\item[wsta] 1.40304555160198\n",
       "\\item[wloc] 2.3440417604181\n",
       "\\end{description*}\n"
      ],
      "text/markdown": [
       "prbarr\n",
       ":   1.50505288546951prbconv\n",
       ":   1.68825979039546polpc\n",
       ":   1.74806434307698log10_density\n",
       ":   3.09309955384069pctmin80\n",
       ":   1.30781126085412pctymle\n",
       ":   1.34441186999065wcon\n",
       ":   2.08438309469574wtuc\n",
       ":   1.50119372555679wtrd\n",
       ":   2.8555018119423wfir\n",
       ":   2.78421842541077wser\n",
       ":   2.64939439552161wmfg\n",
       ":   1.76190806121813wfed\n",
       ":   3.00117679590698wsta\n",
       ":   1.40304555160198wloc\n",
       ":   2.3440417604181\n",
       "\n"
      ],
      "text/plain": [
       "       prbarr       prbconv         polpc log10_density      pctmin80 \n",
       "     1.505053      1.688260      1.748064      3.093100      1.307811 \n",
       "      pctymle          wcon          wtuc          wtrd          wfir \n",
       "     1.344412      2.084383      1.501194      2.855502      2.784218 \n",
       "         wser          wmfg          wfed          wsta          wloc \n",
       "     2.649394      1.761908      3.001177      1.403046      2.344042 "
      ]
     },
     "metadata": {},
     "output_type": "display_data"
    }
   ],
   "source": [
    "# Always use heteroskedasticity robust std errors for beta values\n",
    "# Get the coefficients for the variables in the model\n",
    "coeftest(model, vcov = vcovHC)\n",
    "summary(model)\n",
    "AIC(model)\n",
    "BIC(model)\n",
    "vif(model)"
   ]
  },
  {
   "cell_type": "code",
   "execution_count": 113,
   "metadata": {},
   "outputs": [
    {
     "data": {
      "text/plain": [
       "$r\n",
       "         [,1]     [,2]     [,3]     [,4]     [,5]     [,6]\n",
       "[1,]  1.0e+00  2.0e-01  2.0e-01  6.4e-17 -2.0e-01 -4.5e-03\n",
       "[2,]  2.0e-01  1.0e+00  4.5e-01 -1.5e-18 -2.4e-01 -1.4e-01\n",
       "[3,]  2.0e-01  4.5e-01  1.0e+00  1.7e-17 -4.4e-01 -2.0e-01\n",
       "[4,]  6.4e-17 -1.5e-18  1.7e-17  1.0e+00  3.9e-17  9.7e-17\n",
       "[5,] -2.0e-01 -2.4e-01 -4.4e-01  3.9e-17  1.0e+00  2.1e-01\n",
       "[6,] -4.5e-03 -1.4e-01 -2.0e-01  9.7e-17  2.1e-01  1.0e+00\n",
       "\n",
       "$p\n",
       "      [,1]    [,2]    [,3] [,4]    [,5]  [,6]\n",
       "[1,] 0.000 8.3e-02 7.3e-02    1 7.2e-02 0.970\n",
       "[2,] 0.083 0.0e+00 2.7e-05    1 2.9e-02 0.210\n",
       "[3,] 0.073 2.7e-05 0.0e+00    1 4.9e-05 0.077\n",
       "[4,] 1.000 1.0e+00 1.0e+00    0 1.0e+00 1.000\n",
       "[5,] 0.072 2.9e-02 4.9e-05    1 0.0e+00 0.059\n",
       "[6,] 0.970 2.1e-01 7.7e-02    1 5.9e-02 0.000\n",
       "\n",
       "$sym\n",
       "                \n",
       "[1,] 1          \n",
       "[2,]   1        \n",
       "[3,]   . 1      \n",
       "[4,]       1    \n",
       "[5,]     .   1  \n",
       "[6,]           1\n",
       "attr(,\"legend\")\n",
       "[1] 0 ' ' 0.3 '.' 0.6 ',' 0.8 '+' 0.9 '*' 0.95 'B' 1\n"
      ]
     },
     "metadata": {},
     "output_type": "display_data"
    },
    {
     "data": {
      "image/png": "[encoded data removed]",
      "text/plain": [
       "Plot with title \"\""
      ]
     },
     "metadata": {},
     "output_type": "display_data"
    }
   ],
   "source": [
    "exodata = cbind(model$residuals, data$prbarr, data$polpc, data$log10_density, data$pctmin80, data$pctymle)\n",
    "source(\"http://www.sthda.com/upload/rquery_cormat.r\")\n",
    "rquery.cormat(exodata, type=\"full\")"
   ]
  },
  {
   "cell_type": "markdown",
   "metadata": {},
   "source": [
    "### Causality Criteria\n",
    "\n",
    "We notice that the residuals mean is 0.\n",
    "We also notice that the correlation between the residuals and the \"significant\" model variables is NOT 0 for all variables (see first row in the above correlation matrix plot). \n",
    "\n",
    "We see\n",
    "1. Weak positive correlation between residuals and prbarr \n",
    "2. Weak negative correlation between residuals and polpc\n",
    "3. Weak negative correlation between residuals and pctmin80\n",
    "\n",
    "**Hence, we CANNOT strictly say that the exogeneity assumption is satisfied and hence, the effect of our model specification is associative and NOT causal**\n",
    "\n",
    "### Model Selection\n",
    "\n",
    "We decided to select a model with these variables because of a combination of reasons. \n",
    "1. We found that this model had a number of variables that align well with our intuition of what typically may affect crime rate. Variables of criminal justice, along with some demographic variables are known in literature to influence crime rate.\n",
    "2. We ran the model with labor market variables, including individual industry average wages. We found only wfir and wsta had statistical significance, but very little practical significance (beta values were very small) - so we determined labor market variables dont contribute much in influencing crime rate. When included in the model, we saw our homoskedastic assumptions and normality of error assumptions also getting satisfied. Hence, it is possible that while labor market variables dont individually influence crime rate, they could have \"joint significance\".\n",
    "3. From a policy perspective, these are the interesting variables for us. We do have some suggestions we can make around controlling for policing activity, or controlling for density and demography. Hence, it makes sense to include these variables.\n",
    "4. **According to our backward stepwise selection approach, these variables showed significance.**\n",
    "\n",
    "### Model Analysis\n",
    "\n",
    "We notice that we have coefficients and std. errors from heteroskedastic robust methods (White-Huber)\n",
    "\n",
    "We also have our regular std. errors from the summary command.\n",
    "\n",
    "**Note that the Breusch Pagan test shows presence of homoskedasticity (null hypothesis failed to be rejected)**\n",
    "\n",
    "**The Shapiro test shows that errors are normally distributed (at the 5% significance level).**\n",
    "\n",
    "We notice there are a few factors that are associated with the crime rate percentage (target is log(crmrate)):\n",
    "1. **Probability of Arrest (prbarr)** - this is fairly obvious. It has a negative coefficient, meaning that when probability of arrest goes up, crime rate percentage goes down - likely because criminals reconsider doing the crime, when they know they have a high chance of getting arrested. This variable is significant in both methods of coefficient calculation.\n",
    "2. **Percentage of Minority (pctmin80)** - the model shows that as minorities increase in a county, so does crime. This variable is significant in both modes of coefficient calculation. What may be an interesting discussion is to find out whether the minorities are victims of crime, thus leading to higher crime rate OR are minorities the perpetrators of crime, thus leading to higher crime rate?\n",
    "3. **Density (log10_density)** - as density goes up, crime rate goes up. This is consistent with our originally stated hypothesis - crowded regions have more chance for conflict and more chance of crime.\n",
    "4. **Police per Capita (polpc)** - as police per capita goes up, so does crime. Note that the coefficient is very large for this variable, indicating this variable has practical significance! This may indicate that there is overpolicing going on, leading to higher arrests and more crime.\n",
    "5. **Percentage of Young Males (pctymle)** - while the density_ymle was NOT significant, pctymle is significant at the 5% level. As young males increase in a county, crime goes up, which makes intuitive sense because young males indulge in crime. \n",
    "\n",
    "While few wage variables have statistical significance, there is very little practical significance. It will be good to do a study on their joint significance.\n",
    "\n",
    "Model fit metrics are looking good. Adjusted R squared is around 83% and AIC / BIC scores are negative (interesting to note).\n",
    "\n",
    "Meaning of negative AIC or BIC: \n",
    "\n",
    "https://www.reddit.com/r/AskStatistics/comments/5ydt2c/if_my_aic_and_bic_are_negative_does_that_mean/\n",
    "\n",
    "https://stat.ethz.ch/pipermail/r-help/2005-April/069550.html"
   ]
  },
  {
   "cell_type": "code",
   "execution_count": 111,
   "metadata": {},
   "outputs": [
    {
     "name": "stdout",
     "output_type": "stream",
     "text": [
      "\n",
      "===================================================\n",
      "                          Dependent variable:      \n",
      "                    -------------------------------\n",
      "                                   y               \n",
      "                          (1)             (2)      \n",
      "---------------------------------------------------\n",
      "prbarr                 -0.773***       -0.840**    \n",
      "                        (0.150)         (0.283)    \n",
      "                                                   \n",
      "prbconv                 -0.088          -0.170     \n",
      "                        (0.089)         (0.166)    \n",
      "                                                   \n",
      "prbpris                                 -0.028     \n",
      "                                        (0.305)    \n",
      "                                                   \n",
      "avgsen                                  -0.007     \n",
      "                                        (0.008)    \n",
      "                                                   \n",
      "polpc                  155.081*        201.999**   \n",
      "                       (72.874)        (63.955)    \n",
      "                                                   \n",
      "log10_density          0.282***                    \n",
      "                        (0.074)                    \n",
      "                                                   \n",
      "pctmin80               0.582***                    \n",
      "                        (0.072)                    \n",
      "                                                   \n",
      "pctymle                 0.844*                     \n",
      "                        (0.419)                    \n",
      "                                                   \n",
      "wcon                    0.0002                     \n",
      "                       (0.0003)                    \n",
      "                                                   \n",
      "wtuc                    0.00001                    \n",
      "                       (0.0002)                    \n",
      "                                                   \n",
      "wtrd                     0.001                     \n",
      "                       (0.0005)                    \n",
      "                                                   \n",
      "wfir                   -0.001**                    \n",
      "                       (0.0003)                    \n",
      "                                                   \n",
      "wser                    -0.001                     \n",
      "                       (0.0005)                    \n",
      "                                                   \n",
      "wmfg                   -0.00002                    \n",
      "                       (0.0001)                    \n",
      "                                                   \n",
      "wfed                    0.0003                     \n",
      "                       (0.0004)                    \n",
      "                                                   \n",
      "wsta                    -0.001*                    \n",
      "                       (0.0003)                    \n",
      "                                                   \n",
      "wloc                     0.001                     \n",
      "                        (0.001)                    \n",
      "                                                   \n",
      "Constant               -1.591***       -1.419***   \n",
      "                        (0.239)         (0.294)    \n",
      "                                                   \n",
      "---------------------------------------------------\n",
      "Observations              80              80       \n",
      "R2                       0.868           0.526     \n",
      "Adjusted R2              0.837           0.494     \n",
      "Residual Std. Error 0.088 (df = 64) 0.155 (df = 74)\n",
      "===================================================\n",
      "Note:                 *p<0.05; **p<0.01; ***p<0.001\n"
     ]
    }
   ],
   "source": [
    "# finally plot the models and compare models with stargazer \n",
    "se_model8 = sqrt(diag(vcovHC(model8_select)))\n",
    "se_model6 = sqrt(diag(vcovHC(model6_cj)))\n",
    "stargazer(model8_select, model6_cj, type = \"text\", omit.stat = \"f\",\n",
    "         se = list(se_model8, se_model6),\n",
    "         star.cutoffs = c(0.05, 0.01, 0.001))"
   ]
  },
  {
   "cell_type": "markdown",
   "metadata": {},
   "source": [
    "We decided to compare the criminal justice only model (model6_cj) against the selected model chosen by the team (model8_select). This is because in our all our models, the criminal justice variables were significant, so there definitely is a contribution of criminal justice variables on crime rate. \n",
    "\n",
    "We wanted to see, that in addition to criminal justice variables, what additional variability are we able to explain adding variables around demographics + wage.\n",
    "\n",
    "We notice that our model has a superior adjusted R-Squared value (83% vs 52%). We also notice that the criminal justice only model has polpc and prbarr as significant variables. Note that the coefficient for polpc is naturally higher in model6_cj because of the omitted variables that are biasing the value of beta."
   ]
  },
  {
   "cell_type": "markdown",
   "metadata": {},
   "source": [
    "### MLR assumptions for Select Model 8\n",
    "1. **MLR 1 - linear in parameters** is satisfied for all models based on our EDA between our target variable and explanatory variables. \n",
    "2. There is **no PERFECT multicollinearity** in the data as we have omitted variables that could have potentially shown high correlation. Also VIF score for all explanatory variables < 4. **Hence MLR 2 is also satisfied.**\n",
    "3. The data is assumed to be collected as IID (this can be assumed from the study). The authors of the study that produced this data claimed to meet this assumption (sampling method). The fact that our data consists of a slice of this data from a study may suggest that we cannot say this assumption is met. For example, it is possible that the residuals from a single year (which is the case for our dataset) might not be IID. If there is some change in these data over time, having temporal data would allow us to investigate this possibility. The geographic proximity of these counties in North Carolina further complicates our ability to assert that our residuals are IID. The authors of the original study employed advanced methods to correct for this problem. As these methods are beyond the scope of this class, we can only note that this assumption is not met. **Hence, MLR 3 criteria is assumed to be satisfied.**\n",
    "4. Looking at the residuals vs fitted values plot, **MLR 4 (Zero Conditional mean) is satisfied.** The zero conditional mean line does slope downwards on extremities, however, this could be due to lack of sufficient data points.\n",
    "5. The Breusch Pagan test shows us that the variance of errors is homoskedastic (at the 95% signifcance level). This is also confirmed from the std. residuals plot. **This shows us that MLR 5 (homoskedasticity) is satisfied.**\n",
    "6. The QQ norm plot and residual histogram plot for errors shows that errors do follow an approximate normal distribution. We also calculate the mean of errors to show that we have zero residual mean. However, there are some clear outliers represented in the data (skewed towards the lower end). **This shows that MLR 6 (normality of errors) is also satisfied.**\n",
    "7. Because we have 80 data points (> 30), we can rely on the **law of asymptotics (CLT)** to say that even if MLR 6 is not completely satisfied, the coefficients are normally distributed with unbiased true population parameter value as mean and variance given by White-Huber standard errors, ie, betaj_hat ~ N(beta_j, var(beta_j)). \n",
    "\n",
    "### Outliers\n",
    "1. We notice that there are a few outliers in our data.\n",
    "2. These also show up in the QQ plot as well as the Cooks distance plot (having cook's dist close to 1). However, we will include these in our model because its not much larger than 1.\n",
    "3. **Note that we removed row 79 which had an extremely large cook's distance and was causing problems in the model.**\n",
    "\n",
    "### Omitted Variables\n",
    "\n",
    "We pick 3 county wide variables as omitted variables:\n",
    "1. Drug_Pct - the percentage of people in the county using drugs\n",
    "2. Unemployment_Pct - the percentage of unemployed people\n",
    "3. Education_Years - the average number of years of education in the county\n",
    "\n",
    "We expect Drug_Pct to be positively correlated with crime rate.\n",
    "We expect Unemployment_Pct to be positively correlated with crime rate.\n",
    "We expect Education_Years to be negatively correlated with crime rate.\n",
    "\n",
    "For the omitted variable bias, we need to consider our modified beta values:\n",
    "\n",
    "betaj_hat = betaj_pop + beta_omitted * delta\n",
    "\n",
    "where betaj_hat is off from the population betaj by a factor of **beta_omitted * delta** \n",
    "\n",
    "**Let us say our jth variable is prbarr**\n",
    "\n",
    "In the case of (say) Education_Years, \n",
    "1. beta_omitted is negative (Education_Years should be negatively correlated with crime rate) \n",
    "2. delta is negative (prbarr should be negatively correlated with Education_Years)\n",
    "\n",
    "Hence, beta_omitted * delta is positive. Hence, betaj_hat is larger than betaj_pop. This means that we have **underestimated the effect of prbarr by omitting Education_Years from our model**. We say underestimated because coefficient for prbarr is negative and we add a positive value (beta_omitted * delta) to it. So we have drawn the coefficient for prbarr closer to 0. If Education_Years was included, then prbarr coefficient would have been further away from 0 in the negative direction."
   ]
  },
  {
   "cell_type": "markdown",
   "metadata": {},
   "source": [
    "## Conclusion"
   ]
  },
  {
   "cell_type": "markdown",
   "metadata": {},
   "source": [
    "Crime in North Carolina clearly has a complex set of root causes and effects but here we can draw a few\n",
    "conclusions that could help potentially drive several policy initiatives to reduce the crime rate in many counties.\n",
    "The first set of policy initiatives we would suggest would be around strengthening certain aspects of the criminal\n",
    "justice system.\n",
    "\n",
    "First we would suggest Increasing the ability of counties to detect and respond to a crime so that the probability of\n",
    "an arrest when a crime is committed is high could have a promising impact on the crime rate. Communicating\n",
    "those efforts to the communities may help alerting citizens to the se increased efforts may acts a deterrent. In\n",
    "addition, putting more resources in place to aid the processes required to enable a conviction such as more county\n",
    "and local prosecutors could reduce crime as there is also a fairly clear relationship between the probability of\n",
    "conviction and a lower crime rate. In short stronger deterrents on the early stages of the criminal justice appear to\n",
    "have an stronger relationship to a lower crime rate.\n",
    "\n",
    "Second, population demographics are clearly at play here. We found a relationship between a dense population\n",
    "with higher percentages of young males and minorities correlated with a higher crime rate. Policy initiative directed\n",
    "at after school programs, for young males, programs targeted to enable minorities to achieve, particularly in the\n",
    "city may divert potential criminal activity into more productive activities with life long benefits, avoiding the stigma\n",
    "of a criminal record for many.\n",
    "\n",
    "Third, economics play a role in the crime rate. Further study into degree to which both wealth and wages in\n",
    "different sectors of the population is merited. While we see a relationship between wages in certain sectors,\n",
    "building out this analysis with more data around wealth, such as the level of assets in a county, how many families\n",
    "own homes and the level and access to higher education would make such as study more fruitful.\n",
    "There are several aspects of further study that could be potentially improved by further investigation. These\n",
    "include but are not limited to the inclusion of temporal data and investigation of other criteria for a choice of full\n",
    "model beyond cross validation.\n",
    "\n",
    "North Carolina has a diverse population from coastal communities passing through Charlotte and the Research\n",
    "Triangle to the Appalachian Mountains. Tailoring policies by region motivated by the economic and justice systems\n",
    "results here could bring greater peace and deter crime for all."
   ]
  },
  {
   "cell_type": "markdown",
   "metadata": {},
   "source": [
    "## Appendix\n",
    "\n"
   ]
  },
  {
   "cell_type": "code",
   "execution_count": null,
   "metadata": {},
   "outputs": [],
   "source": [
    "ggcorr(data, size = 2)"
   ]
  },
  {
   "cell_type": "code",
   "execution_count": null,
   "metadata": {},
   "outputs": [],
   "source": []
  }
 ],
 "metadata": {
  "kernelspec": {
   "display_name": "R",
   "language": "R",
   "name": "ir"
  },
  "language_info": {
   "codemirror_mode": "r",
   "file_extension": ".r",
   "mimetype": "text/x-r-source",
   "name": "R",
   "pygments_lexer": "r",
   "version": "3.6.1"
  }
 },
 "nbformat": 4,
 "nbformat_minor": 4
}
