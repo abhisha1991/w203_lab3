{
 "cells": [
  {
   "cell_type": "markdown",
   "metadata": {},
   "source": [
    "# Lab 2 - W203 - Statistics for Data Science"
   ]
  },
  {
   "cell_type": "markdown",
   "metadata": {},
   "source": [
    "#### Submission by Jude Kavalam, Harshit Patel, Abhi Sharma"
   ]
  },
  {
   "cell_type": "markdown",
   "metadata": {},
   "source": [
    "## 1. Introduction"
   ]
  },
  {
   "cell_type": "markdown",
   "metadata": {},
   "source": [
    "### Dataset\n",
    "\n",
    "The database contains only a subset of information drawn from a larger multi-year database from a study\n",
    "performed by Cornwell and Trumball researchers from the University of Georgia and the West Virginia University\n",
    "(CT1994). From the database the subset of twenty five variables encompass roughly three types of variables,\n",
    "penal system, economic and population related variables. Each observation is from a different county in North\n",
    "Carolina. Currently there are 100 counties in North Carolina, the study appears to encompass 97 of those\n",
    "counties."
   ]
  },
  {
   "cell_type": "markdown",
   "metadata": {},
   "source": [
    "### Background\n",
    "\n",
    "There are 3 classes of variables provided to us:\n",
    "1. Labor market variables\n",
    "2. Criminal justice variables\n",
    "3. Demographic variables\n",
    "\n",
    "Both labor market and criminal justice strategies should be relevant in influencing (causing causal behavior on) crime rate. \n",
    "\n",
    "In our study, we are given variables that reflect both these factors:<br/>\n",
    "**Variables reflecting labor markets**\n",
    "\n",
    "10 taxpc - tax revenue per capita <br/>\n",
    "15 wcon - weekly wage, construction <br/>\n",
    "16 wtuc\t- wkly wge, trns, util, commun <br/>\n",
    "17 wtrd\t- wkly wge, whlesle, retail trade <br/>\n",
    "18 wfir\t- wkly wge, fin, ins, real est <br/>\n",
    "19 wser\t- wkly wge, service industry <br/>\n",
    "20 wmfg\t- wkly wge, manufacturing <br/>\n",
    "21 wfed\t- wkly wge, fed employees <br/>\n",
    "22 wsta\t- wkly wge, state employees <br/>\n",
    "23 wloc\t- wkly wge, local gov emps <br/>\n",
    "\n",
    "**Variables reflecting criminal justice system**\n",
    "\n",
    "4 prbarr - 'probability' of arrest <br/>\n",
    "5 prbconv - 'probability' of conviction <br/>\n",
    "6 prbpris - 'probability' of prison sentence <br/>\n",
    "7 avgsen - avg. sentence, days <br/>\n",
    "8 polpc - police per capita <br/>\n",
    "24 mix - offense mix: face-to-face/other <br/>\n",
    "\n",
    "There is a third class of variables that represents the demographic characteristics of the data. We expect some of these variables to have a causal effect on crime rate (say pctymle or pctmin80), but others to not intrinsically have causal effects on crime rate (say west, central, county).\n",
    "\n",
    "These variables can also possibly influence the \"labor market\" and \"criminal justice system\" variables:<br/>\n",
    "\n",
    "**Variables reflecting demographic characteristics**\n",
    "\n",
    "1 county - county identifier <br/>\n",
    "9 density - people per sq. mile <br/>\n",
    "11 west - =1 if in western N.C. <br/>\n",
    "12 central - =1 if in central N.C. <br/>\n",
    "13 urban - =1 if in SMSA <br/>\n",
    "14 pctmin80 - perc. minority, 1980 <br/>\n",
    "25 pctymle - percent young male <br/>\n",
    "\n",
    "## 2. Research Question\n",
    "\n",
    "We are interested in understanding the relationship of crime that may be caused by these 3 classes of variables (or their interactions). We are looking to see if any one class of variables is dominant in deciding crime rate in the area. Based on the variables we do identify, there may be different sets of implications for the local government from a policy perspective. For example, if we determine \"criminal justice\" variables are primarily responsible for crime rate, then our recommendations may be to change certain pre and post conviction policies to curb crime. If, on the other hand the \"labor market\" variables are primarily causing crime, that may prompt government response to create more jobs in a certain industry, for example. Its also possible that more than 1 class of variables may be at play here.  \n",
    "\n",
    "## 3. Operationalization of Model Specification\n",
    "\n",
    "Our chosen target variable is \"crmrate\", and we're trying to understand what affects this variable (or a transform of this variable).\n",
    "\n",
    "Note that we are choosing crime rate as our target variable with the intention to predict crime rate from the data. This is consistent with previous research that has been done\n",
    "\n",
    "https://www.amherst.edu/media/view/121570/original/CornwellTrumbullCrime%2BElasticities.pdf\n",
    "\n",
    "We could have argued to choose prbarr, prbconv, or prbpris as our target variables and chosen crmrate as our predictor. This is because we **CANNOT assume the direction of causality between crime rate and  eg. probability of getting arrested (prbarr)**. We can argue that an increased crime rate causes an increase in probability of arrests, just as well as arguing that prbarr causes crime rate. For now, we will choose some transformation of crime rate as our target variable.\n",
    "\n",
    "For independent variables, we will do a thorough EDA on all classes of variables to understand which variables to include in the model. We will also consider certain interaction variables to create intuitive metrics that may inform crime."
   ]
  },
  {
   "cell_type": "markdown",
   "metadata": {},
   "source": [
    "## 4. Data Loading and Cleaning"
   ]
  },
  {
   "cell_type": "code",
   "execution_count": 1,
   "metadata": {},
   "outputs": [
    {
     "name": "stdout",
     "output_type": "stream",
     "text": [
      "package 'dplyr' successfully unpacked and MD5 sums checked\n",
      "\n",
      "The downloaded binary packages are in\n",
      "\tC:\\Users\\abhisha.REDMOND\\AppData\\Local\\Temp\\RtmpauPboL\\downloaded_packages\n"
     ]
    },
    {
     "name": "stderr",
     "output_type": "stream",
     "text": [
      "Warning message:\n",
      "\"package 'dplyr' was built under R version 3.6.3\"\n",
      "Attaching package: 'dplyr'\n",
      "\n",
      "The following objects are masked from 'package:stats':\n",
      "\n",
      "    filter, lag\n",
      "\n",
      "The following objects are masked from 'package:base':\n",
      "\n",
      "    intersect, setdiff, setequal, union\n",
      "\n"
     ]
    },
    {
     "name": "stdout",
     "output_type": "stream",
     "text": [
      "package 'car' successfully unpacked and MD5 sums checked\n",
      "\n",
      "The downloaded binary packages are in\n",
      "\tC:\\Users\\abhisha.REDMOND\\AppData\\Local\\Temp\\RtmpauPboL\\downloaded_packages\n"
     ]
    },
    {
     "name": "stderr",
     "output_type": "stream",
     "text": [
      "Warning message:\n",
      "\"package 'car' was built under R version 3.6.3\"Loading required package: carData\n",
      "\n",
      "Attaching package: 'car'\n",
      "\n",
      "The following object is masked from 'package:dplyr':\n",
      "\n",
      "    recode\n",
      "\n"
     ]
    },
    {
     "name": "stdout",
     "output_type": "stream",
     "text": [
      "package 'lmtest' successfully unpacked and MD5 sums checked\n",
      "\n",
      "The downloaded binary packages are in\n",
      "\tC:\\Users\\abhisha.REDMOND\\AppData\\Local\\Temp\\RtmpauPboL\\downloaded_packages\n"
     ]
    },
    {
     "name": "stderr",
     "output_type": "stream",
     "text": [
      "Warning message:\n",
      "\"package 'lmtest' was built under R version 3.6.3\"Loading required package: zoo\n",
      "\n",
      "Attaching package: 'zoo'\n",
      "\n",
      "The following objects are masked from 'package:base':\n",
      "\n",
      "    as.Date, as.Date.numeric\n",
      "\n"
     ]
    },
    {
     "name": "stdout",
     "output_type": "stream",
     "text": [
      "package 'sandwich' successfully unpacked and MD5 sums checked\n",
      "\n",
      "The downloaded binary packages are in\n",
      "\tC:\\Users\\abhisha.REDMOND\\AppData\\Local\\Temp\\RtmpauPboL\\downloaded_packages\n"
     ]
    },
    {
     "name": "stderr",
     "output_type": "stream",
     "text": [
      "Warning message:\n",
      "\"package 'sandwich' was built under R version 3.6.3\""
     ]
    },
    {
     "name": "stdout",
     "output_type": "stream",
     "text": [
      "package 'corrplot' successfully unpacked and MD5 sums checked\n",
      "\n",
      "The downloaded binary packages are in\n",
      "\tC:\\Users\\abhisha.REDMOND\\AppData\\Local\\Temp\\RtmpauPboL\\downloaded_packages\n"
     ]
    },
    {
     "name": "stderr",
     "output_type": "stream",
     "text": [
      "Warning message:\n",
      "\"package 'corrplot' was built under R version 3.6.3\"corrplot 0.84 loaded\n"
     ]
    },
    {
     "name": "stdout",
     "output_type": "stream",
     "text": [
      "package 'stargazer' successfully unpacked and MD5 sums checked\n",
      "\n",
      "The downloaded binary packages are in\n",
      "\tC:\\Users\\abhisha.REDMOND\\AppData\\Local\\Temp\\RtmpauPboL\\downloaded_packages\n"
     ]
    },
    {
     "name": "stderr",
     "output_type": "stream",
     "text": [
      "\n",
      "Please cite as: \n",
      "\n",
      " Hlavac, Marek (2018). stargazer: Well-Formatted Regression and Summary Statistics Tables.\n",
      " R package version 5.2.2. https://CRAN.R-project.org/package=stargazer \n",
      "\n"
     ]
    },
    {
     "name": "stdout",
     "output_type": "stream",
     "text": [
      "package 'curl' successfully unpacked and MD5 sums checked\n"
     ]
    },
    {
     "name": "stderr",
     "output_type": "stream",
     "text": [
      "Warning message:\n",
      "\"cannot remove prior installation of package 'curl'\"Warning message in file.copy(savedcopy, lib, recursive = TRUE):\n",
      "\"problem copying C:\\Users\\abhisha.REDMOND\\AppData\\Local\\Continuum\\anaconda3\\envs\\r-env\\Lib\\R\\library\\00LOCK\\curl\\libs\\x64\\curl.dll to C:\\Users\\abhisha.REDMOND\\AppData\\Local\\Continuum\\anaconda3\\envs\\r-env\\Lib\\R\\library\\curl\\libs\\x64\\curl.dll: Permission denied\"Warning message:\n",
      "\"restored 'curl'\""
     ]
    },
    {
     "name": "stdout",
     "output_type": "stream",
     "text": [
      "\n",
      "The downloaded binary packages are in\n",
      "\tC:\\Users\\abhisha.REDMOND\\AppData\\Local\\Temp\\RtmpauPboL\\downloaded_packages\n",
      "package 'data.table' successfully unpacked and MD5 sums checked\n"
     ]
    },
    {
     "name": "stderr",
     "output_type": "stream",
     "text": [
      "Warning message:\n",
      "\"cannot remove prior installation of package 'data.table'\"Warning message in file.copy(savedcopy, lib, recursive = TRUE):\n",
      "\"problem copying C:\\Users\\abhisha.REDMOND\\AppData\\Local\\Continuum\\anaconda3\\envs\\r-env\\Lib\\R\\library\\00LOCK\\data.table\\libs\\x64\\datatable.dll to C:\\Users\\abhisha.REDMOND\\AppData\\Local\\Continuum\\anaconda3\\envs\\r-env\\Lib\\R\\library\\data.table\\libs\\x64\\datatable.dll: Permission denied\"Warning message:\n",
      "\"restored 'data.table'\""
     ]
    },
    {
     "name": "stdout",
     "output_type": "stream",
     "text": [
      "\n",
      "The downloaded binary packages are in\n",
      "\tC:\\Users\\abhisha.REDMOND\\AppData\\Local\\Temp\\RtmpauPboL\\downloaded_packages\n"
     ]
    },
    {
     "name": "stderr",
     "output_type": "stream",
     "text": [
      "\n",
      "Attaching package: 'data.table'\n",
      "\n",
      "The following objects are masked from 'package:dplyr':\n",
      "\n",
      "    between, first, last\n",
      "\n"
     ]
    },
    {
     "name": "stdout",
     "output_type": "stream",
     "text": [
      "package 'haven' successfully unpacked and MD5 sums checked\n"
     ]
    },
    {
     "name": "stderr",
     "output_type": "stream",
     "text": [
      "Warning message:\n",
      "\"cannot remove prior installation of package 'haven'\"Warning message in file.copy(savedcopy, lib, recursive = TRUE):\n",
      "\"problem copying C:\\Users\\abhisha.REDMOND\\AppData\\Local\\Continuum\\anaconda3\\envs\\r-env\\Lib\\R\\library\\00LOCK\\haven\\libs\\x64\\haven.dll to C:\\Users\\abhisha.REDMOND\\AppData\\Local\\Continuum\\anaconda3\\envs\\r-env\\Lib\\R\\library\\haven\\libs\\x64\\haven.dll: Permission denied\"Warning message:\n",
      "\"restored 'haven'\""
     ]
    },
    {
     "name": "stdout",
     "output_type": "stream",
     "text": [
      "\n",
      "The downloaded binary packages are in\n",
      "\tC:\\Users\\abhisha.REDMOND\\AppData\\Local\\Temp\\RtmpauPboL\\downloaded_packages\n"
     ]
    },
    {
     "name": "stderr",
     "output_type": "stream",
     "text": [
      "Warning message:\n",
      "\"package 'haven' was built under R version 3.6.3\""
     ]
    },
    {
     "name": "stdout",
     "output_type": "stream",
     "text": [
      "package 'readxl' successfully unpacked and MD5 sums checked\n"
     ]
    },
    {
     "name": "stderr",
     "output_type": "stream",
     "text": [
      "Warning message:\n",
      "\"cannot remove prior installation of package 'readxl'\"Warning message in file.copy(savedcopy, lib, recursive = TRUE):\n",
      "\"problem copying C:\\Users\\abhisha.REDMOND\\AppData\\Local\\Continuum\\anaconda3\\envs\\r-env\\Lib\\R\\library\\00LOCK\\readxl\\libs\\x64\\readxl.dll to C:\\Users\\abhisha.REDMOND\\AppData\\Local\\Continuum\\anaconda3\\envs\\r-env\\Lib\\R\\library\\readxl\\libs\\x64\\readxl.dll: Permission denied\"Warning message:\n",
      "\"restored 'readxl'\""
     ]
    },
    {
     "name": "stdout",
     "output_type": "stream",
     "text": [
      "\n",
      "The downloaded binary packages are in\n",
      "\tC:\\Users\\abhisha.REDMOND\\AppData\\Local\\Temp\\RtmpauPboL\\downloaded_packages\n",
      "package 'ggplot2' successfully unpacked and MD5 sums checked\n",
      "\n",
      "The downloaded binary packages are in\n",
      "\tC:\\Users\\abhisha.REDMOND\\AppData\\Local\\Temp\\RtmpauPboL\\downloaded_packages\n"
     ]
    },
    {
     "name": "stderr",
     "output_type": "stream",
     "text": [
      "Warning message:\n",
      "\"package 'ggplot2' was built under R version 3.6.3\"Warning message:\n",
      "\"package 'corrplot' is in use and will not be installed\""
     ]
    },
    {
     "name": "stdout",
     "output_type": "stream",
     "text": [
      "package 'GGally' successfully unpacked and MD5 sums checked\n",
      "\n",
      "The downloaded binary packages are in\n",
      "\tC:\\Users\\abhisha.REDMOND\\AppData\\Local\\Temp\\RtmpauPboL\\downloaded_packages\n"
     ]
    },
    {
     "name": "stderr",
     "output_type": "stream",
     "text": [
      "Warning message:\n",
      "\"package 'GGally' was built under R version 3.6.3\"Registered S3 method overwritten by 'GGally':\n",
      "  method from   \n",
      "  +.gg   ggplot2\n",
      "\n",
      "Attaching package: 'GGally'\n",
      "\n",
      "The following object is masked from 'package:dplyr':\n",
      "\n",
      "    nasa\n",
      "\n"
     ]
    }
   ],
   "source": [
    "install.packages(\"dplyr\")\n",
    "library(dplyr)\n",
    "install.packages(\"car\")\n",
    "library(car)\n",
    "install.packages(\"lmtest\")\n",
    "library(lmtest)\n",
    "install.packages(\"sandwich\")\n",
    "library(sandwich)\n",
    "install.packages(\"corrplot\")\n",
    "library(corrplot)\n",
    "install.packages(\"stargazer\")\n",
    "library(stargazer)\n",
    "install.packages(\"curl\")\n",
    "library(curl)\n",
    "install.packages(\"data.table\")\n",
    "library(data.table)\n",
    "install.packages(\"haven\")\n",
    "library(haven)\n",
    "install.packages(\"readxl\")\n",
    "library(readxl)\n",
    "install.packages(\"ggplot2\")\n",
    "library(ggplot2)\n",
    "install.packages(\"corrplot\")\n",
    "library(corrplot)\n",
    "install.packages(\"GGally\")\n",
    "library(GGally)\n",
    "# set standard height and width for images displayed\n",
    "options(repr.plot.width=5, repr.plot.height=5)\n"
   ]
  },
  {
   "cell_type": "code",
   "execution_count": 2,
   "metadata": {},
   "outputs": [],
   "source": [
    "get_data = function() {\n",
    "    wd = getwd()\n",
    "    return (read.csv(paste(wd, \"/\", \"crime_v2.csv\", sep=\"\")))    \n",
    "}"
   ]
  },
  {
   "cell_type": "code",
   "execution_count": 7,
   "metadata": {},
   "outputs": [],
   "source": [
    "data = get_data()\n",
    "# head(data)"
   ]
  },
  {
   "cell_type": "code",
   "execution_count": 8,
   "metadata": {},
   "outputs": [
    {
     "data": {
      "text/html": [
       "<style>\n",
       ".dl-inline {width: auto; margin:0; padding: 0}\n",
       ".dl-inline>dt, .dl-inline>dd {float: none; width: auto; display: inline-block}\n",
       ".dl-inline>dt::after {content: \":\\0020\"; padding-right: .5ex}\n",
       ".dl-inline>dt:not(:first-of-type) {padding-left: .5ex}\n",
       "</style><dl class=dl-inline><dt>county</dt><dd>'integer'</dd><dt>year</dt><dd>'integer'</dd><dt>crmrte</dt><dd>'numeric'</dd><dt>prbarr</dt><dd>'numeric'</dd><dt>prbconv</dt><dd>'factor'</dd><dt>prbpris</dt><dd>'numeric'</dd><dt>avgsen</dt><dd>'numeric'</dd><dt>polpc</dt><dd>'numeric'</dd><dt>density</dt><dd>'numeric'</dd><dt>taxpc</dt><dd>'numeric'</dd><dt>west</dt><dd>'integer'</dd><dt>central</dt><dd>'integer'</dd><dt>urban</dt><dd>'integer'</dd><dt>pctmin80</dt><dd>'numeric'</dd><dt>wcon</dt><dd>'numeric'</dd><dt>wtuc</dt><dd>'numeric'</dd><dt>wtrd</dt><dd>'numeric'</dd><dt>wfir</dt><dd>'numeric'</dd><dt>wser</dt><dd>'numeric'</dd><dt>wmfg</dt><dd>'numeric'</dd><dt>wfed</dt><dd>'numeric'</dd><dt>wsta</dt><dd>'numeric'</dd><dt>wloc</dt><dd>'numeric'</dd><dt>mix</dt><dd>'numeric'</dd><dt>pctymle</dt><dd>'numeric'</dd></dl>\n"
      ],
      "text/latex": [
       "\\begin{description*}\n",
       "\\item[county] 'integer'\n",
       "\\item[year] 'integer'\n",
       "\\item[crmrte] 'numeric'\n",
       "\\item[prbarr] 'numeric'\n",
       "\\item[prbconv] 'factor'\n",
       "\\item[prbpris] 'numeric'\n",
       "\\item[avgsen] 'numeric'\n",
       "\\item[polpc] 'numeric'\n",
       "\\item[density] 'numeric'\n",
       "\\item[taxpc] 'numeric'\n",
       "\\item[west] 'integer'\n",
       "\\item[central] 'integer'\n",
       "\\item[urban] 'integer'\n",
       "\\item[pctmin80] 'numeric'\n",
       "\\item[wcon] 'numeric'\n",
       "\\item[wtuc] 'numeric'\n",
       "\\item[wtrd] 'numeric'\n",
       "\\item[wfir] 'numeric'\n",
       "\\item[wser] 'numeric'\n",
       "\\item[wmfg] 'numeric'\n",
       "\\item[wfed] 'numeric'\n",
       "\\item[wsta] 'numeric'\n",
       "\\item[wloc] 'numeric'\n",
       "\\item[mix] 'numeric'\n",
       "\\item[pctymle] 'numeric'\n",
       "\\end{description*}\n"
      ],
      "text/markdown": [
       "county\n",
       ":   'integer'year\n",
       ":   'integer'crmrte\n",
       ":   'numeric'prbarr\n",
       ":   'numeric'prbconv\n",
       ":   'factor'prbpris\n",
       ":   'numeric'avgsen\n",
       ":   'numeric'polpc\n",
       ":   'numeric'density\n",
       ":   'numeric'taxpc\n",
       ":   'numeric'west\n",
       ":   'integer'central\n",
       ":   'integer'urban\n",
       ":   'integer'pctmin80\n",
       ":   'numeric'wcon\n",
       ":   'numeric'wtuc\n",
       ":   'numeric'wtrd\n",
       ":   'numeric'wfir\n",
       ":   'numeric'wser\n",
       ":   'numeric'wmfg\n",
       ":   'numeric'wfed\n",
       ":   'numeric'wsta\n",
       ":   'numeric'wloc\n",
       ":   'numeric'mix\n",
       ":   'numeric'pctymle\n",
       ":   'numeric'\n",
       "\n"
      ],
      "text/plain": [
       "   county      year    crmrte    prbarr   prbconv   prbpris    avgsen     polpc \n",
       "\"integer\" \"integer\" \"numeric\" \"numeric\"  \"factor\" \"numeric\" \"numeric\" \"numeric\" \n",
       "  density     taxpc      west   central     urban  pctmin80      wcon      wtuc \n",
       "\"numeric\" \"numeric\" \"integer\" \"integer\" \"integer\" \"numeric\" \"numeric\" \"numeric\" \n",
       "     wtrd      wfir      wser      wmfg      wfed      wsta      wloc       mix \n",
       "\"numeric\" \"numeric\" \"numeric\" \"numeric\" \"numeric\" \"numeric\" \"numeric\" \"numeric\" \n",
       "  pctymle \n",
       "\"numeric\" "
      ]
     },
     "metadata": {},
     "output_type": "display_data"
    }
   ],
   "source": [
    "sapply(data, class)"
   ]
  },
  {
   "cell_type": "markdown",
   "metadata": {},
   "source": [
    "#### We notice there is a factor column for prbconv, we convert this to numeric, as has been done with prbarr and prbpris. We also observe that there are few missing values for prbconv. These will be removed later"
   ]
  },
  {
   "cell_type": "code",
   "execution_count": 10,
   "metadata": {},
   "outputs": [
    {
     "name": "stderr",
     "output_type": "stream",
     "text": [
      "Warning message in eval(expr, envir, enclos):\n",
      "\"NAs introduced by coercion\""
     ]
    }
   ],
   "source": [
    "data$prbconv = as.numeric(as.character(data$prbconv))"
   ]
  },
  {
   "cell_type": "markdown",
   "metadata": {},
   "source": [
    "Notice that the 6 rows of NA values above are coming because prbconv is NA in those 6 rows"
   ]
  },
  {
   "cell_type": "code",
   "execution_count": 12,
   "metadata": {},
   "outputs": [],
   "source": [
    "# we observe all values have NA in them\n",
    "# remove data where there are NA in rows\n",
    "data = data[complete.cases(data), ]"
   ]
  },
  {
   "cell_type": "code",
   "execution_count": 13,
   "metadata": {},
   "outputs": [
    {
     "data": {
      "text/html": [
       "<style>\n",
       ".list-inline {list-style: none; margin:0; padding: 0}\n",
       ".list-inline>li {display: inline-block}\n",
       ".list-inline>li:not(:last-child)::after {content: \"\\00b7\"; padding: 0 .5ex}\n",
       "</style>\n",
       "<ol class=list-inline><li>91</li><li>25</li></ol>\n"
      ],
      "text/latex": [
       "\\begin{enumerate*}\n",
       "\\item 91\n",
       "\\item 25\n",
       "\\end{enumerate*}\n"
      ],
      "text/markdown": [
       "1. 91\n",
       "2. 25\n",
       "\n",
       "\n"
      ],
      "text/plain": [
       "[1] 91 25"
      ]
     },
     "metadata": {},
     "output_type": "display_data"
    }
   ],
   "source": [
    "dim(data)"
   ]
  },
  {
   "cell_type": "markdown",
   "metadata": {},
   "source": [
    "We observe we have removed the 6 rows and now we have 91 rows."
   ]
  },
  {
   "cell_type": "markdown",
   "metadata": {},
   "source": [
    "### Exploratory Data Analysis"
   ]
  },
  {
   "cell_type": "markdown",
   "metadata": {},
   "source": [
    "### EDA Target Variable"
   ]
  },
  {
   "cell_type": "code",
   "execution_count": 14,
   "metadata": {},
   "outputs": [
    {
     "data": {
      "text/plain": [
       "    Min.  1st Qu.   Median     Mean  3rd Qu.     Max. \n",
       "0.005533 0.020927 0.029986 0.033400 0.039642 0.098966 "
      ]
     },
     "metadata": {},
     "output_type": "display_data"
    },
    {
     "data": {
      "image/png": "[encoded data removed]",
      "text/plain": [
       "Plot with title \"Histogram of crime rate\""
      ]
     },
     "metadata": {},
     "output_type": "display_data"
    },
    {
     "data": {
      "image/png": "[encoded data removed]",
      "text/plain": [
       "Plot with title \"Histogram of crime rate (log)\""
      ]
     },
     "metadata": {},
     "output_type": "display_data"
    }
   ],
   "source": [
    "summary(data$crmrte)\n",
    "hist(data$crmrte, breaks=100, main = \"Histogram of crime rate\", xlab = \"Crime Rate\", col = \"lightblue\", border = \"black\")\n",
    "hist(log10(data$crmrte), breaks=100, main = \"Histogram of crime rate (log)\", xlab = \"Crime Rate (log)\", col = \"lightblue\", border = \"black\")"
   ]
  },
  {
   "cell_type": "markdown",
   "metadata": {},
   "source": [
    "#### Note that if we take a log version of the crime rate, we get a nice normally distributed curve. Hence, we will consider our target variable to be log10(crmrte) "
   ]
  },
  {
   "cell_type": "code",
   "execution_count": 37,
   "metadata": {},
   "outputs": [],
   "source": [
    "data$y = log10(data$crmrte)"
   ]
  },
  {
   "cell_type": "markdown",
   "metadata": {},
   "source": [
    "### EDA Geographical Variables (Demographic)"
   ]
  },
  {
   "cell_type": "markdown",
   "metadata": {},
   "source": [
    "**One thing to consider would be to consider the effects of geography on crime rate.**\n",
    "\n",
    "There are 3 variables which help us categorize geography - west, central and urban. These are all dummy variables that represent what region characteristics the data point has. Hence, one variable of interest could be an interaction variable: \n",
    "\n",
    "#### geo = west  x  central  x  urban\n",
    "\n",
    "Note that because we include this new interaction variable, we have to include all lower order interactions as well.\n"
   ]
  },
  {
   "cell_type": "code",
   "execution_count": 16,
   "metadata": {},
   "outputs": [],
   "source": [
    "data$geo = data$west * data$central * data$urban\n",
    "data$west_central = data$west * data$central\n",
    "data$west_urban = data$west * data$urban\n",
    "data$central_urban = data$central * data$urban\n",
    "\n",
    "# also include a variable to capture non urban, non west, non central region (west=0, central=0, urban=0)\n",
    "geo_arr = data$west + data$central + data$urban\n",
    "# hist(geo_arr, , breaks=100, main = \"Histogram of Urban, Central, West Combo\", xlab = \"Sum(Urban, West, Central)\", col = \"lightblue\", border = \"black\")\n",
    "# notice there are over 30 counties that are non urban, non west, non central\n",
    "data$non_urban_west_central = ifelse(geo_arr >= 1, 0, 1)"
   ]
  },
  {
   "cell_type": "code",
   "execution_count": null,
   "metadata": {},
   "outputs": [],
   "source": [
    "# plot(data$urban, data$density, main = \"Urban vs Population Density\", xlab = \"Urban\", ylab = \"Population Density\" )"
   ]
  },
  {
   "cell_type": "markdown",
   "metadata": {},
   "source": [
    "We don't have a hypothesis around geography, but one can make an argument that urban areas are more susceptible for crime, given that they may be more densely populated.\n",
    "\n",
    "Also, we notice that there are no regions that are urban, west and central (see graph above for sum(urban, west, central)). There are also many areas (over 30 counties) that are neither urban, nor west nor central. This gives a basic idea of geographical characteristics of the region"
   ]
  },
  {
   "cell_type": "code",
   "execution_count": null,
   "metadata": {},
   "outputs": [],
   "source": [
    "# sample EDA for the dummy variables\n",
    "summary(data$urban)\n",
    "unique(data$urban)"
   ]
  },
  {
   "cell_type": "code",
   "execution_count": 17,
   "metadata": {},
   "outputs": [
    {
     "data": {
      "text/html": [
       "'Urban: 8'"
      ],
      "text/latex": [
       "'Urban: 8'"
      ],
      "text/markdown": [
       "'Urban: 8'"
      ],
      "text/plain": [
       "[1] \"Urban: 8\""
      ]
     },
     "metadata": {},
     "output_type": "display_data"
    },
    {
     "data": {
      "text/html": [
       "'West: 23'"
      ],
      "text/latex": [
       "'West: 23'"
      ],
      "text/markdown": [
       "'West: 23'"
      ],
      "text/plain": [
       "[1] \"West: 23\""
      ]
     },
     "metadata": {},
     "output_type": "display_data"
    },
    {
     "data": {
      "text/html": [
       "'Central: 34'"
      ],
      "text/latex": [
       "'Central: 34'"
      ],
      "text/markdown": [
       "'Central: 34'"
      ],
      "text/plain": [
       "[1] \"Central: 34\""
      ]
     },
     "metadata": {},
     "output_type": "display_data"
    },
    {
     "data": {
      "text/html": [
       "'Central + West: 1'"
      ],
      "text/latex": [
       "'Central + West: 1'"
      ],
      "text/markdown": [
       "'Central + West: 1'"
      ],
      "text/plain": [
       "[1] \"Central + West: 1\""
      ]
     },
     "metadata": {},
     "output_type": "display_data"
    },
    {
     "data": {
      "text/html": [
       "'Central + Urban: 5'"
      ],
      "text/latex": [
       "'Central + Urban: 5'"
      ],
      "text/markdown": [
       "'Central + Urban: 5'"
      ],
      "text/plain": [
       "[1] \"Central + Urban: 5\""
      ]
     },
     "metadata": {},
     "output_type": "display_data"
    },
    {
     "data": {
      "text/html": [
       "'Urban + West: 1'"
      ],
      "text/latex": [
       "'Urban + West: 1'"
      ],
      "text/markdown": [
       "'Urban + West: 1'"
      ],
      "text/plain": [
       "[1] \"Urban + West: 1\""
      ]
     },
     "metadata": {},
     "output_type": "display_data"
    },
    {
     "data": {
      "text/html": [
       "'Urban + West + Central: 0'"
      ],
      "text/latex": [
       "'Urban + West + Central: 0'"
      ],
      "text/markdown": [
       "'Urban + West + Central: 0'"
      ],
      "text/plain": [
       "[1] \"Urban + West + Central: 0\""
      ]
     },
     "metadata": {},
     "output_type": "display_data"
    },
    {
     "data": {
      "text/html": [
       "'NON Urban + NON West + NON Central: 33'"
      ],
      "text/latex": [
       "'NON Urban + NON West + NON Central: 33'"
      ],
      "text/markdown": [
       "'NON Urban + NON West + NON Central: 33'"
      ],
      "text/plain": [
       "[1] \"NON Urban + NON West + NON Central: 33\""
      ]
     },
     "metadata": {},
     "output_type": "display_data"
    }
   ],
   "source": [
    "# Analysis of interaction term \"geo\"\n",
    "paste(\"Urban:\", sum(data$urban))\n",
    "paste(\"West:\", sum(data$west))\n",
    "paste(\"Central:\", sum(data$central))\n",
    "\n",
    "paste(\"Central + West:\", sum(data$central * data$west))\n",
    "paste(\"Central + Urban:\", sum(data$central * data$urban))\n",
    "paste(\"Urban + West:\", sum(data$urban * data$west))\n",
    "\n",
    "paste(\"Urban + West + Central:\", sum(data$urban * data$west * data$central))\n",
    "paste(\"NON Urban + NON West + NON Central:\", sum(data$non_urban_west_central))"
   ]
  },
  {
   "cell_type": "markdown",
   "metadata": {},
   "source": [
    "**For now, we will include the above variables in our model to observe if there are any special effects on crime based on geo**"
   ]
  },
  {
   "cell_type": "markdown",
   "metadata": {},
   "source": [
    "### EDA Population Variables (Demographic)"
   ]
  },
  {
   "cell_type": "markdown",
   "metadata": {},
   "source": [
    "**We decide to add 2 interaction variables:**\n",
    "1. density x pctymle - this gives the density of young males in the county (density_ymle)\n",
    "2. density x pctmin80 - this gives the density of minority in the county (density_min80)\n",
    "\n",
    "These seem to be a good representation of the density of a population in the county, which is a more intuitive way to think about demography (people / unit area), rather than thinking in percentage terms only. Hence, we will add these variables into our discussion as well.\n",
    "\n",
    "**Note that this assumes that the percentage variables are uniformly distributed over the county and that density x pct will give the density of the population of interest in the county.**\n",
    "\n",
    "Also note that pctymle is already given in fractional terms (between 0 and 1), whereas pctmin80 is given in percentage (between 0 and 100). For sake of uniformity, we will convert pctmin80 to 0-1 scale"
   ]
  },
  {
   "cell_type": "code",
   "execution_count": 18,
   "metadata": {},
   "outputs": [],
   "source": [
    "data$pctmin80 = data$pctmin80 * 1.0 / 100\n",
    "# summary(data$pctmin80)"
   ]
  },
  {
   "cell_type": "code",
   "execution_count": 19,
   "metadata": {},
   "outputs": [],
   "source": [
    "data$density_min80 = data$density * data$pctmin80 \n",
    "data$density_ymle = data$density * data$pctymle"
   ]
  },
  {
   "cell_type": "code",
   "execution_count": 20,
   "metadata": {},
   "outputs": [
    {
     "data": {
      "text/plain": [
       "   Min. 1st Qu.  Median    Mean 3rd Qu.    Max. \n",
       "0.00002 0.54741 0.96226 1.42884 1.56824 8.82765 "
      ]
     },
     "metadata": {},
     "output_type": "display_data"
    },
    {
     "data": {
      "image/png": "[encoded data removed]",
      "text/plain": [
       "Plot with title \"Histogram of Density\""
      ]
     },
     "metadata": {},
     "output_type": "display_data"
    },
    {
     "data": {
      "image/png": "[encoded data removed]",
      "text/plain": [
       "Plot with title \"Histogram of Density (log)\""
      ]
     },
     "metadata": {},
     "output_type": "display_data"
    }
   ],
   "source": [
    "summary(data$density)\n",
    "hist(data$density, , breaks=100, main = \"Histogram of Density\", xlab = \"Density\", col = \"lightblue\", border = \"black\")\n",
    "hist(log10(data$density), , breaks=100, main = \"Histogram of Density (log)\", xlab = \"Density (log)\", col = \"lightblue\", border = \"black\")\n"
   ]
  },
  {
   "cell_type": "markdown",
   "metadata": {},
   "source": [
    "Taking the log(Density) makes the data much more normal and is a better choice for our density variable. \n",
    "\n",
    "Doing a histogram of pctmin80 and pctymle (or their log transformations) - didnt reveal any interesting normal distributions. We notice that the values for the percentages lie within expected range (0 to 1) - see below. So we will continue to explore further.\n",
    "\n",
    "Next lets do a correlation analysis on all the variables of population identified so far."
   ]
  },
  {
   "cell_type": "code",
   "execution_count": 31,
   "metadata": {},
   "outputs": [],
   "source": [
    "data$log10_density = log10(data$density)"
   ]
  },
  {
   "cell_type": "code",
   "execution_count": 39,
   "metadata": {},
   "outputs": [
    {
     "data": {
      "image/png": "[encoded data removed]",
      "text/plain": [
       "plot without title"
      ]
     },
     "metadata": {},
     "output_type": "display_data"
    }
   ],
   "source": [
    "ggcorr(data[, c(\"y\",\"log10_density\", \"pctmin80\", \"pctymle\", \"density_min80\", \"density_ymle\")], size = 3, label=TRUE)"
   ]
  },
  {
   "cell_type": "markdown",
   "metadata": {},
   "source": [
    "#### We observe strong positive correlation between several population variables\n",
    "\n",
    "Here y is log10(crmrte)\n",
    "\n",
    "Notably:\n",
    "1. 0.39 between pctmin80 and density_ymale\n",
    "2. 0.48 between pctymle and density_min80\n",
    "3. 0.56 between pctymle and density_ymle\n",
    "4. 0.88 between density_min80 and density_ymle\n",
    "\n",
    "We will include these variables in our specifications with the following expected causal effects:\n",
    "1. If density is high, then crime rate is expected to be high. This is simply because a larger set of people in one area is bound to create more conflict and crime in the community.\n",
    "2. If percentage of young males are high in a region, we expect more crime. This is because younger people are easier to influence and may engage more in petty crimes.\n",
    "\n",
    "There may be a concern including both density_min80 and density_ymle because they have high correlation (0.88) - leading to possible multicollinearity. This also shows that the density of younger male populations is highly correlated across counties with density of minority populations. Keep in mind, pctymle and pctmin80 are hardly correlated with each other. But their density equivalents (density_min80 and density_ymle) are highly correlated, which is an interesting observation. This could be because of the underlying common density variable in the interaction. For now, we will keep density_ymale in our model, as a measure of how many young males per unit area exist in each county. We will NOT include density_min80 because we are concerned about multicollinearity. To represent the minority percentage variable, we keep pctmin80 in the model.\n",
    "\n",
    "**For now, we will include \"log10(density)\", \"pctmin80\" and \"density_ymle\" variables in the model to observe their effects**"
   ]
  },
  {
   "cell_type": "markdown",
   "metadata": {},
   "source": [
    "### EDA Criminal Justice Variables"
   ]
  },
  {
   "cell_type": "markdown",
   "metadata": {},
   "source": [
    "It is worthwhile to capture any relationships between these variables: prbarr, prbconv, prbpris.\n",
    "\n",
    "This will help us determine if there is any multicollinearity between these variables. We would suspect these to be correlated"
   ]
  },
  {
   "cell_type": "code",
   "execution_count": null,
   "metadata": {},
   "outputs": [],
   "source": [
    "# summary(data$prbpris)\n",
    "# hist((data$prbpris), breaks=100, main = \"Histogram of prbpris\", xlab = \"prbpris\", col = \"lightblue\", border = \"black\")"
   ]
  },
  {
   "cell_type": "code",
   "execution_count": null,
   "metadata": {},
   "outputs": [],
   "source": [
    "# summary(data$prbarr)\n",
    "# hist((data$prbarr), breaks=100, main = \"Histogram of prbarr\", xlab = \"prbarr\", col = \"lightblue\", border = \"black\")"
   ]
  },
  {
   "cell_type": "markdown",
   "metadata": {},
   "source": [
    "#### Notice that there is an outlier row with a probability higher than 1, which is not possible. We will scale our data to make probabilities <=1"
   ]
  },
  {
   "cell_type": "code",
   "execution_count": 42,
   "metadata": {},
   "outputs": [],
   "source": [
    "data$prbarr = data$prbarr / max(data$prbarr)"
   ]
  },
  {
   "cell_type": "code",
   "execution_count": null,
   "metadata": {},
   "outputs": [],
   "source": [
    "# summary(data$prbconv)\n",
    "# hist((data$prbconv), breaks=100, main = \"Histogram of prbconv\", xlab = \"prbconv\", col = \"lightblue\", border = \"black\")"
   ]
  },
  {
   "cell_type": "markdown",
   "metadata": {},
   "source": [
    "#### Notice that there are a few rows where prbconv is > 1 even though it is supposed to be a probability. We will scale our data to make probabilities <=1"
   ]
  },
  {
   "cell_type": "code",
   "execution_count": 44,
   "metadata": {},
   "outputs": [],
   "source": [
    "data$prbconv = data$prbconv / max(data$prbconv)"
   ]
  },
  {
   "cell_type": "markdown",
   "metadata": {},
   "source": [
    "#### Now that we have the data in the right format, we find correlation between the 3 probabilities, along with average sentence and police per capita"
   ]
  },
  {
   "cell_type": "code",
   "execution_count": 50,
   "metadata": {},
   "outputs": [
    {
     "data": {
      "image/png": "[encoded data removed]",
      "text/plain": [
       "plot without title"
      ]
     },
     "metadata": {},
     "output_type": "display_data"
    }
   ],
   "source": [
    "ggcorr(data[, c(\"prbarr\", \"prbconv\", \"prbpris\", \"avgsen\", \"polpc\")], size = 3, label=TRUE)"
   ]
  },
  {
   "cell_type": "markdown",
   "metadata": {},
   "source": [
    "**Correlation Analysis**\n",
    "\n",
    "1. Interestingly, there is little correlation between the probability variables\n",
    "2. There is weak positive correlation between prbconv and avgsen\n",
    "\n",
    "**For now, we will consider all 3 probability variables in the model**\n",
    "\n",
    "We expect that as any of probabilities of arrest or conviction or prison sentence go up, crime rate should come down (people would be less risk taking to commit crime if they knew they would be likely arrested / convicted / imprisoned). "
   ]
  },
  {
   "cell_type": "code",
   "execution_count": null,
   "metadata": {},
   "outputs": [],
   "source": [
    "# Finally there's nothing special about the avgsen and polpc variables.\n",
    "\n",
    "# They have values within range and don't display special distributions\n",
    "#summary(data$avgsen)\n",
    "#hist(data$avgsen, breaks=100, main = \"Histogram of avgsen\", xlab = \"avgsen\", col = \"lightblue\", border = \"black\")\n",
    "\n",
    "# Taking log10(avgsen) makes the histogram look slightly more normal, but we will use avgsen as is in the model for now.\n",
    "# hist(log10(data$avgsen), breaks=100, main = \"Histogram of avgsen\", xlab = \"avgsen\", col = \"lightblue\", border = \"black\")\n",
    "\n",
    "#summary(data$polpc)\n",
    "#hist(data$polpc, breaks=100, main = \"Histogram of polpc\", xlab = \"polpc\", col = \"lightblue\", border = \"black\")"
   ]
  },
  {
   "cell_type": "markdown",
   "metadata": {},
   "source": [
    "**There seem to be a few suspicious far right outliers for police per capita and average sentence days**\n",
    "\n",
    "We will deal with them as appropriate when evaluating the cook's distance for potential points of influence.\n",
    "\n",
    "We cannot make a judgement for the causal effect of polpc (police per capita). If this increases, we can make an argument that crimes may go down as there is \"more policing\" per citizen. We can also say, if polpc goes up, then crime rate goes up (police can find trivial reasons to arrest citizens - overpolicing).\n",
    "\n",
    "We can however, likely say, if avgsen (average sentence in days) goes up, then convicts may become may learn their lessons and not commit crimes the next time around, so crime rate decreases. **In fact, we noticed a negative correlation between avgsen and prbconv, which may be capturing this hypothesis.**\n",
    "\n",
    "**For now, we will include both variables, as is in the model specification**"
   ]
  },
  {
   "cell_type": "markdown",
   "metadata": {},
   "source": [
    "### EDA Labor Market Variables"
   ]
  },
  {
   "cell_type": "code",
   "execution_count": 51,
   "metadata": {},
   "outputs": [
    {
     "data": {
      "image/png": "[encoded data removed]",
      "text/plain": [
       "plot without title"
      ]
     },
     "metadata": {},
     "output_type": "display_data"
    }
   ],
   "source": [
    "ggcorr(data[, c(\"y\",\"taxpc\", \"wcon\", \"wtuc\", \"wtrd\", \"wfir\", \"wser\", \"wmfg\", \"wfed\", \"wsta\", \"wloc\")], size = 3, label=TRUE)"
   ]
  },
  {
   "cell_type": "markdown",
   "metadata": {},
   "source": [
    "As expected, due to labor and market interdependencies, a lot of the wages of workers in the city are correlated with others. Note that wages are positively correlated across all industries.\n",
    "\n",
    "Note that while there is strong positive correlation (> 0.6), there is no perfect multicollinearity amongst these variables\n",
    "\n",
    "Tax revenues are hardly correlated with any of the wages, this is a little surprising! Although we do see weak correlation between taxes and certain industries.\n",
    "\n",
    "From this article: https://www.amherst.edu/media/view/121570/original/CornwellTrumbullCrime%2BElasticities.pdf\n",
    "\n",
    "We find that these variables of wage represent **average** weekly wages of the industry\n",
    "\n",
    "One variable of interest could be the total weekly wages:\n",
    "\n",
    "**wtotal = wcon + wtuc + wtrd + wfir + wser + wmfg + wfed + wsta + wloc**\n",
    "\n",
    "The argument is that if the total average weekly wages are high for a county, then the crime rate will be low (as the county is prosperous, so robberies and money related crimes would be fewer)\n",
    "\n",
    "One may wonder if its valid to add wages and include this in the model. There are a few arguments for doing this:\n",
    "1. Adding all wages shouldnt affect the regression because its the same effect as a linear combination of the betas of the individual industrial wages. In other words, the coefficient of wtotal is an aggregated version of the effect of each of the coefficients of the wage variables.\n",
    "2. Adding all wages gives an idea of the overall economic condition of the county, which would affect crime rate of the county on aggregate\n",
    "3. **Even if wages in 1 county were not distributed evenly amongst sectors (on average), but the total county is overall wealthy, that may be an argument to influence the policy makers to tax the rich!** Higher wage workers can be taxed more to provide services and benefit to the poorer wage workers in the county. If poor wage earners are now taken care of with the wealth and services from the government, there may be lesser incentive for crime in the county. This scenario is admittedly a little imaginative, but it is a plausible policy suggestion that could be put forward if wtotal is a significant variable in the model! \n",
    "\n",
    "There are a few caveats with this variable though:\n",
    "1. Total average weekly wage in a county, while succinct, may be a controversial variable to include because individual wages are aggregated into a single number and may be hiding the effects of each individual industry. For example, consider wcon, wfir and wmfg variables. If in county1, the values are 100, 200, 300 and in county2, the values are 1, 2, 597. wtotal is the same for both counties, however, the breakdown shows that the workforce in county2 is on average poorer than county1, and thus susceptible to crime. \n"
   ]
  },
  {
   "cell_type": "code",
   "execution_count": 52,
   "metadata": {},
   "outputs": [],
   "source": [
    "data$wtotal = data$wcon + data$wtuc + data$wtrd + data$wfir + data$wser + data$wmfg + data$wfed + data$wsta + data$wloc"
   ]
  },
  {
   "cell_type": "markdown",
   "metadata": {},
   "source": [
    "Total weekly wages is not unreasonably skewed in distribution (except for 5 outliers). More or less, each wage variable follows a normal distribution (as expected for population wages). **Hence, it is reasonable to use wtotal in our model.**"
   ]
  },
  {
   "cell_type": "markdown",
   "metadata": {},
   "source": [
    "## 5. Model Building"
   ]
  },
  {
   "cell_type": "markdown",
   "metadata": {},
   "source": [
    "Our target variable is log10(crmrate) - which is a scaled version of the log of crime rate. This gives us percentage increase of crime rate"
   ]
  },
  {
   "cell_type": "markdown",
   "metadata": {},
   "source": [
    "We will build 3 model specifications that consist of one or more **classes** of variables:\n",
    "\n",
    "1. Model1: Criminal Justice\n",
    "2. Model2: Select variables our team thinks are important causes\n",
    "3. Model3: Maximalist approach model with backward elimination / forward selection \n",
    "\n",
    "**We will use Adjusted R-Squared, AIC, BIC for criteria of model fit**"
   ]
  },
  {
   "cell_type": "code",
   "execution_count": null,
   "metadata": {},
   "outputs": [],
   "source": [
    "dim(data)"
   ]
  },
  {
   "cell_type": "markdown",
   "metadata": {},
   "source": [
    "### Demographic Variables Considered"
   ]
  },
  {
   "cell_type": "markdown",
   "metadata": {},
   "source": [
    "**Geo variables**\n",
    "\n",
    "1. geo\n",
    "2. west_central\n",
    "3. west_urban\n",
    "4. central_urban\n",
    "5. central\n",
    "6. west\n",
    "7. urban\n",
    "8. non_urban_west_central\n",
    "\n",
    "**Population variables**\n",
    "\n",
    "9. log10_density\n",
    "10. density_ymle (possibly, pctymle)\n",
    "11. pctmin80"
   ]
  },
  {
   "cell_type": "markdown",
   "metadata": {},
   "source": [
    "### Criminal Justice Variables Considered"
   ]
  },
  {
   "cell_type": "markdown",
   "metadata": {},
   "source": [
    "All variables listed in the criminal justice category are considered without transformation\n",
    "1. prbarr\n",
    "2. prbconv\n",
    "3. prbpris\n",
    "4. avgsen\n",
    "5. polpc"
   ]
  },
  {
   "cell_type": "markdown",
   "metadata": {},
   "source": [
    "### Labor Market Variables Considered"
   ]
  },
  {
   "cell_type": "markdown",
   "metadata": {},
   "source": [
    "1. wtotal\n",
    "2. taxpc\n",
    "3. Optionally, each industy's wage"
   ]
  },
  {
   "cell_type": "markdown",
   "metadata": {},
   "source": [
    "Note that we have already run our models before and determined that one row (with ID 79) introduces very strong outlier tendencies, and has very strong influence (large cook's distance). **We will eliminate this row from consideration** because this single row has caused coefficients that were originally significant to become insignificant in on our previous model runs."
   ]
  },
  {
   "cell_type": "code",
   "execution_count": 69,
   "metadata": {},
   "outputs": [
    {
     "data": {
      "text/html": [
       "<table>\n",
       "<caption>A data.frame: 1 × 35</caption>\n",
       "<thead>\n",
       "\t<tr><th></th><th scope=col>county</th><th scope=col>year</th><th scope=col>crmrte</th><th scope=col>prbarr</th><th scope=col>prbconv</th><th scope=col>prbpris</th><th scope=col>avgsen</th><th scope=col>polpc</th><th scope=col>density</th><th scope=col>taxpc</th><th scope=col>...</th><th scope=col>geo</th><th scope=col>west_central</th><th scope=col>west_urban</th><th scope=col>central_urban</th><th scope=col>non_urban_west_central</th><th scope=col>density_min80</th><th scope=col>density_ymle</th><th scope=col>log10_density</th><th scope=col>y</th><th scope=col>wtotal</th></tr>\n",
       "\t<tr><th></th><th scope=col>&lt;int&gt;</th><th scope=col>&lt;int&gt;</th><th scope=col>&lt;dbl&gt;</th><th scope=col>&lt;dbl&gt;</th><th scope=col>&lt;dbl&gt;</th><th scope=col>&lt;dbl&gt;</th><th scope=col>&lt;dbl&gt;</th><th scope=col>&lt;dbl&gt;</th><th scope=col>&lt;dbl&gt;</th><th scope=col>&lt;dbl&gt;</th><th scope=col>...</th><th scope=col>&lt;int&gt;</th><th scope=col>&lt;int&gt;</th><th scope=col>&lt;int&gt;</th><th scope=col>&lt;int&gt;</th><th scope=col>&lt;dbl&gt;</th><th scope=col>&lt;dbl&gt;</th><th scope=col>&lt;dbl&gt;</th><th scope=col>&lt;dbl&gt;</th><th scope=col>&lt;dbl&gt;</th><th scope=col>&lt;dbl&gt;</th></tr>\n",
       "</thead>\n",
       "<tbody>\n",
       "\t<tr><th scope=row>79</th><td>173</td><td>87</td><td>0.0139937</td><td>0.4862317</td><td>0.154567</td><td>0.15</td><td>6.64</td><td>0.00316379</td><td>2.03422e-05</td><td>37.72702</td><td>...</td><td>0</td><td>0</td><td>0</td><td>0</td><td>0</td><td>5.165169e-06</td><td>1.518075e-06</td><td>-4.691602</td><td>-1.854067</td><td>2338.455</td></tr>\n",
       "</tbody>\n",
       "</table>\n"
      ],
      "text/latex": [
       "A data.frame: 1 × 35\n",
       "\\begin{tabular}{r|lllllllllllllllllllll}\n",
       "  & county & year & crmrte & prbarr & prbconv & prbpris & avgsen & polpc & density & taxpc & ... & geo & west\\_central & west\\_urban & central\\_urban & non\\_urban\\_west\\_central & density\\_min80 & density\\_ymle & log10\\_density & y & wtotal\\\\\n",
       "  & <int> & <int> & <dbl> & <dbl> & <dbl> & <dbl> & <dbl> & <dbl> & <dbl> & <dbl> & ... & <int> & <int> & <int> & <int> & <dbl> & <dbl> & <dbl> & <dbl> & <dbl> & <dbl>\\\\\n",
       "\\hline\n",
       "\t79 & 173 & 87 & 0.0139937 & 0.4862317 & 0.154567 & 0.15 & 6.64 & 0.00316379 & 2.03422e-05 & 37.72702 & ... & 0 & 0 & 0 & 0 & 0 & 5.165169e-06 & 1.518075e-06 & -4.691602 & -1.854067 & 2338.455\\\\\n",
       "\\end{tabular}\n"
      ],
      "text/markdown": [
       "\n",
       "A data.frame: 1 × 35\n",
       "\n",
       "| <!--/--> | county &lt;int&gt; | year &lt;int&gt; | crmrte &lt;dbl&gt; | prbarr &lt;dbl&gt; | prbconv &lt;dbl&gt; | prbpris &lt;dbl&gt; | avgsen &lt;dbl&gt; | polpc &lt;dbl&gt; | density &lt;dbl&gt; | taxpc &lt;dbl&gt; | ... ... | geo &lt;int&gt; | west_central &lt;int&gt; | west_urban &lt;int&gt; | central_urban &lt;int&gt; | non_urban_west_central &lt;dbl&gt; | density_min80 &lt;dbl&gt; | density_ymle &lt;dbl&gt; | log10_density &lt;dbl&gt; | y &lt;dbl&gt; | wtotal &lt;dbl&gt; |\n",
       "|---|---|---|---|---|---|---|---|---|---|---|---|---|---|---|---|---|---|---|---|---|---|\n",
       "| 79 | 173 | 87 | 0.0139937 | 0.4862317 | 0.154567 | 0.15 | 6.64 | 0.00316379 | 2.03422e-05 | 37.72702 | ... | 0 | 0 | 0 | 0 | 0 | 5.165169e-06 | 1.518075e-06 | -4.691602 | -1.854067 | 2338.455 |\n",
       "\n"
      ],
      "text/plain": [
       "   county year crmrte    prbarr    prbconv  prbpris avgsen polpc     \n",
       "79 173    87   0.0139937 0.4862317 0.154567 0.15    6.64   0.00316379\n",
       "   density     taxpc    ... geo west_central west_urban central_urban\n",
       "79 2.03422e-05 37.72702 ... 0   0            0          0            \n",
       "   non_urban_west_central density_min80 density_ymle log10_density y        \n",
       "79 0                      5.165169e-06  1.518075e-06 -4.691602     -1.854067\n",
       "   wtotal  \n",
       "79 2338.455"
      ]
     },
     "metadata": {},
     "output_type": "display_data"
    },
    {
     "data": {
      "text/html": [
       "<style>\n",
       ".list-inline {list-style: none; margin:0; padding: 0}\n",
       ".list-inline>li {display: inline-block}\n",
       ".list-inline>li:not(:last-child)::after {content: \"\\00b7\"; padding: 0 .5ex}\n",
       "</style>\n",
       "<ol class=list-inline><li>91</li><li>35</li></ol>\n"
      ],
      "text/latex": [
       "\\begin{enumerate*}\n",
       "\\item 91\n",
       "\\item 35\n",
       "\\end{enumerate*}\n"
      ],
      "text/markdown": [
       "1. 91\n",
       "2. 35\n",
       "\n",
       "\n"
      ],
      "text/plain": [
       "[1] 91 35"
      ]
     },
     "metadata": {},
     "output_type": "display_data"
    }
   ],
   "source": [
    "outlier_row = 79\n",
    "data[outlier_row, ]\n",
    "dim(data)"
   ]
  },
  {
   "cell_type": "code",
   "execution_count": 70,
   "metadata": {},
   "outputs": [
    {
     "data": {
      "text/html": [
       "<style>\n",
       ".list-inline {list-style: none; margin:0; padding: 0}\n",
       ".list-inline>li {display: inline-block}\n",
       ".list-inline>li:not(:last-child)::after {content: \"\\00b7\"; padding: 0 .5ex}\n",
       "</style>\n",
       "<ol class=list-inline><li>90</li><li>35</li></ol>\n"
      ],
      "text/latex": [
       "\\begin{enumerate*}\n",
       "\\item 90\n",
       "\\item 35\n",
       "\\end{enumerate*}\n"
      ],
      "text/markdown": [
       "1. 90\n",
       "2. 35\n",
       "\n",
       "\n"
      ],
      "text/plain": [
       "[1] 90 35"
      ]
     },
     "metadata": {},
     "output_type": "display_data"
    }
   ],
   "source": [
    "data = data[-outlier_row, ]\n",
    "dim(data)"
   ]
  },
  {
   "cell_type": "code",
   "execution_count": 73,
   "metadata": {},
   "outputs": [
    {
     "data": {
      "text/html": [
       "<table>\n",
       "<caption>A data.frame: 1 × 35</caption>\n",
       "<thead>\n",
       "\t<tr><th></th><th scope=col>county</th><th scope=col>year</th><th scope=col>crmrte</th><th scope=col>prbarr</th><th scope=col>prbconv</th><th scope=col>prbpris</th><th scope=col>avgsen</th><th scope=col>polpc</th><th scope=col>density</th><th scope=col>taxpc</th><th scope=col>...</th><th scope=col>geo</th><th scope=col>west_central</th><th scope=col>west_urban</th><th scope=col>central_urban</th><th scope=col>non_urban_west_central</th><th scope=col>density_min80</th><th scope=col>density_ymle</th><th scope=col>log10_density</th><th scope=col>y</th><th scope=col>wtotal</th></tr>\n",
       "\t<tr><th></th><th scope=col>&lt;int&gt;</th><th scope=col>&lt;int&gt;</th><th scope=col>&lt;dbl&gt;</th><th scope=col>&lt;dbl&gt;</th><th scope=col>&lt;dbl&gt;</th><th scope=col>&lt;dbl&gt;</th><th scope=col>&lt;dbl&gt;</th><th scope=col>&lt;dbl&gt;</th><th scope=col>&lt;dbl&gt;</th><th scope=col>&lt;dbl&gt;</th><th scope=col>...</th><th scope=col>&lt;int&gt;</th><th scope=col>&lt;int&gt;</th><th scope=col>&lt;int&gt;</th><th scope=col>&lt;int&gt;</th><th scope=col>&lt;dbl&gt;</th><th scope=col>&lt;dbl&gt;</th><th scope=col>&lt;dbl&gt;</th><th scope=col>&lt;dbl&gt;</th><th scope=col>&lt;dbl&gt;</th><th scope=col>&lt;dbl&gt;</th></tr>\n",
       "</thead>\n",
       "<tbody>\n",
       "\t<tr><th scope=row>84</th><td>185</td><td>87</td><td>0.0108703</td><td>0.1789937</td><td>1</td><td>0.442857</td><td>5.38</td><td>0.0012221</td><td>0.3887588</td><td>40.82454</td><td>...</td><td>0</td><td>0</td><td>0</td><td>0</td><td>0</td><td>0.2501593</td><td>0.02724506</td><td>-0.4103198</td><td>-1.963758</td><td>4463.683</td></tr>\n",
       "</tbody>\n",
       "</table>\n"
      ],
      "text/latex": [
       "A data.frame: 1 × 35\n",
       "\\begin{tabular}{r|lllllllllllllllllllll}\n",
       "  & county & year & crmrte & prbarr & prbconv & prbpris & avgsen & polpc & density & taxpc & ... & geo & west\\_central & west\\_urban & central\\_urban & non\\_urban\\_west\\_central & density\\_min80 & density\\_ymle & log10\\_density & y & wtotal\\\\\n",
       "  & <int> & <int> & <dbl> & <dbl> & <dbl> & <dbl> & <dbl> & <dbl> & <dbl> & <dbl> & ... & <int> & <int> & <int> & <int> & <dbl> & <dbl> & <dbl> & <dbl> & <dbl> & <dbl>\\\\\n",
       "\\hline\n",
       "\t84 & 185 & 87 & 0.0108703 & 0.1789937 & 1 & 0.442857 & 5.38 & 0.0012221 & 0.3887588 & 40.82454 & ... & 0 & 0 & 0 & 0 & 0 & 0.2501593 & 0.02724506 & -0.4103198 & -1.963758 & 4463.683\\\\\n",
       "\\end{tabular}\n"
      ],
      "text/markdown": [
       "\n",
       "A data.frame: 1 × 35\n",
       "\n",
       "| <!--/--> | county &lt;int&gt; | year &lt;int&gt; | crmrte &lt;dbl&gt; | prbarr &lt;dbl&gt; | prbconv &lt;dbl&gt; | prbpris &lt;dbl&gt; | avgsen &lt;dbl&gt; | polpc &lt;dbl&gt; | density &lt;dbl&gt; | taxpc &lt;dbl&gt; | ... ... | geo &lt;int&gt; | west_central &lt;int&gt; | west_urban &lt;int&gt; | central_urban &lt;int&gt; | non_urban_west_central &lt;dbl&gt; | density_min80 &lt;dbl&gt; | density_ymle &lt;dbl&gt; | log10_density &lt;dbl&gt; | y &lt;dbl&gt; | wtotal &lt;dbl&gt; |\n",
       "|---|---|---|---|---|---|---|---|---|---|---|---|---|---|---|---|---|---|---|---|---|---|\n",
       "| 84 | 185 | 87 | 0.0108703 | 0.1789937 | 1 | 0.442857 | 5.38 | 0.0012221 | 0.3887588 | 40.82454 | ... | 0 | 0 | 0 | 0 | 0 | 0.2501593 | 0.02724506 | -0.4103198 | -1.963758 | 4463.683 |\n",
       "\n"
      ],
      "text/plain": [
       "   county year crmrte    prbarr    prbconv prbpris  avgsen polpc     density  \n",
       "84 185    87   0.0108703 0.1789937 1       0.442857 5.38   0.0012221 0.3887588\n",
       "   taxpc    ... geo west_central west_urban central_urban\n",
       "84 40.82454 ... 0   0            0          0            \n",
       "   non_urban_west_central density_min80 density_ymle log10_density y        \n",
       "84 0                      0.2501593     0.02724506   -0.4103198    -1.963758\n",
       "   wtotal  \n",
       "84 4463.683"
      ]
     },
     "metadata": {},
     "output_type": "display_data"
    },
    {
     "data": {
      "text/html": [
       "<style>\n",
       ".list-inline {list-style: none; margin:0; padding: 0}\n",
       ".list-inline>li {display: inline-block}\n",
       ".list-inline>li:not(:last-child)::after {content: \"\\00b7\"; padding: 0 .5ex}\n",
       "</style>\n",
       "<ol class=list-inline><li>90</li><li>35</li></ol>\n"
      ],
      "text/latex": [
       "\\begin{enumerate*}\n",
       "\\item 90\n",
       "\\item 35\n",
       "\\end{enumerate*}\n"
      ],
      "text/markdown": [
       "1. 90\n",
       "2. 35\n",
       "\n",
       "\n"
      ],
      "text/plain": [
       "[1] 90 35"
      ]
     },
     "metadata": {},
     "output_type": "display_data"
    }
   ],
   "source": [
    "outlier_row = 83\n",
    "data[outlier_row, ]\n",
    "dim(data)"
   ]
  },
  {
   "cell_type": "code",
   "execution_count": 74,
   "metadata": {},
   "outputs": [
    {
     "data": {
      "text/html": [
       "<style>\n",
       ".list-inline {list-style: none; margin:0; padding: 0}\n",
       ".list-inline>li {display: inline-block}\n",
       ".list-inline>li:not(:last-child)::after {content: \"\\00b7\"; padding: 0 .5ex}\n",
       "</style>\n",
       "<ol class=list-inline><li>89</li><li>35</li></ol>\n"
      ],
      "text/latex": [
       "\\begin{enumerate*}\n",
       "\\item 89\n",
       "\\item 35\n",
       "\\end{enumerate*}\n"
      ],
      "text/markdown": [
       "1. 89\n",
       "2. 35\n",
       "\n",
       "\n"
      ],
      "text/plain": [
       "[1] 89 35"
      ]
     },
     "metadata": {},
     "output_type": "display_data"
    }
   ],
   "source": [
    "data = data[-outlier_row, ]\n",
    "dim(data)"
   ]
  },
  {
   "cell_type": "code",
   "execution_count": 75,
   "metadata": {},
   "outputs": [
    {
     "data": {
      "text/html": [
       "<table>\n",
       "<caption>A data.frame: 1 × 35</caption>\n",
       "<thead>\n",
       "\t<tr><th></th><th scope=col>county</th><th scope=col>year</th><th scope=col>crmrte</th><th scope=col>prbarr</th><th scope=col>prbconv</th><th scope=col>prbpris</th><th scope=col>avgsen</th><th scope=col>polpc</th><th scope=col>density</th><th scope=col>taxpc</th><th scope=col>...</th><th scope=col>geo</th><th scope=col>west_central</th><th scope=col>west_urban</th><th scope=col>central_urban</th><th scope=col>non_urban_west_central</th><th scope=col>density_min80</th><th scope=col>density_ymle</th><th scope=col>log10_density</th><th scope=col>y</th><th scope=col>wtotal</th></tr>\n",
       "\t<tr><th></th><th scope=col>&lt;int&gt;</th><th scope=col>&lt;int&gt;</th><th scope=col>&lt;dbl&gt;</th><th scope=col>&lt;dbl&gt;</th><th scope=col>&lt;dbl&gt;</th><th scope=col>&lt;dbl&gt;</th><th scope=col>&lt;dbl&gt;</th><th scope=col>&lt;dbl&gt;</th><th scope=col>&lt;dbl&gt;</th><th scope=col>&lt;dbl&gt;</th><th scope=col>...</th><th scope=col>&lt;int&gt;</th><th scope=col>&lt;int&gt;</th><th scope=col>&lt;int&gt;</th><th scope=col>&lt;int&gt;</th><th scope=col>&lt;dbl&gt;</th><th scope=col>&lt;dbl&gt;</th><th scope=col>&lt;dbl&gt;</th><th scope=col>&lt;dbl&gt;</th><th scope=col>&lt;dbl&gt;</th><th scope=col>&lt;dbl&gt;</th></tr>\n",
       "</thead>\n",
       "<tbody>\n",
       "\t<tr><th scope=row>51</th><td>115</td><td>87</td><td>0.0055332</td><td>1</td><td>0.7071435</td><td>0.5</td><td>20.7</td><td>0.00905433</td><td>0.3858093</td><td>28.1931</td><td>...</td><td>0</td><td>0</td><td>0</td><td>0</td><td>0</td><td>0.004952441</td><td>0.02798466</td><td>-0.4136273</td><td>-2.257024</td><td>3129.748</td></tr>\n",
       "</tbody>\n",
       "</table>\n"
      ],
      "text/latex": [
       "A data.frame: 1 × 35\n",
       "\\begin{tabular}{r|lllllllllllllllllllll}\n",
       "  & county & year & crmrte & prbarr & prbconv & prbpris & avgsen & polpc & density & taxpc & ... & geo & west\\_central & west\\_urban & central\\_urban & non\\_urban\\_west\\_central & density\\_min80 & density\\_ymle & log10\\_density & y & wtotal\\\\\n",
       "  & <int> & <int> & <dbl> & <dbl> & <dbl> & <dbl> & <dbl> & <dbl> & <dbl> & <dbl> & ... & <int> & <int> & <int> & <int> & <dbl> & <dbl> & <dbl> & <dbl> & <dbl> & <dbl>\\\\\n",
       "\\hline\n",
       "\t51 & 115 & 87 & 0.0055332 & 1 & 0.7071435 & 0.5 & 20.7 & 0.00905433 & 0.3858093 & 28.1931 & ... & 0 & 0 & 0 & 0 & 0 & 0.004952441 & 0.02798466 & -0.4136273 & -2.257024 & 3129.748\\\\\n",
       "\\end{tabular}\n"
      ],
      "text/markdown": [
       "\n",
       "A data.frame: 1 × 35\n",
       "\n",
       "| <!--/--> | county &lt;int&gt; | year &lt;int&gt; | crmrte &lt;dbl&gt; | prbarr &lt;dbl&gt; | prbconv &lt;dbl&gt; | prbpris &lt;dbl&gt; | avgsen &lt;dbl&gt; | polpc &lt;dbl&gt; | density &lt;dbl&gt; | taxpc &lt;dbl&gt; | ... ... | geo &lt;int&gt; | west_central &lt;int&gt; | west_urban &lt;int&gt; | central_urban &lt;int&gt; | non_urban_west_central &lt;dbl&gt; | density_min80 &lt;dbl&gt; | density_ymle &lt;dbl&gt; | log10_density &lt;dbl&gt; | y &lt;dbl&gt; | wtotal &lt;dbl&gt; |\n",
       "|---|---|---|---|---|---|---|---|---|---|---|---|---|---|---|---|---|---|---|---|---|---|\n",
       "| 51 | 115 | 87 | 0.0055332 | 1 | 0.7071435 | 0.5 | 20.7 | 0.00905433 | 0.3858093 | 28.1931 | ... | 0 | 0 | 0 | 0 | 0 | 0.004952441 | 0.02798466 | -0.4136273 | -2.257024 | 3129.748 |\n",
       "\n"
      ],
      "text/plain": [
       "   county year crmrte    prbarr prbconv   prbpris avgsen polpc      density  \n",
       "51 115    87   0.0055332 1      0.7071435 0.5     20.7   0.00905433 0.3858093\n",
       "   taxpc   ... geo west_central west_urban central_urban non_urban_west_central\n",
       "51 28.1931 ... 0   0            0          0             0                     \n",
       "   density_min80 density_ymle log10_density y         wtotal  \n",
       "51 0.004952441   0.02798466   -0.4136273    -2.257024 3129.748"
      ]
     },
     "metadata": {},
     "output_type": "display_data"
    },
    {
     "data": {
      "text/html": [
       "<style>\n",
       ".list-inline {list-style: none; margin:0; padding: 0}\n",
       ".list-inline>li {display: inline-block}\n",
       ".list-inline>li:not(:last-child)::after {content: \"\\00b7\"; padding: 0 .5ex}\n",
       "</style>\n",
       "<ol class=list-inline><li>89</li><li>35</li></ol>\n"
      ],
      "text/latex": [
       "\\begin{enumerate*}\n",
       "\\item 89\n",
       "\\item 35\n",
       "\\end{enumerate*}\n"
      ],
      "text/markdown": [
       "1. 89\n",
       "2. 35\n",
       "\n",
       "\n"
      ],
      "text/plain": [
       "[1] 89 35"
      ]
     },
     "metadata": {},
     "output_type": "display_data"
    }
   ],
   "source": [
    "outlier_row = 51\n",
    "data[outlier_row, ]\n",
    "dim(data)"
   ]
  },
  {
   "cell_type": "code",
   "execution_count": 76,
   "metadata": {},
   "outputs": [
    {
     "data": {
      "text/html": [
       "<style>\n",
       ".list-inline {list-style: none; margin:0; padding: 0}\n",
       ".list-inline>li {display: inline-block}\n",
       ".list-inline>li:not(:last-child)::after {content: \"\\00b7\"; padding: 0 .5ex}\n",
       "</style>\n",
       "<ol class=list-inline><li>88</li><li>35</li></ol>\n"
      ],
      "text/latex": [
       "\\begin{enumerate*}\n",
       "\\item 88\n",
       "\\item 35\n",
       "\\end{enumerate*}\n"
      ],
      "text/markdown": [
       "1. 88\n",
       "2. 35\n",
       "\n",
       "\n"
      ],
      "text/plain": [
       "[1] 88 35"
      ]
     },
     "metadata": {},
     "output_type": "display_data"
    }
   ],
   "source": [
    "data = data[-outlier_row, ]\n",
    "dim(data)"
   ]
  },
  {
   "cell_type": "markdown",
   "metadata": {},
   "source": [
    "### Model1 : Base Model"
   ]
  },
  {
   "cell_type": "markdown",
   "metadata": {},
   "source": [
    "Model1 selects the following variables - log10(density), prbarr, prbconv, pctmin80, polpc\n",
    "\n",
    "These are selected because these variables have the highest correlation with log10(crmrate) based on our correlation plots.\n",
    "\n",
    "\n"
   ]
  },
  {
   "cell_type": "code",
   "execution_count": 61,
   "metadata": {},
   "outputs": [
    {
     "name": "stderr",
     "output_type": "stream",
     "text": [
      "Warning message in cor(data, use = method[1], method = method[2]):\n",
      "\"the standard deviation is zero\""
     ]
    },
    {
     "data": {
      "image/png": "[encoded data removed]",
      "text/plain": [
       "plot without title"
      ]
     },
     "metadata": {},
     "output_type": "display_data"
    }
   ],
   "source": [
    "ggcorr(data[, 3:35], size = 2)"
   ]
  },
  {
   "cell_type": "code",
   "execution_count": 77,
   "metadata": {},
   "outputs": [],
   "source": [
    "model1 = lm(y ~ log10_density + prbarr + prbconv + pctmin80 + polpc, data = data)"
   ]
  },
  {
   "cell_type": "markdown",
   "metadata": {},
   "source": [
    "### Model2: Our Selected Model (Balanced Approach)"
   ]
  },
  {
   "cell_type": "code",
   "execution_count": 78,
   "metadata": {},
   "outputs": [],
   "source": [
    "model2 = lm(y ~ prbarr + prbconv + polpc + log10_density + pctmin80 + pctymle + wcon + wtuc + wtrd + wfir + wser + wmfg + wfed + wsta + wloc, data=data)"
   ]
  },
  {
   "cell_type": "code",
   "execution_count": 79,
   "metadata": {},
   "outputs": [],
   "source": [
    "# set model to be evaluated here\n",
    "\n",
    "model = model2"
   ]
  },
  {
   "cell_type": "code",
   "execution_count": 80,
   "metadata": {
    "scrolled": false
   },
   "outputs": [
    {
     "data": {
      "text/plain": [
       "     Min.   1st Qu.    Median      Mean   3rd Qu.      Max. \n",
       "-0.202717 -0.044344 -0.003193  0.000000  0.056039  0.243642 "
      ]
     },
     "metadata": {},
     "output_type": "display_data"
    },
    {
     "data": {
      "text/plain": [
       "\n",
       "\tShapiro-Wilk normality test\n",
       "\n",
       "data:  m$residuals\n",
       "W = 0.9865, p-value = 0.4977\n"
      ]
     },
     "metadata": {},
     "output_type": "display_data"
    },
    {
     "data": {
      "text/plain": [
       "\n",
       "\tstudentized Breusch-Pagan test\n",
       "\n",
       "data:  m\n",
       "BP = 35.174, df = 15, p-value = 0.002322\n"
      ]
     },
     "metadata": {},
     "output_type": "display_data"
    },
    {
     "data": {
      "image/png": "[encoded data removed]",
      "text/plain": [
       "Plot with title \"Histogram of residuals\""
      ]
     },
     "metadata": {},
     "output_type": "display_data"
    },
    {
     "data": {
      "image/png": "[encoded data removed]",
      "text/plain": [
       "Plot with title \"\""
      ]
     },
     "metadata": {},
     "output_type": "display_data"
    },
    {
     "data": {
      "image/png": "[encoded data removed]",
      "text/plain": [
       "Plot with title \"\""
      ]
     },
     "metadata": {},
     "output_type": "display_data"
    },
    {
     "data": {
      "image/png": "[encoded data removed]",
      "text/plain": [
       "Plot with title \"\""
      ]
     },
     "metadata": {},
     "output_type": "display_data"
    },
    {
     "data": {
      "image/png": "[encoded data removed]",
      "text/plain": [
       "Plot with title \"\""
      ]
     },
     "metadata": {},
     "output_type": "display_data"
    },
    {
     "data": {
      "image/png": "[encoded data removed]",
      "text/plain": [
       "Plot with title \"\""
      ]
     },
     "metadata": {},
     "output_type": "display_data"
    },
    {
     "data": {
      "image/png": "[encoded data removed]",
      "text/plain": [
       "Plot with title \"\""
      ]
     },
     "metadata": {},
     "output_type": "display_data"
    }
   ],
   "source": [
    "# We have kept all models linear in beta coefficients (MLR 1 satisfied for all models)\n",
    "# Note that we assume data has been collected as IID (MLR 3 for all models)\n",
    "evaluate_model_shapiro = function(m) {\n",
    "    paste(\"Shapiro test on residuals - test for normality (MLR 6)\")\n",
    "    # null hypothesis is residuals are normally distributed\n",
    "    shapiro.test(m$residuals)\n",
    "}\n",
    "\n",
    "evaluate_model_bp = function(m) {\n",
    "    paste(\"Breusch Pagan test - test for heteroskedasticity (MLR 5)\")\n",
    "    # null hypothesis is homoskedasticity, alt is presence of heteroskedasticity\n",
    "    bptest(m)\n",
    "}\n",
    "\n",
    "\n",
    "evaluate_model_plots = function(m) {\n",
    "\n",
    "    paste(\"Plotting residuals - test for normality of errors (MLR 6)\")\n",
    "    hist(m$residuals, breaks=50, main = \"Histogram of residuals\")\n",
    "\n",
    "    paste(\"Diagnostic plots (MLR 4,5 - Residual vs fitted), (MLR6 - QQ Plot), (MLR5 - Std. Residuals), (Cooks Dist - Outliers test)\")\n",
    "    #par(mfrow=c(3,3))\n",
    "    plot(m, which=1:6, col = 'blue')\n",
    "    \n",
    "}\n",
    "\n",
    "summary(model$residuals)\n",
    "evaluate_model_shapiro(model)\n",
    "evaluate_model_bp(model)\n",
    "evaluate_model_plots(model)"
   ]
  },
  {
   "cell_type": "code",
   "execution_count": 81,
   "metadata": {},
   "outputs": [
    {
     "data": {
      "text/plain": [
       "\n",
       "t test of coefficients:\n",
       "\n",
       "                 Estimate  Std. Error t value  Pr(>|t|)    \n",
       "(Intercept)   -1.5483e+00  2.3621e-01 -6.5548 7.241e-09 ***\n",
       "prbarr        -8.4451e-01  1.7588e-01 -4.8016 8.306e-06 ***\n",
       "prbconv       -5.6900e-01  1.6821e-01 -3.3827 0.0011637 ** \n",
       "polpc          1.0245e+02  6.6327e+01  1.5446 0.1268172    \n",
       "log10_density  2.7446e-01  7.3685e-02  3.7247 0.0003856 ***\n",
       "pctmin80       5.4491e-01  7.7965e-02  6.9891 1.158e-09 ***\n",
       "pctymle        7.3407e-01  5.8174e-01  1.2618 0.2110787    \n",
       "wcon           2.5534e-04  3.2404e-04  0.7880 0.4332828    \n",
       "wtuc           4.4074e-05  2.1189e-04  0.2080 0.8358132    \n",
       "wtrd           2.3209e-04  5.1093e-04  0.4543 0.6510149    \n",
       "wfir          -5.4651e-04  3.8483e-04 -1.4201 0.1598905    \n",
       "wser          -6.7630e-04  4.5717e-04 -1.4793 0.1434143    \n",
       "wmfg           6.3345e-06  1.3349e-04  0.0475 0.9622842    \n",
       "wfed           5.3298e-04  4.0721e-04  1.3089 0.1947378    \n",
       "wsta          -5.2163e-04  2.9106e-04 -1.7921 0.0773120 .  \n",
       "wloc           5.4722e-04  7.6899e-04  0.7116 0.4790061    \n",
       "---\n",
       "Signif. codes:  0 '***' 0.001 '**' 0.01 '*' 0.05 '.' 0.1 ' ' 1\n"
      ]
     },
     "metadata": {},
     "output_type": "display_data"
    },
    {
     "data": {
      "text/plain": [
       "\n",
       "Call:\n",
       "lm(formula = y ~ prbarr + prbconv + polpc + log10_density + pctmin80 + \n",
       "    pctymle + wcon + wtuc + wtrd + wfir + wser + wmfg + wfed + \n",
       "    wsta + wloc, data = data)\n",
       "\n",
       "Residuals:\n",
       "      Min        1Q    Median        3Q       Max \n",
       "-0.202717 -0.044344 -0.003193  0.056039  0.243642 \n",
       "\n",
       "Coefficients:\n",
       "                Estimate Std. Error t value Pr(>|t|)    \n",
       "(Intercept)   -1.548e+00  2.015e-01  -7.685 5.93e-11 ***\n",
       "prbarr        -8.445e-01  1.314e-01  -6.428 1.23e-08 ***\n",
       "prbconv       -5.690e-01  8.729e-02  -6.518 8.44e-09 ***\n",
       "polpc          1.025e+02  1.939e+01   5.283 1.30e-06 ***\n",
       "log10_density  2.745e-01  5.348e-02   5.132 2.34e-06 ***\n",
       "pctmin80       5.449e-01  6.758e-02   8.063 1.17e-11 ***\n",
       "pctymle        7.341e-01  4.914e-01   1.494   0.1396    \n",
       "wcon           2.553e-04  2.993e-04   0.853   0.3965    \n",
       "wtuc           4.407e-05  1.645e-04   0.268   0.7895    \n",
       "wtrd           2.321e-04  5.004e-04   0.464   0.6442    \n",
       "wfir          -5.465e-04  3.065e-04  -1.783   0.0788 .  \n",
       "wser          -6.763e-04  3.638e-04  -1.859   0.0671 .  \n",
       "wmfg           6.334e-06  1.530e-04   0.041   0.9671    \n",
       "wfed           5.330e-04  2.909e-04   1.832   0.0710 .  \n",
       "wsta          -5.216e-04  2.831e-04  -1.843   0.0695 .  \n",
       "wloc           5.472e-04  5.569e-04   0.983   0.3291    \n",
       "---\n",
       "Signif. codes:  0 '***' 0.001 '**' 0.01 '*' 0.05 '.' 0.1 ' ' 1\n",
       "\n",
       "Residual standard error: 0.09435 on 72 degrees of freedom\n",
       "Multiple R-squared:  0.849,\tAdjusted R-squared:  0.8175 \n",
       "F-statistic: 26.98 on 15 and 72 DF,  p-value: < 2.2e-16\n"
      ]
     },
     "metadata": {},
     "output_type": "display_data"
    },
    {
     "data": {
      "text/html": [
       "-149.41953205945"
      ],
      "text/latex": [
       "-149.41953205945"
      ],
      "text/markdown": [
       "-149.41953205945"
      ],
      "text/plain": [
       "[1] -149.4195"
      ]
     },
     "metadata": {},
     "output_type": "display_data"
    },
    {
     "data": {
      "text/html": [
       "-107.30480621332"
      ],
      "text/latex": [
       "-107.30480621332"
      ],
      "text/markdown": [
       "-107.30480621332"
      ],
      "text/plain": [
       "[1] -107.3048"
      ]
     },
     "metadata": {},
     "output_type": "display_data"
    },
    {
     "data": {
      "text/html": [
       "<style>\n",
       ".dl-inline {width: auto; margin:0; padding: 0}\n",
       ".dl-inline>dt, .dl-inline>dd {float: none; width: auto; display: inline-block}\n",
       ".dl-inline>dt::after {content: \":\\0020\"; padding-right: .5ex}\n",
       ".dl-inline>dt:not(:first-of-type) {padding-left: .5ex}\n",
       "</style><dl class=dl-inline><dt>prbarr</dt><dd>1.59504641939292</dd><dt>prbconv</dt><dd>1.46344468699093</dd><dt>polpc</dt><dd>1.28666287095024</dd><dt>log10_density</dt><dd>3.02027789979731</dd><dt>pctmin80</dt><dd>1.22946632965372</dd><dt>pctymle</dt><dd>1.31672235884236</dd><dt>wcon</dt><dd>1.9089095573157</dd><dt>wtuc</dt><dd>1.46761353381676</dd><dt>wtrd</dt><dd>2.86946335963422</dd><dt>wfir</dt><dd>2.6866336921727</dd><dt>wser</dt><dd>2.52823550247693</dd><dt>wmfg</dt><dd>1.71890473584918</dd><dt>wfed</dt><dd>2.8958370513628</dd><dt>wsta</dt><dd>1.47189095509216</dd><dt>wloc</dt><dd>2.30288314859785</dd></dl>\n"
      ],
      "text/latex": [
       "\\begin{description*}\n",
       "\\item[prbarr] 1.59504641939292\n",
       "\\item[prbconv] 1.46344468699093\n",
       "\\item[polpc] 1.28666287095024\n",
       "\\item[log10\\textbackslash{}\\_density] 3.02027789979731\n",
       "\\item[pctmin80] 1.22946632965372\n",
       "\\item[pctymle] 1.31672235884236\n",
       "\\item[wcon] 1.9089095573157\n",
       "\\item[wtuc] 1.46761353381676\n",
       "\\item[wtrd] 2.86946335963422\n",
       "\\item[wfir] 2.6866336921727\n",
       "\\item[wser] 2.52823550247693\n",
       "\\item[wmfg] 1.71890473584918\n",
       "\\item[wfed] 2.8958370513628\n",
       "\\item[wsta] 1.47189095509216\n",
       "\\item[wloc] 2.30288314859785\n",
       "\\end{description*}\n"
      ],
      "text/markdown": [
       "prbarr\n",
       ":   1.59504641939292prbconv\n",
       ":   1.46344468699093polpc\n",
       ":   1.28666287095024log10_density\n",
       ":   3.02027789979731pctmin80\n",
       ":   1.22946632965372pctymle\n",
       ":   1.31672235884236wcon\n",
       ":   1.9089095573157wtuc\n",
       ":   1.46761353381676wtrd\n",
       ":   2.86946335963422wfir\n",
       ":   2.6866336921727wser\n",
       ":   2.52823550247693wmfg\n",
       ":   1.71890473584918wfed\n",
       ":   2.8958370513628wsta\n",
       ":   1.47189095509216wloc\n",
       ":   2.30288314859785\n",
       "\n"
      ],
      "text/plain": [
       "       prbarr       prbconv         polpc log10_density      pctmin80 \n",
       "     1.595046      1.463445      1.286663      3.020278      1.229466 \n",
       "      pctymle          wcon          wtuc          wtrd          wfir \n",
       "     1.316722      1.908910      1.467614      2.869463      2.686634 \n",
       "         wser          wmfg          wfed          wsta          wloc \n",
       "     2.528236      1.718905      2.895837      1.471891      2.302883 "
      ]
     },
     "metadata": {},
     "output_type": "display_data"
    }
   ],
   "source": [
    "# Always use heteroskedasticity robust std errors for beta values\n",
    "# Get the coefficients for the variables in the model\n",
    "coeftest(model, vcov = vcovHC)\n",
    "summary(model)\n",
    "AIC(model)\n",
    "BIC(model)\n",
    "vif(model)"
   ]
  },
  {
   "cell_type": "code",
   "execution_count": 84,
   "metadata": {},
   "outputs": [
    {
     "data": {
      "image/png": "[encoded data removed]",
      "text/plain": [
       "plot without title"
      ]
     },
     "metadata": {},
     "output_type": "display_data"
    }
   ],
   "source": [
    "exodata = cbind(model$residuals, data$prbarr, data$prbconv, data$log10_density, data$pctmin80)\n",
    "ggcorr(exodata, size = 3, label=TRUE)"
   ]
  },
  {
   "cell_type": "markdown",
   "metadata": {},
   "source": [
    "### Causality Criteria\n",
    "\n",
    "We notice that the residuals mean is 0.\n",
    "We also notice that the correlation between the residuals and the \"significant\" model variables is 0 for all variables (see last row in the above correlation matrix plot). \n",
    "\n",
    "**Hence, we can say that the exogeneity assumption is satisfied and hence, the effect of our model specification is causal**\n"
   ]
  },
  {
   "cell_type": "markdown",
   "metadata": {},
   "source": [
    "### Model3: Maximalist approach model with backward elimination / forward selection"
   ]
  },
  {
   "cell_type": "code",
   "execution_count": 88,
   "metadata": {},
   "outputs": [
    {
     "data": {
      "text/plain": [
       "y ~ county + year + crmrte + prbarr + prbconv + prbpris + avgsen + \n",
       "    polpc + density + taxpc + west + central + urban + pctmin80 + \n",
       "    wcon + wtuc + wtrd + wfir + wser + wmfg + wfed + wsta + wloc + \n",
       "    mix + pctymle + geo + west_central + west_urban + central_urban + \n",
       "    non_urban_west_central + density_min80 + density_ymle + log10_density + \n",
       "    wtotal"
      ]
     },
     "metadata": {},
     "output_type": "display_data"
    }
   ],
   "source": [
    "model3 = lm(y ~ . , data = data)\n",
    "#summary(model3)\n",
    "\n",
    "#step(model3, direction = \"backward\")\n",
    "formula(model3)\n",
    "#par(mfrow=c(2,3))\n",
    "#plot(model3, which=1:6, col = 'blue')"
   ]
  },
  {
   "cell_type": "code",
   "execution_count": 95,
   "metadata": {},
   "outputs": [
    {
     "data": {
      "text/plain": [
       "\n",
       "Call:\n",
       "lm(formula = y ~ 1, data = data)\n",
       "\n",
       "Residuals:\n",
       "     Min       1Q   Median       3Q      Max \n",
       "-0.45116 -0.12543 -0.00001  0.13407  0.51807 \n",
       "\n",
       "Coefficients:\n",
       "            Estimate Std. Error t value Pr(>|t|)    \n",
       "(Intercept) -1.52258    0.02354  -64.67   <2e-16 ***\n",
       "---\n",
       "Signif. codes:  0 '***' 0.001 '**' 0.01 '*' 0.05 '.' 0.1 ' ' 1\n",
       "\n",
       "Residual standard error: 0.2209 on 87 degrees of freedom\n"
      ]
     },
     "metadata": {},
     "output_type": "display_data"
    },
    {
     "name": "stdout",
     "output_type": "stream",
     "text": [
      "Start:  AIC=-264.8\n",
      "y ~ 1\n",
      "\n",
      "                         Df Sum of Sq    RSS     AIC\n",
      "+ crmrte                  1    3.8645 0.3793 -475.31\n",
      "+ density_min80           1    1.9797 2.2642 -318.09\n",
      "+ density_ymle            1    1.9582 2.2856 -317.26\n",
      "+ log10_density           1    1.9369 2.3069 -316.45\n",
      "+ density                 1    1.7465 2.4974 -309.46\n",
      "+ wfed                    1    1.1798 3.0641 -291.47\n",
      "+ polpc                   1    1.1578 3.0860 -290.84\n",
      "+ urban                   1    1.1236 3.1203 -289.87\n",
      "+ wtotal                  1    0.9874 3.2564 -286.11\n",
      "+ wloc                    1    0.6965 3.5474 -278.58\n",
      "+ central_urban           1    0.6733 3.5705 -278.01\n",
      "+ west                    1    0.6329 3.6110 -277.02\n",
      "+ wtrd                    1    0.6156 3.6282 -276.60\n",
      "+ prbarr                  1    0.5888 3.6550 -275.95\n",
      "+ taxpc                   1    0.5827 3.6611 -275.80\n",
      "+ prbconv                 1    0.5435 3.7003 -274.87\n",
      "+ wmfg                    1    0.5076 3.7362 -274.02\n",
      "+ wser                    1    0.5067 3.7372 -273.99\n",
      "+ wcon                    1    0.4605 3.7833 -272.91\n",
      "+ wfir                    1    0.3614 3.8825 -270.64\n",
      "+ pctymle                 1    0.3028 3.9410 -269.32\n",
      "+ pctmin80                1    0.3015 3.9423 -269.29\n",
      "+ wtuc                    1    0.1749 4.0689 -266.51\n",
      "+ wsta                    1    0.1731 4.0707 -266.47\n",
      "+ central                 1    0.1610 4.0829 -266.21\n",
      "<none>                                4.2438 -264.80\n",
      "+ west_central            1    0.0674 4.1764 -264.21\n",
      "+ mix                     1    0.0604 4.1834 -264.07\n",
      "+ county                  1    0.0280 4.2158 -263.39\n",
      "+ west_urban              1    0.0270 4.2168 -263.37\n",
      "+ non_urban_west_central  1    0.0240 4.2198 -263.30\n",
      "+ avgsen                  1    0.0118 4.2321 -263.05\n",
      "+ prbpris                 1    0.0017 4.2422 -262.84\n",
      "\n",
      "Step:  AIC=-475.31\n",
      "y ~ crmrte\n",
      "\n",
      "                         Df Sum of Sq     RSS     AIC\n",
      "+ urban                   1  0.041396 0.33792 -483.48\n",
      "+ density_min80           1  0.032453 0.34686 -481.18\n",
      "+ wfed                    1  0.030278 0.34904 -480.63\n",
      "+ density_ymle            1  0.028564 0.35075 -480.20\n",
      "+ west                    1  0.025262 0.35405 -479.38\n",
      "+ density                 1  0.021585 0.35773 -478.47\n",
      "+ taxpc                   1  0.021524 0.35779 -478.45\n",
      "+ pctmin80                1  0.020488 0.35883 -478.20\n",
      "+ non_urban_west_central  1  0.017872 0.36144 -477.56\n",
      "+ central_urban           1  0.014009 0.36531 -476.62\n",
      "<none>                                0.37932 -475.31\n",
      "+ county                  1  0.004348 0.37497 -474.33\n",
      "+ wser                    1  0.004223 0.37509 -474.30\n",
      "+ central                 1  0.003958 0.37536 -474.23\n",
      "+ west_urban              1  0.003109 0.37621 -474.04\n",
      "+ log10_density           1  0.002910 0.37641 -473.99\n",
      "+ prbconv                 1  0.001784 0.37753 -473.73\n",
      "+ wfir                    1  0.001137 0.37818 -473.58\n",
      "+ wloc                    1  0.000974 0.37834 -473.54\n",
      "+ prbpris                 1  0.000897 0.37842 -473.52\n",
      "+ west_central            1  0.000882 0.37843 -473.52\n",
      "+ polpc                   1  0.000774 0.37854 -473.49\n",
      "+ avgsen                  1  0.000746 0.37857 -473.49\n",
      "+ wtotal                  1  0.000722 0.37859 -473.48\n",
      "+ wsta                    1  0.000493 0.37882 -473.43\n",
      "+ wcon                    1  0.000346 0.37897 -473.39\n",
      "+ wtuc                    1  0.000335 0.37898 -473.39\n",
      "+ prbarr                  1  0.000184 0.37913 -473.35\n",
      "+ mix                     1  0.000105 0.37921 -473.34\n",
      "+ pctymle                 1  0.000006 0.37931 -473.31\n",
      "+ wmfg                    1  0.000004 0.37931 -473.31\n",
      "+ wtrd                    1  0.000002 0.37931 -473.31\n",
      "\n",
      "Step:  AIC=-483.48\n",
      "y ~ crmrte + urban\n",
      "\n",
      "                         Df Sum of Sq     RSS     AIC\n",
      "+ wfed                    1  0.046839 0.29108 -494.61\n",
      "+ log10_density           1  0.023087 0.31483 -487.71\n",
      "+ west_urban              1  0.021454 0.31647 -487.25\n",
      "+ taxpc                   1  0.016493 0.32143 -485.88\n",
      "+ west                    1  0.016340 0.32158 -485.84\n",
      "+ wser                    1  0.016008 0.32191 -485.75\n",
      "+ pctmin80                1  0.013546 0.32437 -485.08\n",
      "+ wtotal                  1  0.009503 0.32842 -483.99\n",
      "<none>                                0.33792 -483.48\n",
      "+ central                 1  0.006074 0.33185 -483.08\n",
      "+ non_urban_west_central  1  0.005214 0.33270 -482.85\n",
      "+ density_min80           1  0.003733 0.33419 -482.46\n",
      "+ wloc                    1  0.003541 0.33438 -482.41\n",
      "+ wmfg                    1  0.002691 0.33523 -482.18\n",
      "+ wtrd                    1  0.002335 0.33558 -482.09\n",
      "+ density_ymle            1  0.001873 0.33605 -481.97\n",
      "+ county                  1  0.001862 0.33606 -481.97\n",
      "+ prbconv                 1  0.001559 0.33636 -481.89\n",
      "+ central_urban           1  0.001129 0.33679 -481.78\n",
      "+ polpc                   1  0.000602 0.33732 -481.64\n",
      "+ wsta                    1  0.000597 0.33732 -481.64\n",
      "+ prbpris                 1  0.000556 0.33736 -481.63\n",
      "+ wfir                    1  0.000446 0.33747 -481.60\n",
      "+ pctymle                 1  0.000406 0.33751 -481.59\n",
      "+ prbarr                  1  0.000209 0.33771 -481.54\n",
      "+ density                 1  0.000085 0.33783 -481.50\n",
      "+ wcon                    1  0.000066 0.33785 -481.50\n",
      "+ mix                     1  0.000043 0.33788 -481.49\n",
      "+ avgsen                  1  0.000035 0.33788 -481.49\n",
      "+ wtuc                    1  0.000026 0.33789 -481.49\n",
      "+ west_central            1  0.000004 0.33792 -481.48\n",
      "\n",
      "Step:  AIC=-494.61\n",
      "y ~ crmrte + urban + wfed\n",
      "\n",
      "                         Df Sum of Sq     RSS     AIC\n",
      "+ west_urban              1 0.0212561 0.26982 -499.28\n",
      "+ non_urban_west_central  1 0.0159593 0.27512 -497.57\n",
      "+ west                    1 0.0152529 0.27583 -497.35\n",
      "+ pctmin80                1 0.0148900 0.27619 -497.23\n",
      "+ wfir                    1 0.0122909 0.27879 -496.41\n",
      "+ density_min80           1 0.0101425 0.28094 -495.73\n",
      "+ density                 1 0.0087335 0.28235 -495.29\n",
      "+ wtotal                  1 0.0078443 0.28324 -495.02\n",
      "+ taxpc                   1 0.0068958 0.28418 -494.72\n",
      "+ density_ymle            1 0.0066441 0.28444 -494.64\n",
      "+ wcon                    1 0.0065996 0.28448 -494.63\n",
      "<none>                                0.29108 -494.61\n",
      "+ prbconv                 1 0.0062250 0.28486 -494.51\n",
      "+ wtrd                    1 0.0056635 0.28542 -494.34\n",
      "+ wtuc                    1 0.0035281 0.28755 -493.68\n",
      "+ mix                     1 0.0027370 0.28834 -493.44\n",
      "+ log10_density           1 0.0022787 0.28880 -493.30\n",
      "+ county                  1 0.0012837 0.28980 -493.00\n",
      "+ wloc                    1 0.0012392 0.28984 -492.99\n",
      "+ pctymle                 1 0.0010026 0.29008 -492.92\n",
      "+ wmfg                    1 0.0008675 0.29021 -492.87\n",
      "+ prbpris                 1 0.0006074 0.29047 -492.80\n",
      "+ west_central            1 0.0003918 0.29069 -492.73\n",
      "+ wser                    1 0.0003729 0.29071 -492.72\n",
      "+ central                 1 0.0001266 0.29095 -492.65\n",
      "+ avgsen                  1 0.0001025 0.29098 -492.64\n",
      "+ wsta                    1 0.0000096 0.29107 -492.61\n",
      "+ polpc                   1 0.0000067 0.29107 -492.61\n",
      "+ prbarr                  1 0.0000018 0.29108 -492.61\n",
      "+ central_urban           1 0.0000015 0.29108 -492.61\n",
      "\n",
      "Step:  AIC=-499.28\n",
      "y ~ crmrte + urban + wfed + west_urban\n",
      "\n",
      "                         Df Sum of Sq     RSS     AIC\n",
      "+ west                    1 0.0229416 0.24688 -505.10\n",
      "+ pctmin80                1 0.0175294 0.25229 -503.20\n",
      "+ non_urban_west_central  1 0.0142326 0.25559 -502.05\n",
      "+ wfir                    1 0.0107369 0.25909 -500.86\n",
      "+ taxpc                   1 0.0089371 0.26089 -500.25\n",
      "+ central_urban           1 0.0077278 0.26210 -499.84\n",
      "+ wcon                    1 0.0063530 0.26347 -499.38\n",
      "+ wtotal                  1 0.0062109 0.26361 -499.33\n",
      "<none>                                0.26982 -499.28\n",
      "+ prbconv                 1 0.0048436 0.26498 -498.88\n",
      "+ mix                     1 0.0045684 0.26526 -498.79\n",
      "+ wtrd                    1 0.0040093 0.26581 -498.60\n",
      "+ log10_density           1 0.0030758 0.26675 -498.29\n",
      "+ wtuc                    1 0.0029930 0.26683 -498.27\n",
      "+ county                  1 0.0027846 0.26704 -498.20\n",
      "+ density                 1 0.0021975 0.26763 -498.00\n",
      "+ wloc                    1 0.0015120 0.26831 -497.78\n",
      "+ pctymle                 1 0.0013447 0.26848 -497.72\n",
      "+ central                 1 0.0010350 0.26879 -497.62\n",
      "+ density_ymle            1 0.0007955 0.26903 -497.54\n",
      "+ density_min80           1 0.0007177 0.26911 -497.52\n",
      "+ prbpris                 1 0.0006843 0.26914 -497.51\n",
      "+ west_central            1 0.0006454 0.26918 -497.50\n",
      "+ wmfg                    1 0.0003187 0.26950 -497.39\n",
      "+ wser                    1 0.0001607 0.26966 -497.34\n",
      "+ wsta                    1 0.0000888 0.26974 -497.31\n",
      "+ avgsen                  1 0.0000375 0.26979 -497.30\n",
      "+ prbarr                  1 0.0000369 0.26979 -497.30\n",
      "+ polpc                   1 0.0000002 0.26982 -497.28\n",
      "\n",
      "Step:  AIC=-505.1\n",
      "y ~ crmrte + urban + wfed + west_urban + west\n",
      "\n",
      "                         Df Sum of Sq     RSS     AIC\n",
      "+ taxpc                   1 0.0114464 0.23544 -507.28\n",
      "+ wfir                    1 0.0081278 0.23875 -506.05\n",
      "+ wcon                    1 0.0076376 0.23924 -505.87\n",
      "+ log10_density           1 0.0069356 0.23995 -505.61\n",
      "+ central_urban           1 0.0065435 0.24034 -505.47\n",
      "+ prbconv                 1 0.0065244 0.24036 -505.46\n",
      "<none>                                0.24688 -505.10\n",
      "+ density_min80           1 0.0053691 0.24151 -505.04\n",
      "+ wtrd                    1 0.0042432 0.24264 -504.63\n",
      "+ county                  1 0.0042128 0.24267 -504.62\n",
      "+ wtotal                  1 0.0031782 0.24370 -504.24\n",
      "+ non_urban_west_central  1 0.0030392 0.24384 -504.19\n",
      "+ pctymle                 1 0.0025421 0.24434 -504.01\n",
      "+ pctmin80                1 0.0024251 0.24446 -503.97\n",
      "+ mix                     1 0.0022079 0.24467 -503.89\n",
      "+ wloc                    1 0.0019607 0.24492 -503.81\n",
      "+ wser                    1 0.0013786 0.24550 -503.60\n",
      "+ prbpris                 1 0.0006111 0.24627 -503.32\n",
      "+ central                 1 0.0005761 0.24631 -503.31\n",
      "+ polpc                   1 0.0004667 0.24641 -503.27\n",
      "+ wtuc                    1 0.0004145 0.24647 -503.25\n",
      "+ density                 1 0.0003585 0.24652 -503.23\n",
      "+ west_central            1 0.0002825 0.24660 -503.20\n",
      "+ prbarr                  1 0.0001400 0.24674 -503.15\n",
      "+ avgsen                  1 0.0000029 0.24688 -503.10\n",
      "+ density_ymle            1 0.0000014 0.24688 -503.10\n",
      "+ wsta                    1 0.0000004 0.24688 -503.10\n",
      "+ wmfg                    1 0.0000004 0.24688 -503.10\n",
      "\n",
      "Step:  AIC=-507.28\n",
      "y ~ crmrte + urban + wfed + west_urban + west + taxpc\n",
      "\n",
      "                         Df Sum of Sq     RSS     AIC\n",
      "+ central_urban           1 0.0085960 0.22684 -508.55\n",
      "+ density_min80           1 0.0083423 0.22709 -508.46\n",
      "+ polpc                   1 0.0083001 0.22714 -508.44\n",
      "+ wfir                    1 0.0063918 0.22904 -507.70\n",
      "+ prbconv                 1 0.0054543 0.22998 -507.34\n",
      "<none>                                0.23544 -507.28\n",
      "+ wser                    1 0.0045562 0.23088 -507.00\n",
      "+ log10_density           1 0.0044807 0.23095 -506.97\n",
      "+ wcon                    1 0.0043772 0.23106 -506.93\n",
      "+ non_urban_west_central  1 0.0033645 0.23207 -506.55\n",
      "+ county                  1 0.0031237 0.23231 -506.46\n",
      "+ wtrd                    1 0.0029427 0.23249 -506.39\n",
      "+ mix                     1 0.0016877 0.23375 -505.91\n",
      "+ prbpris                 1 0.0015083 0.23393 -505.85\n",
      "+ wloc                    1 0.0007447 0.23469 -505.56\n",
      "+ wtotal                  1 0.0007314 0.23470 -505.56\n",
      "+ wmfg                    1 0.0006859 0.23475 -505.54\n",
      "+ central                 1 0.0006380 0.23480 -505.52\n",
      "+ density_ymle            1 0.0006360 0.23480 -505.52\n",
      "+ pctmin80                1 0.0005459 0.23489 -505.49\n",
      "+ wsta                    1 0.0003640 0.23507 -505.42\n",
      "+ pctymle                 1 0.0003267 0.23511 -505.40\n",
      "+ density                 1 0.0003076 0.23513 -505.40\n",
      "+ avgsen                  1 0.0001931 0.23524 -505.35\n",
      "+ west_central            1 0.0000775 0.23536 -505.31\n",
      "+ prbarr                  1 0.0000309 0.23541 -505.29\n",
      "+ wtuc                    1 0.0000001 0.23544 -505.28\n",
      "\n",
      "Step:  AIC=-508.55\n",
      "y ~ crmrte + urban + wfed + west_urban + west + taxpc + central_urban\n",
      "\n",
      "                         Df Sum of Sq     RSS     AIC\n",
      "+ density_min80           1 0.0155121 0.21133 -512.79\n",
      "+ wfir                    1 0.0084815 0.21836 -509.91\n",
      "+ polpc                   1 0.0079246 0.21891 -509.68\n",
      "+ wtrd                    1 0.0060434 0.22080 -508.93\n",
      "+ wcon                    1 0.0059068 0.22093 -508.88\n",
      "<none>                                0.22684 -508.55\n",
      "+ prbconv                 1 0.0043220 0.22252 -508.25\n",
      "+ log10_density           1 0.0037383 0.22310 -508.02\n",
      "+ wser                    1 0.0034857 0.22335 -507.92\n",
      "+ non_urban_west_central  1 0.0027552 0.22408 -507.63\n",
      "+ county                  1 0.0026439 0.22420 -507.59\n",
      "+ central                 1 0.0024567 0.22438 -507.51\n",
      "+ prbpris                 1 0.0018377 0.22500 -507.27\n",
      "+ wtotal                  1 0.0018055 0.22503 -507.26\n",
      "+ density                 1 0.0014453 0.22539 -507.12\n",
      "+ wloc                    1 0.0012478 0.22559 -507.04\n",
      "+ mix                     1 0.0010172 0.22582 -506.95\n",
      "+ density_ymle            1 0.0009928 0.22585 -506.94\n",
      "+ wmfg                    1 0.0009820 0.22586 -506.94\n",
      "+ wsta                    1 0.0005059 0.22633 -506.75\n",
      "+ pctmin80                1 0.0004618 0.22638 -506.73\n",
      "+ pctymle                 1 0.0004306 0.22641 -506.72\n",
      "+ avgsen                  1 0.0002312 0.22661 -506.64\n",
      "+ wtuc                    1 0.0001959 0.22664 -506.63\n",
      "+ west_central            1 0.0000343 0.22681 -506.57\n",
      "+ prbarr                  1 0.0000030 0.22684 -506.56\n",
      "\n",
      "Step:  AIC=-512.79\n",
      "y ~ crmrte + urban + wfed + west_urban + west + taxpc + central_urban + \n",
      "    density_min80\n",
      "\n",
      "                         Df Sum of Sq     RSS     AIC\n",
      "+ log10_density           1 0.0098872 0.20144 -515.00\n",
      "+ polpc                   1 0.0089343 0.20239 -514.59\n",
      "+ wser                    1 0.0078875 0.20344 -514.14\n",
      "+ wcon                    1 0.0057644 0.20556 -513.22\n",
      "+ pctmin80                1 0.0053642 0.20596 -513.05\n",
      "+ non_urban_west_central  1 0.0048939 0.20643 -512.85\n",
      "<none>                                0.21133 -512.79\n",
      "+ wtrd                    1 0.0042659 0.20706 -512.58\n",
      "+ central                 1 0.0036815 0.20765 -512.33\n",
      "+ wfir                    1 0.0033497 0.20798 -512.19\n",
      "+ county                  1 0.0028205 0.20851 -511.97\n",
      "+ wmfg                    1 0.0022703 0.20906 -511.74\n",
      "+ mix                     1 0.0020580 0.20927 -511.65\n",
      "+ wsta                    1 0.0020413 0.20929 -511.64\n",
      "+ prbconv                 1 0.0018854 0.20944 -511.58\n",
      "+ density                 1 0.0008511 0.21048 -511.14\n",
      "+ west_central            1 0.0008176 0.21051 -511.13\n",
      "+ wloc                    1 0.0005935 0.21073 -511.04\n",
      "+ prbpris                 1 0.0005692 0.21076 -511.03\n",
      "+ wtotal                  1 0.0004735 0.21085 -510.99\n",
      "+ density_ymle            1 0.0002476 0.21108 -510.89\n",
      "+ prbarr                  1 0.0001812 0.21115 -510.86\n",
      "+ pctymle                 1 0.0000899 0.21124 -510.83\n",
      "+ wtuc                    1 0.0000813 0.21125 -510.82\n",
      "+ avgsen                  1 0.0000255 0.21130 -510.80\n",
      "\n",
      "Step:  AIC=-515\n",
      "y ~ crmrte + urban + wfed + west_urban + west + taxpc + central_urban + \n",
      "    density_min80 + log10_density\n",
      "\n",
      "                         Df Sum of Sq     RSS     AIC\n",
      "+ pctmin80                1  0.047172 0.15427 -536.48\n",
      "+ non_urban_west_central  1  0.016154 0.18529 -520.36\n",
      "+ central                 1  0.014826 0.18661 -519.73\n",
      "+ wcon                    1  0.009343 0.19210 -517.18\n",
      "+ wtrd                    1  0.007193 0.19425 -516.20\n",
      "+ polpc                   1  0.007099 0.19434 -516.16\n",
      "+ density_ymle            1  0.006700 0.19474 -515.98\n",
      "+ wfir                    1  0.005748 0.19569 -515.55\n",
      "+ density                 1  0.005492 0.19595 -515.44\n",
      "+ mix                     1  0.005207 0.19623 -515.31\n",
      "<none>                                0.20144 -515.00\n",
      "+ wser                    1  0.003317 0.19812 -514.47\n",
      "+ wloc                    1  0.002658 0.19878 -514.17\n",
      "+ wtotal                  1  0.002286 0.19915 -514.01\n",
      "+ county                  1  0.002141 0.19930 -513.95\n",
      "+ wmfg                    1  0.001832 0.19961 -513.81\n",
      "+ wsta                    1  0.001791 0.19965 -513.79\n",
      "+ prbconv                 1  0.001649 0.19979 -513.73\n",
      "+ prbarr                  1  0.000984 0.20046 -513.44\n",
      "+ prbpris                 1  0.000226 0.20122 -513.10\n",
      "+ wtuc                    1  0.000210 0.20123 -513.10\n",
      "+ west_central            1  0.000128 0.20131 -513.06\n",
      "+ pctymle                 1  0.000077 0.20136 -513.04\n",
      "+ avgsen                  1  0.000020 0.20142 -513.01\n",
      "\n",
      "Step:  AIC=-536.48\n",
      "y ~ crmrte + urban + wfed + west_urban + west + taxpc + central_urban + \n",
      "    density_min80 + log10_density + pctmin80\n",
      "\n",
      "                         Df Sum of Sq     RSS     AIC\n",
      "+ wser                    1 0.0074673 0.14680 -538.85\n",
      "+ polpc                   1 0.0051587 0.14911 -537.48\n",
      "+ wsta                    1 0.0037859 0.15048 -536.67\n",
      "+ wfir                    1 0.0035597 0.15071 -536.54\n",
      "<none>                                0.15427 -536.48\n",
      "+ wmfg                    1 0.0031125 0.15116 -536.28\n",
      "+ mix                     1 0.0030864 0.15118 -536.26\n",
      "+ wtrd                    1 0.0030579 0.15121 -536.25\n",
      "+ wcon                    1 0.0029917 0.15128 -536.21\n",
      "+ central                 1 0.0029907 0.15128 -536.21\n",
      "+ non_urban_west_central  1 0.0024872 0.15178 -535.91\n",
      "+ density_ymle            1 0.0016795 0.15259 -535.45\n",
      "+ prbarr                  1 0.0016670 0.15260 -535.44\n",
      "+ county                  1 0.0008178 0.15345 -534.95\n",
      "+ prbconv                 1 0.0007928 0.15348 -534.94\n",
      "+ wloc                    1 0.0006932 0.15357 -534.88\n",
      "+ west_central            1 0.0005577 0.15371 -534.80\n",
      "+ prbpris                 1 0.0005236 0.15374 -534.78\n",
      "+ density                 1 0.0003409 0.15393 -534.68\n",
      "+ wtotal                  1 0.0002292 0.15404 -534.61\n",
      "+ pctymle                 1 0.0001862 0.15408 -534.59\n",
      "+ avgsen                  1 0.0000347 0.15423 -534.50\n",
      "+ wtuc                    1 0.0000058 0.15426 -534.49\n",
      "\n",
      "Step:  AIC=-538.85\n",
      "y ~ crmrte + urban + wfed + west_urban + west + taxpc + central_urban + \n",
      "    density_min80 + log10_density + pctmin80 + wser\n",
      "\n",
      "                         Df Sum of Sq     RSS     AIC\n",
      "+ wcon                    1 0.0062937 0.14051 -540.71\n",
      "+ wfir                    1 0.0060702 0.14073 -540.57\n",
      "+ polpc                   1 0.0052860 0.14152 -540.08\n",
      "+ mix                     1 0.0050194 0.14178 -539.91\n",
      "+ wtotal                  1 0.0046993 0.14210 -539.71\n",
      "+ wtrd                    1 0.0044443 0.14236 -539.55\n",
      "+ wsta                    1 0.0035536 0.14325 -539.01\n",
      "+ wloc                    1 0.0033751 0.14343 -538.90\n",
      "<none>                                0.14680 -538.85\n",
      "+ density_ymle            1 0.0027858 0.14402 -538.54\n",
      "+ central                 1 0.0025178 0.14428 -538.37\n",
      "+ non_urban_west_central  1 0.0021492 0.14465 -538.15\n",
      "+ wmfg                    1 0.0014220 0.14538 -537.71\n",
      "+ pctymle                 1 0.0013305 0.14547 -537.65\n",
      "+ county                  1 0.0010255 0.14577 -537.47\n",
      "+ prbarr                  1 0.0007610 0.14604 -537.31\n",
      "+ prbconv                 1 0.0006960 0.14611 -537.27\n",
      "+ west_central            1 0.0003813 0.14642 -537.08\n",
      "+ wtuc                    1 0.0002678 0.14653 -537.01\n",
      "+ prbpris                 1 0.0002266 0.14657 -536.99\n",
      "+ avgsen                  1 0.0000487 0.14675 -536.88\n",
      "+ density                 1 0.0000032 0.14680 -536.85\n",
      "\n",
      "Step:  AIC=-540.71\n",
      "y ~ crmrte + urban + wfed + west_urban + west + taxpc + central_urban + \n",
      "    density_min80 + log10_density + pctmin80 + wser + wcon\n",
      "\n",
      "                         Df Sum of Sq     RSS     AIC\n",
      "+ mix                     1 0.0052537 0.13525 -542.06\n",
      "+ wsta                    1 0.0051391 0.13537 -541.98\n",
      "+ wfir                    1 0.0042452 0.13626 -541.41\n",
      "+ polpc                   1 0.0040864 0.13642 -541.30\n",
      "<none>                                0.14051 -540.71\n",
      "+ density_ymle            1 0.0029254 0.13758 -540.56\n",
      "+ wtrd                    1 0.0023709 0.13814 -540.20\n",
      "+ pctymle                 1 0.0019504 0.13856 -539.94\n",
      "+ county                  1 0.0017991 0.13871 -539.84\n",
      "+ wmfg                    1 0.0014665 0.13904 -539.63\n",
      "+ wtotal                  1 0.0012903 0.13922 -539.52\n",
      "+ wloc                    1 0.0012866 0.13922 -539.51\n",
      "+ central                 1 0.0012418 0.13926 -539.49\n",
      "+ non_urban_west_central  1 0.0009029 0.13960 -539.27\n",
      "+ west_central            1 0.0004942 0.14001 -539.02\n",
      "+ prbconv                 1 0.0004528 0.14005 -538.99\n",
      "+ prbpris                 1 0.0003930 0.14011 -538.95\n",
      "+ prbarr                  1 0.0003388 0.14017 -538.92\n",
      "+ density                 1 0.0000166 0.14049 -538.72\n",
      "+ avgsen                  1 0.0000043 0.14050 -538.71\n",
      "+ wtuc                    1 0.0000019 0.14050 -538.71\n",
      "\n",
      "Step:  AIC=-542.06\n",
      "y ~ crmrte + urban + wfed + west_urban + west + taxpc + central_urban + \n",
      "    density_min80 + log10_density + pctmin80 + wser + wcon + \n",
      "    mix\n",
      "\n",
      "                         Df Sum of Sq     RSS     AIC\n",
      "+ wfir                    1 0.0040709 0.13118 -542.75\n",
      "+ wsta                    1 0.0038608 0.13139 -542.61\n",
      "+ prbarr                  1 0.0035874 0.13167 -542.42\n",
      "+ density_ymle            1 0.0034373 0.13182 -542.32\n",
      "+ wtrd                    1 0.0034048 0.13185 -542.30\n",
      "<none>                                0.13525 -542.06\n",
      "+ wmfg                    1 0.0029780 0.13228 -542.02\n",
      "+ polpc                   1 0.0026223 0.13263 -541.78\n",
      "+ county                  1 0.0026216 0.13263 -541.78\n",
      "+ central                 1 0.0019765 0.13328 -541.35\n",
      "+ prbpris                 1 0.0017762 0.13348 -541.22\n",
      "+ pctymle                 1 0.0015945 0.13366 -541.10\n",
      "+ non_urban_west_central  1 0.0014692 0.13378 -541.02\n",
      "+ wloc                    1 0.0009490 0.13430 -540.68\n",
      "+ west_central            1 0.0006921 0.13456 -540.51\n",
      "+ wtotal                  1 0.0005557 0.13470 -540.42\n",
      "+ avgsen                  1 0.0001097 0.13514 -540.13\n",
      "+ density                 1 0.0000731 0.13518 -540.11\n",
      "+ prbconv                 1 0.0000730 0.13518 -540.11\n",
      "+ wtuc                    1 0.0000222 0.13523 -540.07\n",
      "\n",
      "Step:  AIC=-542.75\n",
      "y ~ crmrte + urban + wfed + west_urban + west + taxpc + central_urban + \n",
      "    density_min80 + log10_density + pctmin80 + wser + wcon + \n",
      "    mix + wfir\n",
      "\n",
      "                         Df Sum of Sq     RSS     AIC\n",
      "+ prbarr                  1 0.0046708 0.12651 -543.94\n",
      "+ wmfg                    1 0.0038916 0.12729 -543.40\n",
      "+ polpc                   1 0.0032195 0.12796 -542.93\n",
      "+ county                  1 0.0030526 0.12813 -542.82\n",
      "<none>                                0.13118 -542.75\n",
      "+ density_ymle            1 0.0028218 0.12836 -542.66\n",
      "+ wsta                    1 0.0022063 0.12898 -542.24\n",
      "+ prbpris                 1 0.0019380 0.12924 -542.06\n",
      "+ central                 1 0.0017129 0.12947 -541.90\n",
      "+ wtrd                    1 0.0015274 0.12965 -541.78\n",
      "+ pctymle                 1 0.0012630 0.12992 -541.60\n",
      "+ non_urban_west_central  1 0.0011183 0.13006 -541.50\n",
      "+ west_central            1 0.0010396 0.13014 -541.45\n",
      "+ wloc                    1 0.0003201 0.13086 -540.96\n",
      "+ avgsen                  1 0.0002958 0.13089 -540.95\n",
      "+ prbconv                 1 0.0002935 0.13089 -540.95\n",
      "+ wtotal                  1 0.0001449 0.13104 -540.85\n",
      "+ density                 1 0.0000946 0.13109 -540.81\n",
      "+ wtuc                    1 0.0000022 0.13118 -540.75\n",
      "\n",
      "Step:  AIC=-543.94\n",
      "y ~ crmrte + urban + wfed + west_urban + west + taxpc + central_urban + \n",
      "    density_min80 + log10_density + pctmin80 + wser + wcon + \n",
      "    mix + wfir + prbarr\n",
      "\n",
      "                         Df Sum of Sq     RSS     AIC\n",
      "+ wmfg                    1 0.0035244 0.12299 -544.42\n",
      "+ county                  1 0.0029130 0.12360 -543.99\n",
      "+ density_ymle            1 0.0028650 0.12365 -543.95\n",
      "<none>                                0.12651 -543.94\n",
      "+ wsta                    1 0.0027254 0.12379 -543.86\n",
      "+ prbpris                 1 0.0027151 0.12380 -543.85\n",
      "+ polpc                   1 0.0025104 0.12400 -543.70\n",
      "+ central                 1 0.0014524 0.12506 -542.95\n",
      "+ west_central            1 0.0011800 0.12533 -542.76\n",
      "+ pctymle                 1 0.0011632 0.12535 -542.75\n",
      "+ non_urban_west_central  1 0.0008644 0.12565 -542.54\n",
      "+ wtrd                    1 0.0008207 0.12569 -542.51\n",
      "+ prbconv                 1 0.0004596 0.12605 -542.26\n",
      "+ wloc                    1 0.0002937 0.12622 -542.14\n",
      "+ avgsen                  1 0.0001944 0.12632 -542.07\n",
      "+ density                 1 0.0001656 0.12635 -542.05\n",
      "+ wtotal                  1 0.0001201 0.12639 -542.02\n",
      "+ wtuc                    1 0.0000039 0.12651 -541.94\n",
      "\n",
      "Step:  AIC=-544.42\n",
      "y ~ crmrte + urban + wfed + west_urban + west + taxpc + central_urban + \n",
      "    density_min80 + log10_density + pctmin80 + wser + wcon + \n",
      "    mix + wfir + prbarr + wmfg\n",
      "\n",
      "                         Df Sum of Sq     RSS     AIC\n",
      "+ county                  1 0.0031974 0.11979 -544.74\n",
      "<none>                                0.12299 -544.42\n",
      "+ density_ymle            1 0.0026413 0.12035 -544.34\n",
      "+ prbpris                 1 0.0025877 0.12040 -544.30\n",
      "+ wsta                    1 0.0022451 0.12074 -544.05\n",
      "+ polpc                   1 0.0022380 0.12075 -544.04\n",
      "+ wtotal                  1 0.0020419 0.12095 -543.90\n",
      "+ central                 1 0.0019427 0.12104 -543.83\n",
      "+ non_urban_west_central  1 0.0013023 0.12169 -543.36\n",
      "+ pctymle                 1 0.0012774 0.12171 -543.34\n",
      "+ west_central            1 0.0010770 0.12191 -543.20\n",
      "+ avgsen                  1 0.0004507 0.12254 -542.75\n",
      "+ wtrd                    1 0.0004388 0.12255 -542.74\n",
      "+ prbconv                 1 0.0003799 0.12261 -542.70\n",
      "+ wloc                    1 0.0003414 0.12265 -542.67\n",
      "+ wtuc                    1 0.0001213 0.12287 -542.51\n",
      "+ density                 1 0.0000053 0.12298 -542.43\n",
      "\n",
      "Step:  AIC=-544.74\n",
      "y ~ crmrte + urban + wfed + west_urban + west + taxpc + central_urban + \n",
      "    density_min80 + log10_density + pctmin80 + wser + wcon + \n",
      "    mix + wfir + prbarr + wmfg + county\n",
      "\n",
      "                         Df  Sum of Sq     RSS     AIC\n",
      "+ wtotal                  1 0.00272777 0.11706 -544.77\n",
      "+ wsta                    1 0.00270774 0.11708 -544.75\n",
      "<none>                                 0.11979 -544.74\n",
      "+ prbpris                 1 0.00247611 0.11731 -544.58\n",
      "+ density_ymle            1 0.00206750 0.11772 -544.28\n",
      "+ polpc                   1 0.00174302 0.11805 -544.03\n",
      "+ pctymle                 1 0.00162734 0.11816 -543.95\n",
      "+ central                 1 0.00147075 0.11832 -543.83\n",
      "+ non_urban_west_central  1 0.00104274 0.11875 -543.51\n",
      "+ west_central            1 0.00064322 0.11915 -543.22\n",
      "+ prbconv                 1 0.00055680 0.11923 -543.15\n",
      "+ wloc                    1 0.00049022 0.11930 -543.10\n",
      "+ wtrd                    1 0.00045904 0.11933 -543.08\n",
      "+ avgsen                  1 0.00035265 0.11944 -543.00\n",
      "+ wtuc                    1 0.00022037 0.11957 -542.91\n",
      "+ density                 1 0.00008576 0.11970 -542.81\n",
      "\n",
      "Step:  AIC=-544.77\n",
      "y ~ crmrte + urban + wfed + west_urban + west + taxpc + central_urban + \n",
      "    density_min80 + log10_density + pctmin80 + wser + wcon + \n",
      "    mix + wfir + prbarr + wmfg + county + wtotal\n",
      "\n",
      "                         Df  Sum of Sq     RSS     AIC\n",
      "<none>                                 0.11706 -544.77\n",
      "+ pctymle                 1 0.00222462 0.11484 -544.46\n",
      "+ density_ymle            1 0.00189753 0.11517 -544.21\n",
      "+ wtuc                    1 0.00165027 0.11541 -544.02\n",
      "+ prbpris                 1 0.00162204 0.11544 -544.00\n",
      "+ wsta                    1 0.00144669 0.11562 -543.86\n",
      "+ polpc                   1 0.00134579 0.11572 -543.79\n",
      "+ central                 1 0.00099224 0.11607 -543.52\n",
      "+ non_urban_west_central  1 0.00088571 0.11618 -543.44\n",
      "+ prbconv                 1 0.00082889 0.11623 -543.40\n",
      "+ avgsen                  1 0.00066317 0.11640 -543.27\n",
      "+ density                 1 0.00025659 0.11681 -542.96\n",
      "+ west_central            1 0.00009288 0.11697 -542.84\n",
      "+ wtrd                    1 0.00007202 0.11699 -542.82\n",
      "+ wloc                    1 0.00000816 0.11705 -542.78\n"
     ]
    },
    {
     "data": {
      "text/plain": [
       "\n",
       "Call:\n",
       "lm(formula = y ~ crmrte + urban + wfed + west_urban + west + \n",
       "    taxpc + central_urban + density_min80 + log10_density + pctmin80 + \n",
       "    wser + wcon + mix + wfir + prbarr + wmfg + county + wtotal, \n",
       "    data = data)\n",
       "\n",
       "Coefficients:\n",
       "  (Intercept)         crmrte          urban           wfed     west_urban  \n",
       "   -1.943e+00      1.226e+01     -6.565e-02      2.421e-04      6.806e-02  \n",
       "         west          taxpc  central_urban  density_min80  log10_density  \n",
       "   -1.420e-02     -4.483e-04      1.576e-01     -2.555e-01      2.119e-01  \n",
       "     pctmin80           wser           wcon            mix           wfir  \n",
       "    3.181e-01      5.311e-04     -8.257e-05      1.943e-01     -1.212e-04  \n",
       "       prbarr           wmfg         county         wtotal  \n",
       "   -9.630e-02      1.907e-04      1.204e-04     -7.918e-05  \n"
      ]
     },
     "metadata": {},
     "output_type": "display_data"
    },
    {
     "data": {
      "text/plain": [
       "y ~ 1"
      ]
     },
     "metadata": {},
     "output_type": "display_data"
    }
   ],
   "source": [
    "model_fit_start <- lm(y ~ 1 , data = data)\n",
    "summary(model_fit_start)\n",
    "\n",
    "step(model_fit_start, direction = \"forward\", scope = formula(model3))\n",
    "formula(model_fit_start)\n",
    "#par(mfrow=c(2,3))\n",
    "#plot(model_fit_start, which=1:6, col = 'blue')\n",
    "\n",
    "model_fit_start <- lm(y ~ 1 , data = data)\n",
    "summary(model_fit_start)\n",
    "\n",
    "step(model_fit_start, direction = \"both\", scope = formula(model3))\n",
    "formula(model_fit_start)\n",
    "\n",
    "#par(mfrow=c(2,3))\n",
    "#plot(model_fit_start, which=1:6, col = 'blue')"
   ]
  },
  {
   "cell_type": "code",
   "execution_count": 96,
   "metadata": {},
   "outputs": [
    {
     "data": {
      "text/plain": [
       "\n",
       "Call:\n",
       "lm(formula = y ~ 1, data = data)\n",
       "\n",
       "Residuals:\n",
       "     Min       1Q   Median       3Q      Max \n",
       "-0.45116 -0.12543 -0.00001  0.13407  0.51807 \n",
       "\n",
       "Coefficients:\n",
       "            Estimate Std. Error t value Pr(>|t|)    \n",
       "(Intercept) -1.52258    0.02354  -64.67   <2e-16 ***\n",
       "---\n",
       "Signif. codes:  0 '***' 0.001 '**' 0.01 '*' 0.05 '.' 0.1 ' ' 1\n",
       "\n",
       "Residual standard error: 0.2209 on 87 degrees of freedom\n"
      ]
     },
     "metadata": {},
     "output_type": "display_data"
    },
    {
     "name": "stdout",
     "output_type": "stream",
     "text": [
      "Start:  AIC=-264.8\n",
      "y ~ 1\n",
      "\n",
      "                         Df Sum of Sq    RSS     AIC\n",
      "+ crmrte                  1    3.8645 0.3793 -475.31\n",
      "+ density_min80           1    1.9797 2.2642 -318.09\n",
      "+ density_ymle            1    1.9582 2.2856 -317.26\n",
      "+ log10_density           1    1.9369 2.3069 -316.45\n",
      "+ density                 1    1.7465 2.4974 -309.46\n",
      "+ wfed                    1    1.1798 3.0641 -291.47\n",
      "+ polpc                   1    1.1578 3.0860 -290.84\n",
      "+ urban                   1    1.1236 3.1203 -289.87\n",
      "+ wtotal                  1    0.9874 3.2564 -286.11\n",
      "+ wloc                    1    0.6965 3.5474 -278.58\n",
      "+ central_urban           1    0.6733 3.5705 -278.01\n",
      "+ west                    1    0.6329 3.6110 -277.02\n",
      "+ wtrd                    1    0.6156 3.6282 -276.60\n",
      "+ prbarr                  1    0.5888 3.6550 -275.95\n",
      "+ taxpc                   1    0.5827 3.6611 -275.80\n",
      "+ prbconv                 1    0.5435 3.7003 -274.87\n",
      "+ wmfg                    1    0.5076 3.7362 -274.02\n",
      "+ wser                    1    0.5067 3.7372 -273.99\n",
      "+ wcon                    1    0.4605 3.7833 -272.91\n",
      "+ wfir                    1    0.3614 3.8825 -270.64\n",
      "+ pctymle                 1    0.3028 3.9410 -269.32\n",
      "+ pctmin80                1    0.3015 3.9423 -269.29\n",
      "+ wtuc                    1    0.1749 4.0689 -266.51\n",
      "+ wsta                    1    0.1731 4.0707 -266.47\n",
      "+ central                 1    0.1610 4.0829 -266.21\n",
      "<none>                                4.2438 -264.80\n",
      "+ west_central            1    0.0674 4.1764 -264.21\n",
      "+ mix                     1    0.0604 4.1834 -264.07\n",
      "+ county                  1    0.0280 4.2158 -263.39\n",
      "+ west_urban              1    0.0270 4.2168 -263.37\n",
      "+ non_urban_west_central  1    0.0240 4.2198 -263.30\n",
      "+ avgsen                  1    0.0118 4.2321 -263.05\n",
      "+ prbpris                 1    0.0017 4.2422 -262.84\n",
      "\n",
      "Step:  AIC=-475.31\n",
      "y ~ crmrte\n",
      "\n",
      "                         Df Sum of Sq    RSS     AIC\n",
      "+ urban                   1    0.0414 0.3379 -483.48\n",
      "+ density_min80           1    0.0325 0.3469 -481.18\n",
      "+ wfed                    1    0.0303 0.3490 -480.63\n",
      "+ density_ymle            1    0.0286 0.3508 -480.20\n",
      "+ west                    1    0.0253 0.3541 -479.38\n",
      "+ density                 1    0.0216 0.3577 -478.47\n",
      "+ taxpc                   1    0.0215 0.3578 -478.45\n",
      "+ pctmin80                1    0.0205 0.3588 -478.20\n",
      "+ non_urban_west_central  1    0.0179 0.3614 -477.56\n",
      "+ central_urban           1    0.0140 0.3653 -476.62\n",
      "<none>                                0.3793 -475.31\n",
      "+ county                  1    0.0043 0.3750 -474.33\n",
      "+ wser                    1    0.0042 0.3751 -474.30\n",
      "+ central                 1    0.0040 0.3754 -474.23\n",
      "+ west_urban              1    0.0031 0.3762 -474.04\n",
      "+ log10_density           1    0.0029 0.3764 -473.99\n",
      "+ prbconv                 1    0.0018 0.3775 -473.73\n",
      "+ wfir                    1    0.0011 0.3782 -473.58\n",
      "+ wloc                    1    0.0010 0.3783 -473.54\n",
      "+ prbpris                 1    0.0009 0.3784 -473.52\n",
      "+ west_central            1    0.0009 0.3784 -473.52\n",
      "+ polpc                   1    0.0008 0.3785 -473.49\n",
      "+ avgsen                  1    0.0007 0.3786 -473.49\n",
      "+ wtotal                  1    0.0007 0.3786 -473.48\n",
      "+ wsta                    1    0.0005 0.3788 -473.43\n",
      "+ wcon                    1    0.0003 0.3790 -473.39\n",
      "+ wtuc                    1    0.0003 0.3790 -473.39\n",
      "+ prbarr                  1    0.0002 0.3791 -473.35\n",
      "+ mix                     1    0.0001 0.3792 -473.34\n",
      "+ pctymle                 1    0.0000 0.3793 -473.31\n",
      "+ wmfg                    1    0.0000 0.3793 -473.31\n",
      "+ wtrd                    1    0.0000 0.3793 -473.31\n",
      "- crmrte                  1    3.8645 4.2438 -264.80\n",
      "\n",
      "Step:  AIC=-483.48\n",
      "y ~ crmrte + urban\n",
      "\n",
      "                         Df Sum of Sq     RSS     AIC\n",
      "+ wfed                    1   0.04684 0.29108 -494.61\n",
      "+ log10_density           1   0.02309 0.31483 -487.71\n",
      "+ west_urban              1   0.02145 0.31647 -487.25\n",
      "+ taxpc                   1   0.01649 0.32143 -485.88\n",
      "+ west                    1   0.01634 0.32158 -485.84\n",
      "+ wser                    1   0.01601 0.32191 -485.75\n",
      "+ pctmin80                1   0.01355 0.32437 -485.08\n",
      "+ wtotal                  1   0.00950 0.32842 -483.99\n",
      "<none>                                0.33792 -483.48\n",
      "+ central                 1   0.00607 0.33185 -483.08\n",
      "+ non_urban_west_central  1   0.00521 0.33270 -482.85\n",
      "+ density_min80           1   0.00373 0.33419 -482.46\n",
      "+ wloc                    1   0.00354 0.33438 -482.41\n",
      "+ wmfg                    1   0.00269 0.33523 -482.18\n",
      "+ wtrd                    1   0.00233 0.33558 -482.09\n",
      "+ density_ymle            1   0.00187 0.33605 -481.97\n",
      "+ county                  1   0.00186 0.33606 -481.97\n",
      "+ prbconv                 1   0.00156 0.33636 -481.89\n",
      "+ central_urban           1   0.00113 0.33679 -481.78\n",
      "+ polpc                   1   0.00060 0.33732 -481.64\n",
      "+ wsta                    1   0.00060 0.33732 -481.64\n",
      "+ prbpris                 1   0.00056 0.33736 -481.63\n",
      "+ wfir                    1   0.00045 0.33747 -481.60\n",
      "+ pctymle                 1   0.00041 0.33751 -481.59\n",
      "+ prbarr                  1   0.00021 0.33771 -481.54\n",
      "+ density                 1   0.00008 0.33783 -481.50\n",
      "+ wcon                    1   0.00007 0.33785 -481.50\n",
      "+ mix                     1   0.00004 0.33788 -481.49\n",
      "+ avgsen                  1   0.00004 0.33788 -481.49\n",
      "+ wtuc                    1   0.00003 0.33789 -481.49\n",
      "+ west_central            1   0.00000 0.33792 -481.48\n",
      "- urban                   1   0.04140 0.37932 -475.31\n",
      "- crmrte                  1   2.78234 3.12026 -289.87\n",
      "\n",
      "Step:  AIC=-494.61\n",
      "y ~ crmrte + urban + wfed\n",
      "\n",
      "                         Df Sum of Sq     RSS     AIC\n",
      "+ west_urban              1   0.02126 0.26982 -499.28\n",
      "+ non_urban_west_central  1   0.01596 0.27512 -497.57\n",
      "+ west                    1   0.01525 0.27583 -497.35\n",
      "+ pctmin80                1   0.01489 0.27619 -497.23\n",
      "+ wfir                    1   0.01229 0.27879 -496.41\n",
      "+ density_min80           1   0.01014 0.28094 -495.73\n",
      "+ density                 1   0.00873 0.28235 -495.29\n",
      "+ wtotal                  1   0.00784 0.28324 -495.02\n",
      "+ taxpc                   1   0.00690 0.28418 -494.72\n",
      "+ density_ymle            1   0.00664 0.28444 -494.64\n",
      "+ wcon                    1   0.00660 0.28448 -494.63\n",
      "<none>                                0.29108 -494.61\n",
      "+ prbconv                 1   0.00622 0.28485 -494.51\n",
      "+ wtrd                    1   0.00566 0.28542 -494.34\n",
      "+ wtuc                    1   0.00353 0.28755 -493.68\n",
      "+ mix                     1   0.00274 0.28834 -493.44\n",
      "+ log10_density           1   0.00228 0.28880 -493.30\n",
      "+ county                  1   0.00128 0.28980 -493.00\n",
      "+ wloc                    1   0.00124 0.28984 -492.99\n",
      "+ pctymle                 1   0.00100 0.29008 -492.92\n",
      "+ wmfg                    1   0.00087 0.29021 -492.87\n",
      "+ prbpris                 1   0.00061 0.29047 -492.80\n",
      "+ west_central            1   0.00039 0.29069 -492.73\n",
      "+ wser                    1   0.00037 0.29071 -492.72\n",
      "+ central                 1   0.00013 0.29095 -492.65\n",
      "+ avgsen                  1   0.00010 0.29098 -492.64\n",
      "+ wsta                    1   0.00001 0.29107 -492.61\n",
      "+ polpc                   1   0.00001 0.29107 -492.61\n",
      "+ prbarr                  1   0.00000 0.29108 -492.61\n",
      "+ central_urban           1   0.00000 0.29108 -492.61\n",
      "- wfed                    1   0.04684 0.33792 -483.48\n",
      "- urban                   1   0.05796 0.34904 -480.63\n",
      "- crmrte                  1   2.33614 2.62721 -303.00\n",
      "\n",
      "Step:  AIC=-499.28\n",
      "y ~ crmrte + urban + wfed + west_urban\n",
      "\n",
      "                         Df Sum of Sq     RSS     AIC\n",
      "+ west                    1   0.02294 0.24688 -505.10\n",
      "+ pctmin80                1   0.01753 0.25229 -503.20\n",
      "+ non_urban_west_central  1   0.01423 0.25559 -502.05\n",
      "+ wfir                    1   0.01074 0.25909 -500.86\n",
      "+ taxpc                   1   0.00894 0.26089 -500.25\n",
      "+ central_urban           1   0.00773 0.26210 -499.84\n",
      "+ wcon                    1   0.00635 0.26347 -499.38\n",
      "+ wtotal                  1   0.00621 0.26361 -499.33\n",
      "<none>                                0.26982 -499.28\n",
      "+ prbconv                 1   0.00484 0.26498 -498.88\n",
      "+ mix                     1   0.00457 0.26526 -498.79\n",
      "+ wtrd                    1   0.00401 0.26581 -498.60\n",
      "+ log10_density           1   0.00308 0.26675 -498.29\n",
      "+ wtuc                    1   0.00299 0.26683 -498.27\n",
      "+ county                  1   0.00278 0.26704 -498.20\n",
      "+ density                 1   0.00220 0.26763 -498.00\n",
      "+ wloc                    1   0.00151 0.26831 -497.78\n",
      "+ pctymle                 1   0.00134 0.26848 -497.72\n",
      "+ central                 1   0.00103 0.26879 -497.62\n",
      "+ density_ymle            1   0.00080 0.26903 -497.54\n",
      "+ density_min80           1   0.00072 0.26911 -497.52\n",
      "+ prbpris                 1   0.00068 0.26914 -497.51\n",
      "+ west_central            1   0.00065 0.26918 -497.50\n",
      "+ wmfg                    1   0.00032 0.26950 -497.39\n",
      "+ wser                    1   0.00016 0.26966 -497.34\n",
      "+ wsta                    1   0.00009 0.26973 -497.31\n",
      "+ avgsen                  1   0.00004 0.26979 -497.30\n",
      "+ prbarr                  1   0.00004 0.26979 -497.30\n",
      "+ polpc                   1   0.00000 0.26982 -497.28\n",
      "- west_urban              1   0.02126 0.29108 -494.61\n",
      "- wfed                    1   0.04664 0.31647 -487.25\n",
      "- urban                   1   0.07740 0.34723 -479.09\n",
      "- crmrte                  1   2.32990 2.59972 -301.93\n",
      "\n",
      "Step:  AIC=-505.1\n",
      "y ~ crmrte + urban + wfed + west_urban + west\n",
      "\n",
      "                         Df Sum of Sq     RSS     AIC\n",
      "+ taxpc                   1   0.01145 0.23544 -507.28\n",
      "+ wfir                    1   0.00813 0.23875 -506.05\n",
      "+ wcon                    1   0.00764 0.23924 -505.87\n",
      "+ log10_density           1   0.00694 0.23995 -505.61\n",
      "+ central_urban           1   0.00654 0.24034 -505.47\n",
      "+ prbconv                 1   0.00652 0.24036 -505.46\n",
      "<none>                                0.24688 -505.10\n",
      "+ density_min80           1   0.00537 0.24151 -505.04\n",
      "+ wtrd                    1   0.00424 0.24264 -504.63\n",
      "+ county                  1   0.00421 0.24267 -504.62\n",
      "+ wtotal                  1   0.00318 0.24370 -504.24\n",
      "+ non_urban_west_central  1   0.00304 0.24384 -504.19\n",
      "+ pctymle                 1   0.00254 0.24434 -504.01\n",
      "+ pctmin80                1   0.00243 0.24446 -503.97\n",
      "+ mix                     1   0.00221 0.24467 -503.89\n",
      "+ wloc                    1   0.00196 0.24492 -503.81\n",
      "+ wser                    1   0.00138 0.24550 -503.60\n",
      "+ prbpris                 1   0.00061 0.24627 -503.32\n",
      "+ central                 1   0.00058 0.24631 -503.31\n",
      "+ polpc                   1   0.00047 0.24642 -503.27\n",
      "+ wtuc                    1   0.00041 0.24647 -503.25\n",
      "+ density                 1   0.00036 0.24652 -503.23\n",
      "+ west_central            1   0.00028 0.24660 -503.20\n",
      "+ prbarr                  1   0.00014 0.24674 -503.15\n",
      "+ avgsen                  1   0.00000 0.24688 -503.10\n",
      "+ density_ymle            1   0.00000 0.24688 -503.10\n",
      "+ wsta                    1   0.00000 0.24688 -503.10\n",
      "+ wmfg                    1   0.00000 0.24688 -503.10\n",
      "- west                    1   0.02294 0.26982 -499.28\n",
      "- west_urban              1   0.02894 0.27583 -497.35\n",
      "- wfed                    1   0.04526 0.29214 -492.29\n",
      "- urban                   1   0.06983 0.31671 -485.19\n",
      "- crmrte                  1   1.98651 2.23339 -313.30\n",
      "\n",
      "Step:  AIC=-507.28\n",
      "y ~ crmrte + urban + wfed + west_urban + west + taxpc\n",
      "\n",
      "                         Df Sum of Sq     RSS     AIC\n",
      "+ central_urban           1   0.00860 0.22684 -508.55\n",
      "+ density_min80           1   0.00834 0.22709 -508.46\n",
      "+ polpc                   1   0.00830 0.22714 -508.44\n",
      "+ wfir                    1   0.00639 0.22904 -507.70\n",
      "+ prbconv                 1   0.00545 0.22998 -507.34\n",
      "<none>                                0.23544 -507.28\n",
      "+ wser                    1   0.00456 0.23088 -507.00\n",
      "+ log10_density           1   0.00448 0.23095 -506.97\n",
      "+ wcon                    1   0.00438 0.23106 -506.93\n",
      "+ non_urban_west_central  1   0.00336 0.23207 -506.55\n",
      "+ county                  1   0.00312 0.23231 -506.46\n",
      "+ wtrd                    1   0.00294 0.23249 -506.39\n",
      "+ mix                     1   0.00169 0.23375 -505.91\n",
      "+ prbpris                 1   0.00151 0.23393 -505.85\n",
      "+ wloc                    1   0.00074 0.23469 -505.56\n",
      "+ wtotal                  1   0.00073 0.23470 -505.56\n",
      "+ wmfg                    1   0.00069 0.23475 -505.54\n",
      "+ central                 1   0.00064 0.23480 -505.52\n",
      "+ density_ymle            1   0.00064 0.23480 -505.52\n",
      "+ pctmin80                1   0.00055 0.23489 -505.49\n",
      "+ wsta                    1   0.00036 0.23507 -505.42\n",
      "+ pctymle                 1   0.00033 0.23511 -505.40\n",
      "+ density                 1   0.00031 0.23513 -505.40\n",
      "+ avgsen                  1   0.00019 0.23524 -505.35\n",
      "+ west_central            1   0.00008 0.23536 -505.31\n",
      "+ prbarr                  1   0.00003 0.23540 -505.29\n",
      "+ wtuc                    1   0.00000 0.23544 -505.28\n",
      "- taxpc                   1   0.01145 0.24688 -505.10\n",
      "- west                    1   0.02545 0.26089 -500.25\n",
      "- west_urban              1   0.03206 0.26750 -498.05\n",
      "- wfed                    1   0.03374 0.26917 -497.50\n",
      "- urban                   1   0.06343 0.29886 -488.29\n",
      "- crmrte                  1   1.84674 2.08218 -317.47\n",
      "\n",
      "Step:  AIC=-508.55\n",
      "y ~ crmrte + urban + wfed + west_urban + west + taxpc + central_urban\n",
      "\n",
      "                         Df Sum of Sq     RSS     AIC\n",
      "+ density_min80           1   0.01551 0.21133 -512.79\n",
      "+ wfir                    1   0.00848 0.21836 -509.91\n",
      "+ polpc                   1   0.00792 0.21891 -509.68\n",
      "+ wtrd                    1   0.00604 0.22080 -508.93\n",
      "+ wcon                    1   0.00591 0.22093 -508.88\n",
      "<none>                                0.22684 -508.55\n",
      "+ prbconv                 1   0.00432 0.22252 -508.25\n",
      "+ log10_density           1   0.00374 0.22310 -508.02\n",
      "+ wser                    1   0.00349 0.22335 -507.92\n",
      "+ non_urban_west_central  1   0.00276 0.22408 -507.63\n",
      "+ county                  1   0.00264 0.22420 -507.59\n",
      "+ central                 1   0.00246 0.22438 -507.51\n",
      "- central_urban           1   0.00860 0.23544 -507.28\n",
      "+ prbpris                 1   0.00184 0.22500 -507.27\n",
      "+ wtotal                  1   0.00181 0.22503 -507.26\n",
      "+ density                 1   0.00145 0.22539 -507.12\n",
      "+ wloc                    1   0.00125 0.22559 -507.04\n",
      "+ mix                     1   0.00102 0.22582 -506.95\n",
      "+ density_ymle            1   0.00099 0.22585 -506.94\n",
      "+ wmfg                    1   0.00098 0.22586 -506.94\n",
      "+ wsta                    1   0.00051 0.22633 -506.75\n",
      "+ pctmin80                1   0.00046 0.22638 -506.73\n",
      "+ pctymle                 1   0.00043 0.22641 -506.72\n",
      "+ avgsen                  1   0.00023 0.22661 -506.64\n",
      "+ wtuc                    1   0.00020 0.22664 -506.63\n",
      "+ west_central            1   0.00003 0.22681 -506.57\n",
      "+ prbarr                  1   0.00000 0.22684 -506.56\n",
      "- taxpc                   1   0.01350 0.24034 -505.47\n",
      "- west                    1   0.02429 0.25113 -501.60\n",
      "- wfed                    1   0.02633 0.25317 -500.89\n",
      "- west_urban              1   0.04055 0.26739 -496.08\n",
      "- urban                   1   0.05324 0.28008 -492.00\n",
      "- crmrte                  1   1.81154 2.03838 -317.34\n",
      "\n",
      "Step:  AIC=-512.79\n",
      "y ~ crmrte + urban + wfed + west_urban + west + taxpc + central_urban + \n",
      "    density_min80\n",
      "\n",
      "                         Df Sum of Sq     RSS     AIC\n",
      "+ log10_density           1   0.00989 0.20144 -515.00\n",
      "+ polpc                   1   0.00893 0.20239 -514.59\n",
      "+ wser                    1   0.00789 0.20344 -514.14\n",
      "+ wcon                    1   0.00576 0.20556 -513.22\n",
      "+ pctmin80                1   0.00536 0.20596 -513.05\n",
      "+ non_urban_west_central  1   0.00489 0.20643 -512.85\n",
      "<none>                                0.21133 -512.79\n",
      "+ wtrd                    1   0.00427 0.20706 -512.58\n",
      "+ central                 1   0.00368 0.20765 -512.33\n",
      "+ wfir                    1   0.00335 0.20798 -512.19\n",
      "+ county                  1   0.00282 0.20851 -511.97\n",
      "+ wmfg                    1   0.00227 0.20906 -511.74\n",
      "+ mix                     1   0.00206 0.20927 -511.65\n",
      "+ wsta                    1   0.00204 0.20929 -511.64\n",
      "+ prbconv                 1   0.00189 0.20944 -511.58\n",
      "+ density                 1   0.00085 0.21048 -511.14\n",
      "+ west_central            1   0.00082 0.21051 -511.13\n",
      "+ wloc                    1   0.00059 0.21073 -511.04\n",
      "+ prbpris                 1   0.00057 0.21076 -511.03\n",
      "+ wtotal                  1   0.00047 0.21085 -510.99\n",
      "+ density_ymle            1   0.00025 0.21108 -510.89\n",
      "+ prbarr                  1   0.00018 0.21115 -510.86\n",
      "+ pctymle                 1   0.00009 0.21124 -510.83\n",
      "+ wtuc                    1   0.00008 0.21125 -510.82\n",
      "+ avgsen                  1   0.00003 0.21130 -510.80\n",
      "- density_min80           1   0.01551 0.22684 -508.55\n",
      "- central_urban           1   0.01577 0.22709 -508.46\n",
      "- urban                   1   0.01830 0.22962 -507.48\n",
      "- taxpc                   1   0.01913 0.23046 -507.16\n",
      "- west_urban              1   0.02096 0.23229 -506.47\n",
      "- wfed                    1   0.03106 0.24239 -502.72\n",
      "- west                    1   0.03468 0.24601 -501.42\n",
      "- crmrte                  1   1.43350 1.64483 -334.21\n",
      "\n",
      "Step:  AIC=-515\n",
      "y ~ crmrte + urban + wfed + west_urban + west + taxpc + central_urban + \n",
      "    density_min80 + log10_density\n",
      "\n",
      "                         Df Sum of Sq     RSS     AIC\n",
      "+ pctmin80                1   0.04717 0.15427 -536.48\n",
      "+ non_urban_west_central  1   0.01615 0.18529 -520.36\n",
      "+ central                 1   0.01483 0.18661 -519.73\n",
      "+ wcon                    1   0.00934 0.19210 -517.18\n",
      "+ wtrd                    1   0.00719 0.19425 -516.20\n",
      "+ polpc                   1   0.00710 0.19434 -516.16\n",
      "+ density_ymle            1   0.00670 0.19474 -515.98\n",
      "+ wfir                    1   0.00575 0.19569 -515.55\n",
      "+ density                 1   0.00549 0.19595 -515.44\n",
      "+ mix                     1   0.00521 0.19623 -515.31\n",
      "<none>                                0.20144 -515.00\n",
      "+ wser                    1   0.00332 0.19812 -514.47\n",
      "+ wloc                    1   0.00266 0.19878 -514.17\n",
      "+ wtotal                  1   0.00229 0.19915 -514.01\n",
      "+ county                  1   0.00214 0.19930 -513.95\n",
      "+ wmfg                    1   0.00183 0.19961 -513.81\n",
      "+ wsta                    1   0.00179 0.19965 -513.79\n",
      "+ prbconv                 1   0.00165 0.19979 -513.73\n",
      "+ prbarr                  1   0.00098 0.20046 -513.44\n",
      "+ prbpris                 1   0.00023 0.20121 -513.10\n",
      "+ wtuc                    1   0.00021 0.20123 -513.10\n",
      "+ west_central            1   0.00013 0.20131 -513.06\n",
      "+ pctymle                 1   0.00008 0.20136 -513.04\n",
      "+ avgsen                  1   0.00002 0.20142 -513.01\n",
      "- log10_density           1   0.00989 0.21133 -512.79\n",
      "- wfed                    1   0.01196 0.21340 -511.93\n",
      "- taxpc                   1   0.01585 0.21729 -510.34\n",
      "- central_urban           1   0.01631 0.21775 -510.15\n",
      "- west_urban              1   0.01879 0.22023 -509.16\n",
      "- urban                   1   0.01934 0.22078 -508.94\n",
      "- density_min80           1   0.02166 0.22310 -508.02\n",
      "- west                    1   0.04203 0.24347 -500.33\n",
      "- crmrte                  1   1.28471 1.48615 -341.14\n",
      "\n",
      "Step:  AIC=-536.48\n",
      "y ~ crmrte + urban + wfed + west_urban + west + taxpc + central_urban + \n",
      "    density_min80 + log10_density + pctmin80\n",
      "\n",
      "                         Df Sum of Sq     RSS     AIC\n",
      "+ wser                    1   0.00747 0.14680 -538.85\n",
      "- west                    1   0.00080 0.15507 -538.03\n",
      "- taxpc                   1   0.00115 0.15541 -537.83\n",
      "+ polpc                   1   0.00516 0.14911 -537.48\n",
      "- wfed                    1   0.00190 0.15617 -537.41\n",
      "- west_urban              1   0.00212 0.15639 -537.28\n",
      "+ wsta                    1   0.00379 0.15048 -536.67\n",
      "+ wfir                    1   0.00356 0.15071 -536.54\n",
      "<none>                                0.15427 -536.48\n",
      "+ wmfg                    1   0.00311 0.15116 -536.28\n",
      "+ mix                     1   0.00309 0.15118 -536.26\n",
      "+ wtrd                    1   0.00306 0.15121 -536.25\n",
      "+ wcon                    1   0.00299 0.15128 -536.21\n",
      "+ central                 1   0.00299 0.15128 -536.21\n",
      "+ non_urban_west_central  1   0.00249 0.15178 -535.91\n",
      "- urban                   1   0.00484 0.15910 -535.77\n",
      "+ density_ymle            1   0.00168 0.15259 -535.45\n",
      "+ prbarr                  1   0.00167 0.15260 -535.44\n",
      "+ county                  1   0.00082 0.15345 -534.95\n",
      "+ prbconv                 1   0.00079 0.15348 -534.94\n",
      "+ wloc                    1   0.00069 0.15357 -534.88\n",
      "+ west_central            1   0.00056 0.15371 -534.80\n",
      "+ prbpris                 1   0.00052 0.15374 -534.78\n",
      "+ density                 1   0.00034 0.15393 -534.68\n",
      "+ wtotal                  1   0.00023 0.15404 -534.61\n",
      "+ pctymle                 1   0.00019 0.15408 -534.59\n",
      "+ avgsen                  1   0.00003 0.15423 -534.50\n",
      "+ wtuc                    1   0.00001 0.15426 -534.49\n",
      "- central_urban           1   0.02636 0.18063 -524.60\n",
      "- pctmin80                1   0.04717 0.20144 -515.00\n",
      "- log10_density           1   0.05170 0.20596 -513.05\n",
      "- density_min80           1   0.06440 0.21867 -507.78\n",
      "- crmrte                  1   1.19774 1.35200 -347.47\n",
      "\n",
      "Step:  AIC=-538.85\n",
      "y ~ crmrte + urban + wfed + west_urban + west + taxpc + central_urban + \n",
      "    density_min80 + log10_density + pctmin80 + wser\n",
      "\n",
      "                         Df Sum of Sq     RSS     AIC\n",
      "- wfed                    1   0.00003 0.14683 -540.83\n",
      "+ wcon                    1   0.00629 0.14051 -540.71\n",
      "+ wfir                    1   0.00607 0.14073 -540.57\n",
      "- west                    1   0.00110 0.14790 -540.19\n",
      "- west_urban              1   0.00112 0.14792 -540.18\n",
      "+ polpc                   1   0.00529 0.14151 -540.08\n",
      "+ mix                     1   0.00502 0.14178 -539.91\n",
      "+ wtotal                  1   0.00470 0.14210 -539.71\n",
      "+ wtrd                    1   0.00444 0.14236 -539.55\n",
      "+ wsta                    1   0.00355 0.14325 -539.01\n",
      "- urban                   1   0.00311 0.14991 -539.00\n",
      "- taxpc                   1   0.00324 0.15004 -538.93\n",
      "+ wloc                    1   0.00338 0.14343 -538.90\n",
      "<none>                                0.14680 -538.85\n",
      "+ density_ymle            1   0.00279 0.14402 -538.54\n",
      "+ central                 1   0.00252 0.14428 -538.37\n",
      "+ non_urban_west_central  1   0.00215 0.14465 -538.15\n",
      "+ wmfg                    1   0.00142 0.14538 -537.71\n",
      "+ pctymle                 1   0.00133 0.14547 -537.65\n",
      "+ county                  1   0.00103 0.14578 -537.47\n",
      "+ prbarr                  1   0.00076 0.14604 -537.31\n",
      "+ prbconv                 1   0.00070 0.14610 -537.27\n",
      "+ west_central            1   0.00038 0.14642 -537.08\n",
      "+ wtuc                    1   0.00027 0.14653 -537.01\n",
      "+ prbpris                 1   0.00023 0.14657 -536.99\n",
      "+ avgsen                  1   0.00005 0.14675 -536.88\n",
      "+ density                 1   0.00000 0.14680 -536.85\n",
      "- wser                    1   0.00747 0.15427 -536.48\n",
      "- central_urban           1   0.02600 0.17280 -526.50\n",
      "- log10_density           1   0.04452 0.19132 -517.54\n",
      "- pctmin80                1   0.05132 0.19812 -514.47\n",
      "- density_min80           1   0.07034 0.21714 -506.40\n",
      "- crmrte                  1   1.16648 1.31328 -348.02\n",
      "\n",
      "Step:  AIC=-540.83\n",
      "y ~ crmrte + urban + west_urban + west + taxpc + central_urban + \n",
      "    density_min80 + log10_density + pctmin80 + wser\n",
      "\n",
      "                         Df Sum of Sq     RSS     AIC\n",
      "+ wcon                    1   0.00581 0.14102 -542.38\n",
      "- west                    1   0.00108 0.14791 -542.19\n",
      "- west_urban              1   0.00110 0.14793 -542.18\n",
      "+ polpc                   1   0.00530 0.14153 -542.07\n",
      "+ wfir                    1   0.00515 0.14168 -541.97\n",
      "+ mix                     1   0.00489 0.14194 -541.81\n",
      "+ wtrd                    1   0.00369 0.14314 -541.07\n",
      "- urban                   1   0.00309 0.14992 -541.00\n",
      "+ wsta                    1   0.00351 0.14332 -540.96\n",
      "- taxpc                   1   0.00336 0.15019 -540.84\n",
      "<none>                                0.14683 -540.83\n",
      "+ wloc                    1   0.00318 0.14365 -540.76\n",
      "+ wtotal                  1   0.00269 0.14414 -540.46\n",
      "+ density_ymle            1   0.00267 0.14416 -540.45\n",
      "+ central                 1   0.00237 0.14446 -540.27\n",
      "+ non_urban_west_central  1   0.00200 0.14483 -540.04\n",
      "+ wmfg                    1   0.00143 0.14540 -539.69\n",
      "+ pctymle                 1   0.00127 0.14556 -539.60\n",
      "+ county                  1   0.00101 0.14582 -539.44\n",
      "+ prbarr                  1   0.00076 0.14607 -539.29\n",
      "+ prbconv                 1   0.00063 0.14620 -539.21\n",
      "+ west_central            1   0.00039 0.14644 -539.07\n",
      "+ wtuc                    1   0.00023 0.14660 -538.97\n",
      "+ prbpris                 1   0.00022 0.14661 -538.97\n",
      "+ avgsen                  1   0.00006 0.14677 -538.87\n",
      "+ wfed                    1   0.00003 0.14680 -538.85\n",
      "+ density                 1   0.00001 0.14682 -538.84\n",
      "- wser                    1   0.00934 0.15617 -537.41\n",
      "- central_urban           1   0.02696 0.17379 -528.00\n",
      "- log10_density           1   0.05408 0.20091 -515.24\n",
      "- pctmin80                1   0.05755 0.20438 -513.73\n",
      "- density_min80           1   0.07609 0.22292 -506.09\n",
      "- crmrte                  1   1.18959 1.33642 -348.49\n",
      "\n",
      "Step:  AIC=-542.38\n",
      "y ~ crmrte + urban + west_urban + west + taxpc + central_urban + \n",
      "    density_min80 + log10_density + pctmin80 + wser + wcon\n",
      "\n",
      "                         Df Sum of Sq     RSS     AIC\n",
      "- west_urban              1   0.00134 0.14236 -543.55\n",
      "+ mix                     1   0.00486 0.13616 -543.47\n",
      "+ wsta                    1   0.00483 0.13619 -543.45\n",
      "+ polpc                   1   0.00444 0.13658 -543.20\n",
      "- west                    1   0.00214 0.14316 -543.06\n",
      "+ density_ymle            1   0.00342 0.13760 -542.54\n",
      "- taxpc                   1   0.00304 0.14406 -542.51\n",
      "<none>                                0.14102 -542.38\n",
      "+ wfir                    1   0.00309 0.13793 -542.33\n",
      "- urban                   1   0.00369 0.14471 -542.11\n",
      "+ pctymle                 1   0.00244 0.13858 -541.92\n",
      "+ wmfg                    1   0.00182 0.13920 -541.53\n",
      "+ county                  1   0.00168 0.13934 -541.44\n",
      "+ wtrd                    1   0.00158 0.13944 -541.37\n",
      "+ wloc                    1   0.00111 0.13991 -541.08\n",
      "+ central                 1   0.00106 0.13996 -541.05\n",
      "+ non_urban_west_central  1   0.00072 0.14030 -540.84\n",
      "- wcon                    1   0.00581 0.14683 -540.83\n",
      "+ west_central            1   0.00053 0.14049 -540.72\n",
      "+ wfed                    1   0.00051 0.14051 -540.71\n",
      "+ prbarr                  1   0.00036 0.14066 -540.61\n",
      "+ prbpris                 1   0.00036 0.14066 -540.61\n",
      "+ prbconv                 1   0.00030 0.14072 -540.57\n",
      "+ wtotal                  1   0.00027 0.14075 -540.55\n",
      "+ density                 1   0.00004 0.14098 -540.41\n",
      "+ avgsen                  1   0.00003 0.14099 -540.40\n",
      "+ wtuc                    1   0.00002 0.14100 -540.40\n",
      "- wser                    1   0.01376 0.15478 -536.19\n",
      "- central_urban           1   0.02944 0.17046 -527.70\n",
      "- pctmin80                1   0.05311 0.19414 -516.26\n",
      "- log10_density           1   0.05526 0.19628 -515.29\n",
      "- density_min80           1   0.07635 0.21737 -506.31\n",
      "- crmrte                  1   1.19495 1.33597 -346.52\n",
      "\n",
      "Step:  AIC=-543.55\n",
      "y ~ crmrte + urban + west + taxpc + central_urban + density_min80 + \n",
      "    log10_density + pctmin80 + wser + wcon\n",
      "\n",
      "                         Df Sum of Sq     RSS     AIC\n",
      "+ wsta                    1   0.00521 0.13715 -544.83\n",
      "+ mix                     1   0.00508 0.13728 -544.75\n",
      "- west                    1   0.00154 0.14390 -544.60\n",
      "+ density_ymle            1   0.00433 0.13804 -544.27\n",
      "+ polpc                   1   0.00417 0.13819 -544.17\n",
      "- urban                   1   0.00239 0.14476 -544.08\n",
      "- taxpc                   1   0.00252 0.14488 -544.01\n",
      "<none>                                0.14236 -543.55\n",
      "+ wfir                    1   0.00287 0.13949 -543.35\n",
      "+ pctymle                 1   0.00271 0.13965 -543.24\n",
      "+ wmfg                    1   0.00148 0.14088 -542.47\n",
      "+ wtrd                    1   0.00143 0.14093 -542.44\n",
      "+ county                  1   0.00139 0.14097 -542.42\n",
      "+ west_urban              1   0.00134 0.14102 -542.38\n",
      "+ wloc                    1   0.00102 0.14135 -542.18\n",
      "- wcon                    1   0.00556 0.14793 -542.18\n",
      "+ non_urban_west_central  1   0.00097 0.14139 -542.15\n",
      "+ central                 1   0.00082 0.14154 -542.06\n",
      "+ west_central            1   0.00051 0.14185 -541.87\n",
      "+ prbarr                  1   0.00049 0.14187 -541.86\n",
      "+ wfed                    1   0.00038 0.14198 -541.79\n",
      "+ wtotal                  1   0.00036 0.14200 -541.77\n",
      "+ prbconv                 1   0.00032 0.14204 -541.75\n",
      "+ prbpris                 1   0.00024 0.14212 -541.70\n",
      "+ density                 1   0.00002 0.14234 -541.57\n",
      "+ wtuc                    1   0.00001 0.14235 -541.56\n",
      "+ avgsen                  1   0.00001 0.14236 -541.56\n",
      "- wser                    1   0.01477 0.15713 -536.86\n",
      "- central_urban           1   0.02820 0.17057 -529.65\n",
      "- log10_density           1   0.06572 0.20808 -512.15\n",
      "- pctmin80                1   0.07024 0.21260 -510.26\n",
      "- density_min80           1   0.11705 0.25942 -492.75\n",
      "- crmrte                  1   1.19371 1.33607 -348.51\n",
      "\n",
      "Step:  AIC=-544.83\n",
      "y ~ crmrte + urban + west + taxpc + central_urban + density_min80 + \n",
      "    log10_density + pctmin80 + wser + wcon + wsta\n",
      "\n",
      "                         Df Sum of Sq     RSS     AIC\n",
      "+ polpc                   1   0.00522 0.13193 -546.25\n",
      "- urban                   1   0.00111 0.13827 -546.12\n",
      "- west                    1   0.00200 0.13916 -545.55\n",
      "+ mix                     1   0.00373 0.13342 -545.26\n",
      "+ density_ymle            1   0.00325 0.13390 -544.94\n",
      "<none>                                0.13715 -544.83\n",
      "- taxpc                   1   0.00378 0.14093 -544.44\n",
      "+ wtrd                    1   0.00240 0.13475 -544.38\n",
      "+ county                  1   0.00209 0.13506 -544.18\n",
      "+ pctymle                 1   0.00167 0.13549 -543.91\n",
      "+ wmfg                    1   0.00156 0.13559 -543.84\n",
      "+ wfir                    1   0.00125 0.13590 -543.64\n",
      "+ prbarr                  1   0.00112 0.13603 -543.55\n",
      "- wsta                    1   0.00521 0.14236 -543.55\n",
      "+ west_urban              1   0.00096 0.13619 -543.45\n",
      "+ non_urban_west_central  1   0.00083 0.13633 -543.36\n",
      "+ central                 1   0.00074 0.13642 -543.30\n",
      "+ wfed                    1   0.00069 0.13646 -543.28\n",
      "+ west_central            1   0.00044 0.13671 -543.12\n",
      "+ prbconv                 1   0.00042 0.13673 -543.10\n",
      "+ wloc                    1   0.00039 0.13676 -543.08\n",
      "+ prbpris                 1   0.00026 0.13689 -543.00\n",
      "+ avgsen                  1   0.00023 0.13693 -542.98\n",
      "+ wtuc                    1   0.00009 0.13706 -542.89\n",
      "+ density                 1   0.00004 0.13712 -542.85\n",
      "+ wtotal                  1   0.00000 0.13715 -542.83\n",
      "- wcon                    1   0.00695 0.14410 -542.48\n",
      "- wser                    1   0.01540 0.15256 -537.46\n",
      "- central_urban           1   0.03131 0.16847 -528.74\n",
      "- log10_density           1   0.06774 0.20490 -511.51\n",
      "- pctmin80                1   0.07250 0.20966 -509.49\n",
      "- density_min80           1   0.12217 0.25932 -490.78\n",
      "- crmrte                  1   1.19213 1.32928 -346.96\n",
      "\n",
      "Step:  AIC=-546.25\n",
      "y ~ crmrte + urban + west + taxpc + central_urban + density_min80 + \n",
      "    log10_density + pctmin80 + wser + wcon + wsta + polpc\n",
      "\n",
      "                         Df Sum of Sq     RSS     AIC\n",
      "- urban                   1   0.00038 0.13231 -548.00\n",
      "+ density_ymle            1   0.00299 0.12894 -546.27\n",
      "<none>                                0.13193 -546.25\n",
      "- west                    1   0.00320 0.13513 -546.14\n",
      "+ pctymle                 1   0.00269 0.12924 -546.06\n",
      "+ mix                     1   0.00237 0.12957 -545.84\n",
      "+ wfir                    1   0.00179 0.13014 -545.45\n",
      "+ county                  1   0.00169 0.13024 -545.38\n",
      "+ wtrd                    1   0.00165 0.13028 -545.35\n",
      "+ prbconv                 1   0.00132 0.13061 -545.13\n",
      "+ wmfg                    1   0.00123 0.13070 -545.07\n",
      "+ west_urban              1   0.00118 0.13075 -545.04\n",
      "+ prbarr                  1   0.00117 0.13076 -545.03\n",
      "+ non_urban_west_central  1   0.00088 0.13105 -544.84\n",
      "- polpc                   1   0.00522 0.13715 -544.83\n",
      "+ central                 1   0.00071 0.13122 -544.72\n",
      "+ prbpris                 1   0.00048 0.13145 -544.57\n",
      "+ density                 1   0.00046 0.13147 -544.56\n",
      "+ west_central            1   0.00034 0.13159 -544.47\n",
      "+ wloc                    1   0.00029 0.13164 -544.44\n",
      "+ wfed                    1   0.00024 0.13169 -544.41\n",
      "+ avgsen                  1   0.00011 0.13182 -544.32\n",
      "+ wtuc                    1   0.00006 0.13187 -544.29\n",
      "- wcon                    1   0.00607 0.13800 -544.29\n",
      "+ wtotal                  1   0.00001 0.13193 -544.25\n",
      "- wsta                    1   0.00626 0.13819 -544.17\n",
      "- taxpc                   1   0.00796 0.13989 -543.09\n",
      "- wser                    1   0.01420 0.14614 -539.25\n",
      "- central_urban           1   0.02989 0.16182 -530.27\n",
      "- log10_density           1   0.05959 0.19152 -515.45\n",
      "- pctmin80                1   0.06943 0.20136 -511.04\n",
      "- density_min80           1   0.12095 0.25288 -490.99\n",
      "- crmrte                  1   1.11738 1.24931 -350.42\n",
      "\n",
      "Step:  AIC=-548\n",
      "y ~ crmrte + west + taxpc + central_urban + density_min80 + log10_density + \n",
      "    pctmin80 + wser + wcon + wsta + polpc\n",
      "\n",
      "                         Df Sum of Sq     RSS     AIC\n",
      "+ density_ymle            1   0.00335 0.12896 -548.25\n",
      "<none>                                0.13231 -548.00\n",
      "+ pctymle                 1   0.00268 0.12963 -547.79\n",
      "+ mix                     1   0.00230 0.13001 -547.54\n",
      "- west                    1   0.00388 0.13619 -547.45\n",
      "+ county                  1   0.00191 0.13040 -547.28\n",
      "+ wfir                    1   0.00158 0.13073 -547.05\n",
      "+ wtrd                    1   0.00152 0.13078 -547.02\n",
      "+ prbconv                 1   0.00131 0.13100 -546.87\n",
      "+ prbarr                  1   0.00123 0.13108 -546.82\n",
      "+ wmfg                    1   0.00117 0.13114 -546.78\n",
      "+ non_urban_west_central  1   0.00103 0.13128 -546.68\n",
      "+ central                 1   0.00054 0.13176 -546.36\n",
      "+ prbpris                 1   0.00047 0.13184 -546.31\n",
      "+ urban                   1   0.00038 0.13193 -546.25\n",
      "+ density                 1   0.00034 0.13196 -546.22\n",
      "+ wloc                    1   0.00024 0.13207 -546.16\n",
      "+ wfed                    1   0.00023 0.13208 -546.15\n",
      "- polpc                   1   0.00596 0.13827 -546.12\n",
      "+ west_central            1   0.00018 0.13213 -546.12\n",
      "- wcon                    1   0.00597 0.13828 -546.11\n",
      "+ avgsen                  1   0.00017 0.13214 -546.11\n",
      "+ west_urban              1   0.00015 0.13216 -546.10\n",
      "+ wtuc                    1   0.00004 0.13227 -546.02\n",
      "+ wtotal                  1   0.00000 0.13231 -546.00\n",
      "- wsta                    1   0.00728 0.13959 -545.28\n",
      "- taxpc                   1   0.00942 0.14172 -543.95\n",
      "- wser                    1   0.01445 0.14676 -540.88\n",
      "- central_urban           1   0.03075 0.16306 -531.61\n",
      "- log10_density           1   0.05921 0.19152 -517.45\n",
      "- pctmin80                1   0.07038 0.20269 -512.46\n",
      "- density_min80           1   0.14198 0.27429 -485.84\n",
      "- crmrte                  1   1.11764 1.24994 -352.37\n",
      "\n",
      "Step:  AIC=-548.25\n",
      "y ~ crmrte + west + taxpc + central_urban + density_min80 + log10_density + \n",
      "    pctmin80 + wser + wcon + wsta + polpc + density_ymle\n",
      "\n",
      "                         Df Sum of Sq     RSS     AIC\n",
      "+ mix                     1   0.00299 0.12597 -548.32\n",
      "<none>                                0.12896 -548.25\n",
      "- density_ymle            1   0.00335 0.13231 -548.00\n",
      "+ wtrd                    1   0.00234 0.12661 -547.87\n",
      "+ density                 1   0.00223 0.12672 -547.79\n",
      "+ wfir                    1   0.00203 0.12693 -547.65\n",
      "- west                    1   0.00389 0.13284 -547.64\n",
      "+ prbconv                 1   0.00158 0.12738 -547.34\n",
      "+ county                  1   0.00141 0.12754 -547.22\n",
      "+ non_urban_west_central  1   0.00121 0.12775 -547.08\n",
      "+ prbpris                 1   0.00112 0.12784 -547.02\n",
      "+ prbarr                  1   0.00095 0.12801 -546.90\n",
      "+ wmfg                    1   0.00093 0.12803 -546.89\n",
      "+ central                 1   0.00080 0.12816 -546.80\n",
      "- polpc                   1   0.00522 0.13417 -546.76\n",
      "- wsta                    1   0.00535 0.13431 -546.68\n",
      "+ wloc                    1   0.00040 0.12855 -546.53\n",
      "+ pctymle                 1   0.00021 0.12875 -546.40\n",
      "+ wtotal                  1   0.00016 0.12880 -546.36\n",
      "+ west_urban              1   0.00016 0.12880 -546.36\n",
      "+ wtuc                    1   0.00010 0.12886 -546.32\n",
      "+ avgsen                  1   0.00006 0.12890 -546.30\n",
      "+ urban                   1   0.00002 0.12894 -546.27\n",
      "+ wfed                    1   0.00000 0.12895 -546.26\n",
      "+ west_central            1   0.00000 0.12896 -546.25\n",
      "- wcon                    1   0.00673 0.13569 -545.78\n",
      "- taxpc                   1   0.01042 0.13937 -543.42\n",
      "- wser                    1   0.01423 0.14319 -541.04\n",
      "- central_urban           1   0.03100 0.15996 -531.30\n",
      "- pctmin80                1   0.04928 0.17824 -521.77\n",
      "- log10_density           1   0.06164 0.19059 -515.88\n",
      "- density_min80           1   0.07495 0.20391 -509.93\n",
      "- crmrte                  1   1.06271 1.19166 -354.57\n",
      "\n",
      "Step:  AIC=-548.32\n",
      "y ~ crmrte + west + taxpc + central_urban + density_min80 + log10_density + \n",
      "    pctmin80 + wser + wcon + wsta + polpc + density_ymle + mix\n",
      "\n",
      "                         Df Sum of Sq     RSS     AIC\n",
      "+ prbarr                  1   0.00395 0.12201 -549.12\n",
      "+ wtrd                    1   0.00300 0.12296 -548.44\n",
      "<none>                                0.12597 -548.32\n",
      "+ prbpris                 1   0.00275 0.12322 -548.26\n",
      "- mix                     1   0.00299 0.12896 -548.25\n",
      "- polpc                   1   0.00366 0.12963 -547.80\n",
      "+ wmfg                    1   0.00200 0.12396 -547.73\n",
      "- wsta                    1   0.00381 0.12978 -547.69\n",
      "+ wfir                    1   0.00194 0.12402 -547.69\n",
      "- west                    1   0.00383 0.12980 -547.68\n",
      "+ county                  1   0.00190 0.12406 -547.66\n",
      "- density_ymle            1   0.00405 0.13001 -547.54\n",
      "+ non_urban_west_central  1   0.00166 0.12431 -547.49\n",
      "+ density                 1   0.00144 0.12453 -547.33\n",
      "+ central                 1   0.00125 0.12471 -547.20\n",
      "+ wloc                    1   0.00032 0.12565 -546.54\n",
      "+ prbconv                 1   0.00024 0.12572 -546.49\n",
      "+ west_urban              1   0.00009 0.12588 -546.38\n",
      "+ pctymle                 1   0.00004 0.12592 -546.35\n",
      "+ wtuc                    1   0.00003 0.12594 -546.34\n",
      "+ urban                   1   0.00002 0.12594 -546.33\n",
      "+ wfed                    1   0.00002 0.12595 -546.33\n",
      "+ wtotal                  1   0.00001 0.12595 -546.33\n",
      "+ avgsen                  1   0.00001 0.12596 -546.32\n",
      "+ west_central            1   0.00000 0.12596 -546.32\n",
      "- wcon                    1   0.00674 0.13271 -545.73\n",
      "- taxpc                   1   0.00955 0.13551 -543.89\n",
      "- wser                    1   0.01646 0.14243 -539.51\n",
      "- central_urban           1   0.02931 0.15527 -531.91\n",
      "- pctmin80                1   0.04699 0.17295 -522.42\n",
      "- log10_density           1   0.06456 0.19052 -513.91\n",
      "- density_min80           1   0.07622 0.20219 -508.68\n",
      "- crmrte                  1   1.05891 1.18488 -353.08\n",
      "\n",
      "Step:  AIC=-549.12\n",
      "y ~ crmrte + west + taxpc + central_urban + density_min80 + log10_density + \n",
      "    pctmin80 + wser + wcon + wsta + polpc + density_ymle + mix + \n",
      "    prbarr\n",
      "\n",
      "                         Df Sum of Sq     RSS     AIC\n",
      "+ prbpris                 1   0.00356 0.11846 -549.73\n",
      "+ prbconv                 1   0.00338 0.11863 -549.60\n",
      "- west                    1   0.00214 0.12416 -549.59\n",
      "<none>                                0.12201 -549.12\n",
      "- polpc                   1   0.00299 0.12500 -548.99\n",
      "+ wfir                    1   0.00250 0.11951 -548.95\n",
      "+ wtrd                    1   0.00248 0.11953 -548.93\n",
      "+ county                  1   0.00189 0.12013 -548.50\n",
      "+ wmfg                    1   0.00184 0.12017 -548.46\n",
      "- density_ymle            1   0.00384 0.12585 -548.40\n",
      "- prbarr                  1   0.00395 0.12597 -548.32\n",
      "+ non_urban_west_central  1   0.00130 0.12072 -548.06\n",
      "- wsta                    1   0.00443 0.12644 -547.99\n",
      "+ density                 1   0.00115 0.12086 -547.96\n",
      "+ central                 1   0.00112 0.12090 -547.93\n",
      "+ wloc                    1   0.00033 0.12168 -547.36\n",
      "+ wfed                    1   0.00007 0.12195 -547.17\n",
      "- wcon                    1   0.00562 0.12764 -547.16\n",
      "+ wtuc                    1   0.00003 0.12198 -547.15\n",
      "+ west_urban              1   0.00002 0.12199 -547.14\n",
      "+ pctymle                 1   0.00002 0.12199 -547.14\n",
      "+ west_central            1   0.00002 0.12200 -547.14\n",
      "+ wtotal                  1   0.00002 0.12200 -547.14\n",
      "+ urban                   1   0.00001 0.12201 -547.13\n",
      "+ avgsen                  1   0.00001 0.12201 -547.13\n",
      "- mix                     1   0.00599 0.12801 -546.90\n",
      "- taxpc                   1   0.00633 0.12835 -546.67\n",
      "- wser                    1   0.01433 0.13634 -541.35\n",
      "- central_urban           1   0.02892 0.15093 -532.41\n",
      "- pctmin80                1   0.05078 0.17279 -520.50\n",
      "- log10_density           1   0.06846 0.19048 -511.93\n",
      "- density_min80           1   0.07902 0.20104 -507.18\n",
      "- crmrte                  1   0.91112 1.03313 -363.14\n",
      "\n",
      "Step:  AIC=-549.73\n",
      "y ~ crmrte + west + taxpc + central_urban + density_min80 + log10_density + \n",
      "    pctmin80 + wser + wcon + wsta + polpc + density_ymle + mix + \n",
      "    prbarr + prbpris\n",
      "\n",
      "                         Df Sum of Sq     RSS     AIC\n",
      "- west                    1   0.00157 0.12003 -550.57\n",
      "+ prbconv                 1   0.00367 0.11479 -550.49\n",
      "+ wfir                    1   0.00278 0.11568 -549.81\n",
      "<none>                                0.11846 -549.73\n",
      "- polpc                   1   0.00300 0.12145 -549.53\n",
      "- prbpris                 1   0.00356 0.12201 -549.12\n",
      "+ wmfg                    1   0.00170 0.11676 -549.00\n",
      "+ wtrd                    1   0.00169 0.11677 -548.99\n",
      "+ county                  1   0.00161 0.11685 -548.93\n",
      "- wsta                    1   0.00390 0.12236 -548.88\n",
      "+ density                 1   0.00145 0.11701 -548.81\n",
      "- prbarr                  1   0.00476 0.12322 -548.26\n",
      "+ non_urban_west_central  1   0.00034 0.11812 -547.98\n",
      "+ central                 1   0.00031 0.11815 -547.96\n",
      "+ avgsen                  1   0.00010 0.11836 -547.80\n",
      "+ wloc                    1   0.00009 0.11837 -547.79\n",
      "+ wfed                    1   0.00007 0.11839 -547.78\n",
      "+ west_central            1   0.00007 0.11839 -547.77\n",
      "+ west_urban              1   0.00005 0.11841 -547.76\n",
      "- density_ymle            1   0.00549 0.12395 -547.74\n",
      "+ pctymle                 1   0.00000 0.11845 -547.73\n",
      "+ urban                   1   0.00000 0.11846 -547.73\n",
      "+ wtotal                  1   0.00000 0.11846 -547.73\n",
      "+ wtuc                    1   0.00000 0.11846 -547.73\n",
      "- wcon                    1   0.00609 0.12455 -547.32\n",
      "- taxpc                   1   0.00691 0.12537 -546.74\n",
      "- mix                     1   0.00852 0.12698 -545.61\n",
      "- wser                    1   0.01417 0.13263 -541.78\n",
      "- central_urban           1   0.02784 0.14630 -533.15\n",
      "- pctmin80                1   0.05066 0.16912 -520.40\n",
      "- density_min80           1   0.07150 0.18996 -510.17\n",
      "- log10_density           1   0.07165 0.19011 -510.10\n",
      "- crmrte                  1   0.91267 1.03113 -361.31\n",
      "\n",
      "Step:  AIC=-550.57\n",
      "y ~ crmrte + taxpc + central_urban + density_min80 + log10_density + \n",
      "    pctmin80 + wser + wcon + wsta + polpc + density_ymle + mix + \n",
      "    prbarr + prbpris\n",
      "\n",
      "                         Df Sum of Sq     RSS     AIC\n",
      "+ prbconv                 1   0.00399 0.11604 -551.55\n",
      "+ wfir                    1   0.00336 0.11667 -551.06\n",
      "- polpc                   1   0.00243 0.12246 -550.80\n",
      "<none>                                0.12003 -550.57\n",
      "- wsta                    1   0.00372 0.12375 -549.88\n",
      "+ west                    1   0.00157 0.11846 -549.73\n",
      "+ wtrd                    1   0.00153 0.11850 -549.69\n",
      "+ wmfg                    1   0.00143 0.11860 -549.62\n",
      "+ county                  1   0.00141 0.11862 -549.61\n",
      "- prbpris                 1   0.00413 0.12416 -549.59\n",
      "+ density                 1   0.00084 0.11919 -549.19\n",
      "+ non_urban_west_central  1   0.00048 0.11955 -548.92\n",
      "- wcon                    1   0.00515 0.12517 -548.87\n",
      "+ west_central            1   0.00034 0.11968 -548.82\n",
      "+ avgsen                  1   0.00013 0.11990 -548.67\n",
      "+ urban                   1   0.00008 0.11995 -548.63\n",
      "+ central                 1   0.00007 0.11996 -548.62\n",
      "- taxpc                   1   0.00552 0.12555 -548.61\n",
      "+ wtuc                    1   0.00005 0.11998 -548.60\n",
      "+ wtotal                  1   0.00004 0.11999 -548.60\n",
      "+ wloc                    1   0.00004 0.11999 -548.60\n",
      "+ wfed                    1   0.00003 0.12000 -548.59\n",
      "+ west_urban              1   0.00003 0.12000 -548.59\n",
      "+ pctymle                 1   0.00001 0.12001 -548.58\n",
      "- density_ymle            1   0.00561 0.12563 -548.55\n",
      "- prbarr                  1   0.00647 0.12650 -547.95\n",
      "- mix                     1   0.00973 0.12976 -545.71\n",
      "- wser                    1   0.01298 0.13301 -543.53\n",
      "- central_urban           1   0.02799 0.14802 -534.12\n",
      "- density_min80           1   0.07501 0.19504 -509.85\n",
      "- log10_density           1   0.08624 0.20627 -504.92\n",
      "- pctmin80                1   0.09496 0.21498 -501.28\n",
      "- crmrte                  1   0.91286 1.03289 -363.16\n",
      "\n",
      "Step:  AIC=-551.55\n",
      "y ~ crmrte + taxpc + central_urban + density_min80 + log10_density + \n",
      "    pctmin80 + wser + wcon + wsta + polpc + density_ymle + mix + \n",
      "    prbarr + prbpris + prbconv\n",
      "\n",
      "                         Df Sum of Sq     RSS     AIC\n",
      "<none>                                0.11604 -551.55\n",
      "+ wfir                    1   0.00235 0.11368 -551.35\n",
      "- wcon                    1   0.00337 0.11940 -551.03\n",
      "+ county                  1   0.00173 0.11430 -550.87\n",
      "+ wmfg                    1   0.00138 0.11466 -550.60\n",
      "- prbconv                 1   0.00399 0.12003 -550.57\n",
      "+ west                    1   0.00125 0.11479 -550.49\n",
      "+ wtrd                    1   0.00109 0.11495 -550.37\n",
      "+ density                 1   0.00096 0.11508 -550.28\n",
      "- prbpris                 1   0.00439 0.12043 -550.28\n",
      "- polpc                   1   0.00459 0.12062 -550.13\n",
      "+ non_urban_west_central  1   0.00071 0.11532 -550.09\n",
      "+ west_central            1   0.00054 0.11550 -549.95\n",
      "+ wfed                    1   0.00023 0.11580 -549.72\n",
      "+ avgsen                  1   0.00004 0.11600 -549.58\n",
      "+ west_urban              1   0.00004 0.11600 -549.57\n",
      "+ urban                   1   0.00004 0.11600 -549.57\n",
      "+ wtuc                    1   0.00003 0.11600 -549.57\n",
      "+ wloc                    1   0.00000 0.11603 -549.55\n",
      "+ central                 1   0.00000 0.11603 -549.55\n",
      "+ wtotal                  1   0.00000 0.11603 -549.55\n",
      "+ pctymle                 1   0.00000 0.11603 -549.55\n",
      "- wsta                    1   0.00543 0.12147 -549.52\n",
      "- density_ymle            1   0.00561 0.12165 -549.39\n",
      "- taxpc                   1   0.00564 0.12167 -549.37\n",
      "- mix                     1   0.00629 0.12233 -548.90\n",
      "- wser                    1   0.00982 0.12585 -546.40\n",
      "- prbarr                  1   0.01035 0.12639 -546.03\n",
      "- central_urban           1   0.02390 0.13993 -537.07\n",
      "- density_min80           1   0.06461 0.18064 -514.59\n",
      "- log10_density           1   0.08622 0.20226 -504.65\n",
      "- pctmin80                1   0.09894 0.21497 -499.28\n",
      "- crmrte                  1   0.53071 0.64675 -402.36\n"
     ]
    },
    {
     "data": {
      "text/plain": [
       "\n",
       "Call:\n",
       "lm(formula = y ~ crmrte + taxpc + central_urban + density_min80 + \n",
       "    log10_density + pctmin80 + wser + wcon + wsta + polpc + density_ymle + \n",
       "    mix + prbarr + prbpris + prbconv, data = data)\n",
       "\n",
       "Coefficients:\n",
       "  (Intercept)         crmrte          taxpc  central_urban  density_min80  \n",
       "   -1.8004639     11.8918422     -0.0008986      0.1334643     -0.2435457  \n",
       "log10_density       pctmin80           wser           wcon           wsta  \n",
       "    0.2595455      0.3752123      0.0003630     -0.0001718     -0.0002108  \n",
       "        polpc   density_ymle            mix         prbarr        prbpris  \n",
       "   18.4774263     -0.2106980      0.1573846     -0.1781861     -0.1032505  \n",
       "      prbconv  \n",
       "   -0.0737076  \n"
      ]
     },
     "metadata": {},
     "output_type": "display_data"
    },
    {
     "data": {
      "text/plain": [
       "y ~ 1"
      ]
     },
     "metadata": {},
     "output_type": "display_data"
    }
   ],
   "source": []
  },
  {
   "cell_type": "code",
   "execution_count": null,
   "metadata": {},
   "outputs": [],
   "source": [
    "#############################\n",
    "#Varibale Selection Process\n",
    "`\n",
    "##############################\n",
    "#Backward Elimination - stepsize regression\n",
    "##############################\n",
    "\n",
    "#Start will all the variables\n",
    "model_fitall <- lm(y ~ . , data = data)\n",
    "summary(model_fitall)\n",
    "\n",
    "step(model_fitall, direction = \"backward\")\n",
    "formula(model_fitall)\n",
    "par(mfrow=c(2,3))\n",
    "plot(model_fitall, which=1:6, col = 'blue')\n",
    "\n",
    "\n",
    "#Call:\n",
    "#lm(formula = crmrte ~ prbarr + prbconv + polpc + density + taxpc +\n",
    "#    central + pctmin80 + wcon + wfir + wfed + wsta + pctymle, data = CrimeData3)\n",
    "#AIC = AIC=-868.08\n",
    "\n",
    "##############################\n",
    "#Forward Selection - stepsize regression\n",
    "##############################\n",
    "\n",
    "#Start with intercept only\n",
    "model_fit_start <- lm(crmrte ~ 1 , data = CrimeData3)\n",
    "summary(model_fit_start)\n",
    "\n",
    "step(model_fit_start, direction = \"forward\", scope = formula(model_fitall))\n",
    "formula(model_fit_start)\n",
    "par(mfrow=c(2,3))\n",
    "plot(model_fit_start, which=1:6, col = 'blue')\n",
    "\n",
    "#Call:\n",
    "#  lm(formula = crmrte ~ density + west + prbconv + central + prbarr +\n",
    "#       polpc + pctmin80 + wcon + mix + wsta + pctymle + taxpc, data = CrimeData3)\n",
    "# AIC=-867.61\n",
    "\n",
    "##############################\n",
    "#Both Steps:\n",
    "##############################\n",
    "\n",
    "#Start with intercept only\n",
    "model_fit_start <- lm(crmrte ~ 1 , data = CrimeData3)\n",
    "summary(model_fit_start)\n",
    "\n",
    "step(model_fit_start, direction = \"both\", scope = formula(model_fitall))\n",
    "formula(model_fit_start)\n",
    "\n",
    "par(mfrow=c(2,3))\n",
    "plot(model_fit_start, which=1:6, col = 'blue')\n",
    "\n",
    "#Call:\n",
    "#lm(formula = crmrte ~ density + prbconv + prbarr + polpc + pctmin80 +\n",
    "#     mix + wsta + pctymle + taxpc, data = CrimeData3)\n",
    "# AIC=-869.3\n",
    "\n",
    "# Model Selection and Multi-model Inference: A Practical Information-theoretic Approach\n",
    "#(Burnham and Anderson, 2004), particularly on page 62 (section 2.2):\n",
    "#Usually, AIC is positive; however, it can be shifted by any additive constant,\n",
    "#and some shifts can result in negative values of AIC. Computing AIC from\n",
    "#regression statistics (see Section 1.2.2) often results in negative AIC values. In\n",
    "#our work, we have seen minimum AIC values that range from large negative\n",
    "#numbers to as high as 340,000. It is not the absolute size of the AIC value,\n",
    "#it is the relative values over the set of models considered, and particularly\n",
    "#the differences between AIC values (Section 2.5), that are important.\n",
    "##############################\n",
    "#Backward stepsize regression\n",
    "##############################\n"
   ]
  },
  {
   "cell_type": "markdown",
   "metadata": {},
   "source": [
    "### Model Selection\n",
    "\n",
    "We decided to select a model with these variables because of a combination of reasons. \n",
    "1. We found that this model had a number of variables that align well with our intuition of what typically may affect crime rate. Variables of criminal justice, along with some demographic variables are known in literature to influence crime rate.\n",
    "2. We ran the model with labor market variables, including individual industry average wages. We found only wfir and wsta had statistical significance, but very little practical significance (beta values were very small) - so we determined labor market variables dont contribute much in influencing crime rate. When included in the model, we saw our homoskedastic assumptions and normality of error assumptions also getting satisfied. Hence, it is possible that while labor market variables dont individually influence crime rate, they could have \"joint significance\".\n",
    "3. From a policy perspective, these are the interesting variables for us. We do have some suggestions we can make around controlling for policing activity, or controlling for density and demography. Hence, it makes sense to include these variables.\n",
    "4. **According to our backward stepwise selection approach, these variables showed significance.**\n",
    "\n",
    "### Model Analysis\n",
    "\n",
    "We notice that we have coefficients and std. errors from heteroskedastic robust methods (White-Huber)\n",
    "\n",
    "We also have our regular std. errors from the summary command.\n",
    "\n",
    "**Note that the Breusch Pagan test shows presence of homoskedasticity (null hypothesis failed to be rejected)**\n",
    "\n",
    "**The Shapiro test shows that errors are normally distributed (at the 5% significance level).**\n",
    "\n",
    "We notice there are a few factors that are associated with the crime rate percentage (target is log(crmrate)):\n",
    "1. **Probability of Arrest (prbarr)** - this is fairly obvious. It has a negative coefficient, meaning that when probability of arrest goes up, crime rate percentage goes down - likely because criminals reconsider doing the crime, when they know they have a high chance of getting arrested. This variable is significant in both methods of coefficient calculation.\n",
    "2. **Percentage of Minority (pctmin80)** - the model shows that as minorities increase in a county, so does crime. This variable is significant in both modes of coefficient calculation. What may be an interesting discussion is to find out whether the minorities are victims of crime, thus leading to higher crime rate OR are minorities the perpetrators of crime, thus leading to higher crime rate?\n",
    "3. **Density (log10_density)** - as density goes up, crime rate goes up. This is consistent with our originally stated hypothesis - crowded regions have more chance for conflict and more chance of crime.\n",
    "4. **Police per Capita (polpc)** - as police per capita goes up, so does crime. Note that the coefficient is very large for this variable, indicating this variable has practical significance! This may indicate that there is overpolicing going on, leading to higher arrests and more crime.\n",
    "5. **Percentage of Young Males (pctymle)** - while the density_ymle was NOT significant, pctymle is significant at the 5% level. As young males increase in a county, crime goes up, which makes intuitive sense because young males indulge in crime. \n",
    "\n",
    "While few wage variables have statistical significance, there is very little practical significance. It will be good to do a study on their joint significance.\n",
    "\n",
    "Model fit metrics are looking good. Adjusted R squared is around 83% and AIC / BIC scores are negative (interesting to note).\n",
    "\n",
    "Meaning of negative AIC or BIC: \n",
    "\n",
    "https://www.reddit.com/r/AskStatistics/comments/5ydt2c/if_my_aic_and_bic_are_negative_does_that_mean/\n",
    "\n",
    "https://stat.ethz.ch/pipermail/r-help/2005-April/069550.html"
   ]
  },
  {
   "cell_type": "code",
   "execution_count": null,
   "metadata": {},
   "outputs": [],
   "source": [
    "# finally plot the models and compare models with stargazer \n",
    "se_model8 = sqrt(diag(vcovHC(model8_select)))\n",
    "se_model6 = sqrt(diag(vcovHC(model6_cj)))\n",
    "stargazer(model8_select, model6_cj, type = \"text\", omit.stat = \"f\",\n",
    "         se = list(se_model8, se_model6),\n",
    "         star.cutoffs = c(0.05, 0.01, 0.001))"
   ]
  },
  {
   "cell_type": "markdown",
   "metadata": {},
   "source": [
    "We decided to compare the criminal justice only model (model6_cj) against the selected model chosen by the team (model8_select). This is because in our all our models, the criminal justice variables were significant, so there definitely is a contribution of criminal justice variables on crime rate. \n",
    "\n",
    "We wanted to see, that in addition to criminal justice variables, what additional variability are we able to explain adding variables around demographics + wage.\n",
    "\n",
    "We notice that our model has a superior adjusted R-Squared value (83% vs 52%). We also notice that the criminal justice only model has polpc and prbarr as significant variables. Note that the coefficient for polpc is naturally higher in model6_cj because of the omitted variables that are biasing the value of beta."
   ]
  },
  {
   "cell_type": "markdown",
   "metadata": {},
   "source": [
    "## Assumptions of Multiple Linear Regression\n",
    "\n",
    "1. Parameters are linear\n",
    "2. No perfect multicollinearity\n",
    "3. IID / Random sample of observations in dataset\n",
    "4. Zero conditional mean, ie, E[u|X] = 0 (or weaker assumption of exogeneity, E(u) = 0 and Cov(X, u) = 0)\n",
    "5. Homoskedastic errors, Var(u|X) = const\n",
    "6. Normality of errors ~ N(0, sigma^2)\n",
    "\n",
    "MLR 1-4 implies unbiased OLS estimators (beta coefficients) <br/>\n",
    "MLR 1-5 (Gauss markov) implies OLS estimators are BLUE <br/>\n",
    "MLR 1-6 (Classical LM assumptions) implies OLS estimators, ie, beta_j ~ N(beta_j, var(beta_j)) - var(beta_j) given by white standard errors"
   ]
  },
  {
   "cell_type": "markdown",
   "metadata": {},
   "source": [
    "### MLR assumptions for Select Model 8\n",
    "1. **MLR 1 - linear in parameters** is satisfied for all models based on our EDA between our target variable and explanatory variables. \n",
    "2. There is **no PERFECT multicollinearity** in the data as we have omitted variables that could have potentially shown high correlation. Also VIF score for all explanatory variables < 4. **Hence MLR 2 is also satisfied.**\n",
    "3. The data is assumed to be collected as IID (this can be assumed from the study). The authors of the study that produced this data claimed to meet this assumption (sampling method). The fact that our data consists of a slice of this data from a study may suggest that we cannot say this assumption is met. For example, it is possible that the residuals from a single year (which is the case for our dataset) might not be IID. If there is some change in these data over time, having temporal data would allow us to investigate this possibility. The geographic proximity of these counties in North Carolina further complicates our ability to assert that our residuals are IID. The authors of the original study employed advanced methods to correct for this problem. As these methods are beyond the scope of this class, we can only note that this assumption is not met. **Hence, MLR 3 criteria is assumed to be satisfied.**\n",
    "4. Looking at the residuals vs fitted values plot, **MLR 4 (Zero Conditional mean) is satisfied.** The zero conditional mean line does slope downwards on extremities, however, this could be due to lack of sufficient data points.\n",
    "5. The Breusch Pagan test shows us that the variance of errors is homoskedastic (at the 95% signifcance level). This is also confirmed from the std. residuals plot. **This shows us that MLR 5 (homoskedasticity) is satisfied.**\n",
    "6. The QQ norm plot and residual histogram plot for errors shows that errors do follow an approximate normal distribution. We also calculate the mean of errors to show that we have zero residual mean. However, there are some clear outliers represented in the data (skewed towards the lower end). **This shows that MLR 6 (normality of errors) is also satisfied.**\n",
    "7. Because we have 80 data points (> 30), we can rely on the **law of asymptotics (CLT)** to say that even if MLR 6 is not completely satisfied, the coefficients are normally distributed with unbiased true population parameter value as mean and variance given by White-Huber standard errors, ie, betaj_hat ~ N(beta_j, var(beta_j)). \n",
    "\n",
    "### Outliers\n",
    "1. We notice that there are a few outliers in our data.\n",
    "2. These also show up in the QQ plot as well as the Cooks distance plot (having cook's dist close to 1). However, we will include these in our model because its not much larger than 1.\n",
    "3. **Note that we removed row 79 which had an extremely large cook's distance and was causing problems in the model.**\n",
    "\n",
    "### Omitted Variables\n",
    "\n",
    "We pick 3 county wide variables as omitted variables:\n",
    "1. Drug_Pct - the percentage of people in the county using drugs\n",
    "2. Unemployment_Pct - the percentage of unemployed people\n",
    "3. Education_Years - the average number of years of education in the county\n",
    "\n",
    "We expect Drug_Pct to be positively correlated with crime rate.\n",
    "We expect Unemployment_Pct to be positively correlated with crime rate.\n",
    "We expect Education_Years to be negatively correlated with crime rate.\n",
    "\n",
    "For the omitted variable bias, we need to consider our modified beta values:\n",
    "\n",
    "betaj_hat = betaj_pop + beta_omitted * delta\n",
    "\n",
    "where betaj_hat is off from the population betaj by a factor of **beta_omitted * delta** \n",
    "\n",
    "**Let us say our jth variable is prbarr**\n",
    "\n",
    "In the case of (say) Education_Years, \n",
    "1. beta_omitted is negative (Education_Years should be negatively correlated with crime rate) \n",
    "2. delta is negative (prbarr should be negatively correlated with Education_Years)\n",
    "\n",
    "Hence, beta_omitted * delta is positive. Hence, betaj_hat is larger than betaj_pop. This means that we have **underestimated the effect of prbarr by omitting Education_Years from our model**. We say underestimated because coefficient for prbarr is negative and we add a positive value (beta_omitted * delta) to it. So we have drawn the coefficient for prbarr closer to 0. If Education_Years was included, then prbarr coefficient would have been further away from 0 in the negative direction."
   ]
  },
  {
   "cell_type": "markdown",
   "metadata": {},
   "source": [
    "## Conclusion"
   ]
  },
  {
   "cell_type": "markdown",
   "metadata": {},
   "source": [
    "Crime in North Carolina clearly has a complex set of root causes and effects but here we can draw a few\n",
    "conclusions that could help potentially drive several policy initiatives to reduce the crime rate in many counties.\n",
    "The first set of policy initiatives we would suggest would be around strengthening certain aspects of the criminal\n",
    "justice system.\n",
    "\n",
    "First we would suggest Increasing the ability of counties to detect and respond to a crime so that the probability of\n",
    "an arrest when a crime is committed is high could have a promising impact on the crime rate. Communicating\n",
    "those efforts to the communities may help alerting citizens to the se increased efforts may acts a deterrent. In\n",
    "addition, putting more resources in place to aid the processes required to enable a conviction such as more county\n",
    "and local prosecutors could reduce crime as there is also a fairly clear relationship between the probability of\n",
    "conviction and a lower crime rate. In short stronger deterrents on the early stages of the criminal justice appear to\n",
    "have an stronger relationship to a lower crime rate.\n",
    "\n",
    "Second, population demographics are clearly at play here. We found a relationship between a dense population\n",
    "with higher percentages of young males and minorities correlated with a higher crime rate. Policy initiative directed\n",
    "at after school programs, for young males, programs targeted to enable minorities to achieve, particularly in the\n",
    "city may divert potential criminal activity into more productive activities with life long benefits, avoiding the stigma\n",
    "of a criminal record for many.\n",
    "\n",
    "Third, economics play a role in the crime rate. Further study into degree to which both wealth and wages in\n",
    "different sectors of the population is merited. While we see a relationship between wages in certain sectors,\n",
    "building out this analysis with more data around wealth, such as the level of assets in a county, how many families\n",
    "own homes and the level and access to higher education would make such as study more fruitful.\n",
    "There are several aspects of further study that could be potentially improved by further investigation. These\n",
    "include but are not limited to the inclusion of temporal data and investigation of other criteria for a choice of full\n",
    "model beyond cross validation.\n",
    "\n",
    "North Carolina has a diverse population from coastal communities passing through Charlotte and the Research\n",
    "Triangle to the Appalachian Mountains. Tailoring policies by region motivated by the economic and justice systems\n",
    "results here could bring greater peace and deter crime for all."
   ]
  },
  {
   "cell_type": "markdown",
   "metadata": {},
   "source": [
    "## Appendix\n",
    "\n"
   ]
  },
  {
   "cell_type": "code",
   "execution_count": null,
   "metadata": {},
   "outputs": [],
   "source": [
    "ggcorr(data, size = 2)"
   ]
  },
  {
   "cell_type": "code",
   "execution_count": null,
   "metadata": {},
   "outputs": [],
   "source": []
  }
 ],
 "metadata": {
  "kernelspec": {
   "display_name": "R",
   "language": "R",
   "name": "ir"
  },
  "language_info": {
   "codemirror_mode": "r",
   "file_extension": ".r",
   "mimetype": "text/x-r-source",
   "name": "R",
   "pygments_lexer": "r",
   "version": "3.6.1"
  }
 },
 "nbformat": 4,
 "nbformat_minor": 4
}
