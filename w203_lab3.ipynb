{
 "cells": [
  {
   "cell_type": "markdown",
   "metadata": {},
   "source": [
    "# Lab 2 - W203 - Statistics for Data Science"
   ]
  },
  {
   "cell_type": "markdown",
   "metadata": {},
   "source": [
    "#### Submission by Jude Kavalam, Harshit Patel, Abhi Sharma"
   ]
  },
  {
   "cell_type": "markdown",
   "metadata": {},
   "source": [
    "## Install packages"
   ]
  },
  {
   "cell_type": "code",
   "execution_count": 1,
   "metadata": {},
   "outputs": [
    {
     "name": "stdout",
     "output_type": "stream",
     "text": [
      "package 'dplyr' successfully unpacked and MD5 sums checked\n",
      "\n",
      "The downloaded binary packages are in\n",
      "\tC:\\Users\\abhisha.REDMOND\\AppData\\Local\\Temp\\RtmpEHg3yz\\downloaded_packages\n"
     ]
    },
    {
     "name": "stderr",
     "output_type": "stream",
     "text": [
      "Warning message:\n",
      "\"package 'dplyr' was built under R version 3.6.3\"\n",
      "Attaching package: 'dplyr'\n",
      "\n",
      "The following objects are masked from 'package:stats':\n",
      "\n",
      "    filter, lag\n",
      "\n",
      "The following objects are masked from 'package:base':\n",
      "\n",
      "    intersect, setdiff, setequal, union\n",
      "\n"
     ]
    },
    {
     "name": "stdout",
     "output_type": "stream",
     "text": [
      "package 'car' successfully unpacked and MD5 sums checked\n",
      "\n",
      "The downloaded binary packages are in\n",
      "\tC:\\Users\\abhisha.REDMOND\\AppData\\Local\\Temp\\RtmpEHg3yz\\downloaded_packages\n"
     ]
    },
    {
     "name": "stderr",
     "output_type": "stream",
     "text": [
      "Warning message:\n",
      "\"package 'car' was built under R version 3.6.3\"Loading required package: carData\n",
      "\n",
      "Attaching package: 'car'\n",
      "\n",
      "The following object is masked from 'package:dplyr':\n",
      "\n",
      "    recode\n",
      "\n"
     ]
    },
    {
     "name": "stdout",
     "output_type": "stream",
     "text": [
      "package 'lmtest' successfully unpacked and MD5 sums checked\n",
      "\n",
      "The downloaded binary packages are in\n",
      "\tC:\\Users\\abhisha.REDMOND\\AppData\\Local\\Temp\\RtmpEHg3yz\\downloaded_packages\n"
     ]
    },
    {
     "name": "stderr",
     "output_type": "stream",
     "text": [
      "Warning message:\n",
      "\"package 'lmtest' was built under R version 3.6.3\"Loading required package: zoo\n",
      "\n",
      "Attaching package: 'zoo'\n",
      "\n",
      "The following objects are masked from 'package:base':\n",
      "\n",
      "    as.Date, as.Date.numeric\n",
      "\n"
     ]
    },
    {
     "name": "stdout",
     "output_type": "stream",
     "text": [
      "package 'sandwich' successfully unpacked and MD5 sums checked\n",
      "\n",
      "The downloaded binary packages are in\n",
      "\tC:\\Users\\abhisha.REDMOND\\AppData\\Local\\Temp\\RtmpEHg3yz\\downloaded_packages\n"
     ]
    },
    {
     "name": "stderr",
     "output_type": "stream",
     "text": [
      "Warning message:\n",
      "\"package 'sandwich' was built under R version 3.6.3\""
     ]
    },
    {
     "name": "stdout",
     "output_type": "stream",
     "text": [
      "package 'corrplot' successfully unpacked and MD5 sums checked\n",
      "\n",
      "The downloaded binary packages are in\n",
      "\tC:\\Users\\abhisha.REDMOND\\AppData\\Local\\Temp\\RtmpEHg3yz\\downloaded_packages\n"
     ]
    },
    {
     "name": "stderr",
     "output_type": "stream",
     "text": [
      "Warning message:\n",
      "\"package 'corrplot' was built under R version 3.6.3\"corrplot 0.84 loaded\n"
     ]
    },
    {
     "name": "stdout",
     "output_type": "stream",
     "text": [
      "package 'stargazer' successfully unpacked and MD5 sums checked\n",
      "\n",
      "The downloaded binary packages are in\n",
      "\tC:\\Users\\abhisha.REDMOND\\AppData\\Local\\Temp\\RtmpEHg3yz\\downloaded_packages\n"
     ]
    },
    {
     "name": "stderr",
     "output_type": "stream",
     "text": [
      "\n",
      "Please cite as: \n",
      "\n",
      " Hlavac, Marek (2018). stargazer: Well-Formatted Regression and Summary Statistics Tables.\n",
      " R package version 5.2.2. https://CRAN.R-project.org/package=stargazer \n",
      "\n"
     ]
    },
    {
     "name": "stdout",
     "output_type": "stream",
     "text": [
      "package 'curl' successfully unpacked and MD5 sums checked\n"
     ]
    },
    {
     "name": "stderr",
     "output_type": "stream",
     "text": [
      "Warning message:\n",
      "\"cannot remove prior installation of package 'curl'\"Warning message in file.copy(savedcopy, lib, recursive = TRUE):\n",
      "\"problem copying C:\\Users\\abhisha.REDMOND\\AppData\\Local\\Continuum\\anaconda3\\envs\\r-env\\Lib\\R\\library\\00LOCK\\curl\\libs\\x64\\curl.dll to C:\\Users\\abhisha.REDMOND\\AppData\\Local\\Continuum\\anaconda3\\envs\\r-env\\Lib\\R\\library\\curl\\libs\\x64\\curl.dll: Permission denied\"Warning message:\n",
      "\"restored 'curl'\""
     ]
    },
    {
     "name": "stdout",
     "output_type": "stream",
     "text": [
      "\n",
      "The downloaded binary packages are in\n",
      "\tC:\\Users\\abhisha.REDMOND\\AppData\\Local\\Temp\\RtmpEHg3yz\\downloaded_packages\n",
      "package 'data.table' successfully unpacked and MD5 sums checked\n"
     ]
    },
    {
     "name": "stderr",
     "output_type": "stream",
     "text": [
      "Warning message:\n",
      "\"cannot remove prior installation of package 'data.table'\"Warning message in file.copy(savedcopy, lib, recursive = TRUE):\n",
      "\"problem copying C:\\Users\\abhisha.REDMOND\\AppData\\Local\\Continuum\\anaconda3\\envs\\r-env\\Lib\\R\\library\\00LOCK\\data.table\\libs\\x64\\datatable.dll to C:\\Users\\abhisha.REDMOND\\AppData\\Local\\Continuum\\anaconda3\\envs\\r-env\\Lib\\R\\library\\data.table\\libs\\x64\\datatable.dll: Permission denied\"Warning message:\n",
      "\"restored 'data.table'\""
     ]
    },
    {
     "name": "stdout",
     "output_type": "stream",
     "text": [
      "\n",
      "The downloaded binary packages are in\n",
      "\tC:\\Users\\abhisha.REDMOND\\AppData\\Local\\Temp\\RtmpEHg3yz\\downloaded_packages\n"
     ]
    },
    {
     "name": "stderr",
     "output_type": "stream",
     "text": [
      "\n",
      "Attaching package: 'data.table'\n",
      "\n",
      "The following objects are masked from 'package:dplyr':\n",
      "\n",
      "    between, first, last\n",
      "\n"
     ]
    },
    {
     "name": "stdout",
     "output_type": "stream",
     "text": [
      "package 'haven' successfully unpacked and MD5 sums checked\n"
     ]
    },
    {
     "name": "stderr",
     "output_type": "stream",
     "text": [
      "Warning message:\n",
      "\"cannot remove prior installation of package 'haven'\"Warning message in file.copy(savedcopy, lib, recursive = TRUE):\n",
      "\"problem copying C:\\Users\\abhisha.REDMOND\\AppData\\Local\\Continuum\\anaconda3\\envs\\r-env\\Lib\\R\\library\\00LOCK\\haven\\libs\\x64\\haven.dll to C:\\Users\\abhisha.REDMOND\\AppData\\Local\\Continuum\\anaconda3\\envs\\r-env\\Lib\\R\\library\\haven\\libs\\x64\\haven.dll: Permission denied\"Warning message:\n",
      "\"restored 'haven'\""
     ]
    },
    {
     "name": "stdout",
     "output_type": "stream",
     "text": [
      "\n",
      "The downloaded binary packages are in\n",
      "\tC:\\Users\\abhisha.REDMOND\\AppData\\Local\\Temp\\RtmpEHg3yz\\downloaded_packages\n",
      "package 'readxl' successfully unpacked and MD5 sums checked\n"
     ]
    },
    {
     "name": "stderr",
     "output_type": "stream",
     "text": [
      "Warning message:\n",
      "\"cannot remove prior installation of package 'readxl'\"Warning message in file.copy(savedcopy, lib, recursive = TRUE):\n",
      "\"problem copying C:\\Users\\abhisha.REDMOND\\AppData\\Local\\Continuum\\anaconda3\\envs\\r-env\\Lib\\R\\library\\00LOCK\\readxl\\libs\\x64\\readxl.dll to C:\\Users\\abhisha.REDMOND\\AppData\\Local\\Continuum\\anaconda3\\envs\\r-env\\Lib\\R\\library\\readxl\\libs\\x64\\readxl.dll: Permission denied\"Warning message:\n",
      "\"restored 'readxl'\""
     ]
    },
    {
     "name": "stdout",
     "output_type": "stream",
     "text": [
      "\n",
      "The downloaded binary packages are in\n",
      "\tC:\\Users\\abhisha.REDMOND\\AppData\\Local\\Temp\\RtmpEHg3yz\\downloaded_packages\n",
      "package 'ggplot2' successfully unpacked and MD5 sums checked\n",
      "\n",
      "The downloaded binary packages are in\n",
      "\tC:\\Users\\abhisha.REDMOND\\AppData\\Local\\Temp\\RtmpEHg3yz\\downloaded_packages\n"
     ]
    },
    {
     "name": "stderr",
     "output_type": "stream",
     "text": [
      "Warning message:\n",
      "\"package 'ggplot2' was built under R version 3.6.3\"Warning message:\n",
      "\"package 'corrplot' is in use and will not be installed\""
     ]
    },
    {
     "name": "stdout",
     "output_type": "stream",
     "text": [
      "package 'GGally' successfully unpacked and MD5 sums checked\n",
      "\n",
      "The downloaded binary packages are in\n",
      "\tC:\\Users\\abhisha.REDMOND\\AppData\\Local\\Temp\\RtmpEHg3yz\\downloaded_packages\n"
     ]
    },
    {
     "name": "stderr",
     "output_type": "stream",
     "text": [
      "Warning message:\n",
      "\"package 'GGally' was built under R version 3.6.3\"Registered S3 method overwritten by 'GGally':\n",
      "  method from   \n",
      "  +.gg   ggplot2\n",
      "\n",
      "Attaching package: 'GGally'\n",
      "\n",
      "The following object is masked from 'package:dplyr':\n",
      "\n",
      "    nasa\n",
      "\n"
     ]
    }
   ],
   "source": [
    "install.packages(\"dplyr\")\n",
    "library(dplyr)\n",
    "install.packages(\"car\")\n",
    "library(car)\n",
    "install.packages(\"lmtest\")\n",
    "library(lmtest)\n",
    "install.packages(\"sandwich\")\n",
    "library(sandwich)\n",
    "install.packages(\"corrplot\")\n",
    "library(corrplot)\n",
    "install.packages(\"stargazer\")\n",
    "library(stargazer)\n",
    "install.packages(\"curl\")\n",
    "library(curl)\n",
    "install.packages(\"data.table\")\n",
    "library(data.table)\n",
    "install.packages(\"haven\")\n",
    "library(haven)\n",
    "install.packages(\"readxl\")\n",
    "library(readxl)\n",
    "install.packages(\"ggplot2\")\n",
    "library(ggplot2)\n",
    "install.packages(\"corrplot\")\n",
    "library(corrplot)\n",
    "install.packages(\"GGally\")\n",
    "library(GGally)\n",
    "\n",
    "# set standard height and width for images displayed\n",
    "options(repr.plot.width=5, repr.plot.height=5)\n"
   ]
  },
  {
   "cell_type": "markdown",
   "metadata": {},
   "source": [
    "## Data Cleaning"
   ]
  },
  {
   "cell_type": "code",
   "execution_count": 2,
   "metadata": {},
   "outputs": [],
   "source": [
    "get_data = function() {\n",
    "    wd = getwd()\n",
    "    return (read.csv(paste(wd, \"/\", \"crime_v2.csv\", sep=\"\")))    \n",
    "}"
   ]
  },
  {
   "cell_type": "code",
   "execution_count": 3,
   "metadata": {},
   "outputs": [
    {
     "data": {
      "text/html": [
       "<table>\n",
       "<caption>A data.frame: 6 × 25</caption>\n",
       "<thead>\n",
       "\t<tr><th></th><th scope=col>county</th><th scope=col>year</th><th scope=col>crmrte</th><th scope=col>prbarr</th><th scope=col>prbconv</th><th scope=col>prbpris</th><th scope=col>avgsen</th><th scope=col>polpc</th><th scope=col>density</th><th scope=col>taxpc</th><th scope=col>...</th><th scope=col>wtuc</th><th scope=col>wtrd</th><th scope=col>wfir</th><th scope=col>wser</th><th scope=col>wmfg</th><th scope=col>wfed</th><th scope=col>wsta</th><th scope=col>wloc</th><th scope=col>mix</th><th scope=col>pctymle</th></tr>\n",
       "\t<tr><th></th><th scope=col>&lt;int&gt;</th><th scope=col>&lt;int&gt;</th><th scope=col>&lt;dbl&gt;</th><th scope=col>&lt;dbl&gt;</th><th scope=col>&lt;fct&gt;</th><th scope=col>&lt;dbl&gt;</th><th scope=col>&lt;dbl&gt;</th><th scope=col>&lt;dbl&gt;</th><th scope=col>&lt;dbl&gt;</th><th scope=col>&lt;dbl&gt;</th><th scope=col>...</th><th scope=col>&lt;dbl&gt;</th><th scope=col>&lt;dbl&gt;</th><th scope=col>&lt;dbl&gt;</th><th scope=col>&lt;dbl&gt;</th><th scope=col>&lt;dbl&gt;</th><th scope=col>&lt;dbl&gt;</th><th scope=col>&lt;dbl&gt;</th><th scope=col>&lt;dbl&gt;</th><th scope=col>&lt;dbl&gt;</th><th scope=col>&lt;dbl&gt;</th></tr>\n",
       "</thead>\n",
       "<tbody>\n",
       "\t<tr><th scope=row>1</th><td> 1</td><td>87</td><td>0.0356036</td><td>0.298270</td><td>0.527595997</td><td>0.436170</td><td> 6.71</td><td>0.00182786</td><td>2.4226327</td><td>30.99368</td><td>...</td><td>408.7245</td><td>221.2701</td><td>453.1722</td><td>274.1775</td><td>334.54</td><td>477.58</td><td>292.09</td><td>311.91</td><td>0.08016878</td><td>0.07787097</td></tr>\n",
       "\t<tr><th scope=row>2</th><td> 3</td><td>87</td><td>0.0152532</td><td>0.132029</td><td>1.481480002</td><td>0.450000</td><td> 6.35</td><td>0.00074588</td><td>1.0463320</td><td>26.89208</td><td>...</td><td>376.2542</td><td>196.0101</td><td>258.5650</td><td>192.3077</td><td>300.38</td><td>409.83</td><td>362.96</td><td>301.47</td><td>0.03022670</td><td>0.08260694</td></tr>\n",
       "\t<tr><th scope=row>3</th><td> 5</td><td>87</td><td>0.0129603</td><td>0.444444</td><td>0.267856985</td><td>0.600000</td><td> 6.76</td><td>0.00123431</td><td>0.4127659</td><td>34.81605</td><td>...</td><td>372.2084</td><td>229.3209</td><td>305.9441</td><td>209.6972</td><td>237.65</td><td>358.98</td><td>331.53</td><td>281.37</td><td>0.46511629</td><td>0.07211538</td></tr>\n",
       "\t<tr><th scope=row>4</th><td> 7</td><td>87</td><td>0.0267532</td><td>0.364760</td><td>0.525424004</td><td>0.435484</td><td> 7.14</td><td>0.00152994</td><td>0.4915572</td><td>42.94759</td><td>...</td><td>397.6901</td><td>191.1720</td><td>281.0651</td><td>256.7214</td><td>281.80</td><td>412.15</td><td>328.27</td><td>299.03</td><td>0.27362204</td><td>0.07353726</td></tr>\n",
       "\t<tr><th scope=row>5</th><td> 9</td><td>87</td><td>0.0106232</td><td>0.518219</td><td>0.476563007</td><td>0.442623</td><td> 8.22</td><td>0.00086018</td><td>0.5469484</td><td>28.05474</td><td>...</td><td>377.3126</td><td>206.8215</td><td>289.3125</td><td>215.1933</td><td>290.89</td><td>377.35</td><td>367.23</td><td>342.82</td><td>0.06008584</td><td>0.07069755</td></tr>\n",
       "\t<tr><th scope=row>6</th><td>11</td><td>87</td><td>0.0146067</td><td>0.524664</td><td>0.068376102</td><td>0.500000</td><td>13.00</td><td>0.00288203</td><td>0.6113361</td><td>35.22974</td><td>...</td><td>401.3378</td><td>187.8255</td><td>258.5650</td><td>237.1507</td><td>258.60</td><td>391.48</td><td>325.71</td><td>275.22</td><td>0.31952664</td><td>0.09891920</td></tr>\n",
       "</tbody>\n",
       "</table>\n"
      ],
      "text/latex": [
       "A data.frame: 6 × 25\n",
       "\\begin{tabular}{r|lllllllllllllllllllll}\n",
       "  & county & year & crmrte & prbarr & prbconv & prbpris & avgsen & polpc & density & taxpc & ... & wtuc & wtrd & wfir & wser & wmfg & wfed & wsta & wloc & mix & pctymle\\\\\n",
       "  & <int> & <int> & <dbl> & <dbl> & <fct> & <dbl> & <dbl> & <dbl> & <dbl> & <dbl> & ... & <dbl> & <dbl> & <dbl> & <dbl> & <dbl> & <dbl> & <dbl> & <dbl> & <dbl> & <dbl>\\\\\n",
       "\\hline\n",
       "\t1 &  1 & 87 & 0.0356036 & 0.298270 & 0.527595997 & 0.436170 &  6.71 & 0.00182786 & 2.4226327 & 30.99368 & ... & 408.7245 & 221.2701 & 453.1722 & 274.1775 & 334.54 & 477.58 & 292.09 & 311.91 & 0.08016878 & 0.07787097\\\\\n",
       "\t2 &  3 & 87 & 0.0152532 & 0.132029 & 1.481480002 & 0.450000 &  6.35 & 0.00074588 & 1.0463320 & 26.89208 & ... & 376.2542 & 196.0101 & 258.5650 & 192.3077 & 300.38 & 409.83 & 362.96 & 301.47 & 0.03022670 & 0.08260694\\\\\n",
       "\t3 &  5 & 87 & 0.0129603 & 0.444444 & 0.267856985 & 0.600000 &  6.76 & 0.00123431 & 0.4127659 & 34.81605 & ... & 372.2084 & 229.3209 & 305.9441 & 209.6972 & 237.65 & 358.98 & 331.53 & 281.37 & 0.46511629 & 0.07211538\\\\\n",
       "\t4 &  7 & 87 & 0.0267532 & 0.364760 & 0.525424004 & 0.435484 &  7.14 & 0.00152994 & 0.4915572 & 42.94759 & ... & 397.6901 & 191.1720 & 281.0651 & 256.7214 & 281.80 & 412.15 & 328.27 & 299.03 & 0.27362204 & 0.07353726\\\\\n",
       "\t5 &  9 & 87 & 0.0106232 & 0.518219 & 0.476563007 & 0.442623 &  8.22 & 0.00086018 & 0.5469484 & 28.05474 & ... & 377.3126 & 206.8215 & 289.3125 & 215.1933 & 290.89 & 377.35 & 367.23 & 342.82 & 0.06008584 & 0.07069755\\\\\n",
       "\t6 & 11 & 87 & 0.0146067 & 0.524664 & 0.068376102 & 0.500000 & 13.00 & 0.00288203 & 0.6113361 & 35.22974 & ... & 401.3378 & 187.8255 & 258.5650 & 237.1507 & 258.60 & 391.48 & 325.71 & 275.22 & 0.31952664 & 0.09891920\\\\\n",
       "\\end{tabular}\n"
      ],
      "text/markdown": [
       "\n",
       "A data.frame: 6 × 25\n",
       "\n",
       "| <!--/--> | county &lt;int&gt; | year &lt;int&gt; | crmrte &lt;dbl&gt; | prbarr &lt;dbl&gt; | prbconv &lt;fct&gt; | prbpris &lt;dbl&gt; | avgsen &lt;dbl&gt; | polpc &lt;dbl&gt; | density &lt;dbl&gt; | taxpc &lt;dbl&gt; | ... ... | wtuc &lt;dbl&gt; | wtrd &lt;dbl&gt; | wfir &lt;dbl&gt; | wser &lt;dbl&gt; | wmfg &lt;dbl&gt; | wfed &lt;dbl&gt; | wsta &lt;dbl&gt; | wloc &lt;dbl&gt; | mix &lt;dbl&gt; | pctymle &lt;dbl&gt; |\n",
       "|---|---|---|---|---|---|---|---|---|---|---|---|---|---|---|---|---|---|---|---|---|---|\n",
       "| 1 |  1 | 87 | 0.0356036 | 0.298270 | 0.527595997 | 0.436170 |  6.71 | 0.00182786 | 2.4226327 | 30.99368 | ... | 408.7245 | 221.2701 | 453.1722 | 274.1775 | 334.54 | 477.58 | 292.09 | 311.91 | 0.08016878 | 0.07787097 |\n",
       "| 2 |  3 | 87 | 0.0152532 | 0.132029 | 1.481480002 | 0.450000 |  6.35 | 0.00074588 | 1.0463320 | 26.89208 | ... | 376.2542 | 196.0101 | 258.5650 | 192.3077 | 300.38 | 409.83 | 362.96 | 301.47 | 0.03022670 | 0.08260694 |\n",
       "| 3 |  5 | 87 | 0.0129603 | 0.444444 | 0.267856985 | 0.600000 |  6.76 | 0.00123431 | 0.4127659 | 34.81605 | ... | 372.2084 | 229.3209 | 305.9441 | 209.6972 | 237.65 | 358.98 | 331.53 | 281.37 | 0.46511629 | 0.07211538 |\n",
       "| 4 |  7 | 87 | 0.0267532 | 0.364760 | 0.525424004 | 0.435484 |  7.14 | 0.00152994 | 0.4915572 | 42.94759 | ... | 397.6901 | 191.1720 | 281.0651 | 256.7214 | 281.80 | 412.15 | 328.27 | 299.03 | 0.27362204 | 0.07353726 |\n",
       "| 5 |  9 | 87 | 0.0106232 | 0.518219 | 0.476563007 | 0.442623 |  8.22 | 0.00086018 | 0.5469484 | 28.05474 | ... | 377.3126 | 206.8215 | 289.3125 | 215.1933 | 290.89 | 377.35 | 367.23 | 342.82 | 0.06008584 | 0.07069755 |\n",
       "| 6 | 11 | 87 | 0.0146067 | 0.524664 | 0.068376102 | 0.500000 | 13.00 | 0.00288203 | 0.6113361 | 35.22974 | ... | 401.3378 | 187.8255 | 258.5650 | 237.1507 | 258.60 | 391.48 | 325.71 | 275.22 | 0.31952664 | 0.09891920 |\n",
       "\n"
      ],
      "text/plain": [
       "  county year crmrte    prbarr   prbconv     prbpris  avgsen polpc     \n",
       "1  1     87   0.0356036 0.298270 0.527595997 0.436170  6.71  0.00182786\n",
       "2  3     87   0.0152532 0.132029 1.481480002 0.450000  6.35  0.00074588\n",
       "3  5     87   0.0129603 0.444444 0.267856985 0.600000  6.76  0.00123431\n",
       "4  7     87   0.0267532 0.364760 0.525424004 0.435484  7.14  0.00152994\n",
       "5  9     87   0.0106232 0.518219 0.476563007 0.442623  8.22  0.00086018\n",
       "6 11     87   0.0146067 0.524664 0.068376102 0.500000 13.00  0.00288203\n",
       "  density   taxpc    ... wtuc     wtrd     wfir     wser     wmfg   wfed  \n",
       "1 2.4226327 30.99368 ... 408.7245 221.2701 453.1722 274.1775 334.54 477.58\n",
       "2 1.0463320 26.89208 ... 376.2542 196.0101 258.5650 192.3077 300.38 409.83\n",
       "3 0.4127659 34.81605 ... 372.2084 229.3209 305.9441 209.6972 237.65 358.98\n",
       "4 0.4915572 42.94759 ... 397.6901 191.1720 281.0651 256.7214 281.80 412.15\n",
       "5 0.5469484 28.05474 ... 377.3126 206.8215 289.3125 215.1933 290.89 377.35\n",
       "6 0.6113361 35.22974 ... 401.3378 187.8255 258.5650 237.1507 258.60 391.48\n",
       "  wsta   wloc   mix        pctymle   \n",
       "1 292.09 311.91 0.08016878 0.07787097\n",
       "2 362.96 301.47 0.03022670 0.08260694\n",
       "3 331.53 281.37 0.46511629 0.07211538\n",
       "4 328.27 299.03 0.27362204 0.07353726\n",
       "5 367.23 342.82 0.06008584 0.07069755\n",
       "6 325.71 275.22 0.31952664 0.09891920"
      ]
     },
     "metadata": {},
     "output_type": "display_data"
    }
   ],
   "source": [
    "data = get_data()\n",
    "head(data)"
   ]
  },
  {
   "cell_type": "code",
   "execution_count": 4,
   "metadata": {},
   "outputs": [
    {
     "data": {
      "text/html": [
       "<style>\n",
       ".list-inline {list-style: none; margin:0; padding: 0}\n",
       ".list-inline>li {display: inline-block}\n",
       ".list-inline>li:not(:last-child)::after {content: \"\\00b7\"; padding: 0 .5ex}\n",
       "</style>\n",
       "<ol class=list-inline><li>97</li><li>25</li></ol>\n"
      ],
      "text/latex": [
       "\\begin{enumerate*}\n",
       "\\item 97\n",
       "\\item 25\n",
       "\\end{enumerate*}\n"
      ],
      "text/markdown": [
       "1. 97\n",
       "2. 25\n",
       "\n",
       "\n"
      ],
      "text/plain": [
       "[1] 97 25"
      ]
     },
     "metadata": {},
     "output_type": "display_data"
    }
   ],
   "source": [
    "dim(data)"
   ]
  },
  {
   "cell_type": "code",
   "execution_count": 5,
   "metadata": {},
   "outputs": [
    {
     "data": {
      "text/html": [
       "<style>\n",
       ".dl-inline {width: auto; margin:0; padding: 0}\n",
       ".dl-inline>dt, .dl-inline>dd {float: none; width: auto; display: inline-block}\n",
       ".dl-inline>dt::after {content: \":\\0020\"; padding-right: .5ex}\n",
       ".dl-inline>dt:not(:first-of-type) {padding-left: .5ex}\n",
       "</style><dl class=dl-inline><dt>county</dt><dd>'integer'</dd><dt>year</dt><dd>'integer'</dd><dt>crmrte</dt><dd>'numeric'</dd><dt>prbarr</dt><dd>'numeric'</dd><dt>prbconv</dt><dd>'factor'</dd><dt>prbpris</dt><dd>'numeric'</dd><dt>avgsen</dt><dd>'numeric'</dd><dt>polpc</dt><dd>'numeric'</dd><dt>density</dt><dd>'numeric'</dd><dt>taxpc</dt><dd>'numeric'</dd><dt>west</dt><dd>'integer'</dd><dt>central</dt><dd>'integer'</dd><dt>urban</dt><dd>'integer'</dd><dt>pctmin80</dt><dd>'numeric'</dd><dt>wcon</dt><dd>'numeric'</dd><dt>wtuc</dt><dd>'numeric'</dd><dt>wtrd</dt><dd>'numeric'</dd><dt>wfir</dt><dd>'numeric'</dd><dt>wser</dt><dd>'numeric'</dd><dt>wmfg</dt><dd>'numeric'</dd><dt>wfed</dt><dd>'numeric'</dd><dt>wsta</dt><dd>'numeric'</dd><dt>wloc</dt><dd>'numeric'</dd><dt>mix</dt><dd>'numeric'</dd><dt>pctymle</dt><dd>'numeric'</dd></dl>\n"
      ],
      "text/latex": [
       "\\begin{description*}\n",
       "\\item[county] 'integer'\n",
       "\\item[year] 'integer'\n",
       "\\item[crmrte] 'numeric'\n",
       "\\item[prbarr] 'numeric'\n",
       "\\item[prbconv] 'factor'\n",
       "\\item[prbpris] 'numeric'\n",
       "\\item[avgsen] 'numeric'\n",
       "\\item[polpc] 'numeric'\n",
       "\\item[density] 'numeric'\n",
       "\\item[taxpc] 'numeric'\n",
       "\\item[west] 'integer'\n",
       "\\item[central] 'integer'\n",
       "\\item[urban] 'integer'\n",
       "\\item[pctmin80] 'numeric'\n",
       "\\item[wcon] 'numeric'\n",
       "\\item[wtuc] 'numeric'\n",
       "\\item[wtrd] 'numeric'\n",
       "\\item[wfir] 'numeric'\n",
       "\\item[wser] 'numeric'\n",
       "\\item[wmfg] 'numeric'\n",
       "\\item[wfed] 'numeric'\n",
       "\\item[wsta] 'numeric'\n",
       "\\item[wloc] 'numeric'\n",
       "\\item[mix] 'numeric'\n",
       "\\item[pctymle] 'numeric'\n",
       "\\end{description*}\n"
      ],
      "text/markdown": [
       "county\n",
       ":   'integer'year\n",
       ":   'integer'crmrte\n",
       ":   'numeric'prbarr\n",
       ":   'numeric'prbconv\n",
       ":   'factor'prbpris\n",
       ":   'numeric'avgsen\n",
       ":   'numeric'polpc\n",
       ":   'numeric'density\n",
       ":   'numeric'taxpc\n",
       ":   'numeric'west\n",
       ":   'integer'central\n",
       ":   'integer'urban\n",
       ":   'integer'pctmin80\n",
       ":   'numeric'wcon\n",
       ":   'numeric'wtuc\n",
       ":   'numeric'wtrd\n",
       ":   'numeric'wfir\n",
       ":   'numeric'wser\n",
       ":   'numeric'wmfg\n",
       ":   'numeric'wfed\n",
       ":   'numeric'wsta\n",
       ":   'numeric'wloc\n",
       ":   'numeric'mix\n",
       ":   'numeric'pctymle\n",
       ":   'numeric'\n",
       "\n"
      ],
      "text/plain": [
       "   county      year    crmrte    prbarr   prbconv   prbpris    avgsen     polpc \n",
       "\"integer\" \"integer\" \"numeric\" \"numeric\"  \"factor\" \"numeric\" \"numeric\" \"numeric\" \n",
       "  density     taxpc      west   central     urban  pctmin80      wcon      wtuc \n",
       "\"numeric\" \"numeric\" \"integer\" \"integer\" \"integer\" \"numeric\" \"numeric\" \"numeric\" \n",
       "     wtrd      wfir      wser      wmfg      wfed      wsta      wloc       mix \n",
       "\"numeric\" \"numeric\" \"numeric\" \"numeric\" \"numeric\" \"numeric\" \"numeric\" \"numeric\" \n",
       "  pctymle \n",
       "\"numeric\" "
      ]
     },
     "metadata": {},
     "output_type": "display_data"
    }
   ],
   "source": [
    "sapply(data, class)"
   ]
  },
  {
   "cell_type": "markdown",
   "metadata": {},
   "source": [
    "#### We notice there is a factor column for prbconv, we convert this to numeric, as has been done with prbarr and prbpris"
   ]
  },
  {
   "cell_type": "code",
   "execution_count": 6,
   "metadata": {},
   "outputs": [],
   "source": [
    "data$prbconv = as.numeric(data$prbconv)"
   ]
  },
  {
   "cell_type": "code",
   "execution_count": 7,
   "metadata": {},
   "outputs": [
    {
     "data": {
      "text/html": [
       "<style>\n",
       ".dl-inline {width: auto; margin:0; padding: 0}\n",
       ".dl-inline>dt, .dl-inline>dd {float: none; width: auto; display: inline-block}\n",
       ".dl-inline>dt::after {content: \":\\0020\"; padding-right: .5ex}\n",
       ".dl-inline>dt:not(:first-of-type) {padding-left: .5ex}\n",
       "</style><dl class=dl-inline><dt>county</dt><dd>'integer'</dd><dt>year</dt><dd>'integer'</dd><dt>crmrte</dt><dd>'numeric'</dd><dt>prbarr</dt><dd>'numeric'</dd><dt>prbconv</dt><dd>'numeric'</dd><dt>prbpris</dt><dd>'numeric'</dd><dt>avgsen</dt><dd>'numeric'</dd><dt>polpc</dt><dd>'numeric'</dd><dt>density</dt><dd>'numeric'</dd><dt>taxpc</dt><dd>'numeric'</dd><dt>west</dt><dd>'integer'</dd><dt>central</dt><dd>'integer'</dd><dt>urban</dt><dd>'integer'</dd><dt>pctmin80</dt><dd>'numeric'</dd><dt>wcon</dt><dd>'numeric'</dd><dt>wtuc</dt><dd>'numeric'</dd><dt>wtrd</dt><dd>'numeric'</dd><dt>wfir</dt><dd>'numeric'</dd><dt>wser</dt><dd>'numeric'</dd><dt>wmfg</dt><dd>'numeric'</dd><dt>wfed</dt><dd>'numeric'</dd><dt>wsta</dt><dd>'numeric'</dd><dt>wloc</dt><dd>'numeric'</dd><dt>mix</dt><dd>'numeric'</dd><dt>pctymle</dt><dd>'numeric'</dd></dl>\n"
      ],
      "text/latex": [
       "\\begin{description*}\n",
       "\\item[county] 'integer'\n",
       "\\item[year] 'integer'\n",
       "\\item[crmrte] 'numeric'\n",
       "\\item[prbarr] 'numeric'\n",
       "\\item[prbconv] 'numeric'\n",
       "\\item[prbpris] 'numeric'\n",
       "\\item[avgsen] 'numeric'\n",
       "\\item[polpc] 'numeric'\n",
       "\\item[density] 'numeric'\n",
       "\\item[taxpc] 'numeric'\n",
       "\\item[west] 'integer'\n",
       "\\item[central] 'integer'\n",
       "\\item[urban] 'integer'\n",
       "\\item[pctmin80] 'numeric'\n",
       "\\item[wcon] 'numeric'\n",
       "\\item[wtuc] 'numeric'\n",
       "\\item[wtrd] 'numeric'\n",
       "\\item[wfir] 'numeric'\n",
       "\\item[wser] 'numeric'\n",
       "\\item[wmfg] 'numeric'\n",
       "\\item[wfed] 'numeric'\n",
       "\\item[wsta] 'numeric'\n",
       "\\item[wloc] 'numeric'\n",
       "\\item[mix] 'numeric'\n",
       "\\item[pctymle] 'numeric'\n",
       "\\end{description*}\n"
      ],
      "text/markdown": [
       "county\n",
       ":   'integer'year\n",
       ":   'integer'crmrte\n",
       ":   'numeric'prbarr\n",
       ":   'numeric'prbconv\n",
       ":   'numeric'prbpris\n",
       ":   'numeric'avgsen\n",
       ":   'numeric'polpc\n",
       ":   'numeric'density\n",
       ":   'numeric'taxpc\n",
       ":   'numeric'west\n",
       ":   'integer'central\n",
       ":   'integer'urban\n",
       ":   'integer'pctmin80\n",
       ":   'numeric'wcon\n",
       ":   'numeric'wtuc\n",
       ":   'numeric'wtrd\n",
       ":   'numeric'wfir\n",
       ":   'numeric'wser\n",
       ":   'numeric'wmfg\n",
       ":   'numeric'wfed\n",
       ":   'numeric'wsta\n",
       ":   'numeric'wloc\n",
       ":   'numeric'mix\n",
       ":   'numeric'pctymle\n",
       ":   'numeric'\n",
       "\n"
      ],
      "text/plain": [
       "   county      year    crmrte    prbarr   prbconv   prbpris    avgsen     polpc \n",
       "\"integer\" \"integer\" \"numeric\" \"numeric\" \"numeric\" \"numeric\" \"numeric\" \"numeric\" \n",
       "  density     taxpc      west   central     urban  pctmin80      wcon      wtuc \n",
       "\"numeric\" \"numeric\" \"integer\" \"integer\" \"integer\" \"numeric\" \"numeric\" \"numeric\" \n",
       "     wtrd      wfir      wser      wmfg      wfed      wsta      wloc       mix \n",
       "\"numeric\" \"numeric\" \"numeric\" \"numeric\" \"numeric\" \"numeric\" \"numeric\" \"numeric\" \n",
       "  pctymle \n",
       "\"numeric\" "
      ]
     },
     "metadata": {},
     "output_type": "display_data"
    }
   ],
   "source": [
    "sapply(data, class)"
   ]
  },
  {
   "cell_type": "code",
   "execution_count": 8,
   "metadata": {},
   "outputs": [
    {
     "data": {
      "text/html": [],
      "text/latex": [],
      "text/markdown": [],
      "text/plain": [
       "integer(0)"
      ]
     },
     "metadata": {},
     "output_type": "display_data"
    }
   ],
   "source": [
    "# the row numbers that have atleast 1 negative value in the columns\n",
    "unique(unlist (lapply (data, function (x) which (x < 0))))"
   ]
  },
  {
   "cell_type": "code",
   "execution_count": 9,
   "metadata": {},
   "outputs": [
    {
     "data": {
      "text/html": [
       "<style>\n",
       ".list-inline {list-style: none; margin:0; padding: 0}\n",
       ".list-inline>li {display: inline-block}\n",
       ".list-inline>li:not(:last-child)::after {content: \"\\00b7\"; padding: 0 .5ex}\n",
       "</style>\n",
       "<ol class=list-inline><li>92</li><li>93</li><li>94</li><li>95</li><li>96</li><li>97</li></ol>\n"
      ],
      "text/latex": [
       "\\begin{enumerate*}\n",
       "\\item 92\n",
       "\\item 93\n",
       "\\item 94\n",
       "\\item 95\n",
       "\\item 96\n",
       "\\item 97\n",
       "\\end{enumerate*}\n"
      ],
      "text/markdown": [
       "1. 92\n",
       "2. 93\n",
       "3. 94\n",
       "4. 95\n",
       "5. 96\n",
       "6. 97\n",
       "\n",
       "\n"
      ],
      "text/plain": [
       "[1] 92 93 94 95 96 97"
      ]
     },
     "metadata": {},
     "output_type": "display_data"
    }
   ],
   "source": [
    "# the row numbers that have atleast 1 NA value in the columns\n",
    "unique(unlist (lapply (data, function (x) which (is.na (x)))))"
   ]
  },
  {
   "cell_type": "code",
   "execution_count": 10,
   "metadata": {},
   "outputs": [
    {
     "data": {
      "text/html": [
       "<table>\n",
       "<caption>A data.frame: 6 × 25</caption>\n",
       "<thead>\n",
       "\t<tr><th></th><th scope=col>county</th><th scope=col>year</th><th scope=col>crmrte</th><th scope=col>prbarr</th><th scope=col>prbconv</th><th scope=col>prbpris</th><th scope=col>avgsen</th><th scope=col>polpc</th><th scope=col>density</th><th scope=col>taxpc</th><th scope=col>...</th><th scope=col>wtuc</th><th scope=col>wtrd</th><th scope=col>wfir</th><th scope=col>wser</th><th scope=col>wmfg</th><th scope=col>wfed</th><th scope=col>wsta</th><th scope=col>wloc</th><th scope=col>mix</th><th scope=col>pctymle</th></tr>\n",
       "\t<tr><th></th><th scope=col>&lt;int&gt;</th><th scope=col>&lt;int&gt;</th><th scope=col>&lt;dbl&gt;</th><th scope=col>&lt;dbl&gt;</th><th scope=col>&lt;dbl&gt;</th><th scope=col>&lt;dbl&gt;</th><th scope=col>&lt;dbl&gt;</th><th scope=col>&lt;dbl&gt;</th><th scope=col>&lt;dbl&gt;</th><th scope=col>&lt;dbl&gt;</th><th scope=col>...</th><th scope=col>&lt;dbl&gt;</th><th scope=col>&lt;dbl&gt;</th><th scope=col>&lt;dbl&gt;</th><th scope=col>&lt;dbl&gt;</th><th scope=col>&lt;dbl&gt;</th><th scope=col>&lt;dbl&gt;</th><th scope=col>&lt;dbl&gt;</th><th scope=col>&lt;dbl&gt;</th><th scope=col>&lt;dbl&gt;</th><th scope=col>&lt;dbl&gt;</th></tr>\n",
       "</thead>\n",
       "<tbody>\n",
       "\t<tr><th scope=row>92</th><td>NA</td><td>NA</td><td>NA</td><td>NA</td><td>1</td><td>NA</td><td>NA</td><td>NA</td><td>NA</td><td>NA</td><td>...</td><td>NA</td><td>NA</td><td>NA</td><td>NA</td><td>NA</td><td>NA</td><td>NA</td><td>NA</td><td>NA</td><td>NA</td></tr>\n",
       "\t<tr><th scope=row>93</th><td>NA</td><td>NA</td><td>NA</td><td>NA</td><td>1</td><td>NA</td><td>NA</td><td>NA</td><td>NA</td><td>NA</td><td>...</td><td>NA</td><td>NA</td><td>NA</td><td>NA</td><td>NA</td><td>NA</td><td>NA</td><td>NA</td><td>NA</td><td>NA</td></tr>\n",
       "\t<tr><th scope=row>94</th><td>NA</td><td>NA</td><td>NA</td><td>NA</td><td>1</td><td>NA</td><td>NA</td><td>NA</td><td>NA</td><td>NA</td><td>...</td><td>NA</td><td>NA</td><td>NA</td><td>NA</td><td>NA</td><td>NA</td><td>NA</td><td>NA</td><td>NA</td><td>NA</td></tr>\n",
       "\t<tr><th scope=row>95</th><td>NA</td><td>NA</td><td>NA</td><td>NA</td><td>1</td><td>NA</td><td>NA</td><td>NA</td><td>NA</td><td>NA</td><td>...</td><td>NA</td><td>NA</td><td>NA</td><td>NA</td><td>NA</td><td>NA</td><td>NA</td><td>NA</td><td>NA</td><td>NA</td></tr>\n",
       "\t<tr><th scope=row>96</th><td>NA</td><td>NA</td><td>NA</td><td>NA</td><td>1</td><td>NA</td><td>NA</td><td>NA</td><td>NA</td><td>NA</td><td>...</td><td>NA</td><td>NA</td><td>NA</td><td>NA</td><td>NA</td><td>NA</td><td>NA</td><td>NA</td><td>NA</td><td>NA</td></tr>\n",
       "\t<tr><th scope=row>97</th><td>NA</td><td>NA</td><td>NA</td><td>NA</td><td>2</td><td>NA</td><td>NA</td><td>NA</td><td>NA</td><td>NA</td><td>...</td><td>NA</td><td>NA</td><td>NA</td><td>NA</td><td>NA</td><td>NA</td><td>NA</td><td>NA</td><td>NA</td><td>NA</td></tr>\n",
       "</tbody>\n",
       "</table>\n"
      ],
      "text/latex": [
       "A data.frame: 6 × 25\n",
       "\\begin{tabular}{r|lllllllllllllllllllll}\n",
       "  & county & year & crmrte & prbarr & prbconv & prbpris & avgsen & polpc & density & taxpc & ... & wtuc & wtrd & wfir & wser & wmfg & wfed & wsta & wloc & mix & pctymle\\\\\n",
       "  & <int> & <int> & <dbl> & <dbl> & <dbl> & <dbl> & <dbl> & <dbl> & <dbl> & <dbl> & ... & <dbl> & <dbl> & <dbl> & <dbl> & <dbl> & <dbl> & <dbl> & <dbl> & <dbl> & <dbl>\\\\\n",
       "\\hline\n",
       "\t92 & NA & NA & NA & NA & 1 & NA & NA & NA & NA & NA & ... & NA & NA & NA & NA & NA & NA & NA & NA & NA & NA\\\\\n",
       "\t93 & NA & NA & NA & NA & 1 & NA & NA & NA & NA & NA & ... & NA & NA & NA & NA & NA & NA & NA & NA & NA & NA\\\\\n",
       "\t94 & NA & NA & NA & NA & 1 & NA & NA & NA & NA & NA & ... & NA & NA & NA & NA & NA & NA & NA & NA & NA & NA\\\\\n",
       "\t95 & NA & NA & NA & NA & 1 & NA & NA & NA & NA & NA & ... & NA & NA & NA & NA & NA & NA & NA & NA & NA & NA\\\\\n",
       "\t96 & NA & NA & NA & NA & 1 & NA & NA & NA & NA & NA & ... & NA & NA & NA & NA & NA & NA & NA & NA & NA & NA\\\\\n",
       "\t97 & NA & NA & NA & NA & 2 & NA & NA & NA & NA & NA & ... & NA & NA & NA & NA & NA & NA & NA & NA & NA & NA\\\\\n",
       "\\end{tabular}\n"
      ],
      "text/markdown": [
       "\n",
       "A data.frame: 6 × 25\n",
       "\n",
       "| <!--/--> | county &lt;int&gt; | year &lt;int&gt; | crmrte &lt;dbl&gt; | prbarr &lt;dbl&gt; | prbconv &lt;dbl&gt; | prbpris &lt;dbl&gt; | avgsen &lt;dbl&gt; | polpc &lt;dbl&gt; | density &lt;dbl&gt; | taxpc &lt;dbl&gt; | ... ... | wtuc &lt;dbl&gt; | wtrd &lt;dbl&gt; | wfir &lt;dbl&gt; | wser &lt;dbl&gt; | wmfg &lt;dbl&gt; | wfed &lt;dbl&gt; | wsta &lt;dbl&gt; | wloc &lt;dbl&gt; | mix &lt;dbl&gt; | pctymle &lt;dbl&gt; |\n",
       "|---|---|---|---|---|---|---|---|---|---|---|---|---|---|---|---|---|---|---|---|---|---|\n",
       "| 92 | NA | NA | NA | NA | 1 | NA | NA | NA | NA | NA | ... | NA | NA | NA | NA | NA | NA | NA | NA | NA | NA |\n",
       "| 93 | NA | NA | NA | NA | 1 | NA | NA | NA | NA | NA | ... | NA | NA | NA | NA | NA | NA | NA | NA | NA | NA |\n",
       "| 94 | NA | NA | NA | NA | 1 | NA | NA | NA | NA | NA | ... | NA | NA | NA | NA | NA | NA | NA | NA | NA | NA |\n",
       "| 95 | NA | NA | NA | NA | 1 | NA | NA | NA | NA | NA | ... | NA | NA | NA | NA | NA | NA | NA | NA | NA | NA |\n",
       "| 96 | NA | NA | NA | NA | 1 | NA | NA | NA | NA | NA | ... | NA | NA | NA | NA | NA | NA | NA | NA | NA | NA |\n",
       "| 97 | NA | NA | NA | NA | 2 | NA | NA | NA | NA | NA | ... | NA | NA | NA | NA | NA | NA | NA | NA | NA | NA |\n",
       "\n"
      ],
      "text/plain": [
       "   county year crmrte prbarr prbconv prbpris avgsen polpc density taxpc ...\n",
       "92 NA     NA   NA     NA     1       NA      NA     NA    NA      NA    ...\n",
       "93 NA     NA   NA     NA     1       NA      NA     NA    NA      NA    ...\n",
       "94 NA     NA   NA     NA     1       NA      NA     NA    NA      NA    ...\n",
       "95 NA     NA   NA     NA     1       NA      NA     NA    NA      NA    ...\n",
       "96 NA     NA   NA     NA     1       NA      NA     NA    NA      NA    ...\n",
       "97 NA     NA   NA     NA     2       NA      NA     NA    NA      NA    ...\n",
       "   wtuc wtrd wfir wser wmfg wfed wsta wloc mix pctymle\n",
       "92 NA   NA   NA   NA   NA   NA   NA   NA   NA  NA     \n",
       "93 NA   NA   NA   NA   NA   NA   NA   NA   NA  NA     \n",
       "94 NA   NA   NA   NA   NA   NA   NA   NA   NA  NA     \n",
       "95 NA   NA   NA   NA   NA   NA   NA   NA   NA  NA     \n",
       "96 NA   NA   NA   NA   NA   NA   NA   NA   NA  NA     \n",
       "97 NA   NA   NA   NA   NA   NA   NA   NA   NA  NA     "
      ]
     },
     "metadata": {},
     "output_type": "display_data"
    }
   ],
   "source": [
    "data[92:97,]"
   ]
  },
  {
   "cell_type": "code",
   "execution_count": 11,
   "metadata": {},
   "outputs": [],
   "source": [
    "# we observe all values have NA in them\n",
    "# remove data where there are NA in rows\n",
    "data = data[complete.cases(data), ]"
   ]
  },
  {
   "cell_type": "code",
   "execution_count": 12,
   "metadata": {},
   "outputs": [
    {
     "data": {
      "text/html": [
       "<style>\n",
       ".list-inline {list-style: none; margin:0; padding: 0}\n",
       ".list-inline>li {display: inline-block}\n",
       ".list-inline>li:not(:last-child)::after {content: \"\\00b7\"; padding: 0 .5ex}\n",
       "</style>\n",
       "<ol class=list-inline><li>91</li><li>25</li></ol>\n"
      ],
      "text/latex": [
       "\\begin{enumerate*}\n",
       "\\item 91\n",
       "\\item 25\n",
       "\\end{enumerate*}\n"
      ],
      "text/markdown": [
       "1. 91\n",
       "2. 25\n",
       "\n",
       "\n"
      ],
      "text/plain": [
       "[1] 91 25"
      ]
     },
     "metadata": {},
     "output_type": "display_data"
    }
   ],
   "source": [
    "dim(data)"
   ]
  },
  {
   "cell_type": "markdown",
   "metadata": {},
   "source": [
    "## Introduction"
   ]
  },
  {
   "cell_type": "markdown",
   "metadata": {},
   "source": [
    "There are 3 classes of variables provided to us:\n",
    "1. Labor market variables\n",
    "2. Criminal justice variables\n",
    "3. Demographic variables\n",
    "\n",
    "Both labor market and criminal justice strategies should be relevant in influencing (causing causal behavior on) crime rate. \n",
    "\n",
    "In our study, we are given variables that reflect both these factors:<br/>\n",
    "**Variables reflecting labor markets**\n",
    "\n",
    "10 taxpc\ttax revenue per capita <br/>\n",
    "15 wcon\tweekly wage, construction <br/>\n",
    "16 wtuc\t- wkly wge, trns, util, commun <br/>\n",
    "17 wtrd\t- wkly wge, whlesle, retail trade <br/>\n",
    "18 wfir\t- wkly wge, fin, ins, real est <br/>\n",
    "19 wser\t- wkly wge, service industry <br/>\n",
    "20 wmfg\t- wkly wge, manufacturing <br/>\n",
    "21 wfed\t- wkly wge, fed employees <br/>\n",
    "22 wsta\t- wkly wge, state employees <br/>\n",
    "23 wloc\t- wkly wge, local gov emps <br/>\n",
    "\n",
    "**Variables reflecting criminal justice system**\n",
    "\n",
    "4 prbarr - 'probability' of arrest <br/>\n",
    "5 prbconv - 'probability' of conviction <br/>\n",
    "6 prbpris - 'probability' of prison sentence <br/>\n",
    "7 avgsen - avg. sentence, days <br/>\n",
    "8 polpc - police per capita <br/>\n",
    "24 mix - offense mix: face-to-face/other <br/>\n",
    "\n",
    "There is a third class of variables that represents the demographic characteristics of the data. We expect some of these variables to have a causal effect on crime rate (say pctymle or pctmin80), but others to not intrinsically have causal effects on crime rate (say west, central, county).\n",
    "\n",
    "These variables can also possibly influence the \"labor market\" and \"criminal justice system\" variables:<br/>\n",
    "\n",
    "**Variables reflecting demographic characteristics**\n",
    "\n",
    "1 county - county identifier <br/>\n",
    "9 density - people per sq. mile <br/>\n",
    "11 west - =1 if in western N.C. <br/>\n",
    "12 central - =1 if in central N.C. <br/>\n",
    "13 urban - =1 if in SMSA <br/>\n",
    "14 pctmin80 - perc. minority, 1980 <br/>\n",
    "25 pctymle - percent young male <br/>\n",
    "\n",
    "Our target variable is \"crmrte\", and we're trying to understand what affects this variable (or a transform of this variable)"
   ]
  },
  {
   "cell_type": "markdown",
   "metadata": {},
   "source": [
    "## Exploratory Data Analysis"
   ]
  },
  {
   "cell_type": "markdown",
   "metadata": {},
   "source": [
    "### EDA Target Variable"
   ]
  },
  {
   "cell_type": "code",
   "execution_count": 13,
   "metadata": {},
   "outputs": [
    {
     "data": {
      "text/plain": [
       "    Min.  1st Qu.   Median     Mean  3rd Qu.     Max. \n",
       "0.005533 0.020927 0.029986 0.033400 0.039642 0.098966 "
      ]
     },
     "metadata": {},
     "output_type": "display_data"
    },
    {
     "data": {
      "image/png": "[encoded data removed]",
      "text/plain": [
       "Plot with title \"Histogram of crime rate\""
      ]
     },
     "metadata": {},
     "output_type": "display_data"
    },
    {
     "data": {
      "image/png": "[encoded data removed]",
      "text/plain": [
       "Plot with title \"Histogram of crime rate (log)\""
      ]
     },
     "metadata": {},
     "output_type": "display_data"
    }
   ],
   "source": [
    "summary(data$crmrte)\n",
    "hist(data$crmrte, breaks=100, main = \"Histogram of crime rate\", xlab = \"Crime Rate\", col = \"lightblue\", border = \"black\")\n",
    "hist(log10(data$crmrte), breaks=100, main = \"Histogram of crime rate (log)\", xlab = \"Crime Rate (log)\", col = \"lightblue\", border = \"black\")"
   ]
  },
  {
   "cell_type": "markdown",
   "metadata": {},
   "source": [
    "#### Note that if we take a log version of the crime rate, we get a nice normally distributed curve "
   ]
  },
  {
   "cell_type": "markdown",
   "metadata": {},
   "source": [
    "### EDA Geographical Variables (Demographic)"
   ]
  },
  {
   "cell_type": "markdown",
   "metadata": {},
   "source": [
    "**One thing to consider would be to consider the effects of geography on crime rate.**\n",
    "\n",
    "There are 3 variables which help us categorize geography - west, central and urban. These are all dummy variables that represent what region characteristics the data point has. Hence, one variable of interest could be an interaction variable: \n",
    "\n",
    "#### geo = west * central * urban\n",
    "\n",
    "Note that because we include this new interaction variable, we have to include all lower order interactions as well.\n",
    "\n",
    "We don't have a hypothesis around geography, but one can make an argument that urban areas are more susceptible for crime, given that they may be more densely populated (see graph below for plot between urban and density)"
   ]
  },
  {
   "cell_type": "code",
   "execution_count": 14,
   "metadata": {},
   "outputs": [
    {
     "data": {
      "image/png": "[encoded data removed]",
      "text/plain": [
       "Plot with title \"Histogram of Urban, Central, West Combo\""
      ]
     },
     "metadata": {},
     "output_type": "display_data"
    }
   ],
   "source": [
    "data$geo = data$west * data$central * data$urban\n",
    "data$west_central = data$west * data$central\n",
    "data$west_urban = data$west * data$urban\n",
    "data$central_urban = data$central * data$urban\n",
    "\n",
    "# also include a variable to capture non urban, non west, non central region (west=0, central=0, urban=0)\n",
    "geo_arr = data$west + data$central + data$urban\n",
    "hist(geo_arr, , breaks=100, main = \"Histogram of Urban, Central, West Combo\", xlab = \"Sum(Urban, West, Central)\", col = \"lightblue\", border = \"black\")\n",
    "# notice there are over 30 counties that are non urban, non west, non central\n",
    "data$non_urban_west_central = ifelse(geo_arr >= 1, 0, 1)"
   ]
  },
  {
   "cell_type": "code",
   "execution_count": 15,
   "metadata": {},
   "outputs": [
    {
     "data": {
      "image/png": "[encoded data removed]",
      "text/plain": [
       "Plot with title \"Urban vs Population Density\""
      ]
     },
     "metadata": {},
     "output_type": "display_data"
    }
   ],
   "source": [
    "plot(data$urban, data$density, main = \"Urban vs Population Density\", xlab = \"Urban\", ylab = \"Population Density\" )"
   ]
  },
  {
   "cell_type": "code",
   "execution_count": 16,
   "metadata": {},
   "outputs": [
    {
     "data": {
      "text/plain": [
       "   Min. 1st Qu.  Median    Mean 3rd Qu.    Max. \n",
       "0.00000 0.00000 0.00000 0.08791 0.00000 1.00000 "
      ]
     },
     "metadata": {},
     "output_type": "display_data"
    },
    {
     "data": {
      "text/html": [
       "<style>\n",
       ".list-inline {list-style: none; margin:0; padding: 0}\n",
       ".list-inline>li {display: inline-block}\n",
       ".list-inline>li:not(:last-child)::after {content: \"\\00b7\"; padding: 0 .5ex}\n",
       "</style>\n",
       "<ol class=list-inline><li>0</li><li>1</li></ol>\n"
      ],
      "text/latex": [
       "\\begin{enumerate*}\n",
       "\\item 0\n",
       "\\item 1\n",
       "\\end{enumerate*}\n"
      ],
      "text/markdown": [
       "1. 0\n",
       "2. 1\n",
       "\n",
       "\n"
      ],
      "text/plain": [
       "[1] 0 1"
      ]
     },
     "metadata": {},
     "output_type": "display_data"
    }
   ],
   "source": [
    "# sample EDA for the dummy variables\n",
    "summary(data$urban)\n",
    "unique(data$urban)"
   ]
  },
  {
   "cell_type": "code",
   "execution_count": 17,
   "metadata": {},
   "outputs": [
    {
     "data": {
      "text/html": [
       "'Urban: 8'"
      ],
      "text/latex": [
       "'Urban: 8'"
      ],
      "text/markdown": [
       "'Urban: 8'"
      ],
      "text/plain": [
       "[1] \"Urban: 8\""
      ]
     },
     "metadata": {},
     "output_type": "display_data"
    },
    {
     "data": {
      "text/html": [
       "'West: 23'"
      ],
      "text/latex": [
       "'West: 23'"
      ],
      "text/markdown": [
       "'West: 23'"
      ],
      "text/plain": [
       "[1] \"West: 23\""
      ]
     },
     "metadata": {},
     "output_type": "display_data"
    },
    {
     "data": {
      "text/html": [
       "'Central: 34'"
      ],
      "text/latex": [
       "'Central: 34'"
      ],
      "text/markdown": [
       "'Central: 34'"
      ],
      "text/plain": [
       "[1] \"Central: 34\""
      ]
     },
     "metadata": {},
     "output_type": "display_data"
    },
    {
     "data": {
      "text/html": [
       "'Central + West: 1'"
      ],
      "text/latex": [
       "'Central + West: 1'"
      ],
      "text/markdown": [
       "'Central + West: 1'"
      ],
      "text/plain": [
       "[1] \"Central + West: 1\""
      ]
     },
     "metadata": {},
     "output_type": "display_data"
    },
    {
     "data": {
      "text/html": [
       "'Central + Urban: 5'"
      ],
      "text/latex": [
       "'Central + Urban: 5'"
      ],
      "text/markdown": [
       "'Central + Urban: 5'"
      ],
      "text/plain": [
       "[1] \"Central + Urban: 5\""
      ]
     },
     "metadata": {},
     "output_type": "display_data"
    },
    {
     "data": {
      "text/html": [
       "'Urban + West: 1'"
      ],
      "text/latex": [
       "'Urban + West: 1'"
      ],
      "text/markdown": [
       "'Urban + West: 1'"
      ],
      "text/plain": [
       "[1] \"Urban + West: 1\""
      ]
     },
     "metadata": {},
     "output_type": "display_data"
    },
    {
     "data": {
      "text/html": [
       "'Urban + West + Central: 0'"
      ],
      "text/latex": [
       "'Urban + West + Central: 0'"
      ],
      "text/markdown": [
       "'Urban + West + Central: 0'"
      ],
      "text/plain": [
       "[1] \"Urban + West + Central: 0\""
      ]
     },
     "metadata": {},
     "output_type": "display_data"
    },
    {
     "data": {
      "text/html": [
       "'NON Urban + NON West + NON Central: 33'"
      ],
      "text/latex": [
       "'NON Urban + NON West + NON Central: 33'"
      ],
      "text/markdown": [
       "'NON Urban + NON West + NON Central: 33'"
      ],
      "text/plain": [
       "[1] \"NON Urban + NON West + NON Central: 33\""
      ]
     },
     "metadata": {},
     "output_type": "display_data"
    }
   ],
   "source": [
    "# Analysis of interaction term \"geo\"\n",
    "paste(\"Urban:\", sum(data$urban))\n",
    "paste(\"West:\", sum(data$west))\n",
    "paste(\"Central:\", sum(data$central))\n",
    "\n",
    "paste(\"Central + West:\", sum(data$central * data$west))\n",
    "paste(\"Central + Urban:\", sum(data$central * data$urban))\n",
    "paste(\"Urban + West:\", sum(data$urban * data$west))\n",
    "\n",
    "paste(\"Urban + West + Central:\", sum(data$urban * data$west * data$central))\n",
    "paste(\"NON Urban + NON West + NON Central:\", sum(data$non_urban_west_central))"
   ]
  },
  {
   "cell_type": "markdown",
   "metadata": {},
   "source": [
    "**For now, we will include the above variables in our model to observe if there are any special effects on crime based on geo**"
   ]
  },
  {
   "cell_type": "markdown",
   "metadata": {},
   "source": [
    "### EDA Population Variables (Demographic)"
   ]
  },
  {
   "cell_type": "markdown",
   "metadata": {},
   "source": [
    "We decide to add 2 interaction variables:\n",
    "1. density * pctymle * 1.0 / 100 - this gives the density of young males in the county (density_ymle)\n",
    "2. density * pctmin80 * 1.0 / 100 - this gives the density of minority in the county (density_min80)\n",
    "\n",
    "**Note that this assumes that the percentage variables are unfirormly distributed over the county and that density * pct will give the density of the population of interest in the county.**\n",
    "\n",
    "Also note that pctymle is already given in fractional terms (between 0 and 1), whereas pctmin80 is given in percentage (between 0 and 100). For sake of uniformity, we will convert pctmin80 to 0-1 scale"
   ]
  },
  {
   "cell_type": "code",
   "execution_count": 19,
   "metadata": {},
   "outputs": [
    {
     "data": {
      "text/plain": [
       "   Min. 1st Qu.  Median    Mean 3rd Qu.    Max. \n",
       "  1.284   9.845  24.312  25.495  38.142  64.348 "
      ]
     },
     "metadata": {},
     "output_type": "display_data"
    },
    {
     "data": {
      "text/plain": [
       "   Min. 1st Qu.  Median    Mean 3rd Qu.    Max. \n",
       "0.06216 0.07443 0.07771 0.08396 0.08350 0.24871 "
      ]
     },
     "metadata": {},
     "output_type": "display_data"
    }
   ],
   "source": [
    "summary(data$pctmin80)\n",
    "summary(data$pctymle)"
   ]
  },
  {
   "cell_type": "code",
   "execution_count": 20,
   "metadata": {},
   "outputs": [
    {
     "data": {
      "text/plain": [
       "   Min. 1st Qu.  Median    Mean 3rd Qu.    Max. \n",
       "0.01284 0.09845 0.24312 0.25495 0.38142 0.64348 "
      ]
     },
     "metadata": {},
     "output_type": "display_data"
    }
   ],
   "source": [
    "data$pctmin80 = data$pctmin80 * 1.0 / 100\n",
    "summary(data$pctmin80)"
   ]
  },
  {
   "cell_type": "code",
   "execution_count": 21,
   "metadata": {},
   "outputs": [],
   "source": [
    "data$density_min80 = data$density * data$pctmin80 \n",
    "data$density_ymle = data$density * data$pctymle"
   ]
  },
  {
   "cell_type": "code",
   "execution_count": 22,
   "metadata": {},
   "outputs": [
    {
     "data": {
      "text/plain": [
       "   Min. 1st Qu.  Median    Mean 3rd Qu.    Max. \n",
       "0.00002 0.54741 0.96226 1.42884 1.56824 8.82765 "
      ]
     },
     "metadata": {},
     "output_type": "display_data"
    },
    {
     "data": {
      "image/png": "[encoded data removed]",
      "text/plain": [
       "Plot with title \"Histogram of Density\""
      ]
     },
     "metadata": {},
     "output_type": "display_data"
    },
    {
     "data": {
      "image/png": "[encoded data removed]",
      "text/plain": [
       "Plot with title \"Histogram of Density (log)\""
      ]
     },
     "metadata": {},
     "output_type": "display_data"
    }
   ],
   "source": [
    "summary(data$density)\n",
    "hist(data$density, , breaks=100, main = \"Histogram of Density\", xlab = \"Density\", col = \"lightblue\", border = \"black\")\n",
    "hist(log10(data$density), , breaks=100, main = \"Histogram of Density (log)\", xlab = \"Density (log)\", col = \"lightblue\", border = \"black\")\n",
    "\n",
    "# taking the log(Density) makes the data much more normal and is a better choice for our density variable"
   ]
  },
  {
   "cell_type": "code",
   "execution_count": 24,
   "metadata": {},
   "outputs": [
    {
     "data": {
      "text/html": [
       "<table>\n",
       "<caption>A matrix: 6 × 5 of type dbl</caption>\n",
       "<tbody>\n",
       "\t<tr><td> 0.38428757</td><td>0.2021870</td><td>0.07787097</td><td>0.489824846</td><td>0.18865276</td></tr>\n",
       "\t<tr><td> 0.01966951</td><td>0.0791632</td><td>0.08260694</td><td>0.082830988</td><td>0.08643429</td></tr>\n",
       "\t<tr><td>-0.38429614</td><td>0.0316053</td><td>0.07211538</td><td>0.013045592</td><td>0.02976677</td></tr>\n",
       "\t<tr><td>-0.30842593</td><td>0.4791610</td><td>0.07353726</td><td>0.235535043</td><td>0.03614777</td></tr>\n",
       "\t<tr><td>-0.26205367</td><td>0.0179619</td><td>0.07069755</td><td>0.009824232</td><td>0.03866791</td></tr>\n",
       "\t<tr><td>-0.21371999</td><td>0.0154070</td><td>0.09891920</td><td>0.009418854</td><td>0.06047287</td></tr>\n",
       "</tbody>\n",
       "</table>\n"
      ],
      "text/latex": [
       "A matrix: 6 × 5 of type dbl\n",
       "\\begin{tabular}{lllll}\n",
       "\t  0.38428757 & 0.2021870 & 0.07787097 & 0.489824846 & 0.18865276\\\\\n",
       "\t  0.01966951 & 0.0791632 & 0.08260694 & 0.082830988 & 0.08643429\\\\\n",
       "\t -0.38429614 & 0.0316053 & 0.07211538 & 0.013045592 & 0.02976677\\\\\n",
       "\t -0.30842593 & 0.4791610 & 0.07353726 & 0.235535043 & 0.03614777\\\\\n",
       "\t -0.26205367 & 0.0179619 & 0.07069755 & 0.009824232 & 0.03866791\\\\\n",
       "\t -0.21371999 & 0.0154070 & 0.09891920 & 0.009418854 & 0.06047287\\\\\n",
       "\\end{tabular}\n"
      ],
      "text/markdown": [
       "\n",
       "A matrix: 6 × 5 of type dbl\n",
       "\n",
       "|  0.38428757 | 0.2021870 | 0.07787097 | 0.489824846 | 0.18865276 |\n",
       "|  0.01966951 | 0.0791632 | 0.08260694 | 0.082830988 | 0.08643429 |\n",
       "| -0.38429614 | 0.0316053 | 0.07211538 | 0.013045592 | 0.02976677 |\n",
       "| -0.30842593 | 0.4791610 | 0.07353726 | 0.235535043 | 0.03614777 |\n",
       "| -0.26205367 | 0.0179619 | 0.07069755 | 0.009824232 | 0.03866791 |\n",
       "| -0.21371999 | 0.0154070 | 0.09891920 | 0.009418854 | 0.06047287 |\n",
       "\n"
      ],
      "text/plain": [
       "     [,1]        [,2]      [,3]       [,4]        [,5]      \n",
       "[1,]  0.38428757 0.2021870 0.07787097 0.489824846 0.18865276\n",
       "[2,]  0.01966951 0.0791632 0.08260694 0.082830988 0.08643429\n",
       "[3,] -0.38429614 0.0316053 0.07211538 0.013045592 0.02976677\n",
       "[4,] -0.30842593 0.4791610 0.07353726 0.235535043 0.03614777\n",
       "[5,] -0.26205367 0.0179619 0.07069755 0.009824232 0.03866791\n",
       "[6,] -0.21371999 0.0154070 0.09891920 0.009418854 0.06047287"
      ]
     },
     "metadata": {},
     "output_type": "display_data"
    },
    {
     "data": {
      "text/plain": [
       "$r\n",
       "       [,1]   [,2]   [,3] [,4]   [,5]\n",
       "[1,]  1.000 -0.016 -0.095 0.29 -0.045\n",
       "[2,] -0.016  1.000  0.150 0.15  0.390\n",
       "[3,] -0.095  0.150  1.000 0.48  0.560\n",
       "[4,]  0.290  0.150  0.480 1.00  0.880\n",
       "[5,] -0.045  0.390  0.560 0.88  1.000\n",
       "\n",
       "$p\n",
       "       [,1]    [,2]    [,3]    [,4]    [,5]\n",
       "[1,] 0.0000 0.88000 3.7e-01 5.2e-03 6.7e-01\n",
       "[2,] 0.8800 0.00000 1.6e-01 1.7e-01 1.4e-04\n",
       "[3,] 0.3700 0.16000 0.0e+00 1.4e-06 5.5e-09\n",
       "[4,] 0.0052 0.17000 1.4e-06 0.0e+00 1.5e-30\n",
       "[5,] 0.6700 0.00014 5.5e-09 1.5e-30 0.0e+00\n",
       "\n",
       "$sym\n",
       "              \n",
       "[1,] 1        \n",
       "[2,]   1      \n",
       "[3,]     1    \n",
       "[4,]     . 1  \n",
       "[5,]   . . + 1\n",
       "attr(,\"legend\")\n",
       "[1] 0 ' ' 0.3 '.' 0.6 ',' 0.8 '+' 0.9 '*' 0.95 'B' 1\n"
      ]
     },
     "metadata": {},
     "output_type": "display_data"
    },
    {
     "data": {
      "image/png": "[encoded data removed]",
      "text/plain": [
       "Plot with title \"\""
      ]
     },
     "metadata": {},
     "output_type": "display_data"
    }
   ],
   "source": [
    "popdata = cbind(log10(data$density), data$pctmin80, data$pctymle, data$density_min80, data$density_ymle)\n",
    "head(popdata)\n",
    "source(\"http://www.sthda.com/upload/rquery_cormat.r\")\n",
    "rquery.cormat(popdata, type=\"full\")"
   ]
  },
  {
   "cell_type": "markdown",
   "metadata": {},
   "source": [
    "#### We observe strong positive correlation between several population variables\n",
    "\n",
    "Notably:\n",
    "1. 0.39 between pctmin80 and density_ymale\n",
    "2. 0.48 between pctymle and density_min80\n",
    "3. 0.56 between pctymle and density_ymle\n",
    "4. 0.88 between density_min80 and density_ymle\n",
    "\n",
    "We will include these variables in our specifications with the following expected causal effects:\n",
    "1. If density is high, then crime rate is expected to be high. This is simply because a larger set of people in one area is bound to create more conflict and crime in the community.\n",
    "2. If percentage of young males are high in a region, we expect more crime. This is because younger people are easier to influence and may engage more in petty crimes.\n",
    "\n",
    "There may be a concern including both density_min80 and density_ymle because they have high correlation (0.88) - leading to possible multicollinearity. This also shows that the density of younger male populations is highly correlated across counties with density of minority populations\n",
    "\n",
    "**For now, we will include \"log10(density)\", \"pctmin80\" and one of \"density_ymle\" or \"density_min80\" variables in the model to observe their effects**"
   ]
  },
  {
   "cell_type": "code",
   "execution_count": 25,
   "metadata": {},
   "outputs": [],
   "source": [
    "data$log10_density = log10(data$density)"
   ]
  },
  {
   "cell_type": "markdown",
   "metadata": {},
   "source": [
    "### EDA Criminal Justice Variables"
   ]
  },
  {
   "cell_type": "markdown",
   "metadata": {},
   "source": [
    "It is worthwhile to capture any relationships between these variables: prbarr, prbconv, prbpris.\n",
    "\n",
    "This will help us determine if there is any multicollinearity between these variables. We would suspect these to be correlated"
   ]
  },
  {
   "cell_type": "code",
   "execution_count": 26,
   "metadata": {},
   "outputs": [
    {
     "data": {
      "text/plain": [
       "   Min. 1st Qu.  Median    Mean 3rd Qu.    Max. \n",
       " 0.1500  0.3648  0.4234  0.4108  0.4568  0.6000 "
      ]
     },
     "metadata": {},
     "output_type": "display_data"
    },
    {
     "data": {
      "image/png": "[encoded data removed]",
      "text/plain": [
       "Plot with title \"Histogram of prbpris\""
      ]
     },
     "metadata": {},
     "output_type": "display_data"
    }
   ],
   "source": [
    "summary(data$prbpris)\n",
    "hist((data$prbpris), breaks=100, main = \"Histogram of prbpris\", xlab = \"prbpris\", col = \"lightblue\", border = \"black\")"
   ]
  },
  {
   "cell_type": "code",
   "execution_count": 27,
   "metadata": {},
   "outputs": [
    {
     "data": {
      "text/plain": [
       "   Min. 1st Qu.  Median    Mean 3rd Qu.    Max. \n",
       "0.09277 0.20568 0.27095 0.29492 0.34438 1.09091 "
      ]
     },
     "metadata": {},
     "output_type": "display_data"
    },
    {
     "data": {
      "image/png": "[encoded data removed]",
      "text/plain": [
       "Plot with title \"Histogram of prbarr\""
      ]
     },
     "metadata": {},
     "output_type": "display_data"
    }
   ],
   "source": [
    "summary(data$prbarr)\n",
    "hist((data$prbarr), breaks=100, main = \"Histogram of prbarr\", xlab = \"prbarr\", col = \"lightblue\", border = \"black\")"
   ]
  },
  {
   "cell_type": "markdown",
   "metadata": {},
   "source": [
    "#### Notice that there is an outlier row with a probability higher than 1, which is not possible. We will exclude this from our analysis"
   ]
  },
  {
   "cell_type": "code",
   "execution_count": 28,
   "metadata": {},
   "outputs": [
    {
     "data": {
      "text/html": [
       "51"
      ],
      "text/latex": [
       "51"
      ],
      "text/markdown": [
       "51"
      ],
      "text/plain": [
       "[1] 51"
      ]
     },
     "metadata": {},
     "output_type": "display_data"
    }
   ],
   "source": [
    "n = unique(unlist (lapply (data, function (x) which (data$prbarr > 1))))\n",
    "n"
   ]
  },
  {
   "cell_type": "code",
   "execution_count": 29,
   "metadata": {},
   "outputs": [
    {
     "data": {
      "text/html": [
       "<table>\n",
       "<caption>A data.frame: 1 × 33</caption>\n",
       "<thead>\n",
       "\t<tr><th></th><th scope=col>county</th><th scope=col>year</th><th scope=col>crmrte</th><th scope=col>prbarr</th><th scope=col>prbconv</th><th scope=col>prbpris</th><th scope=col>avgsen</th><th scope=col>polpc</th><th scope=col>density</th><th scope=col>taxpc</th><th scope=col>...</th><th scope=col>mix</th><th scope=col>pctymle</th><th scope=col>geo</th><th scope=col>west_central</th><th scope=col>west_urban</th><th scope=col>central_urban</th><th scope=col>non_urban_west_central</th><th scope=col>density_min80</th><th scope=col>density_ymle</th><th scope=col>log10_density</th></tr>\n",
       "\t<tr><th></th><th scope=col>&lt;int&gt;</th><th scope=col>&lt;int&gt;</th><th scope=col>&lt;dbl&gt;</th><th scope=col>&lt;dbl&gt;</th><th scope=col>&lt;dbl&gt;</th><th scope=col>&lt;dbl&gt;</th><th scope=col>&lt;dbl&gt;</th><th scope=col>&lt;dbl&gt;</th><th scope=col>&lt;dbl&gt;</th><th scope=col>&lt;dbl&gt;</th><th scope=col>...</th><th scope=col>&lt;dbl&gt;</th><th scope=col>&lt;dbl&gt;</th><th scope=col>&lt;int&gt;</th><th scope=col>&lt;int&gt;</th><th scope=col>&lt;int&gt;</th><th scope=col>&lt;int&gt;</th><th scope=col>&lt;dbl&gt;</th><th scope=col>&lt;dbl&gt;</th><th scope=col>&lt;dbl&gt;</th><th scope=col>&lt;dbl&gt;</th></tr>\n",
       "</thead>\n",
       "<tbody>\n",
       "\t<tr><th scope=row>51</th><td>115</td><td>87</td><td>0.0055332</td><td>1.09091</td><td>90</td><td>0.5</td><td>20.7</td><td>0.00905433</td><td>0.3858093</td><td>28.1931</td><td>...</td><td>0.1</td><td>0.07253495</td><td>0</td><td>0</td><td>0</td><td>0</td><td>0</td><td>0.004952441</td><td>0.02798466</td><td>-0.4136273</td></tr>\n",
       "</tbody>\n",
       "</table>\n"
      ],
      "text/latex": [
       "A data.frame: 1 × 33\n",
       "\\begin{tabular}{r|lllllllllllllllllllll}\n",
       "  & county & year & crmrte & prbarr & prbconv & prbpris & avgsen & polpc & density & taxpc & ... & mix & pctymle & geo & west\\_central & west\\_urban & central\\_urban & non\\_urban\\_west\\_central & density\\_min80 & density\\_ymle & log10\\_density\\\\\n",
       "  & <int> & <int> & <dbl> & <dbl> & <dbl> & <dbl> & <dbl> & <dbl> & <dbl> & <dbl> & ... & <dbl> & <dbl> & <int> & <int> & <int> & <int> & <dbl> & <dbl> & <dbl> & <dbl>\\\\\n",
       "\\hline\n",
       "\t51 & 115 & 87 & 0.0055332 & 1.09091 & 90 & 0.5 & 20.7 & 0.00905433 & 0.3858093 & 28.1931 & ... & 0.1 & 0.07253495 & 0 & 0 & 0 & 0 & 0 & 0.004952441 & 0.02798466 & -0.4136273\\\\\n",
       "\\end{tabular}\n"
      ],
      "text/markdown": [
       "\n",
       "A data.frame: 1 × 33\n",
       "\n",
       "| <!--/--> | county &lt;int&gt; | year &lt;int&gt; | crmrte &lt;dbl&gt; | prbarr &lt;dbl&gt; | prbconv &lt;dbl&gt; | prbpris &lt;dbl&gt; | avgsen &lt;dbl&gt; | polpc &lt;dbl&gt; | density &lt;dbl&gt; | taxpc &lt;dbl&gt; | ... ... | mix &lt;dbl&gt; | pctymle &lt;dbl&gt; | geo &lt;int&gt; | west_central &lt;int&gt; | west_urban &lt;int&gt; | central_urban &lt;int&gt; | non_urban_west_central &lt;dbl&gt; | density_min80 &lt;dbl&gt; | density_ymle &lt;dbl&gt; | log10_density &lt;dbl&gt; |\n",
       "|---|---|---|---|---|---|---|---|---|---|---|---|---|---|---|---|---|---|---|---|---|---|\n",
       "| 51 | 115 | 87 | 0.0055332 | 1.09091 | 90 | 0.5 | 20.7 | 0.00905433 | 0.3858093 | 28.1931 | ... | 0.1 | 0.07253495 | 0 | 0 | 0 | 0 | 0 | 0.004952441 | 0.02798466 | -0.4136273 |\n",
       "\n"
      ],
      "text/plain": [
       "   county year crmrte    prbarr  prbconv prbpris avgsen polpc      density  \n",
       "51 115    87   0.0055332 1.09091 90      0.5     20.7   0.00905433 0.3858093\n",
       "   taxpc   ... mix pctymle    geo west_central west_urban central_urban\n",
       "51 28.1931 ... 0.1 0.07253495 0   0            0          0            \n",
       "   non_urban_west_central density_min80 density_ymle log10_density\n",
       "51 0                      0.004952441   0.02798466   -0.4136273   "
      ]
     },
     "metadata": {},
     "output_type": "display_data"
    }
   ],
   "source": [
    "data[n,]"
   ]
  },
  {
   "cell_type": "code",
   "execution_count": 30,
   "metadata": {},
   "outputs": [
    {
     "data": {
      "text/html": [
       "<style>\n",
       ".list-inline {list-style: none; margin:0; padding: 0}\n",
       ".list-inline>li {display: inline-block}\n",
       ".list-inline>li:not(:last-child)::after {content: \"\\00b7\"; padding: 0 .5ex}\n",
       "</style>\n",
       "<ol class=list-inline><li>90</li><li>33</li></ol>\n"
      ],
      "text/latex": [
       "\\begin{enumerate*}\n",
       "\\item 90\n",
       "\\item 33\n",
       "\\end{enumerate*}\n"
      ],
      "text/markdown": [
       "1. 90\n",
       "2. 33\n",
       "\n",
       "\n"
      ],
      "text/plain": [
       "[1] 90 33"
      ]
     },
     "metadata": {},
     "output_type": "display_data"
    }
   ],
   "source": [
    "data = data[-n,]\n",
    "dim(data)\n",
    "# summary(data$prbarr)\n",
    "# hist((data$prbarr), breaks=100, main = \"Histogram of prbarr\", xlab = \"prbarr\", col = \"lightblue\", border = \"black\")"
   ]
  },
  {
   "cell_type": "code",
   "execution_count": 31,
   "metadata": {},
   "outputs": [
    {
     "data": {
      "text/plain": [
       "   Min. 1st Qu.  Median    Mean 3rd Qu.    Max. \n",
       "   3.00   25.25   47.50   47.28   69.75   92.00 "
      ]
     },
     "metadata": {},
     "output_type": "display_data"
    },
    {
     "data": {
      "image/png": "[encoded data removed]",
      "text/plain": [
       "Plot with title \"Histogram of prbconv\""
      ]
     },
     "metadata": {},
     "output_type": "display_data"
    }
   ],
   "source": [
    "summary(data$prbconv)\n",
    "hist((data$prbconv), breaks=100, main = \"Histogram of prbconv\", xlab = \"prbconv\", col = \"lightblue\", border = \"black\")"
   ]
  },
  {
   "cell_type": "markdown",
   "metadata": {},
   "source": [
    "#### Notice that prbconv is > 1 even though it is supposed to be a probability. We believe the column is being represented as percentage.\n",
    "\n",
    "Hence to remedy the issue, we will divide this column by 100 to get the equivalent probability"
   ]
  },
  {
   "cell_type": "code",
   "execution_count": 32,
   "metadata": {},
   "outputs": [],
   "source": [
    "data$prbconv = data$prbconv * 1.0 / 100 "
   ]
  },
  {
   "cell_type": "code",
   "execution_count": 33,
   "metadata": {},
   "outputs": [
    {
     "data": {
      "text/plain": [
       "   Min. 1st Qu.  Median    Mean 3rd Qu.    Max. \n",
       " 0.0300  0.2525  0.4750  0.4728  0.6975  0.9200 "
      ]
     },
     "metadata": {},
     "output_type": "display_data"
    },
    {
     "data": {
      "image/png": "[encoded data removed]",
      "text/plain": [
       "Plot with title \"Histogram of prbconv\""
      ]
     },
     "metadata": {},
     "output_type": "display_data"
    }
   ],
   "source": [
    "summary(data$prbconv)\n",
    "hist((data$prbconv), breaks=100, main = \"Histogram of prbconv\", xlab = \"prbconv\", col = \"lightblue\", border = \"black\")"
   ]
  },
  {
   "cell_type": "markdown",
   "metadata": {},
   "source": [
    "#### Its interesting to note that prbconv is follows an almost exact uniform distribution\n",
    "\n",
    "#### Now that we have the data in the right format, we find correlation between the 3 probabilities, along with average sentence and police per capita"
   ]
  },
  {
   "cell_type": "code",
   "execution_count": 34,
   "metadata": {},
   "outputs": [
    {
     "data": {
      "text/html": [
       "<table>\n",
       "<caption>A matrix: 6 × 5 of type dbl</caption>\n",
       "<tbody>\n",
       "\t<tr><td>0.298270</td><td>0.63</td><td>0.436170</td><td> 6.71</td><td>0.00182786</td></tr>\n",
       "\t<tr><td>0.132029</td><td>0.89</td><td>0.450000</td><td> 6.35</td><td>0.00074588</td></tr>\n",
       "\t<tr><td>0.444444</td><td>0.13</td><td>0.600000</td><td> 6.76</td><td>0.00123431</td></tr>\n",
       "\t<tr><td>0.364760</td><td>0.62</td><td>0.435484</td><td> 7.14</td><td>0.00152994</td></tr>\n",
       "\t<tr><td>0.518219</td><td>0.52</td><td>0.442623</td><td> 8.22</td><td>0.00086018</td></tr>\n",
       "\t<tr><td>0.524664</td><td>0.03</td><td>0.500000</td><td>13.00</td><td>0.00288203</td></tr>\n",
       "</tbody>\n",
       "</table>\n"
      ],
      "text/latex": [
       "A matrix: 6 × 5 of type dbl\n",
       "\\begin{tabular}{lllll}\n",
       "\t 0.298270 & 0.63 & 0.436170 &  6.71 & 0.00182786\\\\\n",
       "\t 0.132029 & 0.89 & 0.450000 &  6.35 & 0.00074588\\\\\n",
       "\t 0.444444 & 0.13 & 0.600000 &  6.76 & 0.00123431\\\\\n",
       "\t 0.364760 & 0.62 & 0.435484 &  7.14 & 0.00152994\\\\\n",
       "\t 0.518219 & 0.52 & 0.442623 &  8.22 & 0.00086018\\\\\n",
       "\t 0.524664 & 0.03 & 0.500000 & 13.00 & 0.00288203\\\\\n",
       "\\end{tabular}\n"
      ],
      "text/markdown": [
       "\n",
       "A matrix: 6 × 5 of type dbl\n",
       "\n",
       "| 0.298270 | 0.63 | 0.436170 |  6.71 | 0.00182786 |\n",
       "| 0.132029 | 0.89 | 0.450000 |  6.35 | 0.00074588 |\n",
       "| 0.444444 | 0.13 | 0.600000 |  6.76 | 0.00123431 |\n",
       "| 0.364760 | 0.62 | 0.435484 |  7.14 | 0.00152994 |\n",
       "| 0.518219 | 0.52 | 0.442623 |  8.22 | 0.00086018 |\n",
       "| 0.524664 | 0.03 | 0.500000 | 13.00 | 0.00288203 |\n",
       "\n"
      ],
      "text/plain": [
       "     [,1]     [,2] [,3]     [,4]  [,5]      \n",
       "[1,] 0.298270 0.63 0.436170  6.71 0.00182786\n",
       "[2,] 0.132029 0.89 0.450000  6.35 0.00074588\n",
       "[3,] 0.444444 0.13 0.600000  6.76 0.00123431\n",
       "[4,] 0.364760 0.62 0.435484  7.14 0.00152994\n",
       "[5,] 0.518219 0.52 0.442623  8.22 0.00086018\n",
       "[6,] 0.524664 0.03 0.500000 13.00 0.00288203"
      ]
     },
     "metadata": {},
     "output_type": "display_data"
    },
    {
     "data": {
      "text/plain": [
       "$r\n",
       "       [,1]   [,2]   [,3]   [,4]   [,5]\n",
       "[1,]  1.000  0.018 -0.230 -0.044 -0.270\n",
       "[2,]  0.018  1.000 -0.035 -0.160 -0.075\n",
       "[3,] -0.230 -0.035  1.000 -0.100 -0.120\n",
       "[4,] -0.044 -0.160 -0.100  1.000  0.300\n",
       "[5,] -0.270 -0.075 -0.120  0.300  1.000\n",
       "\n",
       "$p\n",
       "      [,1] [,2]  [,3]   [,4]   [,5]\n",
       "[1,] 0.000 0.87 0.027 0.6800 0.0100\n",
       "[2,] 0.870 0.00 0.750 0.1300 0.4800\n",
       "[3,] 0.027 0.75 0.000 0.3400 0.2400\n",
       "[4,] 0.680 0.13 0.340 0.0000 0.0046\n",
       "[5,] 0.010 0.48 0.240 0.0046 0.0000\n",
       "\n",
       "$sym\n",
       "              \n",
       "[1,] 1        \n",
       "[2,]   1      \n",
       "[3,]     1    \n",
       "[4,]       1  \n",
       "[5,]         1\n",
       "attr(,\"legend\")\n",
       "[1] 0 ' ' 0.3 '.' 0.6 ',' 0.8 '+' 0.9 '*' 0.95 'B' 1\n"
      ]
     },
     "metadata": {},
     "output_type": "display_data"
    },
    {
     "data": {
      "image/png": "[encoded data removed]",
      "text/plain": [
       "Plot with title \"\""
      ]
     },
     "metadata": {},
     "output_type": "display_data"
    }
   ],
   "source": [
    "probdata = cbind(data$prbarr, data$prbconv, data$prbpris, data$avgsen, data$polpc)\n",
    "head(probdata)\n",
    "source(\"http://www.sthda.com/upload/rquery_cormat.r\")\n",
    "rquery.cormat(probdata, type=\"full\")"
   ]
  },
  {
   "cell_type": "markdown",
   "metadata": {},
   "source": [
    "**Correlation Analysis**\n",
    "\n",
    "1. Interestingly, there is little correlation between the probability variables, except for weak negative correlation (-0.23) between prbarr and prbpris\n",
    "2. There is also weak negative correlation between prbarr and polpc (-0.27)\n",
    "3. Finally, there is weak positive correlation between polpc and avgsen (0.3)\n",
    "\n",
    "**For now, we will consider all 3 probability variables in the model**\n",
    "\n",
    "We expect that as any of probabilities of arrest or conviction or prison sentence go up, crime rate should come down (people would be less risk taking to commit crime if they knew they would be likely arrested / convicted / imprisoned). "
   ]
  },
  {
   "cell_type": "code",
   "execution_count": 35,
   "metadata": {},
   "outputs": [
    {
     "data": {
      "text/plain": [
       "   Min. 1st Qu.  Median    Mean 3rd Qu.    Max. \n",
       "  5.380   7.330   9.045   9.524  11.320  17.410 "
      ]
     },
     "metadata": {},
     "output_type": "display_data"
    },
    {
     "data": {
      "text/plain": [
       "     Min.   1st Qu.    Median      Mean   3rd Qu.      Max. \n",
       "0.0007459 0.0012291 0.0014818 0.0016205 0.0018587 0.0044592 "
      ]
     },
     "metadata": {},
     "output_type": "display_data"
    },
    {
     "data": {
      "image/png": "[encoded data removed]",
      "text/plain": [
       "Plot with title \"Histogram of avgsen\""
      ]
     },
     "metadata": {},
     "output_type": "display_data"
    },
    {
     "data": {
      "image/png": "[encoded data removed]",
      "text/plain": [
       "Plot with title \"Histogram of polpc\""
      ]
     },
     "metadata": {},
     "output_type": "display_data"
    }
   ],
   "source": [
    "# Finally there's nothing special about the avgsen and polpc variables.\n",
    "\n",
    "# They have values within range and don't display special distributions\n",
    "summary(data$avgsen)\n",
    "hist(data$avgsen, breaks=100, main = \"Histogram of avgsen\", xlab = \"avgsen\", col = \"lightblue\", border = \"black\")\n",
    "\n",
    "# Taking log10(avgsen) makes the histogram look slightly more normal, but we will use avgsen as is in the model for now.\n",
    "# hist(log10(data$avgsen), breaks=100, main = \"Histogram of avgsen\", xlab = \"avgsen\", col = \"lightblue\", border = \"black\")\n",
    "\n",
    "summary(data$polpc)\n",
    "hist(data$polpc, breaks=100, main = \"Histogram of polpc\", xlab = \"polpc\", col = \"lightblue\", border = \"black\")"
   ]
  },
  {
   "cell_type": "markdown",
   "metadata": {},
   "source": [
    "**There seem to be a few suspicious far right outliers for police per capita and average sentence days**\n",
    "\n",
    "We will deal with them as appropriate when evaluating the cook's distance for potential points of influence.\n",
    "\n",
    "We cannot make a judgement for the causal effect of polpc (police per capita). If this increases, we can make an argument that crimes may go down as there is \"more policing\" per citizen. We can also say, if polpc goes up, then crime rate goes up (police can find trivial reasons to arrest citizens - overpolicing).\n",
    "\n",
    "We can however, likely say, if avgsen (average sentence in days) goes up, then convicts may become may learn their lessons and not commit crimes the next time around, so crime rate decreases.\n",
    "\n",
    "**For now, we will include both variables, as is in the model specification**"
   ]
  },
  {
   "cell_type": "markdown",
   "metadata": {},
   "source": [
    "### EDA Labor Market Variables"
   ]
  },
  {
   "cell_type": "code",
   "execution_count": 36,
   "metadata": {},
   "outputs": [
    {
     "data": {
      "text/html": [
       "<table>\n",
       "<caption>A matrix: 6 × 10 of type dbl</caption>\n",
       "<tbody>\n",
       "\t<tr><td>30.99368</td><td>281.4259</td><td>408.7245</td><td>221.2701</td><td>453.1722</td><td>274.1775</td><td>334.54</td><td>477.58</td><td>292.09</td><td>311.91</td></tr>\n",
       "\t<tr><td>26.89208</td><td>255.1020</td><td>376.2542</td><td>196.0101</td><td>258.5650</td><td>192.3077</td><td>300.38</td><td>409.83</td><td>362.96</td><td>301.47</td></tr>\n",
       "\t<tr><td>34.81605</td><td>226.9470</td><td>372.2084</td><td>229.3209</td><td>305.9441</td><td>209.6972</td><td>237.65</td><td>358.98</td><td>331.53</td><td>281.37</td></tr>\n",
       "\t<tr><td>42.94759</td><td>375.2345</td><td>397.6901</td><td>191.1720</td><td>281.0651</td><td>256.7214</td><td>281.80</td><td>412.15</td><td>328.27</td><td>299.03</td></tr>\n",
       "\t<tr><td>28.05474</td><td>292.3077</td><td>377.3126</td><td>206.8215</td><td>289.3125</td><td>215.1933</td><td>290.89</td><td>377.35</td><td>367.23</td><td>342.82</td></tr>\n",
       "\t<tr><td>35.22974</td><td>250.4006</td><td>401.3378</td><td>187.8255</td><td>258.5650</td><td>237.1507</td><td>258.60</td><td>391.48</td><td>325.71</td><td>275.22</td></tr>\n",
       "</tbody>\n",
       "</table>\n"
      ],
      "text/latex": [
       "A matrix: 6 × 10 of type dbl\n",
       "\\begin{tabular}{llllllllll}\n",
       "\t 30.99368 & 281.4259 & 408.7245 & 221.2701 & 453.1722 & 274.1775 & 334.54 & 477.58 & 292.09 & 311.91\\\\\n",
       "\t 26.89208 & 255.1020 & 376.2542 & 196.0101 & 258.5650 & 192.3077 & 300.38 & 409.83 & 362.96 & 301.47\\\\\n",
       "\t 34.81605 & 226.9470 & 372.2084 & 229.3209 & 305.9441 & 209.6972 & 237.65 & 358.98 & 331.53 & 281.37\\\\\n",
       "\t 42.94759 & 375.2345 & 397.6901 & 191.1720 & 281.0651 & 256.7214 & 281.80 & 412.15 & 328.27 & 299.03\\\\\n",
       "\t 28.05474 & 292.3077 & 377.3126 & 206.8215 & 289.3125 & 215.1933 & 290.89 & 377.35 & 367.23 & 342.82\\\\\n",
       "\t 35.22974 & 250.4006 & 401.3378 & 187.8255 & 258.5650 & 237.1507 & 258.60 & 391.48 & 325.71 & 275.22\\\\\n",
       "\\end{tabular}\n"
      ],
      "text/markdown": [
       "\n",
       "A matrix: 6 × 10 of type dbl\n",
       "\n",
       "| 30.99368 | 281.4259 | 408.7245 | 221.2701 | 453.1722 | 274.1775 | 334.54 | 477.58 | 292.09 | 311.91 |\n",
       "| 26.89208 | 255.1020 | 376.2542 | 196.0101 | 258.5650 | 192.3077 | 300.38 | 409.83 | 362.96 | 301.47 |\n",
       "| 34.81605 | 226.9470 | 372.2084 | 229.3209 | 305.9441 | 209.6972 | 237.65 | 358.98 | 331.53 | 281.37 |\n",
       "| 42.94759 | 375.2345 | 397.6901 | 191.1720 | 281.0651 | 256.7214 | 281.80 | 412.15 | 328.27 | 299.03 |\n",
       "| 28.05474 | 292.3077 | 377.3126 | 206.8215 | 289.3125 | 215.1933 | 290.89 | 377.35 | 367.23 | 342.82 |\n",
       "| 35.22974 | 250.4006 | 401.3378 | 187.8255 | 258.5650 | 237.1507 | 258.60 | 391.48 | 325.71 | 275.22 |\n",
       "\n"
      ],
      "text/plain": [
       "     [,1]     [,2]     [,3]     [,4]     [,5]     [,6]     [,7]   [,8]   [,9]  \n",
       "[1,] 30.99368 281.4259 408.7245 221.2701 453.1722 274.1775 334.54 477.58 292.09\n",
       "[2,] 26.89208 255.1020 376.2542 196.0101 258.5650 192.3077 300.38 409.83 362.96\n",
       "[3,] 34.81605 226.9470 372.2084 229.3209 305.9441 209.6972 237.65 358.98 331.53\n",
       "[4,] 42.94759 375.2345 397.6901 191.1720 281.0651 256.7214 281.80 412.15 328.27\n",
       "[5,] 28.05474 292.3077 377.3126 206.8215 289.3125 215.1933 290.89 377.35 367.23\n",
       "[6,] 35.22974 250.4006 401.3378 187.8255 258.5650 237.1507 258.60 391.48 325.71\n",
       "     [,10] \n",
       "[1,] 311.91\n",
       "[2,] 301.47\n",
       "[3,] 281.37\n",
       "[4,] 299.03\n",
       "[5,] 342.82\n",
       "[6,] 275.22"
      ]
     },
     "metadata": {},
     "output_type": "display_data"
    },
    {
     "data": {
      "text/plain": [
       "$r\n",
       "          [,1]  [,2]     [,3]  [,4]   [,5]  [,6]   [,7]  [,8]   [,9]  [,10]\n",
       " [1,]  1.00000 0.190 -0.00058 0.240 -0.027 0.170 -0.150 0.061 -0.035  0.036\n",
       " [2,]  0.19000 1.000  0.64000 0.620  0.510 0.540  0.400 0.520  0.058  0.021\n",
       " [3,] -0.00058 0.640  1.00000 0.670  0.570 0.610  0.360 0.360  0.170 -0.018\n",
       " [4,]  0.24000 0.620  0.67000 1.000  0.500 0.570  0.330 0.490  0.130  0.015\n",
       " [5,] -0.02700 0.510  0.57000 0.500  1.000 0.590  0.440 0.380  0.250 -0.016\n",
       " [6,]  0.17000 0.540  0.61000 0.570  0.590 1.000  0.320 0.420  0.240  0.085\n",
       " [7,] -0.15000 0.400  0.36000 0.330  0.440 0.320  1.000 0.450  0.170 -0.016\n",
       " [8,]  0.06100 0.520  0.36000 0.490  0.380 0.420  0.450 1.000  0.280  0.011\n",
       " [9,] -0.03500 0.058  0.17000 0.130  0.250 0.240  0.170 0.280  1.000  0.074\n",
       "[10,]  0.03600 0.021 -0.01800 0.015 -0.016 0.085 -0.016 0.011  0.074  1.000\n",
       "\n",
       "$p\n",
       "       [,1]    [,2]    [,3]    [,4]    [,5]    [,6]    [,7]    [,8]   [,9]\n",
       " [1,] 0.000 8.0e-02 1.0e+00 2.4e-02 8.0e-01 9.9e-02 1.5e-01 5.7e-01 0.7500\n",
       " [2,] 0.080 0.0e+00 1.4e-11 4.7e-11 2.1e-07 3.6e-08 7.8e-05 1.5e-07 0.5800\n",
       " [3,] 1.000 1.4e-11 0.0e+00 5.1e-13 5.2e-09 1.8e-10 4.6e-04 5.4e-04 0.1100\n",
       " [4,] 0.024 4.7e-11 5.1e-13 0.0e+00 4.3e-07 4.4e-09 1.5e-03 9.1e-07 0.2300\n",
       " [5,] 0.800 2.1e-07 5.2e-09 4.3e-07 0.0e+00 6.3e-10 1.3e-05 2.1e-04 0.0160\n",
       " [6,] 0.099 3.6e-08 1.8e-10 4.4e-09 6.3e-10 0.0e+00 2.0e-03 3.5e-05 0.0230\n",
       " [7,] 0.150 7.8e-05 4.6e-04 1.5e-03 1.3e-05 2.0e-03 0.0e+00 7.6e-06 0.1000\n",
       " [8,] 0.570 1.5e-07 5.4e-04 9.1e-07 2.1e-04 3.5e-05 7.6e-06 0.0e+00 0.0086\n",
       " [9,] 0.750 5.8e-01 1.1e-01 2.3e-01 1.6e-02 2.3e-02 1.0e-01 8.6e-03 0.0000\n",
       "[10,] 0.730 8.4e-01 8.6e-01 8.9e-01 8.8e-01 4.2e-01 8.8e-01 9.2e-01 0.4900\n",
       "      [,10]\n",
       " [1,]  0.73\n",
       " [2,]  0.84\n",
       " [3,]  0.86\n",
       " [4,]  0.89\n",
       " [5,]  0.88\n",
       " [6,]  0.42\n",
       " [7,]  0.88\n",
       " [8,]  0.92\n",
       " [9,]  0.49\n",
       "[10,]  0.00\n",
       "\n",
       "$sym\n",
       "                         \n",
       " [1,] 1                  \n",
       " [2,]   1                \n",
       " [3,]   , 1              \n",
       " [4,]   , , 1            \n",
       " [5,]   . . . 1          \n",
       " [6,]   . , . . 1        \n",
       " [7,]   . . . . . 1      \n",
       " [8,]   . . . . . . 1    \n",
       " [9,]                 1  \n",
       "[10,]                   1\n",
       "attr(,\"legend\")\n",
       "[1] 0 ' ' 0.3 '.' 0.6 ',' 0.8 '+' 0.9 '*' 0.95 'B' 1\n"
      ]
     },
     "metadata": {},
     "output_type": "display_data"
    },
    {
     "data": {
      "image/png": "[encoded data removed]",
      "text/plain": [
       "Plot with title \"\""
      ]
     },
     "metadata": {},
     "output_type": "display_data"
    }
   ],
   "source": [
    "labmktdata = cbind(data$taxpc, data$wcon, data$wtuc, data$wtrd, data$wfir, data$wser, data$wmfg, data$wfed, data$wsta, data$wloc)\n",
    "head(labmktdata)\n",
    "source(\"http://www.sthda.com/upload/rquery_cormat.r\")\n",
    "rquery.cormat(labmktdata, type=\"full\")\n"
   ]
  },
  {
   "cell_type": "markdown",
   "metadata": {},
   "source": [
    "As expected, due to labor and market interdependencies, a lot of the wages of workers in the city are correlated with others.\n",
    "\n",
    "Note that while there is strong positive correlation (> 0.6), there is no perfect multicollinearity amongst these variables\n",
    "\n",
    "Tax revenues are hardly correlated with any of the wages, this is a little surprising! Although we do see weak correlation between taxes and certain industries.\n",
    "\n",
    "From this article: https://www.amherst.edu/media/view/121570/original/CornwellTrumbullCrime%2BElasticities.pdf\n",
    "\n",
    "We find that these variables of wage represent **average** weekly wages of the industry\n",
    "\n",
    "One variable of interest could be the total weekly wages:\n",
    "\n",
    "**wtotal = wcon + wtuc + wtrd + wfir + wser + wmfg + wfed + wsta + wloc**\n",
    "\n",
    "The argument is that if the total average weekly wages are high for a county, then the crime rate will be low (as the county is prosperous, so robberies and money related crimes would be fewer)\n",
    "\n",
    "One may wonder if its valid to add wages and include this in the model. There are a few arguments for doing this:\n",
    "1. Adding all wages shouldnt affect the regression because its the same effect as a linear combination of the betas of the individual industrial wages. In other words, the coefficient of wtotal is an aggregated version of the effect of each of the coefficients of the wage variables.\n",
    "2. Adding all wages gives an idea of the overall economic condition of the county, which would affect crime rate of the county on aggregate\n",
    "3. Even if wages in 1 county were not distributed evenly amongst sectors (on average), then due to local county tax policies, higher wage workers can be taxed more to provide services and benefit to the poorer wage workers in the county. If poor wage earners are now taken care of with the wealth and services from the government, there may be lesser incentive for crime in the county. This hypothesis is admittedly a little imaginative, but is plausible in theory. \n",
    "\n",
    "There are a few caveats with this variable though:\n",
    "1. Total average weekly wage in a county, while succinct, may be a controversial variable to include because individual wages are aggregated into a single number and may be hiding the effects of each individual industry. For example, consider wcon, wfir and wmfg variables. If in county1, the values are 100, 200, 300 and in county2, the values are 1, 2, 597. wtotal is the same for both counties, however, the breakdown shows that the workforce in county2 is on average poorer than county1, and thus susceptible to crime. \n"
   ]
  },
  {
   "cell_type": "code",
   "execution_count": 37,
   "metadata": {},
   "outputs": [],
   "source": [
    "data$wtotal = data$wcon + data$wtuc + data$wtrd + data$wfir + data$wser + data$wmfg + data$wfed + data$wsta + data$wloc"
   ]
  },
  {
   "cell_type": "code",
   "execution_count": 38,
   "metadata": {},
   "outputs": [
    {
     "data": {
      "image/png": "[encoded data removed]",
      "text/plain": [
       "Plot with title \"Histogram of Total Wages\""
      ]
     },
     "metadata": {},
     "output_type": "display_data"
    }
   ],
   "source": [
    "# upon closer inspection of the weekly wages, most wages seem to follow the expected normal dist\n",
    "# except for wser, which has one extreme positive outlier\n",
    "# hist(data$wloc, breaks=100, main = \"Histogram of wloc\", xlab = \"wloc\", col = \"lightblue\", border = \"black\")\n",
    "\n",
    "# we see that wtotal has a few outliers but nothing too concerning\n",
    "hist(data$wtotal, breaks=100, main = \"Histogram of Total Wages\", xlab = \"wtotal\", col = \"lightblue\", border = \"black\")"
   ]
  },
  {
   "cell_type": "code",
   "execution_count": 39,
   "metadata": {},
   "outputs": [
    {
     "data": {
      "text/html": [
       "0.236985734232573"
      ],
      "text/latex": [
       "0.236985734232573"
      ],
      "text/markdown": [
       "0.236985734232573"
      ],
      "text/plain": [
       "[1] 0.2369857"
      ]
     },
     "metadata": {},
     "output_type": "display_data"
    },
    {
     "data": {
      "image/png": "[encoded data removed]",
      "text/plain": [
       "Plot with title \"Total Weekly Wages vs Tax Per Capita\""
      ]
     },
     "metadata": {},
     "output_type": "display_data"
    }
   ],
   "source": [
    "plot(data$wtotal, data$taxpc, main = \"Total Weekly Wages vs Tax Per Capita\", xlab = \"Total County Wages\", ylab = \"Tax per Capita\")\n",
    "cor(data$wtotal, data$taxpc)"
   ]
  },
  {
   "cell_type": "markdown",
   "metadata": {},
   "source": [
    "The graphs above show that total county wages are weakly correlated with taxpc (0.23).\n",
    "\n",
    "Total weekly wages is not unreasonably skewed in distribution (except for 5 outliers). More or less, each wage variable follows a normal distribution (as expected for population wages). **Hence, it is reasonable to use wtotal in our model.**"
   ]
  },
  {
   "cell_type": "markdown",
   "metadata": {},
   "source": [
    "## Assumptions of Multiple Linear Regression\n",
    "\n",
    "1. Parameters are linear\n",
    "2. No perfect multicollinearity\n",
    "3. IID / Random sample of observations in dataset\n",
    "4. Zero conditional mean, ie, E[u|X] = 0 (or weaker assumption of exogeneity, E(u) = 0 and Cov(X, u) = 0)\n",
    "5. Homoskedastic errors, Var(u|X) = const\n",
    "6. Normality of errors ~ N(0, sigma^2)\n",
    "\n",
    "MLR 1-4 implies unbiased OLS estimators (beta coefficients) <br/>\n",
    "MLR 1-5 (Gauss markov) implies OLS estimators are BLUE <br/>\n",
    "MLR 1-6 (Classical LM assumptions) implies OLS estimators, ie, beta_j ~ N(beta_j, var(beta_j)) - var(beta_j) given by white standard errors"
   ]
  },
  {
   "cell_type": "markdown",
   "metadata": {},
   "source": [
    "## Model Building"
   ]
  },
  {
   "cell_type": "markdown",
   "metadata": {},
   "source": [
    "Our target variable is log10(crmrate) - which is a scaled version of the log of crime rate. This gives us percentage increase of crime rate"
   ]
  },
  {
   "cell_type": "code",
   "execution_count": 40,
   "metadata": {},
   "outputs": [],
   "source": [
    "data$y = log10(data$crmrte)"
   ]
  },
  {
   "cell_type": "markdown",
   "metadata": {},
   "source": [
    "We will build 8 model specifications that consist of one or more **classes** of variables:\n",
    "\n",
    "1. Model1: Demographic + Criminal Justice + Labor Market variables\n",
    "2. Model2: Demographic + Criminal Justice variables\n",
    "3. Model3: Demographic + Labor Market variables\n",
    "4. Model4: LaborMarket + Criminal Justice variables\n",
    "5. Model5: LaborMarket variables\n",
    "6. Model6: Criminal Justice variables\n",
    "7. Model7: Demographic variables\n",
    "8. Model8: Select variables\n",
    "\n",
    "**We will use Adjusted R-Squared, AIC, BIC for criteria of model fit**"
   ]
  },
  {
   "cell_type": "code",
   "execution_count": 41,
   "metadata": {},
   "outputs": [
    {
     "data": {
      "text/html": [
       "<style>\n",
       ".list-inline {list-style: none; margin:0; padding: 0}\n",
       ".list-inline>li {display: inline-block}\n",
       ".list-inline>li:not(:last-child)::after {content: \"\\00b7\"; padding: 0 .5ex}\n",
       "</style>\n",
       "<ol class=list-inline><li>90</li><li>35</li></ol>\n"
      ],
      "text/latex": [
       "\\begin{enumerate*}\n",
       "\\item 90\n",
       "\\item 35\n",
       "\\end{enumerate*}\n"
      ],
      "text/markdown": [
       "1. 90\n",
       "2. 35\n",
       "\n",
       "\n"
      ],
      "text/plain": [
       "[1] 90 35"
      ]
     },
     "metadata": {},
     "output_type": "display_data"
    }
   ],
   "source": [
    "dim(data)"
   ]
  },
  {
   "cell_type": "markdown",
   "metadata": {},
   "source": [
    "### Demographic Variables Considered"
   ]
  },
  {
   "cell_type": "markdown",
   "metadata": {},
   "source": [
    "**Geo variables**\n",
    "\n",
    "1. geo\n",
    "2. west_central\n",
    "3. west_urban\n",
    "4. central_urban\n",
    "5. central\n",
    "6. west\n",
    "7. urban\n",
    "8. non_urban_west_central\n",
    "\n",
    "**Population variables**\n",
    "\n",
    "9. log10_density\n",
    "10. density_ymle\n",
    "11. pctmin80"
   ]
  },
  {
   "cell_type": "markdown",
   "metadata": {},
   "source": [
    "### Criminal Justice Variables Considered"
   ]
  },
  {
   "cell_type": "markdown",
   "metadata": {},
   "source": [
    "All variables listed in the criminal justice category are considered without transformation\n",
    "1. prbarr\n",
    "2. prbconv\n",
    "3. prbpris\n",
    "4. avgsen\n",
    "5. polpc"
   ]
  },
  {
   "cell_type": "markdown",
   "metadata": {},
   "source": [
    "### Labor Market Variables Considered"
   ]
  },
  {
   "cell_type": "markdown",
   "metadata": {},
   "source": [
    "1. wtotal\n",
    "2. taxpc"
   ]
  },
  {
   "cell_type": "code",
   "execution_count": 42,
   "metadata": {},
   "outputs": [],
   "source": [
    "model1_all = lm(y ~ geo + west_central + west_urban + central_urban + central + west + urban + non_urban_west_central + log10_density + density_ymle + pctmin80 + prbarr + prbconv + prbpris + avgsen + polpc + wtotal + taxpc, data=data)\n",
    "\n",
    "model2_dem_cj = lm(y ~ geo + west_central + west_urban + central_urban + central + west + urban + non_urban_west_central + log10_density + density_ymle + pctmin80 + prbarr + prbconv + prbpris + avgsen + polpc, data=data)\n",
    "\n",
    "model3_dem_lbmkt = lm(y ~ geo + west_central + west_urban + central_urban + central + west + urban + non_urban_west_central + wtotal + taxpc, data=data)\n",
    "\n",
    "model4_cj_lbmkt = lm(y ~ prbarr + prbconv + prbpris + avgsen + polpc + wtotal + taxpc, data=data)\n",
    "\n",
    "model5_lbmkt = lm(y ~ wtotal + taxpc, data=data)\n",
    "\n",
    "model6_cj = lm(y ~ prbarr + prbconv + prbpris + avgsen + polpc, data=data)\n",
    "\n",
    "model7_dem = lm(y ~ geo + west_central + west_urban + central_urban + central + west + urban + non_urban_west_central + log10_density + density_ymle + pctmin80, data=data)\n",
    "\n",
    "model8_select = lm(y ~ prbarr + prbconv + polpc + log10_density + pctmin80 + density_ymle, data=data)"
   ]
  },
  {
   "cell_type": "code",
   "execution_count": 43,
   "metadata": {},
   "outputs": [],
   "source": [
    "# set model to be evaluated here\n",
    "model = model8_select"
   ]
  },
  {
   "cell_type": "code",
   "execution_count": 44,
   "metadata": {
    "scrolled": false
   },
   "outputs": [
    {
     "data": {
      "text/plain": [
       "    Min.  1st Qu.   Median     Mean  3rd Qu.     Max. \n",
       "-0.42882 -0.07172  0.01768  0.00000  0.07869  0.21810 "
      ]
     },
     "metadata": {},
     "output_type": "display_data"
    },
    {
     "data": {
      "text/plain": [
       "\n",
       "\tShapiro-Wilk normality test\n",
       "\n",
       "data:  m$residuals\n",
       "W = 0.95765, p-value = 0.005121\n"
      ]
     },
     "metadata": {},
     "output_type": "display_data"
    },
    {
     "data": {
      "text/plain": [
       "\n",
       "\tstudentized Breusch-Pagan test\n",
       "\n",
       "data:  m\n",
       "BP = 12.015, df = 6, p-value = 0.06163\n"
      ]
     },
     "metadata": {},
     "output_type": "display_data"
    },
    {
     "data": {
      "image/png": "[encoded data removed]",
      "text/plain": [
       "Plot with title \"Histogram of residuals\""
      ]
     },
     "metadata": {},
     "output_type": "display_data"
    },
    {
     "data": {
      "image/png": "[encoded data removed]",
      "text/plain": [
       "Plot with title \"\""
      ]
     },
     "metadata": {},
     "output_type": "display_data"
    },
    {
     "data": {
      "image/png": "[encoded data removed]",
      "text/plain": [
       "Plot with title \"\""
      ]
     },
     "metadata": {},
     "output_type": "display_data"
    },
    {
     "data": {
      "image/png": "[encoded data removed]",
      "text/plain": [
       "Plot with title \"\""
      ]
     },
     "metadata": {},
     "output_type": "display_data"
    },
    {
     "data": {
      "image/png": "[encoded data removed]",
      "text/plain": [
       "Plot with title \"\""
      ]
     },
     "metadata": {},
     "output_type": "display_data"
    },
    {
     "data": {
      "image/png": "[encoded data removed]",
      "text/plain": [
       "Plot with title \"\""
      ]
     },
     "metadata": {},
     "output_type": "display_data"
    },
    {
     "data": {
      "image/png": "[encoded data removed]",
      "text/plain": [
       "Plot with title \"\""
      ]
     },
     "metadata": {},
     "output_type": "display_data"
    }
   ],
   "source": [
    "# We have kept all models linear in beta coefficients (MLR 1 satisfied for all models)\n",
    "# Note that we assume data has been collected as IID (MLR 3 for all models)\n",
    "evaluate_model_shapiro = function(m) {\n",
    "    paste(\"Shapiro test on residuals - test for normality (MLR 6)\")\n",
    "    # null hypothesis is residuals are normally distributed\n",
    "    shapiro.test(m$residuals)\n",
    "}\n",
    "\n",
    "evaluate_model_bp = function(m) {\n",
    "    paste(\"Breusch Pagan test - test for heteroskedasticity (MLR 5)\")\n",
    "    # null hypothesis is homoskedasticity, alt is presence of heteroskedasticity\n",
    "    bptest(m)\n",
    "}\n",
    "\n",
    "\n",
    "evaluate_model_plots = function(m) {\n",
    "\n",
    "    paste(\"Plotting residuals - test for normality of errors (MLR 6)\")\n",
    "    hist(m$residuals, breaks=50, main = \"Histogram of residuals\")\n",
    "\n",
    "    paste(\"Diagnostic plots (MLR 4,5 - Residual vs fitted), (MLR6 - QQ Plot), (MLR5 - Std. Residuals), (Cooks Dist - Outliers test)\")\n",
    "    #par(mfrow=c(3,3))\n",
    "    plot(m, which=1:6, col = 'blue')\n",
    "    \n",
    "}\n",
    "\n",
    "summary(model$residuals)\n",
    "evaluate_model_shapiro(model)\n",
    "evaluate_model_bp(model)\n",
    "evaluate_model_plots(model)"
   ]
  },
  {
   "cell_type": "code",
   "execution_count": 48,
   "metadata": {},
   "outputs": [
    {
     "data": {
      "text/plain": [
       "\n",
       "t test of coefficients:\n",
       "\n",
       "               Estimate Std. Error t value Pr(>|t|)    \n",
       "(Intercept)    -1.60164    0.17975 -8.9104 9.87e-14 ***\n",
       "prbarr         -0.53948    0.19079 -2.8276 0.005876 ** \n",
       "prbconv        -0.23876    0.09892 -2.4137 0.017993 *  \n",
       "polpc         103.59862   70.68183  1.4657 0.146507    \n",
       "log10_density   0.10195    0.27398  0.3721 0.710769    \n",
       "pctmin80        0.45831    0.13543  3.3842 0.001092 ** \n",
       "density_ymle    0.44090    0.56899  0.7749 0.440614    \n",
       "---\n",
       "Signif. codes:  0 '***' 0.001 '**' 0.01 '*' 0.05 '.' 0.1 ' ' 1\n"
      ]
     },
     "metadata": {},
     "output_type": "display_data"
    },
    {
     "data": {
      "text/plain": [
       "\n",
       "Call:\n",
       "lm(formula = y ~ prbarr + prbconv + polpc + log10_density + pctmin80 + \n",
       "    density_ymle, data = data)\n",
       "\n",
       "Residuals:\n",
       "     Min       1Q   Median       3Q      Max \n",
       "-0.42882 -0.07172  0.01768  0.07869  0.21810 \n",
       "\n",
       "Coefficients:\n",
       "               Estimate Std. Error t value Pr(>|t|)    \n",
       "(Intercept)    -1.60164    0.08274 -19.357  < 2e-16 ***\n",
       "prbarr         -0.53948    0.15274  -3.532 0.000676 ***\n",
       "prbconv        -0.23876    0.06221  -3.838 0.000241 ***\n",
       "polpc         103.59862   25.10301   4.127 8.70e-05 ***\n",
       "log10_density   0.10195    0.02946   3.460 0.000855 ***\n",
       "pctmin80        0.45831    0.08284   5.532 3.59e-07 ***\n",
       "density_ymle    0.44090    0.14268   3.090 0.002723 ** \n",
       "---\n",
       "Signif. codes:  0 '***' 0.001 '**' 0.01 '*' 0.05 '.' 0.1 ' ' 1\n",
       "\n",
       "Residual standard error: 0.1271 on 83 degrees of freedom\n",
       "Multiple R-squared:  0.7047,\tAdjusted R-squared:  0.6833 \n",
       "F-statistic: 33.01 on 6 and 83 DF,  p-value: < 2.2e-16\n"
      ]
     },
     "metadata": {},
     "output_type": "display_data"
    },
    {
     "data": {
      "text/html": [
       "-107.152459353387"
      ],
      "text/latex": [
       "-107.152459353387"
      ],
      "text/markdown": [
       "-107.152459353387"
      ],
      "text/plain": [
       "[1] -107.1525"
      ]
     },
     "metadata": {},
     "output_type": "display_data"
    },
    {
     "data": {
      "text/html": [
       "-87.1539819907453"
      ],
      "text/latex": [
       "-87.1539819907453"
      ],
      "text/markdown": [
       "-87.1539819907453"
      ],
      "text/plain": [
       "[1] -87.15398"
      ]
     },
     "metadata": {},
     "output_type": "display_data"
    }
   ],
   "source": [
    "# Always use heteroskedasticity robust std errors for beta values\n",
    "# Get the coefficients for the variables in the model\n",
    "coeftest(model, vcov = vcovHC)\n",
    "summary(model)\n",
    "AIC(model)\n",
    "BIC(model)"
   ]
  },
  {
   "cell_type": "code",
   "execution_count": 46,
   "metadata": {},
   "outputs": [
    {
     "data": {
      "text/plain": [
       "$r\n",
       "         [,1]     [,2]     [,3]     [,4]     [,5]     [,6]     [,7]\n",
       "[1,]  1.0e+00 -4.4e-03  3.6e-01 -2.7e-01  7.9e-18 -1.2e-01 -6.9e-02\n",
       "[2,] -4.4e-03  1.0e+00  5.6e-01 -6.2e-02  4.5e-18 -3.9e-01 -1.1e-01\n",
       "[3,]  3.6e-01  5.6e-01  1.0e+00 -3.2e-01  2.3e-18 -3.6e-01 -5.7e-02\n",
       "[4,] -2.7e-01 -6.2e-02 -3.2e-01  1.0e+00  5.2e-17 -2.3e-01  1.2e-01\n",
       "[5,]  7.9e-18  4.5e-18  2.3e-18  5.2e-17  1.0e+00 -2.3e-17 -5.1e-17\n",
       "[6,] -1.2e-01 -3.9e-01 -3.6e-01 -2.3e-01 -2.3e-17  1.0e+00  1.9e-01\n",
       "[7,] -6.9e-02 -1.1e-01 -5.7e-02  1.2e-01 -5.1e-17  1.9e-01  1.0e+00\n",
       "\n",
       "$p\n",
       "        [,1]    [,2]    [,3]   [,4] [,5]    [,6] [,7]\n",
       "[1,] 0.00000 9.7e-01 4.6e-04 0.0100    1 0.24000 0.52\n",
       "[2,] 0.97000 0.0e+00 7.9e-09 0.5600    1 0.00015 0.32\n",
       "[3,] 0.00046 7.9e-09 0.0e+00 0.0018    1 0.00054 0.60\n",
       "[4,] 0.01000 5.6e-01 1.8e-03 0.0000    1 0.02700 0.27\n",
       "[5,] 1.00000 1.0e+00 1.0e+00 1.0000    0 1.00000 1.00\n",
       "[6,] 0.24000 1.5e-04 5.4e-04 0.0270    1 0.00000 0.08\n",
       "[7,] 0.52000 3.2e-01 6.0e-01 0.2700    1 0.08000 0.00\n",
       "\n",
       "$sym\n",
       "                  \n",
       "[1,] 1            \n",
       "[2,]   1          \n",
       "[3,] . . 1        \n",
       "[4,]     . 1      \n",
       "[5,]         1    \n",
       "[6,]   . .     1  \n",
       "[7,]             1\n",
       "attr(,\"legend\")\n",
       "[1] 0 ' ' 0.3 '.' 0.6 ',' 0.8 '+' 0.9 '*' 0.95 'B' 1\n"
      ]
     },
     "metadata": {},
     "output_type": "display_data"
    },
    {
     "data": {
      "image/png": "[encoded data removed]",
      "text/plain": [
       "Plot with title \"\""
      ]
     },
     "metadata": {},
     "output_type": "display_data"
    }
   ],
   "source": [
    "exodata = cbind(model$residuals, data$prbarr, data$prbconv, data$polpc, data$log10_density, data$pctmin80, data$density_ymle)\n",
    "source(\"http://www.sthda.com/upload/rquery_cormat.r\")\n",
    "rquery.cormat(exodata, type=\"full\")"
   ]
  },
  {
   "cell_type": "markdown",
   "metadata": {},
   "source": [
    "### Causality Criteria\n",
    "\n",
    "We notice that the residuals mean is 0.\n",
    "We also notice that the correlation between the residuals and the model variables is nearly 0 for all variables (see first row in the above correlation matrix plot). \n",
    "\n",
    "**Hence, we can say that the exogeneity assumption is satisfied and the effect of our model specification is causal and NOT associative**\n",
    "\n",
    "### Model Analysis\n",
    "\n",
    "We notice that we have coefficients and std. errors from heteroskedastic robust methods (White-Huber)\n",
    "\n",
    "We also have our regular std. errors from the summary command.\n",
    "\n",
    "**Note that because we have shown almost no presence of heteroskedasticity, it may be reasonable to consider the regular standard errors from the \"summary command\" in our analysis**\n",
    "\n",
    "We notice there are a few factors that affect crime rate percentage (target is log(crmrate)):\n",
    "1. **Probability of Arrest (prbarr)** - this is fairly obvious. It has a negative coefficient, meaning that when probability of arrest goes up, crime rate percentage goes down - likely because criminals reconsider doing the crime, when they know they have a high chance of getting arrested. This variable is significant in both methods of coefficient calculation.\n",
    "2. **Probability of Conviction (prbconv)** - this also follows similar logic to prbarr. Its coefficient is also negative and significant in both methods of calculation\n",
    "3. **Percentage of Minority (pctmin80)** - the model shows that as minorities increase in a county, so does crime. This variable is significant in both modes of coefficient calculation.\n",
    "\n",
    "There are a few notable variables that affect crime rate percentage in one mode of coefficient calculation, but not the other. **These are all significant in the summary method, but fail to be significant in the heteroskedastic robust method of coefficient calculation:**\n",
    "1. **Density (log10_density)** - as density goes up, crime rate goes up. This is consistent with our originally stated hypothesis - crowded regions have more chance for conflict and more chance of crime.\n",
    "2. **Density of Young Males (density_ymle)** - as younger males increase in a county, so does crime. This is consistent with our hypothesis that younger crowd is more rowdy, susceptible to petty crimes.\n",
    "3. **Police per Capita (polpc)** - as police increases per capita, so does crime rate. Its likely that the police is \"overpolicing\" which is causing this effect.\n",
    "\n",
    "Model fit metrics are looking good. Adjusted R squared is around 68% and AIC / BIC scores are negative (interesting to note)\n",
    "\n",
    "Meaning of negative AIC or BIC: \n",
    "\n",
    "https://www.reddit.com/r/AskStatistics/comments/5ydt2c/if_my_aic_and_bic_are_negative_does_that_mean/\n",
    "https://stat.ethz.ch/pipermail/r-help/2005-April/069550.html"
   ]
  },
  {
   "cell_type": "code",
   "execution_count": null,
   "metadata": {},
   "outputs": [],
   "source": [
    "# finally plot the models and compare models with stargazer - see video 11.17 on how to do this\n"
   ]
  },
  {
   "cell_type": "markdown",
   "metadata": {},
   "source": [
    "### MLR assumptions for Select Model 8\n",
    "1. **MLR 1 - linear in parameters** is automatically satisfied for all models.\n",
    "2. There is **no PERFECT multicollinearity** in the data as we have omitted variables that could have potentially shown high correlation. **Hence MLR 2 is also satisfied.**\n",
    "3. The data is assumed to be collected as IID (this can be assumed from the study). **Hence, MLR 3 criteria is satisfied.**\n",
    "4. Looking at the residuals vs fitted values plot, **MLR 4 (Zero Conditional mean) is approximately satisfied.** The zero conditional mean line does slope downwards towards the right, however, this could be due to lack of sufficient data points.\n",
    "5. The Breusch Pagan test shows us that the variance of errors is homoskedastic (approximately at the 95% signifcance level). This is also confirmed from the std. residuals vs fitted values plot (we dont see any cone shape formation for the scatterplot). Although, admittedly the variance is not absolutely constant (flat band) left to right, we can say the variance is fairly constant for the errors. **This shows us that MLR 5 (homoskedasticity) is approximately satisfied.**\n",
    "6. The QQ norm plot and residual histogram plot for errors shows that errors do follow an approximate normal distribution. We also calculate the mean of errors to show that we have zero residual mean. However, there are some clear outliers represented in the data (skewed towards the lower end). **This shows that MLR 6 (normality of errors) is also satisfied.**\n",
    "7. Because we have 90 data points (> 30), we can rely on the **law of asymptotics (CLT)** to say that even if MLR 6 is not completely satisfied, the coefficients are normally distributed with unbiased true population parameter value as mean and variance given by White-Huber standard errors, ie, betaj_hat ~ N(beta_j, var(beta_j)). \n",
    "\n",
    "### Outliers\n",
    "1. We notice that there are a few influential outliers in our data\n",
    "2. These are given by data points in rows 79, 84, 90\n",
    "3. These also show up in the QQ plot as well as the Cooks distance plot (having cook's dist >= 1)\n"
   ]
  },
  {
   "cell_type": "markdown",
   "metadata": {},
   "source": [
    "Omitted variables: Education, degree to crime, theft vs murder, multiple crimes, multiple convictions, unreported crime, etc. to name a few."
   ]
  },
  {
   "cell_type": "code",
   "execution_count": null,
   "metadata": {},
   "outputs": [],
   "source": []
  }
 ],
 "metadata": {
  "kernelspec": {
   "display_name": "R",
   "language": "R",
   "name": "ir"
  },
  "language_info": {
   "codemirror_mode": "r",
   "file_extension": ".r",
   "mimetype": "text/x-r-source",
   "name": "R",
   "pygments_lexer": "r",
   "version": "3.6.1"
  }
 },
 "nbformat": 4,
 "nbformat_minor": 4
}
