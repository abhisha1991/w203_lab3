{
 "cells": [
  {
   "cell_type": "markdown",
   "metadata": {},
   "source": [
    "# Lab 2 - W203 - Statistics for Data Science"
   ]
  },
  {
   "cell_type": "markdown",
   "metadata": {},
   "source": [
    "#### Submission by Jude Kavalam, Harshit Patel, Abhi Sharma"
   ]
  },
  {
   "cell_type": "markdown",
   "metadata": {},
   "source": [
    "## 1. Introduction"
   ]
  },
  {
   "cell_type": "markdown",
   "metadata": {},
   "source": [
    "### Dataset\n",
    "\n",
    "The database contains only a subset of information drawn from a larger multi-year database from a study\n",
    "performed by Cornwell and Trumball researchers from the University of Georgia and the West Virginia University\n",
    "(CT1994). From the database the subset of twenty five variables encompass roughly three types of variables,\n",
    "penal system, economic and population related variables. Each observation is from a different county in North\n",
    "Carolina. Currently there are 100 counties in North Carolina, the study appears to encompass 97 of those\n",
    "counties."
   ]
  },
  {
   "cell_type": "markdown",
   "metadata": {},
   "source": [
    "### Background\n",
    "\n",
    "There are 3 classes of variables provided to us:\n",
    "1. Labor market variables\n",
    "2. Criminal justice variables\n",
    "3. Demographic variables\n",
    "\n",
    "Both labor market and criminal justice strategies should be relevant in influencing (causing causal behavior on) crime rate. \n",
    "\n",
    "In our study, we are given variables that reflect both these factors:<br/>\n",
    "**Variables reflecting labor markets**\n",
    "\n",
    "10 taxpc - tax revenue per capita <br/>\n",
    "15 wcon - weekly wage, construction <br/>\n",
    "16 wtuc\t- wkly wge, trns, util, commun <br/>\n",
    "17 wtrd\t- wkly wge, whlesle, retail trade <br/>\n",
    "18 wfir\t- wkly wge, fin, ins, real est <br/>\n",
    "19 wser\t- wkly wge, service industry <br/>\n",
    "20 wmfg\t- wkly wge, manufacturing <br/>\n",
    "21 wfed\t- wkly wge, fed employees <br/>\n",
    "22 wsta\t- wkly wge, state employees <br/>\n",
    "23 wloc\t- wkly wge, local gov emps <br/>\n",
    "\n",
    "**Variables reflecting criminal justice system**\n",
    "\n",
    "4 prbarr - 'probability' of arrest <br/>\n",
    "5 prbconv - 'probability' of conviction <br/>\n",
    "6 prbpris - 'probability' of prison sentence <br/>\n",
    "7 avgsen - avg. sentence, days <br/>\n",
    "8 polpc - police per capita <br/>\n",
    "24 mix - offense mix: face-to-face/other <br/>\n",
    "\n",
    "There is a third class of variables that represents the demographic characteristics of the data. We expect some of these variables to have a causal effect on crime rate (say pctymle or pctmin80), but others to not intrinsically have causal effects on crime rate (say west, central, county).\n",
    "\n",
    "These variables can also possibly influence the \"labor market\" and \"criminal justice system\" variables:<br/>\n",
    "\n",
    "**Variables reflecting demographic characteristics**\n",
    "\n",
    "1 county - county identifier <br/>\n",
    "9 density - people per sq. mile <br/>\n",
    "11 west - =1 if in western N.C. <br/>\n",
    "12 central - =1 if in central N.C. <br/>\n",
    "13 urban - =1 if in SMSA <br/>\n",
    "14 pctmin80 - perc. minority, 1980 <br/>\n",
    "25 pctymle - percent young male <br/>\n",
    "\n",
    "## 2. Research Question\n",
    "\n",
    "We are interested in understanding the relationship of crime that may be caused by these 3 classes of variables (or their interactions). We are looking to see if any one class of variables is dominant in deciding crime rate in the area. Based on the variables we do identify, there may be different sets of implications for the local government from a policy perspective. For example, if we determine \"criminal justice\" variables are primarily responsible for crime rate, then our recommendations may be to change certain pre and post conviction policies to curb crime. If, on the other hand the \"labor market\" variables are primarily causing crime, that may prompt government response to create more jobs in a certain industry, for example. Its also possible that more than 1 class of variables may be at play here.  \n",
    "\n",
    "## 3. Operationalization of Model Specification\n",
    "\n",
    "Our chosen target variable is \"crmrate\", and we're trying to understand what affects this variable (or a transform of this variable).\n",
    "\n",
    "Note that we are choosing crime rate as our target variable with the intention to predict crime rate from the data. This is consistent with previous research that has been done\n",
    "\n",
    "https://www.amherst.edu/media/view/121570/original/CornwellTrumbullCrime%2BElasticities.pdf\n",
    "\n",
    "We could have argued to choose prbarr, prbconv, or prbpris as our target variables and chosen crmrate as our predictor. This is because we **CANNOT assume the direction of causality between crime rate and  eg. probability of getting arrested (prbarr)**. We can argue that an increased crime rate causes an increase in probability of arrests, just as well as arguing that prbarr causes crime rate. For now, we will choose some transformation of crime rate as our target variable.\n",
    "\n",
    "For independent variables, we will do a thorough EDA on all classes of variables to understand which variables to include in the model. We will also consider certain interaction variables to create intuitive metrics that may inform crime."
   ]
  },
  {
   "cell_type": "markdown",
   "metadata": {},
   "source": [
    "## 4. Data Loading and Cleaning"
   ]
  },
  {
   "cell_type": "code",
   "execution_count": 5,
   "metadata": {},
   "outputs": [
    {
     "name": "stderr",
     "output_type": "stream",
     "text": [
      "Warning message:\n",
      "\"package 'dplyr' is in use and will not be installed\"Warning message:\n",
      "\"package 'car' is in use and will not be installed\"Warning message:\n",
      "\"package 'lmtest' is in use and will not be installed\"Warning message:\n",
      "\"package 'sandwich' is in use and will not be installed\"Warning message:\n",
      "\"package 'corrplot' is in use and will not be installed\"Warning message:\n",
      "\"package 'stargazer' is in use and will not be installed\"Warning message:\n",
      "\"package 'curl' is in use and will not be installed\"Warning message:\n",
      "\"package 'data.table' is in use and will not be installed\"Warning message:\n",
      "\"package 'haven' is in use and will not be installed\"Warning message:\n",
      "\"package 'readxl' is in use and will not be installed\"Warning message:\n",
      "\"package 'ggplot2' is in use and will not be installed\"Warning message:\n",
      "\"package 'corrplot' is in use and will not be installed\"Warning message:\n",
      "\"package 'GGally' is in use and will not be installed\""
     ]
    }
   ],
   "source": [
    "install.packages(\"dplyr\")\n",
    "library(dplyr)\n",
    "install.packages(\"car\")\n",
    "library(car)\n",
    "install.packages(\"lmtest\")\n",
    "library(lmtest)\n",
    "install.packages(\"sandwich\")\n",
    "library(sandwich)\n",
    "install.packages(\"corrplot\")\n",
    "library(corrplot)\n",
    "install.packages(\"stargazer\")\n",
    "library(stargazer)\n",
    "install.packages(\"curl\")\n",
    "library(curl)\n",
    "install.packages(\"data.table\")\n",
    "library(data.table)\n",
    "install.packages(\"haven\")\n",
    "library(haven)\n",
    "install.packages(\"readxl\")\n",
    "library(readxl)\n",
    "install.packages(\"ggplot2\")\n",
    "library(ggplot2)\n",
    "install.packages(\"corrplot\")\n",
    "library(corrplot)\n",
    "install.packages(\"GGally\")\n",
    "library(GGally)\n",
    "# set standard height and width for images displayed\n",
    "options(repr.plot.width=5, repr.plot.height=5)\n"
   ]
  },
  {
   "cell_type": "code",
   "execution_count": 2,
   "metadata": {},
   "outputs": [],
   "source": [
    "get_data = function() {\n",
    "    wd = getwd()\n",
    "    return (read.csv(paste(wd, \"/\", \"crime_v2.csv\", sep=\"\")))    \n",
    "}"
   ]
  },
  {
   "cell_type": "code",
   "execution_count": 3,
   "metadata": {},
   "outputs": [],
   "source": [
    "data = get_data()\n",
    "# head(data)"
   ]
  },
  {
   "cell_type": "code",
   "execution_count": 4,
   "metadata": {},
   "outputs": [
    {
     "data": {
      "text/html": [
       "'integer, integer, numeric, numeric, factor, numeric, numeric, numeric, numeric, numeric, integer, integer, integer, numeric, numeric, numeric, numeric, numeric, numeric, numeric, numeric, numeric, numeric, numeric, numeric'"
      ],
      "text/latex": [
       "'integer, integer, numeric, numeric, factor, numeric, numeric, numeric, numeric, numeric, integer, integer, integer, numeric, numeric, numeric, numeric, numeric, numeric, numeric, numeric, numeric, numeric, numeric, numeric'"
      ],
      "text/markdown": [
       "'integer, integer, numeric, numeric, factor, numeric, numeric, numeric, numeric, numeric, integer, integer, integer, numeric, numeric, numeric, numeric, numeric, numeric, numeric, numeric, numeric, numeric, numeric, numeric'"
      ],
      "text/plain": [
       "[1] \"integer, integer, numeric, numeric, factor, numeric, numeric, numeric, numeric, numeric, integer, integer, integer, numeric, numeric, numeric, numeric, numeric, numeric, numeric, numeric, numeric, numeric, numeric, numeric\""
      ]
     },
     "metadata": {},
     "output_type": "display_data"
    }
   ],
   "source": [
    "toString(sapply(data, class))"
   ]
  },
  {
   "cell_type": "markdown",
   "metadata": {},
   "source": [
    "#### We notice there is a factor column for prbconv, we convert this to numeric, as has been done with prbarr and prbpris. We also observe that there are few missing values for prbconv. These will be removed later"
   ]
  },
  {
   "cell_type": "code",
   "execution_count": 6,
   "metadata": {},
   "outputs": [
    {
     "name": "stderr",
     "output_type": "stream",
     "text": [
      "Warning message in eval(expr, envir, enclos):\n",
      "\"NAs introduced by coercion\""
     ]
    }
   ],
   "source": [
    "data$prbconv = as.numeric(as.character(data$prbconv))"
   ]
  },
  {
   "cell_type": "markdown",
   "metadata": {},
   "source": [
    "Notice that the 6 rows of NA values above are coming because prbconv is NA in those 6 rows"
   ]
  },
  {
   "cell_type": "code",
   "execution_count": 7,
   "metadata": {},
   "outputs": [],
   "source": [
    "# we observe all values have NA in them\n",
    "# remove data where there are NA in rows\n",
    "data = data[complete.cases(data), ]"
   ]
  },
  {
   "cell_type": "code",
   "execution_count": 8,
   "metadata": {},
   "outputs": [
    {
     "data": {
      "text/html": [
       "<style>\n",
       ".list-inline {list-style: none; margin:0; padding: 0}\n",
       ".list-inline>li {display: inline-block}\n",
       ".list-inline>li:not(:last-child)::after {content: \"\\00b7\"; padding: 0 .5ex}\n",
       "</style>\n",
       "<ol class=list-inline><li>91</li><li>25</li></ol>\n"
      ],
      "text/latex": [
       "\\begin{enumerate*}\n",
       "\\item 91\n",
       "\\item 25\n",
       "\\end{enumerate*}\n"
      ],
      "text/markdown": [
       "1. 91\n",
       "2. 25\n",
       "\n",
       "\n"
      ],
      "text/plain": [
       "[1] 91 25"
      ]
     },
     "metadata": {},
     "output_type": "display_data"
    }
   ],
   "source": [
    "dim(data)"
   ]
  },
  {
   "cell_type": "markdown",
   "metadata": {},
   "source": [
    "We observe we have removed the 6 rows and now we have 91 rows."
   ]
  },
  {
   "cell_type": "markdown",
   "metadata": {},
   "source": [
    "### Exploratory Data Analysis"
   ]
  },
  {
   "cell_type": "markdown",
   "metadata": {},
   "source": [
    "### EDA Target Variable"
   ]
  },
  {
   "cell_type": "code",
   "execution_count": 9,
   "metadata": {},
   "outputs": [
    {
     "data": {
      "text/plain": [
       "    Min.  1st Qu.   Median     Mean  3rd Qu.     Max. \n",
       "0.005533 0.020927 0.029986 0.033400 0.039642 0.098966 "
      ]
     },
     "metadata": {},
     "output_type": "display_data"
    },
    {
     "data": {
      "image/png": "[encoded data removed]",
      "text/plain": [
       "Plot with title \"Histogram of crime rate\""
      ]
     },
     "metadata": {},
     "output_type": "display_data"
    },
    {
     "data": {
      "image/png": "[encoded data removed]",
      "text/plain": [
       "Plot with title \"Histogram of crime rate (log)\""
      ]
     },
     "metadata": {},
     "output_type": "display_data"
    }
   ],
   "source": [
    "summary(data$crmrte)\n",
    "hist(data$crmrte, breaks=100, main = \"Histogram of crime rate\", xlab = \"Crime Rate\", col = \"lightblue\", border = \"black\")\n",
    "hist(log10(data$crmrte), breaks=100, main = \"Histogram of crime rate (log)\", xlab = \"Crime Rate (log)\", col = \"lightblue\", border = \"black\")"
   ]
  },
  {
   "cell_type": "markdown",
   "metadata": {},
   "source": [
    "#### Note that if we take a log version of the crime rate, we get a nice normally distributed curve. Hence, we will consider our target variable to be log10(crmrte) "
   ]
  },
  {
   "cell_type": "code",
   "execution_count": 10,
   "metadata": {},
   "outputs": [],
   "source": [
    "data$y = log10(data$crmrte)"
   ]
  },
  {
   "cell_type": "markdown",
   "metadata": {},
   "source": [
    "### EDA Geographical Variables (Demographic)"
   ]
  },
  {
   "cell_type": "markdown",
   "metadata": {},
   "source": [
    "**One thing to consider would be to consider the effects of geography on crime rate.**\n",
    "\n",
    "There are 3 variables which help us categorize geography - west, central and urban. These are all dummy variables that represent what region characteristics the data point has. Hence, one variable of interest could be an interaction variable: \n",
    "\n",
    "#### geo = west  x  central  x  urban\n",
    "\n",
    "Note that because we include this new interaction variable, we have to include all lower order interactions as well.\n"
   ]
  },
  {
   "cell_type": "code",
   "execution_count": 11,
   "metadata": {},
   "outputs": [],
   "source": [
    "data$geo = data$west * data$central * data$urban\n",
    "data$west_central = data$west * data$central\n",
    "data$west_urban = data$west * data$urban\n",
    "data$central_urban = data$central * data$urban\n",
    "\n",
    "# also include a variable to capture non urban, non west, non central region (west=0, central=0, urban=0)\n",
    "geo_arr = data$west + data$central + data$urban\n",
    "# hist(geo_arr, , breaks=100, main = \"Histogram of Urban, Central, West Combo\", xlab = \"Sum(Urban, West, Central)\", col = \"lightblue\", border = \"black\")\n",
    "# notice there are over 30 counties that are non urban, non west, non central\n",
    "data$non_urban_west_central = ifelse(geo_arr >= 1, 0, 1)"
   ]
  },
  {
   "cell_type": "code",
   "execution_count": 12,
   "metadata": {},
   "outputs": [],
   "source": [
    "# plot(data$urban, data$density, main = \"Urban vs Population Density\", xlab = \"Urban\", ylab = \"Population Density\" )"
   ]
  },
  {
   "cell_type": "markdown",
   "metadata": {},
   "source": [
    "We don't have a hypothesis around geography, but one can make an argument that urban areas are more susceptible for crime, given that they may be more densely populated.\n",
    "\n",
    "Also, we notice that there are no regions that are urban, west and central (see graph above for sum(urban, west, central)). There are also many areas (over 30 counties) that are neither urban, nor west nor central. This gives a basic idea of geographical characteristics of the region"
   ]
  },
  {
   "cell_type": "code",
   "execution_count": 13,
   "metadata": {},
   "outputs": [
    {
     "data": {
      "text/html": [
       "'Urban: 8'"
      ],
      "text/latex": [
       "'Urban: 8'"
      ],
      "text/markdown": [
       "'Urban: 8'"
      ],
      "text/plain": [
       "[1] \"Urban: 8\""
      ]
     },
     "metadata": {},
     "output_type": "display_data"
    },
    {
     "data": {
      "text/html": [
       "'West: 23'"
      ],
      "text/latex": [
       "'West: 23'"
      ],
      "text/markdown": [
       "'West: 23'"
      ],
      "text/plain": [
       "[1] \"West: 23\""
      ]
     },
     "metadata": {},
     "output_type": "display_data"
    },
    {
     "data": {
      "text/html": [
       "'Central: 34'"
      ],
      "text/latex": [
       "'Central: 34'"
      ],
      "text/markdown": [
       "'Central: 34'"
      ],
      "text/plain": [
       "[1] \"Central: 34\""
      ]
     },
     "metadata": {},
     "output_type": "display_data"
    },
    {
     "data": {
      "text/html": [
       "'Central + West: 1'"
      ],
      "text/latex": [
       "'Central + West: 1'"
      ],
      "text/markdown": [
       "'Central + West: 1'"
      ],
      "text/plain": [
       "[1] \"Central + West: 1\""
      ]
     },
     "metadata": {},
     "output_type": "display_data"
    },
    {
     "data": {
      "text/html": [
       "'Central + Urban: 5'"
      ],
      "text/latex": [
       "'Central + Urban: 5'"
      ],
      "text/markdown": [
       "'Central + Urban: 5'"
      ],
      "text/plain": [
       "[1] \"Central + Urban: 5\""
      ]
     },
     "metadata": {},
     "output_type": "display_data"
    },
    {
     "data": {
      "text/html": [
       "'Urban + West: 1'"
      ],
      "text/latex": [
       "'Urban + West: 1'"
      ],
      "text/markdown": [
       "'Urban + West: 1'"
      ],
      "text/plain": [
       "[1] \"Urban + West: 1\""
      ]
     },
     "metadata": {},
     "output_type": "display_data"
    },
    {
     "data": {
      "text/html": [
       "'Urban + West + Central: 0'"
      ],
      "text/latex": [
       "'Urban + West + Central: 0'"
      ],
      "text/markdown": [
       "'Urban + West + Central: 0'"
      ],
      "text/plain": [
       "[1] \"Urban + West + Central: 0\""
      ]
     },
     "metadata": {},
     "output_type": "display_data"
    },
    {
     "data": {
      "text/html": [
       "'NON Urban + NON West + NON Central: 33'"
      ],
      "text/latex": [
       "'NON Urban + NON West + NON Central: 33'"
      ],
      "text/markdown": [
       "'NON Urban + NON West + NON Central: 33'"
      ],
      "text/plain": [
       "[1] \"NON Urban + NON West + NON Central: 33\""
      ]
     },
     "metadata": {},
     "output_type": "display_data"
    }
   ],
   "source": [
    "# Analysis of interaction term \"geo\"\n",
    "paste(\"Urban:\", sum(data$urban))\n",
    "paste(\"West:\", sum(data$west))\n",
    "paste(\"Central:\", sum(data$central))\n",
    "\n",
    "paste(\"Central + West:\", sum(data$central * data$west))\n",
    "paste(\"Central + Urban:\", sum(data$central * data$urban))\n",
    "paste(\"Urban + West:\", sum(data$urban * data$west))\n",
    "\n",
    "paste(\"Urban + West + Central:\", sum(data$urban * data$west * data$central))\n",
    "paste(\"NON Urban + NON West + NON Central:\", sum(data$non_urban_west_central))"
   ]
  },
  {
   "cell_type": "markdown",
   "metadata": {},
   "source": [
    "**For now, we will include the above variables in our model to observe if there are any special effects on crime based on geo**"
   ]
  },
  {
   "cell_type": "markdown",
   "metadata": {},
   "source": [
    "### EDA Population Variables (Demographic)"
   ]
  },
  {
   "cell_type": "markdown",
   "metadata": {},
   "source": [
    "**We decide to add 2 interaction variables:**\n",
    "1. density x pctymle - this gives the density of young males in the county (density_ymle)\n",
    "2. density x pctmin80 - this gives the density of minority in the county (density_min80)\n",
    "\n",
    "These seem to be a good representation of the density of a population in the county, which is a more intuitive way to think about demography (people / unit area), rather than thinking in percentage terms only. Hence, we will add these variables into our discussion as well.\n",
    "\n",
    "**Note that this assumes that the percentage variables are uniformly distributed over the county and that density x pct will give the density of the population of interest in the county.**\n",
    "\n",
    "Also note that pctymle is already given in fractional terms (between 0 and 1), whereas pctmin80 is given in percentage (between 0 and 100). For sake of uniformity, we will convert pctmin80 to 0-1 scale"
   ]
  },
  {
   "cell_type": "code",
   "execution_count": 14,
   "metadata": {},
   "outputs": [],
   "source": [
    "data$pctmin80 = data$pctmin80 * 1.0 / 100\n",
    "# summary(data$pctmin80)"
   ]
  },
  {
   "cell_type": "code",
   "execution_count": 15,
   "metadata": {},
   "outputs": [],
   "source": [
    "data$density_min80 = data$density * data$pctmin80 \n",
    "data$density_ymle = data$density * data$pctymle"
   ]
  },
  {
   "cell_type": "code",
   "execution_count": 16,
   "metadata": {},
   "outputs": [
    {
     "data": {
      "text/plain": [
       "   Min. 1st Qu.  Median    Mean 3rd Qu.    Max. \n",
       "0.00002 0.54741 0.96226 1.42884 1.56824 8.82765 "
      ]
     },
     "metadata": {},
     "output_type": "display_data"
    },
    {
     "data": {
      "image/png": "[encoded data removed]",
      "text/plain": [
       "Plot with title \"Histogram of Density (log)\""
      ]
     },
     "metadata": {},
     "output_type": "display_data"
    }
   ],
   "source": [
    "summary(data$density)\n",
    "# hist(data$density, , breaks=100, main = \"Histogram of Density\", xlab = \"Density\", col = \"lightblue\", border = \"black\")\n",
    "hist(log10(data$density), , breaks=100, main = \"Histogram of Density (log)\", xlab = \"Density (log)\", col = \"lightblue\", border = \"black\")\n"
   ]
  },
  {
   "cell_type": "markdown",
   "metadata": {},
   "source": [
    "Taking the log(Density) makes the data much more normal and is a better choice for our density variable. \n",
    "\n",
    "Doing a histogram of pctmin80 and pctymle (or their log transformations) - didnt reveal any interesting normal distributions. We notice that the values for the percentages lie within expected range (0 to 1). So we will continue to explore further.\n",
    "\n",
    "Next lets do a correlation analysis on all the variables of population identified so far."
   ]
  },
  {
   "cell_type": "code",
   "execution_count": 17,
   "metadata": {},
   "outputs": [],
   "source": [
    "data$log10_density = log10(data$density)"
   ]
  },
  {
   "cell_type": "code",
   "execution_count": 18,
   "metadata": {},
   "outputs": [
    {
     "data": {
      "image/png": "[encoded data removed]",
      "text/plain": [
       "plot without title"
      ]
     },
     "metadata": {},
     "output_type": "display_data"
    }
   ],
   "source": [
    "ggcorr(data[, c(\"y\",\"log10_density\", \"pctmin80\", \"pctymle\", \"density_min80\", \"density_ymle\")], size = 3, label=TRUE)"
   ]
  },
  {
   "cell_type": "markdown",
   "metadata": {},
   "source": [
    "#### We observe strong positive correlation between several population variables\n",
    "\n",
    "Here y is log10(crmrte)\n",
    "\n",
    "1. High correlation between crime rate and density_ymle\n",
    "2. High correlation between crime rate and density_min80\n",
    "3. High correlation between crime rate and log10_density\n",
    "\n",
    "We will include these variables in our specifications with the following expected causal effects:\n",
    "1. If density is high, then crime rate is expected to be high. This is simply because a larger set of people in one area is bound to create more conflict and crime in the community.\n",
    "2. If percentage of young males are high in a region, we expect more crime. This is because younger people are easier to influence and may engage more in petty crimes. Although this is not explicitly shown with large correlation above, its worth investigating further.\n",
    "\n",
    "There may be a concern including both density_min80 and density_ymle because they have high correlation (0.88) - leading to possible multicollinearity. This also shows that the density of younger male populations is highly correlated across counties with density of minority populations. Keep in mind, pctymle and pctmin80 are hardly correlated with each other. But their density equivalents (density_min80 and density_ymle) are highly correlated, which is an interesting observation. This could be because of the underlying common density variable in the interaction. For now, we will keep density_ymale in our model, as a measure of how many young males per unit area exist in each county. We will NOT include density_min80 because we are concerned about multicollinearity. To represent the minority percentage variable, we keep pctmin80 in the model.\n",
    "\n",
    "**For now, we will include \"log10(density)\", \"pctmin80\" and \"density_ymle\" variables in the model to observe their effects**"
   ]
  },
  {
   "cell_type": "markdown",
   "metadata": {},
   "source": [
    "### EDA Criminal Justice Variables"
   ]
  },
  {
   "cell_type": "markdown",
   "metadata": {},
   "source": [
    "It is worthwhile to capture any relationships between these variables: prbarr, prbconv, prbpris.\n",
    "\n",
    "This will help us determine if there is any multicollinearity between these variables. We would suspect these to be correlated"
   ]
  },
  {
   "cell_type": "code",
   "execution_count": 19,
   "metadata": {},
   "outputs": [],
   "source": [
    "# summary(data$prbpris)\n",
    "# hist((data$prbpris), breaks=100, main = \"Histogram of prbpris\", xlab = \"prbpris\", col = \"lightblue\", border = \"black\")"
   ]
  },
  {
   "cell_type": "code",
   "execution_count": 20,
   "metadata": {},
   "outputs": [],
   "source": [
    "# summary(data$prbarr)\n",
    "# hist((data$prbarr), breaks=100, main = \"Histogram of prbarr\", xlab = \"prbarr\", col = \"lightblue\", border = \"black\")"
   ]
  },
  {
   "cell_type": "markdown",
   "metadata": {},
   "source": [
    "#### Notice that there is an outlier row with a probability higher than 1, which is not possible. We will scale our data to make probabilities <=1"
   ]
  },
  {
   "cell_type": "code",
   "execution_count": 21,
   "metadata": {},
   "outputs": [],
   "source": [
    "data$prbarr = data$prbarr / max(data$prbarr)"
   ]
  },
  {
   "cell_type": "code",
   "execution_count": 22,
   "metadata": {},
   "outputs": [],
   "source": [
    "# summary(data$prbconv)\n",
    "# hist((data$prbconv), breaks=100, main = \"Histogram of prbconv\", xlab = \"prbconv\", col = \"lightblue\", border = \"black\")"
   ]
  },
  {
   "cell_type": "markdown",
   "metadata": {},
   "source": [
    "#### Notice that there are a few rows where prbconv is > 1 even though it is supposed to be a probability. We will scale our data to make probabilities <=1"
   ]
  },
  {
   "cell_type": "code",
   "execution_count": 23,
   "metadata": {},
   "outputs": [],
   "source": [
    "data$prbconv = data$prbconv / max(data$prbconv)"
   ]
  },
  {
   "cell_type": "markdown",
   "metadata": {},
   "source": [
    "Its important to note that log(data$prbconv) results in a slightly more normal representation of the prbconv variable, however, we lose interpretation of the variable.\n",
    "\n",
    "We are not sure what log(prbconv) would mean in terms of explanability, so we DO NOT include it in the model."
   ]
  },
  {
   "cell_type": "markdown",
   "metadata": {},
   "source": [
    "#### Now that we have the data in the right format, we find correlation between the 3 probabilities, along with average sentence and police per capita"
   ]
  },
  {
   "cell_type": "code",
   "execution_count": 24,
   "metadata": {},
   "outputs": [
    {
     "data": {
      "image/png": "[encoded data removed]",
      "text/plain": [
       "plot without title"
      ]
     },
     "metadata": {},
     "output_type": "display_data"
    }
   ],
   "source": [
    "ggcorr(data[, c(\"y\", \"prbarr\", \"prbconv\", \"prbpris\", \"avgsen\", \"polpc\")], size = 3, label=TRUE)"
   ]
  },
  {
   "cell_type": "markdown",
   "metadata": {},
   "source": [
    "**Correlation Analysis**\n",
    "\n",
    "1. Interestingly, there is little correlation between the probability variables\n",
    "2. There is positive correlation between polpc and avgsen\n",
    "3. There is positive correlation between polpc and prbarr\n",
    "4. There is negative correlation between crime rate and (prbarr, prbconv)\n",
    "\n",
    "**For now, we will consider all 3 probability variables in the model**\n",
    "\n",
    "Its interesting to note that prbarr and prbconv influence crime rate, but prbpris has little to do with crime rate. This implies that \"before the criminal is imprisoned\" has high associativity to crime rate.\n",
    "\n",
    "We expect that as any of probabilities of arrest or conviction or prison sentence go up, crime rate should come down (people would be less risk taking to commit crime if they knew they would be likely arrested / convicted / imprisoned). "
   ]
  },
  {
   "cell_type": "code",
   "execution_count": 25,
   "metadata": {},
   "outputs": [],
   "source": [
    "# Finally there's nothing special about the avgsen and polpc variables.\n",
    "\n",
    "# They have values within range and don't display special distributions\n",
    "# summary(data$avgsen)\n",
    "# hist(data$avgsen, breaks=100, main = \"Histogram of avgsen\", xlab = \"avgsen\", col = \"lightblue\", border = \"black\")\n",
    "\n",
    "# Taking log10(avgsen) makes the histogram look slightly more normal, but we will use avgsen as is in the model for now.\n",
    "# hist(log10(data$avgsen), breaks=100, main = \"Histogram of avgsen\", xlab = \"avgsen\", col = \"lightblue\", border = \"black\")\n",
    "\n",
    "# summary(data$polpc)\n",
    "# hist(data$polpc, breaks=100, main = \"Histogram of polpc\", xlab = \"polpc\", col = \"lightblue\", border = \"black\")"
   ]
  },
  {
   "cell_type": "markdown",
   "metadata": {},
   "source": [
    "**There seem to be a few suspicious far right outliers for police per capita and average sentence days**\n",
    "\n",
    "We will deal with them as appropriate when evaluating the cook's distance for potential points of influence.\n",
    "\n",
    "We cannot make a judgement for the causal effect of polpc (police per capita). If this increases, we can make an argument that crimes may go down as there is \"more policing\" per citizen. We can also say, if polpc goes up, then crime rate goes up (police can find trivial reasons to arrest citizens - overpolicing).\n",
    "\n",
    "We can however, likely say, if avgsen (average sentence in days) goes up, then convicts may become may learn their lessons and not commit crimes the next time around, so crime rate decreases.\n",
    "\n",
    "**For now, we will include both variables, as is in the model specification**"
   ]
  },
  {
   "cell_type": "markdown",
   "metadata": {},
   "source": [
    "### EDA Labor Market Variables"
   ]
  },
  {
   "cell_type": "code",
   "execution_count": 26,
   "metadata": {},
   "outputs": [
    {
     "data": {
      "image/png": "[encoded data removed]",
      "text/plain": [
       "plot without title"
      ]
     },
     "metadata": {},
     "output_type": "display_data"
    }
   ],
   "source": [
    "ggcorr(data[, c(\"y\", \"taxpc\", \"wcon\", \"wtuc\", \"wtrd\", \"wfir\", \"wser\", \"wmfg\", \"wfed\", \"wsta\", \"wloc\")], size = 3, label=TRUE)"
   ]
  },
  {
   "cell_type": "markdown",
   "metadata": {},
   "source": [
    "As expected, due to labor and market interdependencies, a lot of the wages of workers in the city are correlated with others. Note that wages are positively correlated across all industries.\n",
    "\n",
    "Note that while there is strong positive correlation (> 0.4), there is no perfect multicollinearity amongst these variables\n",
    "\n",
    "Tax revenues are hardly correlated with any of the wages, this is a little surprising! Although we do see weak correlation between taxes and certain industries.\n",
    "\n",
    "Crime rate is positively correlated taxes, as well as few other industries (wcon, wfrd, wfed)\n",
    "\n",
    "From this article: https://www.amherst.edu/media/view/121570/original/CornwellTrumbullCrime%2BElasticities.pdf\n",
    "\n",
    "We find that these variables of wage represent **average** weekly wages of the industry\n",
    "\n",
    "One variable of interest could be the total weekly wages:\n",
    "\n",
    "**wtotal = wcon + wtuc + wtrd + wfir + wser + wmfg + wfed + wsta + wloc**\n",
    "\n",
    "The argument is that if the total average weekly wages are high for a county, then the crime rate will be low (as the county is prosperous, so robberies and money related crimes would be fewer)\n",
    "\n",
    "One may wonder if its valid to add wages and include this in the model. There are a few arguments for doing this:\n",
    "1. Adding all wages shouldnt affect the regression because its the same effect as a linear combination of the betas of the individual industrial wages. In other words, the coefficient of wtotal is an aggregated version of the effect of each of the coefficients of the wage variables.\n",
    "2. Adding all wages gives an idea of the overall economic condition of the county, which would affect crime rate of the county on aggregate\n",
    "3. **Even if wages in 1 county were not distributed evenly amongst sectors (on average), but the total county is overall wealthy, that may be an argument to influence the policy makers to tax the rich!** Higher wage workers can be taxed more to provide services and benefit to the poorer wage workers in the county. If poor wage earners are now taken care of with the wealth and services from the government, there may be lesser incentive for crime in the county. This scenario is admittedly a little imaginative, but it is a plausible policy suggestion that could be put forward if wtotal is a significant variable in the model! \n",
    "\n",
    "There are a few caveats with this variable though:\n",
    "1. Total average weekly wage in a county, while succinct, may be a controversial variable to include because individual wages are aggregated into a single number and may be hiding the effects of each individual industry. For example, consider wcon, wfir and wmfg variables. If in county1, the values are 100, 200, 300 and in county2, the values are 1, 2, 597. wtotal is the same for both counties, however, the breakdown shows that the workforce in county2 is on average poorer than county1, and thus susceptible to crime. \n"
   ]
  },
  {
   "cell_type": "code",
   "execution_count": 27,
   "metadata": {},
   "outputs": [],
   "source": [
    "data$wtotal = data$wcon + data$wtuc + data$wtrd + data$wfir + data$wser + data$wmfg + data$wfed + data$wsta + data$wloc"
   ]
  },
  {
   "cell_type": "code",
   "execution_count": 28,
   "metadata": {},
   "outputs": [
    {
     "data": {
      "text/html": [
       "0.311251670277"
      ],
      "text/latex": [
       "0.311251670277"
      ],
      "text/markdown": [
       "0.311251670277"
      ],
      "text/plain": [
       "[1] 0.3112517"
      ]
     },
     "metadata": {},
     "output_type": "display_data"
    },
    {
     "data": {
      "image/png": "[encoded data removed]",
      "text/plain": [
       "Plot with title \"Total Weekly Wages vs log10(crmrte)\""
      ]
     },
     "metadata": {},
     "output_type": "display_data"
    }
   ],
   "source": [
    "plot(data$wtotal, data$y, main = \"Total Weekly Wages vs log10(crmrte)\", xlab = \"Total County Wages\", ylab = \"log10(crmrte)\")\n",
    "cor(data$wtotal, data$y)"
   ]
  },
  {
   "cell_type": "markdown",
   "metadata": {},
   "source": [
    "Total weekly wages is not unreasonably skewed in distribution (except for 5 outliers). More or less, each wage variable follows a normal distribution (as expected for population wages). **Hence, it is reasonable to use wtotal in our model.**"
   ]
  },
  {
   "cell_type": "markdown",
   "metadata": {},
   "source": [
    "## 5. Model Building"
   ]
  },
  {
   "cell_type": "markdown",
   "metadata": {},
   "source": [
    "Our target variable is log10(crmrate) - which is a scaled version of the log of crime rate. This gives us percentage increase of crime rate"
   ]
  },
  {
   "cell_type": "markdown",
   "metadata": {},
   "source": [
    "We will build 3 model specifications that consist of one or more **classes** of variables:\n",
    "\n",
    "1. Model1: Criminal Justice\n",
    "2. Model2: Select variables our team thinks are important causes\n",
    "3. Model3: Maximalist approach model with backward elimination / forward selection \n",
    "\n",
    "**We will use Adjusted R-Squared, AIC, BIC for criteria of model fit**"
   ]
  },
  {
   "cell_type": "code",
   "execution_count": 29,
   "metadata": {},
   "outputs": [
    {
     "data": {
      "text/html": [
       "<style>\n",
       ".list-inline {list-style: none; margin:0; padding: 0}\n",
       ".list-inline>li {display: inline-block}\n",
       ".list-inline>li:not(:last-child)::after {content: \"\\00b7\"; padding: 0 .5ex}\n",
       "</style>\n",
       "<ol class=list-inline><li>91</li><li>35</li></ol>\n"
      ],
      "text/latex": [
       "\\begin{enumerate*}\n",
       "\\item 91\n",
       "\\item 35\n",
       "\\end{enumerate*}\n"
      ],
      "text/markdown": [
       "1. 91\n",
       "2. 35\n",
       "\n",
       "\n"
      ],
      "text/plain": [
       "[1] 91 35"
      ]
     },
     "metadata": {},
     "output_type": "display_data"
    }
   ],
   "source": [
    "dim(data)"
   ]
  },
  {
   "cell_type": "markdown",
   "metadata": {},
   "source": [
    "### Demographic Variables Considered"
   ]
  },
  {
   "cell_type": "markdown",
   "metadata": {},
   "source": [
    "**Geo variables**\n",
    "\n",
    "1. geo\n",
    "2. west_central\n",
    "3. west_urban\n",
    "4. central_urban\n",
    "5. central\n",
    "6. west\n",
    "7. urban\n",
    "8. non_urban_west_central\n",
    "\n",
    "**Population variables**\n",
    "\n",
    "9. log10_density\n",
    "10. density_ymle (possibly, pctymle)\n",
    "11. pctmin80"
   ]
  },
  {
   "cell_type": "markdown",
   "metadata": {},
   "source": [
    "### Criminal Justice Variables Considered"
   ]
  },
  {
   "cell_type": "markdown",
   "metadata": {},
   "source": [
    "All variables listed in the criminal justice category are considered without transformation\n",
    "1. prbarr\n",
    "2. prbconv\n",
    "3. prbpris\n",
    "4. avgsen\n",
    "5. polpc"
   ]
  },
  {
   "cell_type": "markdown",
   "metadata": {},
   "source": [
    "### Labor Market Variables Considered"
   ]
  },
  {
   "cell_type": "markdown",
   "metadata": {},
   "source": [
    "1. wtotal\n",
    "2. taxpc\n",
    "3. Optionally, each industy's wage"
   ]
  },
  {
   "cell_type": "markdown",
   "metadata": {},
   "source": [
    "Note that we have already run our models before and determined that a few rows introduce very strong outlier tendencies, and have very strong influence (large cook's distance). **We will eliminate these rows from consideration** because these rows have caused coefficients that were originally significant to become insignificant in on our previous model runs."
   ]
  },
  {
   "cell_type": "code",
   "execution_count": 30,
   "metadata": {},
   "outputs": [
    {
     "data": {
      "text/html": [
       "<table>\n",
       "<caption>A data.frame: 1 × 35</caption>\n",
       "<thead>\n",
       "\t<tr><th></th><th scope=col>county</th><th scope=col>year</th><th scope=col>crmrte</th><th scope=col>prbarr</th><th scope=col>prbconv</th><th scope=col>prbpris</th><th scope=col>avgsen</th><th scope=col>polpc</th><th scope=col>density</th><th scope=col>taxpc</th><th scope=col>...</th><th scope=col>y</th><th scope=col>geo</th><th scope=col>west_central</th><th scope=col>west_urban</th><th scope=col>central_urban</th><th scope=col>non_urban_west_central</th><th scope=col>density_min80</th><th scope=col>density_ymle</th><th scope=col>log10_density</th><th scope=col>wtotal</th></tr>\n",
       "\t<tr><th></th><th scope=col>&lt;int&gt;</th><th scope=col>&lt;int&gt;</th><th scope=col>&lt;dbl&gt;</th><th scope=col>&lt;dbl&gt;</th><th scope=col>&lt;dbl&gt;</th><th scope=col>&lt;dbl&gt;</th><th scope=col>&lt;dbl&gt;</th><th scope=col>&lt;dbl&gt;</th><th scope=col>&lt;dbl&gt;</th><th scope=col>&lt;dbl&gt;</th><th scope=col>...</th><th scope=col>&lt;dbl&gt;</th><th scope=col>&lt;int&gt;</th><th scope=col>&lt;int&gt;</th><th scope=col>&lt;int&gt;</th><th scope=col>&lt;int&gt;</th><th scope=col>&lt;dbl&gt;</th><th scope=col>&lt;dbl&gt;</th><th scope=col>&lt;dbl&gt;</th><th scope=col>&lt;dbl&gt;</th><th scope=col>&lt;dbl&gt;</th></tr>\n",
       "</thead>\n",
       "<tbody>\n",
       "\t<tr><th scope=row>79</th><td>173</td><td>87</td><td>0.0139937</td><td>0.4862317</td><td>0.154567</td><td>0.15</td><td>6.64</td><td>0.00316379</td><td>2.03422e-05</td><td>37.72702</td><td>...</td><td>-1.854067</td><td>0</td><td>0</td><td>0</td><td>0</td><td>0</td><td>5.165169e-06</td><td>1.518075e-06</td><td>-4.691602</td><td>2338.455</td></tr>\n",
       "</tbody>\n",
       "</table>\n"
      ],
      "text/latex": [
       "A data.frame: 1 × 35\n",
       "\\begin{tabular}{r|lllllllllllllllllllll}\n",
       "  & county & year & crmrte & prbarr & prbconv & prbpris & avgsen & polpc & density & taxpc & ... & y & geo & west\\_central & west\\_urban & central\\_urban & non\\_urban\\_west\\_central & density\\_min80 & density\\_ymle & log10\\_density & wtotal\\\\\n",
       "  & <int> & <int> & <dbl> & <dbl> & <dbl> & <dbl> & <dbl> & <dbl> & <dbl> & <dbl> & ... & <dbl> & <int> & <int> & <int> & <int> & <dbl> & <dbl> & <dbl> & <dbl> & <dbl>\\\\\n",
       "\\hline\n",
       "\t79 & 173 & 87 & 0.0139937 & 0.4862317 & 0.154567 & 0.15 & 6.64 & 0.00316379 & 2.03422e-05 & 37.72702 & ... & -1.854067 & 0 & 0 & 0 & 0 & 0 & 5.165169e-06 & 1.518075e-06 & -4.691602 & 2338.455\\\\\n",
       "\\end{tabular}\n"
      ],
      "text/markdown": [
       "\n",
       "A data.frame: 1 × 35\n",
       "\n",
       "| <!--/--> | county &lt;int&gt; | year &lt;int&gt; | crmrte &lt;dbl&gt; | prbarr &lt;dbl&gt; | prbconv &lt;dbl&gt; | prbpris &lt;dbl&gt; | avgsen &lt;dbl&gt; | polpc &lt;dbl&gt; | density &lt;dbl&gt; | taxpc &lt;dbl&gt; | ... ... | y &lt;dbl&gt; | geo &lt;int&gt; | west_central &lt;int&gt; | west_urban &lt;int&gt; | central_urban &lt;int&gt; | non_urban_west_central &lt;dbl&gt; | density_min80 &lt;dbl&gt; | density_ymle &lt;dbl&gt; | log10_density &lt;dbl&gt; | wtotal &lt;dbl&gt; |\n",
       "|---|---|---|---|---|---|---|---|---|---|---|---|---|---|---|---|---|---|---|---|---|---|\n",
       "| 79 | 173 | 87 | 0.0139937 | 0.4862317 | 0.154567 | 0.15 | 6.64 | 0.00316379 | 2.03422e-05 | 37.72702 | ... | -1.854067 | 0 | 0 | 0 | 0 | 0 | 5.165169e-06 | 1.518075e-06 | -4.691602 | 2338.455 |\n",
       "\n"
      ],
      "text/plain": [
       "   county year crmrte    prbarr    prbconv  prbpris avgsen polpc     \n",
       "79 173    87   0.0139937 0.4862317 0.154567 0.15    6.64   0.00316379\n",
       "   density     taxpc    ... y         geo west_central west_urban central_urban\n",
       "79 2.03422e-05 37.72702 ... -1.854067 0   0            0          0            \n",
       "   non_urban_west_central density_min80 density_ymle log10_density wtotal  \n",
       "79 0                      5.165169e-06  1.518075e-06 -4.691602     2338.455"
      ]
     },
     "metadata": {},
     "output_type": "display_data"
    },
    {
     "data": {
      "text/html": [
       "<style>\n",
       ".list-inline {list-style: none; margin:0; padding: 0}\n",
       ".list-inline>li {display: inline-block}\n",
       ".list-inline>li:not(:last-child)::after {content: \"\\00b7\"; padding: 0 .5ex}\n",
       "</style>\n",
       "<ol class=list-inline><li>91</li><li>35</li></ol>\n"
      ],
      "text/latex": [
       "\\begin{enumerate*}\n",
       "\\item 91\n",
       "\\item 35\n",
       "\\end{enumerate*}\n"
      ],
      "text/markdown": [
       "1. 91\n",
       "2. 35\n",
       "\n",
       "\n"
      ],
      "text/plain": [
       "[1] 91 35"
      ]
     },
     "metadata": {},
     "output_type": "display_data"
    }
   ],
   "source": [
    "outlier_row = 79\n",
    "data[outlier_row, ]\n",
    "dim(data)"
   ]
  },
  {
   "cell_type": "code",
   "execution_count": 31,
   "metadata": {},
   "outputs": [
    {
     "data": {
      "text/html": [
       "<style>\n",
       ".list-inline {list-style: none; margin:0; padding: 0}\n",
       ".list-inline>li {display: inline-block}\n",
       ".list-inline>li:not(:last-child)::after {content: \"\\00b7\"; padding: 0 .5ex}\n",
       "</style>\n",
       "<ol class=list-inline><li>90</li><li>35</li></ol>\n"
      ],
      "text/latex": [
       "\\begin{enumerate*}\n",
       "\\item 90\n",
       "\\item 35\n",
       "\\end{enumerate*}\n"
      ],
      "text/markdown": [
       "1. 90\n",
       "2. 35\n",
       "\n",
       "\n"
      ],
      "text/plain": [
       "[1] 90 35"
      ]
     },
     "metadata": {},
     "output_type": "display_data"
    }
   ],
   "source": [
    "data = data[-outlier_row, ]\n",
    "dim(data)"
   ]
  },
  {
   "cell_type": "code",
   "execution_count": 32,
   "metadata": {},
   "outputs": [
    {
     "data": {
      "text/html": [
       "<table>\n",
       "<caption>A data.frame: 1 × 35</caption>\n",
       "<thead>\n",
       "\t<tr><th></th><th scope=col>county</th><th scope=col>year</th><th scope=col>crmrte</th><th scope=col>prbarr</th><th scope=col>prbconv</th><th scope=col>prbpris</th><th scope=col>avgsen</th><th scope=col>polpc</th><th scope=col>density</th><th scope=col>taxpc</th><th scope=col>...</th><th scope=col>y</th><th scope=col>geo</th><th scope=col>west_central</th><th scope=col>west_urban</th><th scope=col>central_urban</th><th scope=col>non_urban_west_central</th><th scope=col>density_min80</th><th scope=col>density_ymle</th><th scope=col>log10_density</th><th scope=col>wtotal</th></tr>\n",
       "\t<tr><th></th><th scope=col>&lt;int&gt;</th><th scope=col>&lt;int&gt;</th><th scope=col>&lt;dbl&gt;</th><th scope=col>&lt;dbl&gt;</th><th scope=col>&lt;dbl&gt;</th><th scope=col>&lt;dbl&gt;</th><th scope=col>&lt;dbl&gt;</th><th scope=col>&lt;dbl&gt;</th><th scope=col>&lt;dbl&gt;</th><th scope=col>&lt;dbl&gt;</th><th scope=col>...</th><th scope=col>&lt;dbl&gt;</th><th scope=col>&lt;int&gt;</th><th scope=col>&lt;int&gt;</th><th scope=col>&lt;int&gt;</th><th scope=col>&lt;int&gt;</th><th scope=col>&lt;dbl&gt;</th><th scope=col>&lt;dbl&gt;</th><th scope=col>&lt;dbl&gt;</th><th scope=col>&lt;dbl&gt;</th><th scope=col>&lt;dbl&gt;</th></tr>\n",
       "</thead>\n",
       "<tbody>\n",
       "\t<tr><th scope=row>84</th><td>185</td><td>87</td><td>0.0108703</td><td>0.1789937</td><td>1</td><td>0.442857</td><td>5.38</td><td>0.0012221</td><td>0.3887588</td><td>40.82454</td><td>...</td><td>-1.963758</td><td>0</td><td>0</td><td>0</td><td>0</td><td>0</td><td>0.2501593</td><td>0.02724506</td><td>-0.4103198</td><td>4463.683</td></tr>\n",
       "</tbody>\n",
       "</table>\n"
      ],
      "text/latex": [
       "A data.frame: 1 × 35\n",
       "\\begin{tabular}{r|lllllllllllllllllllll}\n",
       "  & county & year & crmrte & prbarr & prbconv & prbpris & avgsen & polpc & density & taxpc & ... & y & geo & west\\_central & west\\_urban & central\\_urban & non\\_urban\\_west\\_central & density\\_min80 & density\\_ymle & log10\\_density & wtotal\\\\\n",
       "  & <int> & <int> & <dbl> & <dbl> & <dbl> & <dbl> & <dbl> & <dbl> & <dbl> & <dbl> & ... & <dbl> & <int> & <int> & <int> & <int> & <dbl> & <dbl> & <dbl> & <dbl> & <dbl>\\\\\n",
       "\\hline\n",
       "\t84 & 185 & 87 & 0.0108703 & 0.1789937 & 1 & 0.442857 & 5.38 & 0.0012221 & 0.3887588 & 40.82454 & ... & -1.963758 & 0 & 0 & 0 & 0 & 0 & 0.2501593 & 0.02724506 & -0.4103198 & 4463.683\\\\\n",
       "\\end{tabular}\n"
      ],
      "text/markdown": [
       "\n",
       "A data.frame: 1 × 35\n",
       "\n",
       "| <!--/--> | county &lt;int&gt; | year &lt;int&gt; | crmrte &lt;dbl&gt; | prbarr &lt;dbl&gt; | prbconv &lt;dbl&gt; | prbpris &lt;dbl&gt; | avgsen &lt;dbl&gt; | polpc &lt;dbl&gt; | density &lt;dbl&gt; | taxpc &lt;dbl&gt; | ... ... | y &lt;dbl&gt; | geo &lt;int&gt; | west_central &lt;int&gt; | west_urban &lt;int&gt; | central_urban &lt;int&gt; | non_urban_west_central &lt;dbl&gt; | density_min80 &lt;dbl&gt; | density_ymle &lt;dbl&gt; | log10_density &lt;dbl&gt; | wtotal &lt;dbl&gt; |\n",
       "|---|---|---|---|---|---|---|---|---|---|---|---|---|---|---|---|---|---|---|---|---|---|\n",
       "| 84 | 185 | 87 | 0.0108703 | 0.1789937 | 1 | 0.442857 | 5.38 | 0.0012221 | 0.3887588 | 40.82454 | ... | -1.963758 | 0 | 0 | 0 | 0 | 0 | 0.2501593 | 0.02724506 | -0.4103198 | 4463.683 |\n",
       "\n"
      ],
      "text/plain": [
       "   county year crmrte    prbarr    prbconv prbpris  avgsen polpc     density  \n",
       "84 185    87   0.0108703 0.1789937 1       0.442857 5.38   0.0012221 0.3887588\n",
       "   taxpc    ... y         geo west_central west_urban central_urban\n",
       "84 40.82454 ... -1.963758 0   0            0          0            \n",
       "   non_urban_west_central density_min80 density_ymle log10_density wtotal  \n",
       "84 0                      0.2501593     0.02724506   -0.4103198    4463.683"
      ]
     },
     "metadata": {},
     "output_type": "display_data"
    },
    {
     "data": {
      "text/html": [
       "<style>\n",
       ".list-inline {list-style: none; margin:0; padding: 0}\n",
       ".list-inline>li {display: inline-block}\n",
       ".list-inline>li:not(:last-child)::after {content: \"\\00b7\"; padding: 0 .5ex}\n",
       "</style>\n",
       "<ol class=list-inline><li>90</li><li>35</li></ol>\n"
      ],
      "text/latex": [
       "\\begin{enumerate*}\n",
       "\\item 90\n",
       "\\item 35\n",
       "\\end{enumerate*}\n"
      ],
      "text/markdown": [
       "1. 90\n",
       "2. 35\n",
       "\n",
       "\n"
      ],
      "text/plain": [
       "[1] 90 35"
      ]
     },
     "metadata": {},
     "output_type": "display_data"
    }
   ],
   "source": [
    "outlier_row = 83\n",
    "data[outlier_row, ]\n",
    "dim(data)"
   ]
  },
  {
   "cell_type": "code",
   "execution_count": 33,
   "metadata": {},
   "outputs": [
    {
     "data": {
      "text/html": [
       "<style>\n",
       ".list-inline {list-style: none; margin:0; padding: 0}\n",
       ".list-inline>li {display: inline-block}\n",
       ".list-inline>li:not(:last-child)::after {content: \"\\00b7\"; padding: 0 .5ex}\n",
       "</style>\n",
       "<ol class=list-inline><li>89</li><li>35</li></ol>\n"
      ],
      "text/latex": [
       "\\begin{enumerate*}\n",
       "\\item 89\n",
       "\\item 35\n",
       "\\end{enumerate*}\n"
      ],
      "text/markdown": [
       "1. 89\n",
       "2. 35\n",
       "\n",
       "\n"
      ],
      "text/plain": [
       "[1] 89 35"
      ]
     },
     "metadata": {},
     "output_type": "display_data"
    }
   ],
   "source": [
    "data = data[-outlier_row, ]\n",
    "dim(data)"
   ]
  },
  {
   "cell_type": "code",
   "execution_count": 34,
   "metadata": {},
   "outputs": [
    {
     "data": {
      "text/html": [
       "<table>\n",
       "<caption>A data.frame: 1 × 35</caption>\n",
       "<thead>\n",
       "\t<tr><th></th><th scope=col>county</th><th scope=col>year</th><th scope=col>crmrte</th><th scope=col>prbarr</th><th scope=col>prbconv</th><th scope=col>prbpris</th><th scope=col>avgsen</th><th scope=col>polpc</th><th scope=col>density</th><th scope=col>taxpc</th><th scope=col>...</th><th scope=col>y</th><th scope=col>geo</th><th scope=col>west_central</th><th scope=col>west_urban</th><th scope=col>central_urban</th><th scope=col>non_urban_west_central</th><th scope=col>density_min80</th><th scope=col>density_ymle</th><th scope=col>log10_density</th><th scope=col>wtotal</th></tr>\n",
       "\t<tr><th></th><th scope=col>&lt;int&gt;</th><th scope=col>&lt;int&gt;</th><th scope=col>&lt;dbl&gt;</th><th scope=col>&lt;dbl&gt;</th><th scope=col>&lt;dbl&gt;</th><th scope=col>&lt;dbl&gt;</th><th scope=col>&lt;dbl&gt;</th><th scope=col>&lt;dbl&gt;</th><th scope=col>&lt;dbl&gt;</th><th scope=col>&lt;dbl&gt;</th><th scope=col>...</th><th scope=col>&lt;dbl&gt;</th><th scope=col>&lt;int&gt;</th><th scope=col>&lt;int&gt;</th><th scope=col>&lt;int&gt;</th><th scope=col>&lt;int&gt;</th><th scope=col>&lt;dbl&gt;</th><th scope=col>&lt;dbl&gt;</th><th scope=col>&lt;dbl&gt;</th><th scope=col>&lt;dbl&gt;</th><th scope=col>&lt;dbl&gt;</th></tr>\n",
       "</thead>\n",
       "<tbody>\n",
       "\t<tr><th scope=row>51</th><td>115</td><td>87</td><td>0.0055332</td><td>1</td><td>0.7071435</td><td>0.5</td><td>20.7</td><td>0.00905433</td><td>0.3858093</td><td>28.1931</td><td>...</td><td>-2.257024</td><td>0</td><td>0</td><td>0</td><td>0</td><td>0</td><td>0.004952441</td><td>0.02798466</td><td>-0.4136273</td><td>3129.748</td></tr>\n",
       "</tbody>\n",
       "</table>\n"
      ],
      "text/latex": [
       "A data.frame: 1 × 35\n",
       "\\begin{tabular}{r|lllllllllllllllllllll}\n",
       "  & county & year & crmrte & prbarr & prbconv & prbpris & avgsen & polpc & density & taxpc & ... & y & geo & west\\_central & west\\_urban & central\\_urban & non\\_urban\\_west\\_central & density\\_min80 & density\\_ymle & log10\\_density & wtotal\\\\\n",
       "  & <int> & <int> & <dbl> & <dbl> & <dbl> & <dbl> & <dbl> & <dbl> & <dbl> & <dbl> & ... & <dbl> & <int> & <int> & <int> & <int> & <dbl> & <dbl> & <dbl> & <dbl> & <dbl>\\\\\n",
       "\\hline\n",
       "\t51 & 115 & 87 & 0.0055332 & 1 & 0.7071435 & 0.5 & 20.7 & 0.00905433 & 0.3858093 & 28.1931 & ... & -2.257024 & 0 & 0 & 0 & 0 & 0 & 0.004952441 & 0.02798466 & -0.4136273 & 3129.748\\\\\n",
       "\\end{tabular}\n"
      ],
      "text/markdown": [
       "\n",
       "A data.frame: 1 × 35\n",
       "\n",
       "| <!--/--> | county &lt;int&gt; | year &lt;int&gt; | crmrte &lt;dbl&gt; | prbarr &lt;dbl&gt; | prbconv &lt;dbl&gt; | prbpris &lt;dbl&gt; | avgsen &lt;dbl&gt; | polpc &lt;dbl&gt; | density &lt;dbl&gt; | taxpc &lt;dbl&gt; | ... ... | y &lt;dbl&gt; | geo &lt;int&gt; | west_central &lt;int&gt; | west_urban &lt;int&gt; | central_urban &lt;int&gt; | non_urban_west_central &lt;dbl&gt; | density_min80 &lt;dbl&gt; | density_ymle &lt;dbl&gt; | log10_density &lt;dbl&gt; | wtotal &lt;dbl&gt; |\n",
       "|---|---|---|---|---|---|---|---|---|---|---|---|---|---|---|---|---|---|---|---|---|---|\n",
       "| 51 | 115 | 87 | 0.0055332 | 1 | 0.7071435 | 0.5 | 20.7 | 0.00905433 | 0.3858093 | 28.1931 | ... | -2.257024 | 0 | 0 | 0 | 0 | 0 | 0.004952441 | 0.02798466 | -0.4136273 | 3129.748 |\n",
       "\n"
      ],
      "text/plain": [
       "   county year crmrte    prbarr prbconv   prbpris avgsen polpc      density  \n",
       "51 115    87   0.0055332 1      0.7071435 0.5     20.7   0.00905433 0.3858093\n",
       "   taxpc   ... y         geo west_central west_urban central_urban\n",
       "51 28.1931 ... -2.257024 0   0            0          0            \n",
       "   non_urban_west_central density_min80 density_ymle log10_density wtotal  \n",
       "51 0                      0.004952441   0.02798466   -0.4136273    3129.748"
      ]
     },
     "metadata": {},
     "output_type": "display_data"
    },
    {
     "data": {
      "text/html": [
       "<style>\n",
       ".list-inline {list-style: none; margin:0; padding: 0}\n",
       ".list-inline>li {display: inline-block}\n",
       ".list-inline>li:not(:last-child)::after {content: \"\\00b7\"; padding: 0 .5ex}\n",
       "</style>\n",
       "<ol class=list-inline><li>89</li><li>35</li></ol>\n"
      ],
      "text/latex": [
       "\\begin{enumerate*}\n",
       "\\item 89\n",
       "\\item 35\n",
       "\\end{enumerate*}\n"
      ],
      "text/markdown": [
       "1. 89\n",
       "2. 35\n",
       "\n",
       "\n"
      ],
      "text/plain": [
       "[1] 89 35"
      ]
     },
     "metadata": {},
     "output_type": "display_data"
    }
   ],
   "source": [
    "outlier_row = 51\n",
    "data[outlier_row, ]\n",
    "dim(data)"
   ]
  },
  {
   "cell_type": "code",
   "execution_count": 35,
   "metadata": {},
   "outputs": [
    {
     "data": {
      "text/html": [
       "<style>\n",
       ".list-inline {list-style: none; margin:0; padding: 0}\n",
       ".list-inline>li {display: inline-block}\n",
       ".list-inline>li:not(:last-child)::after {content: \"\\00b7\"; padding: 0 .5ex}\n",
       "</style>\n",
       "<ol class=list-inline><li>88</li><li>35</li></ol>\n"
      ],
      "text/latex": [
       "\\begin{enumerate*}\n",
       "\\item 88\n",
       "\\item 35\n",
       "\\end{enumerate*}\n"
      ],
      "text/markdown": [
       "1. 88\n",
       "2. 35\n",
       "\n",
       "\n"
      ],
      "text/plain": [
       "[1] 88 35"
      ]
     },
     "metadata": {},
     "output_type": "display_data"
    }
   ],
   "source": [
    "data = data[-outlier_row, ]\n",
    "dim(data)"
   ]
  },
  {
   "cell_type": "markdown",
   "metadata": {},
   "source": [
    "### Model1 : Base Model"
   ]
  },
  {
   "cell_type": "markdown",
   "metadata": {},
   "source": [
    "Model1 selects the following variables - log10(density), prbarr, prbconv, pctmin80, polpc\n",
    "\n",
    "These are selected because these variables have the highest correlation with log10(crmrate) based on our correlation plots. \n",
    "\n",
    "This gives us a first pass around modeling the data such that we can create a model on variables that show most change with respect to crime. Moreover, most of the variables that did show correlation also intuitively seem to make sense to include in the model."
   ]
  },
  {
   "cell_type": "code",
   "execution_count": 36,
   "metadata": {},
   "outputs": [
    {
     "name": "stderr",
     "output_type": "stream",
     "text": [
      "Warning message in cor(data, use = method[1], method = method[2]):\n",
      "\"the standard deviation is zero\""
     ]
    },
    {
     "data": {
      "image/png": "[encoded data removed]",
      "text/plain": [
       "plot without title"
      ]
     },
     "metadata": {},
     "output_type": "display_data"
    }
   ],
   "source": [
    "ggcorr(data[, 3:35], size = 3)"
   ]
  },
  {
   "cell_type": "code",
   "execution_count": 37,
   "metadata": {},
   "outputs": [],
   "source": [
    "model1 = lm(y ~ log10_density + prbarr + prbconv + pctmin80 + polpc, data = data)"
   ]
  },
  {
   "cell_type": "markdown",
   "metadata": {},
   "source": [
    "We'll compare this model with our balanced model and maximalist model later. This is our baseline model."
   ]
  },
  {
   "cell_type": "markdown",
   "metadata": {},
   "source": [
    "### Model2: Our Selected Model (Balanced Approach)"
   ]
  },
  {
   "cell_type": "markdown",
   "metadata": {},
   "source": [
    "We choose a balanced model, which we believe gives us the right variables for predicting crime rate, based on our base model (model1), along with the EDA done so far.\n",
    "\n",
    "We will analyze a modified version of this model in detail to test for MLR assumptions and for model performance."
   ]
  },
  {
   "cell_type": "code",
   "execution_count": 38,
   "metadata": {},
   "outputs": [],
   "source": [
    "model2 = lm(y ~ prbarr + prbconv + polpc + log10_density + pctmin80 + pctymle + wcon + wtuc + wtrd + wfir + wser + wmfg + wfed + wsta + wloc, data=data)"
   ]
  },
  {
   "cell_type": "code",
   "execution_count": 42,
   "metadata": {},
   "outputs": [],
   "source": [
    "# set model to be evaluated here\n",
    "\n",
    "model = model2"
   ]
  },
  {
   "cell_type": "code",
   "execution_count": 43,
   "metadata": {
    "scrolled": false
   },
   "outputs": [
    {
     "data": {
      "text/plain": [
       "     Min.   1st Qu.    Median      Mean   3rd Qu.      Max. \n",
       "-0.285977 -0.050699 -0.003276  0.000000  0.058572  0.512541 "
      ]
     },
     "metadata": {},
     "output_type": "display_data"
    },
    {
     "data": {
      "text/plain": [
       "\n",
       "\tShapiro-Wilk normality test\n",
       "\n",
       "data:  m$residuals\n",
       "W = 0.91463, p-value = 2.373e-05\n"
      ]
     },
     "metadata": {},
     "output_type": "display_data"
    },
    {
     "data": {
      "text/plain": [
       "\n",
       "\tstudentized Breusch-Pagan test\n",
       "\n",
       "data:  m\n",
       "BP = 9.8763, df = 4, p-value = 0.04256\n"
      ]
     },
     "metadata": {},
     "output_type": "display_data"
    },
    {
     "data": {
      "image/png": "[encoded data removed]",
      "text/plain": [
       "Plot with title \"Histogram of residuals\""
      ]
     },
     "metadata": {},
     "output_type": "display_data"
    },
    {
     "data": {
      "image/png": "[encoded data removed]",
      "text/plain": [
       "Plot with title \"\""
      ]
     },
     "metadata": {},
     "output_type": "display_data"
    },
    {
     "data": {
      "image/png": "[encoded data removed]",
      "text/plain": [
       "Plot with title \"\""
      ]
     },
     "metadata": {},
     "output_type": "display_data"
    },
    {
     "data": {
      "image/png": "[encoded data removed]",
      "text/plain": [
       "Plot with title \"\""
      ]
     },
     "metadata": {},
     "output_type": "display_data"
    },
    {
     "data": {
      "image/png": "[encoded data removed]",
      "text/plain": [
       "Plot with title \"\""
      ]
     },
     "metadata": {},
     "output_type": "display_data"
    },
    {
     "data": {
      "image/png": "[encoded data removed]",
      "text/plain": [
       "Plot with title \"\""
      ]
     },
     "metadata": {},
     "output_type": "display_data"
    },
    {
     "data": {
      "image/png": "[encoded data removed]",
      "text/plain": [
       "Plot with title \"\""
      ]
     },
     "metadata": {},
     "output_type": "display_data"
    }
   ],
   "source": [
    "# We have kept all models linear in beta coefficients (MLR 1 satisfied for all models)\n",
    "# Note that we assume data has been collected as IID (MLR 3 for all models)\n",
    "evaluate_model_shapiro = function(m) {\n",
    "    paste(\"Shapiro test on residuals - test for normality (MLR 6)\")\n",
    "    # null hypothesis is residuals are normally distributed\n",
    "    shapiro.test(m$residuals)\n",
    "}\n",
    "\n",
    "evaluate_model_bp = function(m) {\n",
    "    paste(\"Breusch Pagan test - test for heteroskedasticity (MLR 5)\")\n",
    "    # null hypothesis is homoskedasticity, alt is presence of heteroskedasticity\n",
    "    bptest(m)\n",
    "}\n",
    "\n",
    "\n",
    "evaluate_model_plots = function(m) {\n",
    "\n",
    "    paste(\"Plotting residuals - test for normality of errors (MLR 6)\")\n",
    "    hist(m$residuals, breaks=50, main = \"Histogram of residuals\")\n",
    "\n",
    "    paste(\"Diagnostic plots (MLR 4,5 - Residual vs fitted), (MLR6 - QQ Plot), (MLR5 - Std. Residuals), (Cooks Dist - Outliers test)\")\n",
    "    #par(mfrow=c(3,3))\n",
    "    plot(m, which=1:6, col = 'blue')\n",
    "    \n",
    "}\n",
    "\n",
    "summary(model$residuals)\n",
    "evaluate_model_shapiro(model)\n",
    "evaluate_model_bp(model)\n",
    "evaluate_model_plots(model)"
   ]
  },
  {
   "cell_type": "code",
   "execution_count": 44,
   "metadata": {},
   "outputs": [
    {
     "data": {
      "text/plain": [
       "\n",
       "t test of coefficients:\n",
       "\n",
       "               Estimate Std. Error  t value  Pr(>|t|)    \n",
       "(Intercept)   -1.315140   0.092179 -14.2672 < 2.2e-16 ***\n",
       "prbarr        -0.850927   0.174202  -4.8847 4.968e-06 ***\n",
       "prbconv       -0.570907   0.133971  -4.2614 5.335e-05 ***\n",
       "log10_density  0.364965   0.059863   6.0967 3.277e-08 ***\n",
       "pctmin80       0.580710   0.076562   7.5849 4.338e-11 ***\n",
       "---\n",
       "Signif. codes:  0 '***' 0.001 '**' 0.01 '*' 0.05 '.' 0.1 ' ' 1\n"
      ]
     },
     "metadata": {},
     "output_type": "display_data"
    },
    {
     "data": {
      "text/plain": [
       "\n",
       "Call:\n",
       "lm(formula = y ~ prbarr + prbconv + log10_density + pctmin80, \n",
       "    data = data)\n",
       "\n",
       "Residuals:\n",
       "     Min       1Q   Median       3Q      Max \n",
       "-0.28598 -0.05070 -0.00328  0.05857  0.51254 \n",
       "\n",
       "Coefficients:\n",
       "              Estimate Std. Error t value Pr(>|t|)    \n",
       "(Intercept)   -1.31514    0.05533 -23.771  < 2e-16 ***\n",
       "prbarr        -0.85093    0.14789  -5.754 1.42e-07 ***\n",
       "prbconv       -0.57091    0.09559  -5.973 5.58e-08 ***\n",
       "log10_density  0.36497    0.04205   8.678 2.87e-13 ***\n",
       "pctmin80       0.58071    0.07488   7.755 1.99e-11 ***\n",
       "---\n",
       "Signif. codes:  0 '***' 0.001 '**' 0.01 '*' 0.05 '.' 0.1 ' ' 1\n",
       "\n",
       "Residual standard error: 0.1125 on 83 degrees of freedom\n",
       "Multiple R-squared:  0.7525,\tAdjusted R-squared:  0.7406 \n",
       "F-statistic: 63.09 on 4 and 83 DF,  p-value: < 2.2e-16\n"
      ]
     },
     "metadata": {},
     "output_type": "display_data"
    },
    {
     "data": {
      "text/html": [
       "-127.948938886964"
      ],
      "text/latex": [
       "-127.948938886964"
      ],
      "text/markdown": [
       "-127.948938886964"
      ],
      "text/plain": [
       "[1] -127.9489"
      ]
     },
     "metadata": {},
     "output_type": "display_data"
    },
    {
     "data": {
      "text/html": [
       "-113.084918000095"
      ],
      "text/latex": [
       "-113.084918000095"
      ],
      "text/markdown": [
       "-113.084918000095"
      ],
      "text/plain": [
       "[1] -113.0849"
      ]
     },
     "metadata": {},
     "output_type": "display_data"
    },
    {
     "data": {
      "text/html": [
       "<style>\n",
       ".dl-inline {width: auto; margin:0; padding: 0}\n",
       ".dl-inline>dt, .dl-inline>dd {float: none; width: auto; display: inline-block}\n",
       ".dl-inline>dt::after {content: \":\\0020\"; padding-right: .5ex}\n",
       ".dl-inline>dt:not(:first-of-type) {padding-left: .5ex}\n",
       "</style><dl class=dl-inline><dt>prbarr</dt><dd>1.4215104373298</dd><dt>prbconv</dt><dd>1.2342815575076</dd><dt>log10_density</dt><dd>1.31377454357741</dd><dt>pctmin80</dt><dd>1.06176191643656</dd></dl>\n"
      ],
      "text/latex": [
       "\\begin{description*}\n",
       "\\item[prbarr] 1.4215104373298\n",
       "\\item[prbconv] 1.2342815575076\n",
       "\\item[log10\\textbackslash{}\\_density] 1.31377454357741\n",
       "\\item[pctmin80] 1.06176191643656\n",
       "\\end{description*}\n"
      ],
      "text/markdown": [
       "prbarr\n",
       ":   1.4215104373298prbconv\n",
       ":   1.2342815575076log10_density\n",
       ":   1.31377454357741pctmin80\n",
       ":   1.06176191643656\n",
       "\n"
      ],
      "text/plain": [
       "       prbarr       prbconv log10_density      pctmin80 \n",
       "     1.421510      1.234282      1.313775      1.061762 "
      ]
     },
     "metadata": {},
     "output_type": "display_data"
    }
   ],
   "source": [
    "# Always use heteroskedasticity robust std errors for beta values\n",
    "# Get the coefficients for the variables in the model\n",
    "coeftest(model, vcov = vcovHC)\n",
    "summary(model)\n",
    "AIC(model)\n",
    "BIC(model)\n",
    "vif(model)"
   ]
  },
  {
   "cell_type": "markdown",
   "metadata": {},
   "source": [
    "We see that from our original model2 (including wage variables) there are some wage variables that are showing partial significance in our model.\n",
    "\n",
    "Hence, just to be sure of their \"significance\" in the model, we conduct a joint significance test (wald test)\n"
   ]
  },
  {
   "cell_type": "code",
   "execution_count": 39,
   "metadata": {},
   "outputs": [
    {
     "data": {
      "text/html": [
       "<table>\n",
       "<caption>A anova: 2 × 4</caption>\n",
       "<thead>\n",
       "\t<tr><th></th><th scope=col>Res.Df</th><th scope=col>Df</th><th scope=col>F</th><th scope=col>Pr(&gt;F)</th></tr>\n",
       "\t<tr><th></th><th scope=col>&lt;dbl&gt;</th><th scope=col>&lt;dbl&gt;</th><th scope=col>&lt;dbl&gt;</th><th scope=col>&lt;dbl&gt;</th></tr>\n",
       "</thead>\n",
       "<tbody>\n",
       "\t<tr><th scope=row>1</th><td>76</td><td>NA</td><td>      NA</td><td>        NA</td></tr>\n",
       "\t<tr><th scope=row>2</th><td>72</td><td> 4</td><td>2.397085</td><td>0.05806614</td></tr>\n",
       "</tbody>\n",
       "</table>\n"
      ],
      "text/latex": [
       "A anova: 2 × 4\n",
       "\\begin{tabular}{r|llll}\n",
       "  & Res.Df & Df & F & Pr(>F)\\\\\n",
       "  & <dbl> & <dbl> & <dbl> & <dbl>\\\\\n",
       "\\hline\n",
       "\t1 & 76 & NA &       NA &         NA\\\\\n",
       "\t2 & 72 &  4 & 2.397085 & 0.05806614\\\\\n",
       "\\end{tabular}\n"
      ],
      "text/markdown": [
       "\n",
       "A anova: 2 × 4\n",
       "\n",
       "| <!--/--> | Res.Df &lt;dbl&gt; | Df &lt;dbl&gt; | F &lt;dbl&gt; | Pr(&gt;F) &lt;dbl&gt; |\n",
       "|---|---|---|---|---|\n",
       "| 1 | 76 | NA |       NA |         NA |\n",
       "| 2 | 72 |  4 | 2.397085 | 0.05806614 |\n",
       "\n"
      ],
      "text/plain": [
       "  Res.Df Df F        Pr(>F)    \n",
       "1 76     NA       NA         NA\n",
       "2 72      4 2.397085 0.05806614"
      ]
     },
     "metadata": {},
     "output_type": "display_data"
    }
   ],
   "source": [
    "linearHypothesis(model2, c(\"wfir = 0\", \"wser = 0\", \"wfed = 0\", \"wsta = 0\"), vcov = vcovHC)"
   ]
  },
  {
   "cell_type": "code",
   "execution_count": 40,
   "metadata": {},
   "outputs": [
    {
     "data": {
      "text/html": [
       "<table>\n",
       "<caption>A anova: 2 × 4</caption>\n",
       "<thead>\n",
       "\t<tr><th></th><th scope=col>Res.Df</th><th scope=col>Df</th><th scope=col>F</th><th scope=col>Pr(&gt;F)</th></tr>\n",
       "\t<tr><th></th><th scope=col>&lt;dbl&gt;</th><th scope=col>&lt;dbl&gt;</th><th scope=col>&lt;dbl&gt;</th><th scope=col>&lt;dbl&gt;</th></tr>\n",
       "</thead>\n",
       "<tbody>\n",
       "\t<tr><th scope=row>1</th><td>81</td><td>NA</td><td>      NA</td><td>       NA</td></tr>\n",
       "\t<tr><th scope=row>2</th><td>72</td><td> 9</td><td>1.274639</td><td>0.2656056</td></tr>\n",
       "</tbody>\n",
       "</table>\n"
      ],
      "text/latex": [
       "A anova: 2 × 4\n",
       "\\begin{tabular}{r|llll}\n",
       "  & Res.Df & Df & F & Pr(>F)\\\\\n",
       "  & <dbl> & <dbl> & <dbl> & <dbl>\\\\\n",
       "\\hline\n",
       "\t1 & 81 & NA &       NA &        NA\\\\\n",
       "\t2 & 72 &  9 & 1.274639 & 0.2656056\\\\\n",
       "\\end{tabular}\n"
      ],
      "text/markdown": [
       "\n",
       "A anova: 2 × 4\n",
       "\n",
       "| <!--/--> | Res.Df &lt;dbl&gt; | Df &lt;dbl&gt; | F &lt;dbl&gt; | Pr(&gt;F) &lt;dbl&gt; |\n",
       "|---|---|---|---|---|\n",
       "| 1 | 81 | NA |       NA |        NA |\n",
       "| 2 | 72 |  9 | 1.274639 | 0.2656056 |\n",
       "\n"
      ],
      "text/plain": [
       "  Res.Df Df F        Pr(>F)   \n",
       "1 81     NA       NA        NA\n",
       "2 72      9 1.274639 0.2656056"
      ]
     },
     "metadata": {},
     "output_type": "display_data"
    }
   ],
   "source": [
    "linearHypothesis(model2, c(\"wcon = 0\", \"wtuc = 0\", \"wtrd = 0\", \"wfir = 0\", \"wser = 0\", \"wmfg = 0\", \"wfed = 0\", \"wsta = 0\", \"wloc = 0\"), vcov = vcovHC)"
   ]
  },
  {
   "cell_type": "markdown",
   "metadata": {},
   "source": [
    "We observe that these variables are hardly passing the wald test (linearHypothesis) for joint significance at the 5% level.\n",
    "\n",
    "Hence, we fail to reject the null (where each beta value = 0). This suggests that the wage variables are indeed not contributing to the model.\n",
    "\n",
    "So we drop these variables from our model.\n",
    "\n",
    "Hence, we re-define model2 based on removing all insignificant variables (including pctymle and others)"
   ]
  },
  {
   "cell_type": "code",
   "execution_count": 41,
   "metadata": {},
   "outputs": [],
   "source": [
    "model2 = lm(y ~ prbarr + prbconv + log10_density + pctmin80, data=data)\n",
    "model = model2\n",
    "# MAKE SURE TO RE-RUN THE ABOVE FUNCTIONS FOR DIAGNOSTICS PLOTS, SHAPIRO TEST, BP TEST ETC."
   ]
  },
  {
   "cell_type": "markdown",
   "metadata": {},
   "source": [
    "**We re-run the above tests, diagnostics and checks for this updated model2. Those result diagrams and diagnostics are what we observe above. Next we test for causality by establishing exogeneity in our updated model 2**"
   ]
  },
  {
   "cell_type": "code",
   "execution_count": 45,
   "metadata": {},
   "outputs": [
    {
     "data": {
      "image/png": "[encoded data removed]",
      "text/plain": [
       "plot without title"
      ]
     },
     "metadata": {},
     "output_type": "display_data"
    }
   ],
   "source": [
    "exodata = cbind(model$residuals, data$prbarr, data$prbconv, data$log10_density, data$pctmin80)\n",
    "ggcorr(exodata, size = 3, label=TRUE)"
   ]
  },
  {
   "cell_type": "markdown",
   "metadata": {},
   "source": [
    "### Causality Criteria\n",
    "\n",
    "We notice that the residuals mean is 0.\n",
    "We also notice that the correlation between the residuals and the \"significant\" model2 variables is 0 for all variables (see last row in the above correlation matrix plot). \n",
    "\n",
    "**Hence, we can say that the exogeneity assumption is satisfied and hence, the effect of our model specification is causal**\n"
   ]
  },
  {
   "cell_type": "markdown",
   "metadata": {},
   "source": [
    "### Model3: Maximalist approach model with backward elimination"
   ]
  },
  {
   "cell_type": "code",
   "execution_count": 48,
   "metadata": {},
   "outputs": [
    {
     "data": {
      "text/plain": [
       "y ~ prbarr + prbconv + prbpris + avgsen + polpc + density + taxpc + \n",
       "    west + central + urban + pctmin80 + wcon + wtuc + wtrd + \n",
       "    wfir + wser + wmfg + wfed + wsta + wloc + mix + pctymle"
      ]
     },
     "metadata": {},
     "output_type": "display_data"
    }
   ],
   "source": [
    "model3 = lm(y ~ . , data = data[, 4:26])\n",
    "# summary(model3)\n",
    "\n",
    "# step(model3, direction = \"backward\")\n",
    "formula(model3)"
   ]
  },
  {
   "cell_type": "markdown",
   "metadata": {},
   "source": [
    "The stepsize variable selection procedure converges to the above model when we run the stepsize selection in with backward elimination.\n",
    "\n",
    "For completeness, we also did a forward selection, and mixed approach (backward and forward). However, we decided to settle on the backward elimination model for parsimony and better fit."
   ]
  },
  {
   "cell_type": "markdown",
   "metadata": {},
   "source": [
    "### Model Selection\n",
    "\n",
    "We decided to select our balanced model **(model2 = y ~ prbarr + prbconv + log10_density + pctmin80)** with these variables because of a combination of reasons. \n",
    "1. We found that this model had a number of variables that align well with our intuition of what typically may affect crime rate. Variables of criminal justice, along with some demographic variables are known in literature to influence crime rate.\n",
    "2. We ran the model with labor market variables, including individual industry average wages. We found very little practical significance (beta values were very small) - so we determined labor market variables dont contribute much in influencing crime rate. Just to be sure, we conducted joint significance test for the wage variables, but the wald test showed us that the wage variables indeed dont contribute to the crime rate. So we modified model2 to use the above highlighted model.\n",
    "3. Lastly, this model was very parsimonious and explained a fair amount of the variation for crime rate, so it was a good minimalist model, which fit well with \"Occam's razor\" principle.\n",
    "\n",
    "## 6. Model Analysis\n",
    "\n",
    "We notice that we have coefficients and std. errors from heteroskedastic robust methods (White-Huber)\n",
    "\n",
    "We also have our regular std. errors from the summary command.\n",
    "\n",
    "**Note that the Breusch Pagan test shows absence of homoskedasticity (null hypothesis was rejected). However, if we look at the residual vs fitted plot, we can roughly conclude that the data is fairly homosekdastic.**\n",
    "\n",
    "**The Shapiro test shows that errors are NOT normally distributed (at the 5% significance level). However, if we look at the QQ plot, we observe the data is fairly normal, except for a few datapoints with negative residuals.**\n",
    "\n",
    "We notice there are a few factors that are associated with the crime rate percentage (target is log10(crmrate)):\n",
    "1. **Probability of Arrest (prbarr)** - this is fairly obvious. It has a negative coefficient, meaning that when probability of arrest goes up, crime rate percentage goes down - likely because criminals reconsider doing the crime, when they know they have a high chance of getting arrested. This variable is significant in both methods of coefficient calculation.\n",
    "2. **Probability of Conviction (prbconv)** - This has a similar explanation to prbarr.\n",
    "2. **Percentage of Minority (pctmin80)** - the model shows that as minorities increase in a county, so does crime. This variable is significant in both modes of coefficient calculation. What may be an interesting discussion is to find out whether the minorities are victims of crime, thus leading to higher crime rate OR are minorities the perpetrators of crime, thus leading to higher crime rate?\n",
    "3. **Density (log10_density)** - as density goes up, crime rate goes up. This is consistent with our originally stated hypothesis - crowded regions have more chance for conflict and more chance of crime.\n",
    "4. **Police per Capita (polpc)** (From model 1) - Although the polpc is not significant as a variable, it has a very large coefficient value, indicating this variable has practical significance! There is a temporal factor between crime rate and polpc (as observed in literature), which gives a delayed effect of police on crime rate. Hence, over a period of time, this practical significance may start showing some statistical significance.\n",
    "\n",
    "\n",
    "Model fit metrics are looking good. Adjusted R squared is around 70% and AIC / BIC scores are negative (interesting to note)."
   ]
  },
  {
   "cell_type": "markdown",
   "metadata": {},
   "source": [
    "## 7. Regression Table"
   ]
  },
  {
   "cell_type": "code",
   "execution_count": 49,
   "metadata": {},
   "outputs": [
    {
     "name": "stdout",
     "output_type": "stream",
     "text": [
      "\n",
      "===================================================================\n",
      "                                  Dependent variable:              \n",
      "                    -----------------------------------------------\n",
      "                                           y                       \n",
      "                          (1)             (2)             (3)      \n",
      "-------------------------------------------------------------------\n",
      "log10_density          0.293***        0.365***                    \n",
      "                        (0.070)         (0.060)                    \n",
      "                                                                   \n",
      "prbarr                 -0.807***       -0.851***       -0.797***   \n",
      "                        (0.169)         (0.174)         (0.165)    \n",
      "                                                                   \n",
      "prbconv                -0.572***       -0.571***       -0.592***   \n",
      "                        (0.157)         (0.134)         (0.175)    \n",
      "                                                                   \n",
      "prbpris                                                 -0.120     \n",
      "                                                        (0.194)    \n",
      "                                                                   \n",
      "avgsen                                                  -0.006     \n",
      "                                                        (0.006)    \n",
      "                                                                   \n",
      "pctmin80               0.571***        0.581***         0.391**    \n",
      "                        (0.077)         (0.077)         (0.138)    \n",
      "                                                                   \n",
      "wcon                                                    0.0002     \n",
      "                                                       (0.0003)    \n",
      "                                                                   \n",
      "wtuc                                                    0.0001     \n",
      "                                                       (0.0003)    \n",
      "                                                                   \n",
      "wtrd                                                    0.0003     \n",
      "                                                        (0.001)    \n",
      "                                                                   \n",
      "wfir                                                    -0.0004    \n",
      "                                                        (0.001)    \n",
      "                                                                   \n",
      "wser                                                    -0.001     \n",
      "                                                        (0.001)    \n",
      "                                                                   \n",
      "wmfg                                                    -0.0001    \n",
      "                                                       (0.0002)    \n",
      "                                                                   \n",
      "wfed                                                    0.001*     \n",
      "                                                       (0.0005)    \n",
      "                                                                   \n",
      "wsta                                                    -0.0005    \n",
      "                                                       (0.0004)    \n",
      "                                                                   \n",
      "wloc                                                     0.001     \n",
      "                                                        (0.001)    \n",
      "                                                                   \n",
      "mix                                                     -0.159     \n",
      "                                                        (0.228)    \n",
      "                                                                   \n",
      "pctymle                                                 1.163*     \n",
      "                                                        (0.563)    \n",
      "                                                                   \n",
      "polpc                   102.310                         106.402    \n",
      "                       (55.229)                        (65.110)    \n",
      "                                                                   \n",
      "density                                                 0.048*     \n",
      "                                                        (0.023)    \n",
      "                                                                   \n",
      "taxpc                                                    0.001     \n",
      "                                                        (0.003)    \n",
      "                                                                   \n",
      "west                                                    -0.051     \n",
      "                                                        (0.054)    \n",
      "                                                                   \n",
      "central                                                 -0.048     \n",
      "                                                        (0.041)    \n",
      "                                                                   \n",
      "urban                                                   -0.047     \n",
      "                                                        (0.097)    \n",
      "                                                                   \n",
      "Constant               -1.487***       -1.315***       -1.747***   \n",
      "                        (0.121)         (0.092)         (0.330)    \n",
      "                                                                   \n",
      "-------------------------------------------------------------------\n",
      "Observations              88              88              88       \n",
      "R2                       0.815           0.752           0.839     \n",
      "Adjusted R2              0.803           0.741           0.785     \n",
      "Residual Std. Error 0.098 (df = 82) 0.112 (df = 83) 0.102 (df = 65)\n",
      "===================================================================\n",
      "Note:                                 *p<0.05; **p<0.01; ***p<0.001\n"
     ]
    }
   ],
   "source": [
    "# finally plot the models and compare models with stargazer \n",
    "se_model1 = sqrt(diag(vcovHC(model1)))\n",
    "se_model2 = sqrt(diag(vcovHC(model2)))\n",
    "se_model3 = sqrt(diag(vcovHC(model3)))\n",
    "\n",
    "stargazer(model1, model2, model3, type = \"text\", omit.stat = \"f\",\n",
    "         se = list(se_model1, se_model2, se_model3),\n",
    "         star.cutoffs = c(0.05, 0.01, 0.001))"
   ]
  },
  {
   "cell_type": "markdown",
   "metadata": {},
   "source": [
    "We compare the results between the 3 models. We notice that while model2 (updated balanced model) has the lowest Adjusted R-squared value, it in fact is achieving the best performance with maximum parsimony. \n",
    "\n",
    "All variables in model2 are highly statisically significant. \n",
    "\n",
    "Model1 has polpc as a variable, that is not significant, but it improves the adjusted R squared because of high practical significance as well as the chance that polpc may influence crime rate over a period of time. \n",
    "\n",
    "Model3 has a high adjusted R squared, however, this is expected because the number of variables is high, compared to the other 2 models - so this is expected."
   ]
  },
  {
   "cell_type": "markdown",
   "metadata": {},
   "source": [
    "## 8. Assumptions of Multiple Linear Regression\n",
    "\n",
    "1. Parameters are linear\n",
    "2. No perfect multicollinearity\n",
    "3. IID / Random sample of observations in dataset\n",
    "4. Zero conditional mean, ie, E[u|X] = 0 (or weaker assumption of exogeneity, E(u) = 0 and Cov(X, u) = 0)\n",
    "5. Homoskedastic errors, Var(u|X) = const\n",
    "6. Normality of errors ~ N(0, sigma^2)\n",
    "\n",
    "MLR 1-4 implies unbiased OLS estimators (beta coefficients) <br/>\n",
    "MLR 1-5 (Gauss markov) implies OLS estimators are BLUE <br/>\n",
    "MLR 1-6 (Classical LM assumptions) implies OLS estimators, ie, beta_j ~ N(beta_j, var(beta_j)) - var(beta_j) given by white standard errors"
   ]
  },
  {
   "cell_type": "markdown",
   "metadata": {},
   "source": [
    "### MLR assumptions for Modified Model 2\n",
    "1. **MLR 1 - linear in parameters** is satisfied for all models based on our EDA between our target variable and explanatory variables. \n",
    "2. There is **no PERFECT multicollinearity** in the data as we have removed variables that could have potentially shown high correlation. Also VIF score for all explanatory variables < 4. **Hence MLR 2 is also satisfied.**\n",
    "3. The data is assumed to be collected as IID (this can be assumed from the study). The authors of the study that produced this data claimed to meet this assumption (sampling method). The fact that our data consists of a slice of this data from a study may suggest that we cannot say this assumption is met. For example, it is possible that the residuals from a single year (which is the case for our dataset) might not be IID. If there is some change in these data over time, having temporal data would allow us to investigate this possibility. The geographic proximity of these counties in North Carolina further complicates our ability to assert that our residuals are IID. The authors of the original study employed advanced methods to correct for this problem. As these methods are beyond the scope of this class, we can only note that this assumption is not met. **Hence, MLR 3 criteria is assumed to be satisfied.**\n",
    "4. Looking at the residuals vs fitted values plot, **MLR 4 (Zero Conditional mean) is satisfied.** The zero conditional mean line does slope downwards on extremities, however, this could be due to lack of sufficient data points.\n",
    "5. The Breusch Pagan test shows us that the variance of errors is barely heteroskedastic (at the 95% signifcance level). This is also confirmed from the std. residuals plot. **This shows us that MLR 5 (homoskedasticity) is approx. satisfied.**\n",
    "6. The QQ norm plot and residual histogram plot for errors shows that errors do follow an approximate normal distribution. We also calculate the mean of errors to show that we have zero residual mean. However, there are some clear outliers represented in the data (skewed towards the lower end). **This shows that MLR 6 (normality of errors) is also satisfied.**\n",
    "7. Because we have 88 data points (> 30), we can rely on the **law of asymptotics (CLT)** to say that even if MLR 6 is not completely satisfied, the coefficients are normally distributed with unbiased true population parameter value as mean and variance given by White-Huber standard errors, ie, betaj_hat ~ N(beta_j, var(beta_j)). \n",
    "\n",
    "### Outliers\n",
    "1. We notice that there are a few outliers in our data.\n",
    "2. These also show up in the QQ plot as well as the Cooks distance plot (having cook's dist close to 1). However, we will include these in our model because its not much larger than 1.\n",
    "3. **Note that we removed some rows which had an extremely large cook's distance and was causing problems in the model.**\n",
    "\n",
    "## 9. Omitted Variables\n",
    "\n",
    "We pick 3 county wide variables as omitted variables:\n",
    "1. Drug_Pct - the percentage of people in the county using drugs\n",
    "2. Unemployment_Pct - the percentage of unemployed people\n",
    "3. Education_Years - the average number of years of education in the county\n",
    "4. Weather - the degrees celcius temperature in the county\n",
    "5. Household_Wealth - net worth of the household. \n",
    "\n",
    "We expect Drug_Pct to be positively correlated with crime rate. <br/>\n",
    "We expect Unemployment_Pct to be positively correlated with crime rate.<br/>\n",
    "We expect Education_Years to be negatively correlated with crime rate.<br/>\n",
    "We expect Weather to be positively correlated with crime rate.<br/>\n",
    "We expect Household_Wealth to be negatively correlated with crime rate.<br/>\n",
    "\n",
    "For the omitted variable bias, we need to consider our modified beta values (alphaj):\n",
    "\n",
    "alphaj = betaj + beta_omitted x delta\n",
    "\n",
    "where alphaj is off from the population betaj by a factor of **beta_omitted x delta** \n",
    "\n",
    "**Let us say our jth variable is prbarr**\n",
    "\n",
    "In the case of (say) Education_Years, \n",
    "1. beta_omitted is negative (Education_Years should be negatively correlated with crime rate) \n",
    "2. delta is negative (prbarr should be negatively correlated with Education_Years)\n",
    "\n",
    "Hence, beta_omitted x delta is positive. Coefficient for prbarr is negative and we add a positive value (beta_omitted x delta) to it. So we have drawn the new coefficient (alphaj) for prbarr closer to 0. \n",
    "\n",
    "If Education_Years was included, betaj would be less negative.\n",
    "\n",
    "Similarly, for Drug_Pct variable, the (beta_omitted x delta) bias is overall positive and it will make the new co-efficient less negative like Education.\n",
    "\n",
    "For Unemployment_Pct variable, the (beta_omitted x delta) bias is overall positive and it will make the new co-efficient less negative like Education.\n",
    "\n",
    "For Weather variable, the (beta_omitted x delta) bias is overall positive and it will make the new co-efficient less negative like Education.\n",
    "\n",
    "For Household_Wealth variable, the (beta_omitted x delta) bias is overall positive and it will make the new co-efficient less negative like Education."
   ]
  },
  {
   "cell_type": "markdown",
   "metadata": {},
   "source": [
    "## 10. Conclusion"
   ]
  },
  {
   "cell_type": "markdown",
   "metadata": {},
   "source": [
    "Crime in North Carolina clearly has a complex set of root causes and effects but here we can draw a few conclusions that could help potentially drive several policy initiatives to reduce the crime rate in many counties.\n",
    "\n",
    "The first set of policy initiatives we would suggest would be around strengthening certain aspects of the criminal justice system. The second set of policy initiatives may include influencing certain demographic issues of the counties.\n",
    "\n",
    "We know that an increase in the probability of arrest and conviction will result in lower crime rates. So ensure that perpetrators are identified correctly and arrested; The prosecutor has better evidence that can lead to higher convictions and thereby lower crime rates. For this, we will need to invest in camera technology and hire staff and police personnel to monitor and follow up on criminal behavior captured on cameras.\n",
    "\n",
    "Population demographics are clearly at play here. We found a relationship between a dense population with higher percentages of minorities correlated with a higher crime rate. While we can take subtle measures like making counties less congested (sparse housing), a more practical suggestion is to begin to help Minority community restore faith in the Justice system. Based on information from EJI (Equal Justice Initiative), In 1972 there were 200K people incarcerated. In 2017 there were 2.2 Million. There has been a 750% increase of women in jails in the since 1980. Majority of the convictions are minorities; Children in Prisons, Wrongful convictions, excessive punishment and Prison conditions, all result in the community loss of faith in the justice system. Self improvement and support programs are needed to restore the trust and get minority communities involved in fighting and preventing crime. These may divert potential criminal activity into more productive activities with life long benefits, avoiding the stigma of a criminal record for many.\n",
    "\n",
    "While wages were partially significant in our model, further analysis is needed to establish if wealth and economic factors actually affect our population model for crime. Building out this analysis with more data around wealth, such as the level of assets in a county, how many families\n",
    "own homes and the level and access to higher education would make such as study more fruitful.\n",
    "\n",
    "Next steps for follow-on research. Three areas in which we need more data and analysis for each county are: Economic opportunity, education, household wealth, and prevalence of drugs. Temporal data around how the crime rate changes with these variables every year is also important to have to capture temporal effects of these variables, and other known variables like police per capita. These factors will give more information on the impact of these factors and then we will be able to formulate policy to reduce these as contributors to the crime in these communities."
   ]
  },
  {
   "cell_type": "markdown",
   "metadata": {},
   "source": [
    "## Appendix\n",
    "\n"
   ]
  },
  {
   "cell_type": "code",
   "execution_count": null,
   "metadata": {},
   "outputs": [],
   "source": [
    "ggcorr(data, size = 2)"
   ]
  },
  {
   "cell_type": "code",
   "execution_count": null,
   "metadata": {},
   "outputs": [],
   "source": []
  }
 ],
 "metadata": {
  "kernelspec": {
   "display_name": "R",
   "language": "R",
   "name": "ir"
  },
  "language_info": {
   "codemirror_mode": "r",
   "file_extension": ".r",
   "mimetype": "text/x-r-source",
   "name": "R",
   "pygments_lexer": "r",
   "version": "3.6.1"
  }
 },
 "nbformat": 4,
 "nbformat_minor": 4
}
